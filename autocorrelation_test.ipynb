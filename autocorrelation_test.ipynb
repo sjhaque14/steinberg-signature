{
 "cells": [
  {
   "cell_type": "code",
   "execution_count": 6,
   "id": "5d8dd7d9-ab5b-43fa-90a1-6c0711f35496",
   "metadata": {},
   "outputs": [],
   "source": [
    "import numpy as np\n",
    "import matplotlib.pyplot as plt\n",
    "from tqdm import tqdm\n",
    "\n",
    "from steinberg_utils_3vertex import *\n",
    "from general_graph_utils_main import *"
   ]
  },
  {
   "cell_type": "code",
   "execution_count": 5,
   "id": "35686c36-2c2b-411d-a68d-faf27cf04419",
   "metadata": {},
   "outputs": [],
   "source": [
    "# plot formatting\n",
    "plt.rc(\"text\", usetex=False) # renders LaTeX more quickly\n",
    "plt.rc(\"font\", family = \"serif\",size=14) # font specifications\n",
    "plt.rc(\"figure\",figsize=(14,12)) # figure size\n",
    "%config InlineBackend.figure_format = 'retina' # retina-display quality"
   ]
  },
  {
   "cell_type": "code",
   "execution_count": null,
   "id": "03f4ff77-3291-41e2-a48c-62781da0821b",
   "metadata": {},
   "outputs": [],
   "source": []
  }
 ],
 "metadata": {
  "kernelspec": {
   "display_name": "Python 3 (ipykernel)",
   "language": "python",
   "name": "python3"
  },
  "language_info": {
   "codemirror_mode": {
    "name": "ipython",
    "version": 3
   },
   "file_extension": ".py",
   "mimetype": "text/x-python",
   "name": "python",
   "nbconvert_exporter": "python",
   "pygments_lexer": "ipython3",
   "version": "3.9.19"
  }
 },
 "nbformat": 4,
 "nbformat_minor": 5
}
