{
 "cells": [
  {
   "cell_type": "code",
   "execution_count": 2,
   "id": "5d8dd7d9-ab5b-43fa-90a1-6c0711f35496",
   "metadata": {},
   "outputs": [],
   "source": [
    "# numpy == 1.21.5\n",
    "import numpy as np\n",
    "# scipy == 1.7.3\n",
    "import scipy.linalg\n",
    "# to make nice plots\n",
    "import matplotlib.pyplot as plt\n",
    "# optional -- to track how long a simulation will take\n",
    "from tqdm import tqdm\n",
    "\n",
    "from general_graph_utils_main import *\n",
    "from steinberg_utils_3vertex import *"
   ]
  },
  {
   "cell_type": "code",
   "execution_count": null,
   "id": "35686c36-2c2b-411d-a68d-faf27cf04419",
   "metadata": {},
   "outputs": [],
   "source": []
  }
 ],
 "metadata": {
  "kernelspec": {
   "display_name": "Python 3 (ipykernel)",
   "language": "python",
   "name": "python3"
  },
  "language_info": {
   "codemirror_mode": {
    "name": "ipython",
    "version": 3
   },
   "file_extension": ".py",
   "mimetype": "text/x-python",
   "name": "python",
   "nbconvert_exporter": "python",
   "pygments_lexer": "ipython3",
   "version": "3.9.19"
  }
 },
 "nbformat": 4,
 "nbformat_minor": 5
}
