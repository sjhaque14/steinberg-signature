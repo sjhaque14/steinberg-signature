{
 "cells": [
  {
   "cell_type": "code",
   "execution_count": 1,
   "id": "15c6dce9-03a0-415a-9b9a-e440177467b4",
   "metadata": {},
   "outputs": [],
   "source": [
    "# numpy == 1.21.5\n",
    "import numpy as np\n",
    "# scipy == 1.7.3\n",
    "import scipy.linalg\n",
    "# to make nice plots\n",
    "import matplotlib.pyplot as plt\n",
    "# optional -- to track how long a simulation will take\n",
    "from tqdm import tqdm\n",
    "# scipy functions to compute the KLD signature\n",
    "from scipy.integrate import quad\n",
    "from scipy.stats import rv_continuous\n",
    "\n",
    "from steinberg_utils_3vertex import *"
   ]
  },
  {
   "cell_type": "markdown",
   "id": "0f5b1cab-adc9-4575-b689-cbbf4f20216b",
   "metadata": {},
   "source": [
    "# Plot features"
   ]
  },
  {
   "cell_type": "code",
   "execution_count": 2,
   "id": "9a5fd1bc-8c38-42b4-9165-54bef63bf7d8",
   "metadata": {},
   "outputs": [],
   "source": [
    "# plot formatting\n",
    "plt.rc(\"text\", usetex=False) # renders LaTeX more quickly\n",
    "plt.rc(\"font\", family = \"serif\",size=14) # font specifications\n",
    "plt.rc(\"figure\",figsize=(14,12)) # figure size\n",
    "%config InlineBackend.figure_format = 'retina' # retina-display quality"
   ]
  },
  {
   "cell_type": "markdown",
   "id": "3846a81a-483b-40e2-8a56-192bf7fa421a",
   "metadata": {},
   "source": [
    "Parameters are defined as $10^x$, where $x$ is uniformly sampled from $(-3, 3)$. The user can specify the endpoints of this range to sample parameter space more broadly, but $-3$ and $3$ are set as the default parameters."
   ]
  },
  {
   "cell_type": "code",
   "execution_count": 3,
   "id": "9f71ff0c-cbcd-40ba-ad5b-277f085670b6",
   "metadata": {},
   "outputs": [],
   "source": [
    "params = random_parameters()"
   ]
  },
  {
   "cell_type": "code",
   "execution_count": 4,
   "id": "d8810cb4-5797-4cc2-a942-dea29034db84",
   "metadata": {},
   "outputs": [
    {
     "name": "stdout",
     "output_type": "stream",
     "text": [
      "[1.96108359e-01 1.43660169e-01 1.04797420e-03 9.31524804e+00\n",
      " 3.43438251e-03 1.40503980e-02]\n"
     ]
    }
   ],
   "source": [
    "print(params)"
   ]
  },
  {
   "cell_type": "markdown",
   "id": "11be74cd-dedb-4ab9-9455-6b04d3be4ce3",
   "metadata": {},
   "source": [
    "The parameters can be determined such that they satisfy the cycle condition on $K$, initializing the graph in an equlibrium steady state."
   ]
  },
  {
   "cell_type": "code",
   "execution_count": 5,
   "id": "7926fb48-f09e-48c9-896d-181bb3112b68",
   "metadata": {},
   "outputs": [],
   "source": [
    "params = equilibrium_parameters()"
   ]
  },
  {
   "cell_type": "code",
   "execution_count": 6,
   "id": "3a160dd6-b3e5-45dd-9224-b795837de519",
   "metadata": {},
   "outputs": [
    {
     "name": "stdout",
     "output_type": "stream",
     "text": [
      "[3.11461390e+00 5.53388073e+02 1.58520795e-03 3.08562205e+01\n",
      " 2.23070455e+01 7.71479013e+07]\n"
     ]
    }
   ],
   "source": [
    "print(params)"
   ]
  },
  {
   "cell_type": "markdown",
   "id": "a67e99a7-7d39-4c12-9a1c-f27fdd3d05d6",
   "metadata": {},
   "source": [
    "To generate the figure in the paper, we will manually assign values for the edge labels of the 3-vertex graph. The parameters for the 3-vertex graph are listed in the following order: $[a, b, d, c, f, e]$"
   ]
  },
  {
   "cell_type": "code",
   "execution_count": 7,
   "id": "308cd923-1cb7-4cf6-810f-80f0e94b2307",
   "metadata": {},
   "outputs": [],
   "source": [
    "#params = [0.08833331, 0.44953403, 0.58597936, 0.02356496, 0.00747019, 0.75898155]"
   ]
  },
  {
   "cell_type": "markdown",
   "id": "519ea23b-5a5c-4504-ae10-9e8c45031057",
   "metadata": {},
   "source": [
    "Next, we compute the Laplacian matrix $\\mathcal{L}(K)$ for this specific parameterzation of $K$, and the steady state distribution $\\pi(K)$ as computed through the Matrix-Tree Theorem."
   ]
  },
  {
   "cell_type": "code",
   "execution_count": 8,
   "id": "cd4f6f9a-33e2-4b1d-942a-c1be74f1830a",
   "metadata": {},
   "outputs": [
    {
     "name": "stdout",
     "output_type": "stream",
     "text": [
      "[[-2.54216594e+01  5.53388073e+02  7.71479013e+07]\n",
      " [ 3.11461390e+00 -5.53389658e+02  3.08562205e+01]\n",
      " [ 2.23070455e+01  1.58520795e-03 -7.71479322e+07]]\n"
     ]
    }
   ],
   "source": [
    "L = Laplacian_K(params)\n",
    "print(L)"
   ]
  },
  {
   "cell_type": "code",
   "execution_count": 9,
   "id": "ef2c6900-6f93-4bb6-b2fe-778a3e5a817b",
   "metadata": {},
   "outputs": [
    {
     "name": "stdout",
     "output_type": "stream",
     "text": [
      "[9.94402951e-01 5.59676186e-03 2.87528130e-07]\n"
     ]
    }
   ],
   "source": [
    "pi = steady_state_MTT_K(params)\n",
    "print(pi)"
   ]
  },
  {
   "cell_type": "markdown",
   "id": "b7439fb3-67fd-4488-ad2b-205655bf1e3d",
   "metadata": {},
   "source": [
    "We can also calculate the cycle affinity $\\tilde{A}(C)$ for $K$. The cycle affinity  quantifies the departure from equilibrium that arises from the cycle $C$. We take the absolute value of the cycle affinity in our calculation."
   ]
  },
  {
   "cell_type": "code",
   "execution_count": 10,
   "id": "4d5ba63d-b1fd-4203-94fd-887ffeaafe77",
   "metadata": {},
   "outputs": [
    {
     "data": {
      "text/plain": [
       "0.0"
      ]
     },
     "execution_count": 10,
     "metadata": {},
     "output_type": "execute_result"
    }
   ],
   "source": [
    "cycle_affinity_K(params)"
   ]
  },
  {
   "cell_type": "markdown",
   "id": "8b72242f-3703-443b-a836-6d0009a2e6e4",
   "metadata": {
    "tags": []
   },
   "source": [
    "# Testing response of a KLD signature to increasing thermodynamic force\n",
    "\n",
    "Another class of signatures uses the KL-divergence to detect irreversibility. Here, we are going to test whether or not the KL-divergence between the probability of observing a stochastic trajectory and its time-reversed trajectory varies monotonically with increasing thermodynamic force. We will use the mathematical conventions laid out in Martínez et al. 2019.\n",
    "\n",
    "The entropy production rate $\\dot{S}$ can be estimated by the KL-divergence between the probability of observing a stochastic trajectory $\\gamma_t$ of length $t$ and the probability to observe the time-reversed trajectory $\\tilde{\\gamma_t}$.\n",
    "\n",
    "$$ \\dot{S} \\geq \\dot{S}_{KLD} \\equiv \\lim_{t \\to \\infty} \\frac{k_B}{t} \\mathcal{D} [ P(\\gamma_t) || P(\\tilde{\\gamma_t}) ], $$\n",
    "\n",
    "where $\\mathcal{D}[ p || q ] \\equiv \\sum_x p(x) \\ln{p(x)/q(x)}$ is the KL-divergence between probability distributions $p$ and $q$. We assume that $k_B = 1$.\n",
    "\n",
    "In Martínez et al 2019, the authors claim that $\\dot{S}_{KLD}$ can be expressed as the sum of two entropy productions.\n",
    "\n",
    "$$\\dot{S}_{KLD} = \\dot{S}_{aff} + \\dot{S}_{WTD}$$\n",
    "\n",
    "where\n",
    "\n",
    "$$ \\dot{S}_{aff} = \\frac{1}{\\mathcal{T}} \\sum_{\\alpha \\beta} p_{\\beta \\alpha} R_\\alpha \\ln{p_{\\beta \\alpha}/p_{\\alpha \\beta}} $$\n",
    "\n",
    "and\n",
    "\n",
    "$$\\dot{S}_{WTD} = \\frac{1}{\\mathcal{T}} \\sum_{\\alpha \\beta \\mu} p_{\\mu \\beta} p_{\\beta \\alpha} R_\\alpha \\mathcal{D} [\\Psi(t | \\beta \\to \\mu ) || \\Psi (t | \\beta \\to \\alpha)]$$"
   ]
  },
  {
   "cell_type": "code",
   "execution_count": 34,
   "id": "e494803f-a712-4de2-9e90-44d46d1ad4a7",
   "metadata": {},
   "outputs": [],
   "source": [
    "# Define a custom waiting time distribution (Exponential)\n",
    "class CustomExponential(rv_continuous):\n",
    "    \"\"\"Custom exponential waiting time distribution.\"\"\"\n",
    "    def __init__(self, rate):\n",
    "        super().__init__()\n",
    "        self.rate = rate\n",
    "\n",
    "    def _pdf(self, x):\n",
    "        return self.rate * np.exp(-self.rate * x) if x >= 0 else 0\n",
    "\n",
    "    def rvs(self, size=1):\n",
    "        return np.random.exponential(1 / self.rate, size=size)\n",
    "\n",
    "# Define the stationary distribution from a transition matrix\n",
    "def compute_stationary_distribution(transition_matrix):\n",
    "    \"\"\"Compute the stationary distribution of a Markov chain.\"\"\"\n",
    "    eigvals, eigvecs = np.linalg.eig(transition_matrix.T)\n",
    "    stationary = eigvecs[:, np.isclose(eigvals, 1)]\n",
    "    stationary = stationary / stationary.sum()\n",
    "    return stationary.real.flatten()\n",
    "\n",
    "def steady_state_MTT(L):\n",
    "    eigvals, eigvecs = np.linalg.eig(L)\n",
    "    pi = np.array([eigvecs[:,np.argmin(np.abs(eigvals))].real/sum(eigvecs[:,np.argmin(np.abs(eigvals))].real)]).T\n",
    "    return pi\n",
    "\n",
    "# Define the KL divergence between two waiting time distributions\n",
    "def kullback_leibler_divergence(dist1, dist2):\n",
    "    \"\"\"Compute the Kullback-Leibler divergence between two distributions.\"\"\"\n",
    "    def integrand(x):\n",
    "        p = dist1.pdf(x)\n",
    "        q = dist2.pdf(x)\n",
    "        return p * np.log(p / q) if p > 0 and q > 0 else 0\n",
    "    \n",
    "    return quad(integrand, 0, np.inf)[0]\n",
    "\n",
    "# Compute the irreversibility signature from waiting time distributions\n",
    "def compute_irreversibility(states, transition_matrix, waiting_time_distributions):\n",
    "    \"\"\"Compute the irreversibility measure from waiting time distributions.\"\"\"\n",
    "    stationary_distribution = steady_state_MTT(transition_matrix)\n",
    "    S_WTD = 0\n",
    "\n",
    "    for i, state_i in enumerate(states):\n",
    "        for j, state_j in enumerate(states):\n",
    "            if i != j and transition_matrix[i, j] > 0 and transition_matrix[j, i] > 0:\n",
    "                P_ij = (transition_matrix[i, j] * stationary_distribution[i])[0]\n",
    "                waiting_time_ij = waiting_time_distributions.get((state_i, state_j))\n",
    "                waiting_time_ji = waiting_time_distributions.get((state_j, state_i))\n",
    "                \n",
    "                if waiting_time_ij and waiting_time_ji:\n",
    "                    S_WTD += P_ij * kullback_leibler_divergence(waiting_time_ij, waiting_time_ji)\n",
    "    \n",
    "    return S_WTD"
   ]
  },
  {
   "cell_type": "code",
   "execution_count": 35,
   "id": "a46d63a7-228c-4420-8f59-1c4968b98757",
   "metadata": {},
   "outputs": [
    {
     "name": "stdout",
     "output_type": "stream",
     "text": [
      "Irreversibility Signature from Waiting Time Distributions: 1.289170989299466\n"
     ]
    }
   ],
   "source": [
    "# Example Usage\n",
    "states = [\"A\", \"B\", \"C\"]\n",
    "transition_matrix = np.array([\n",
    "    [0.0, 0.6, 0.4],\n",
    "    [0.5, 0.0, 0.5],\n",
    "    [0.3, 0.7, 0.0],\n",
    "])\n",
    "\n",
    "# Sample rates from a log-normal distribution\n",
    "np.random.seed(42)\n",
    "sampled_rates = np.random.lognormal(mean=0, sigma=0.5, size=6)\n",
    "\n",
    "# Define waiting time distributions\n",
    "waiting_time_distributions = {\n",
    "    (\"A\", \"B\"): CustomExponential(rate=sampled_rates[0]),\n",
    "    (\"B\", \"A\"): CustomExponential(rate=sampled_rates[1]),\n",
    "    (\"A\", \"C\"): CustomExponential(rate=sampled_rates[2]),\n",
    "    (\"C\", \"A\"): CustomExponential(rate=sampled_rates[3]),\n",
    "    (\"B\", \"C\"): CustomExponential(rate=sampled_rates[4]),\n",
    "    (\"C\", \"B\"): CustomExponential(rate=sampled_rates[5]),\n",
    "}\n",
    "\n",
    "# Compute irreversibility measure\n",
    "S_WTD = compute_irreversibility(states, transition_matrix, waiting_time_distributions)\n",
    "print(\"Irreversibility Signature from Waiting Time Distributions:\", S_WTD)"
   ]
  },
  {
   "cell_type": "markdown",
   "id": "351a8767-44e1-4c84-ae39-c675731bdcdb",
   "metadata": {
    "tags": []
   },
   "source": [
    "# Sampling parameters for the 3-vertex graph $K$"
   ]
  },
  {
   "cell_type": "markdown",
   "id": "d30ec736-2382-4708-97a2-ce7f83014f4c",
   "metadata": {},
   "source": [
    "Parameters are defined as $10^x$, where $x$ is uniformly sampled from $(-3, 3)$. The user can specify the endpoints of this range to sample parameter space more broadly, but $-3$ and $3$ are set as the default parameters."
   ]
  },
  {
   "cell_type": "code",
   "execution_count": 36,
   "id": "342e01e0-6351-49a7-90d1-e78689f13d37",
   "metadata": {},
   "outputs": [],
   "source": [
    "params = random_parameters()"
   ]
  },
  {
   "cell_type": "code",
   "execution_count": 37,
   "id": "4ee6aedd-c41c-44c2-8d44-1bdbba2d3f76",
   "metadata": {},
   "outputs": [
    {
     "name": "stdout",
     "output_type": "stream",
     "text": [
      "[2.23101080e-03 1.57418900e+02 4.04287274e+00 1.77188474e+01\n",
      " 1.32894487e-03 6.59871107e+02]\n"
     ]
    }
   ],
   "source": [
    "print(params)"
   ]
  },
  {
   "cell_type": "markdown",
   "id": "85bb240c-b9cb-422e-8a0c-a7467ba6b6c3",
   "metadata": {},
   "source": [
    "The parameters can be determined such that they satisfy the cycle condition on $K$, initializing the graph in an equlibrium steady state."
   ]
  },
  {
   "cell_type": "code",
   "execution_count": 73,
   "id": "363514e7-b22d-4ab9-b312-3e8280234bf6",
   "metadata": {},
   "outputs": [
    {
     "data": {
      "text/plain": [
       "dtype('float128')"
      ]
     },
     "execution_count": 73,
     "metadata": {},
     "output_type": "execute_result"
    }
   ],
   "source": [
    "params = equilibrium_parameters()\n",
    "params.dtype"
   ]
  },
  {
   "cell_type": "code",
   "execution_count": 74,
   "id": "cc8f64dd-8e00-4ede-bcbf-03227289a655",
   "metadata": {},
   "outputs": [
    {
     "name": "stdout",
     "output_type": "stream",
     "text": [
      "[1.40779231 0.39054413 0.05589524 4.68940096 0.0068701  0.15989586]\n"
     ]
    }
   ],
   "source": [
    "print(params)"
   ]
  },
  {
   "cell_type": "markdown",
   "id": "ba99fe9f-b845-47cf-9e6d-2a1a5abc7421",
   "metadata": {},
   "source": [
    "To generate the figure in the paper, we will manually assign values for the edge labels of the 3-vertex graph. The parameters for the 3-vertex graph are listed in the following order: $[a, b, d, c, f, e] = [\\ell(1\\to 2), \\ell(2\\to 1), \\ell(2\\to 3), \\ell(3\\to 2), \\ell(1\\to 3), \\ell(3\\to 1)] = [\\ell(A\\to B), \\ell(B\\to A), \\ell(B\\to C), \\ell(C\\to B), \\ell(A\\to C), \\ell(C\\to A)]$"
   ]
  },
  {
   "cell_type": "code",
   "execution_count": 72,
   "id": "b545b14c-1f9e-476b-ac18-0a5f97bf0887",
   "metadata": {},
   "outputs": [],
   "source": [
    "#params = np.array([0.08833331, 0.44953403, 0.58597936, 0.02356496, 0.00747019, 0.75898155])"
   ]
  },
  {
   "cell_type": "markdown",
   "id": "9007ab81-190c-4b1f-85c5-6f3d372ec79a",
   "metadata": {},
   "source": [
    "Next, we compute the Laplacian matrix $\\mathcal{L}(K)$ for this specific parameterzation of $K$, and the steady state distribution $\\pi(K)$ as computed through the Matrix-Tree Theorem."
   ]
  },
  {
   "cell_type": "code",
   "execution_count": 75,
   "id": "a91d9a00-5682-44f7-b87e-59cb58eebc1d",
   "metadata": {},
   "outputs": [
    {
     "name": "stdout",
     "output_type": "stream",
     "text": [
      "[[-1.41466242  0.39054413  0.15989586]\n",
      " [ 1.40779231 -0.44643937  4.68940096]\n",
      " [ 0.0068701   0.05589524 -4.84929682]]\n"
     ]
    }
   ],
   "source": [
    "L = Laplacian_K(params)\n",
    "print(L)"
   ]
  },
  {
   "cell_type": "code",
   "execution_count": 76,
   "id": "82bdbaf8-115f-4842-9e0b-265d1eba1f68",
   "metadata": {},
   "outputs": [
    {
     "name": "stdout",
     "output_type": "stream",
     "text": [
      "[0.21516201 0.77559332 0.00924467]\n"
     ]
    }
   ],
   "source": [
    "pi = steady_state_MTT_K(params)\n",
    "print(pi)"
   ]
  },
  {
   "cell_type": "markdown",
   "id": "c6374a1e-911e-46ad-b932-e054546e4a31",
   "metadata": {},
   "source": [
    "We can also calculate the cycle affinity $\\tilde{A}(C)$ for $K$. The cycle affinity  quantifies the departure from equilibrium that arises from the cycle $C$. We take the absolute value of the cycle affinity in our calculation."
   ]
  },
  {
   "cell_type": "code",
   "execution_count": 77,
   "id": "0c81b523-6eb8-4657-966a-620b10ff0c14",
   "metadata": {},
   "outputs": [
    {
     "data": {
      "text/plain": [
       "0.0"
      ]
     },
     "execution_count": 77,
     "metadata": {},
     "output_type": "execute_result"
    }
   ],
   "source": [
    "cycle_affinity_K(params)"
   ]
  },
  {
   "cell_type": "code",
   "execution_count": 79,
   "id": "2ec2bd61-988a-469f-b570-a171333af5fc",
   "metadata": {},
   "outputs": [
    {
     "name": "stdout",
     "output_type": "stream",
     "text": [
      "Irreversibility Signature from Waiting Time Distributions: inf\n"
     ]
    },
    {
     "name": "stderr",
     "output_type": "stream",
     "text": [
      "/var/folders/ch/f1rl6h5x4fx2wbg2_f5bj5dw0000gn/T/ipykernel_35907/2280697002.py:33: RuntimeWarning: overflow encountered in double_scalars\n",
      "  return p * np.log(p / q) if p > 0 and q > 0 else 0\n"
     ]
    }
   ],
   "source": [
    "# Compute irreversibility measure\n",
    "states = [\"A\", \"B\", \"C\"]\n",
    "\n",
    "new_params = params.astype(dtype=float)\n",
    "new_L = L.astype(dtype=float)\n",
    "\n",
    "waiting_time_distributions = {\n",
    "    (\"A\", \"B\"): CustomExponential(rate=new_params[0]),\n",
    "    (\"B\", \"A\"): CustomExponential(rate=new_params[1]),\n",
    "    (\"B\", \"C\"): CustomExponential(rate=new_params[2]),\n",
    "    (\"C\", \"B\"): CustomExponential(rate=new_params[3]),\n",
    "    (\"A\", \"C\"): CustomExponential(rate=new_params[4]),\n",
    "    (\"C\", \"A\"): CustomExponential(rate=new_params[5]),\n",
    "}\n",
    "\n",
    "S_WTD = compute_irreversibility(states, new_L, waiting_time_distributions)\n",
    "print(\"Irreversibility Signature from Waiting Time Distributions:\", S_WTD)"
   ]
  },
  {
   "cell_type": "code",
   "execution_count": 34,
   "id": "2f769b7a",
   "metadata": {},
   "outputs": [],
   "source": [
    "# Define a custom waiting time distribution (Exponential)\n",
    "class CustomExponential(rv_continuous):\n",
    "    \"\"\"Custom exponential waiting time distribution.\"\"\"\n",
    "    def __init__(self, rate):\n",
    "        super().__init__()\n",
    "        self.rate = rate\n",
    "\n",
    "    def _pdf(self, x):\n",
    "        return self.rate * np.exp(-self.rate * x) if x >= 0 else 0\n",
    "\n",
    "    def rvs(self, size=1):\n",
    "        return np.random.exponential(1 / self.rate, size=size)\n",
    "\n",
    "# Define the stationary distribution from a transition matrix\n",
    "def compute_stationary_distribution(transition_matrix):\n",
    "    \"\"\"Compute the stationary distribution of a Markov chain.\"\"\"\n",
    "    eigvals, eigvecs = np.linalg.eig(transition_matrix.T)\n",
    "    stationary = eigvecs[:, np.isclose(eigvals, 1)]\n",
    "    stationary = stationary / stationary.sum()\n",
    "    return stationary.real.flatten()\n",
    "\n",
    "def steady_state_MTT(L):\n",
    "    eigvals, eigvecs = np.linalg.eig(L)\n",
    "    pi = np.array([eigvecs[:,np.argmin(np.abs(eigvals))].real/sum(eigvecs[:,np.argmin(np.abs(eigvals))].real)]).T\n",
    "    return pi\n",
    "\n",
    "# Define the KL divergence between two waiting time distributions\n",
    "def kullback_leibler_divergence(dist1, dist2):\n",
    "    \"\"\"Compute the Kullback-Leibler divergence between two distributions.\"\"\"\n",
    "    def integrand(x):\n",
    "        p = dist1.pdf(x)\n",
    "        q = dist2.pdf(x)\n",
    "        return p * np.log(p / q) if p > 0 and q > 0 else 0\n",
    "    \n",
    "    return quad(integrand, 0, np.inf)[0]\n",
    "\n",
    "# Compute the irreversibility signature from waiting time distributions\n",
    "def compute_irreversibility(states, transition_matrix, waiting_time_distributions):\n",
    "    \"\"\"Compute the irreversibility measure from waiting time distributions.\"\"\"\n",
    "    stationary_distribution = steady_state_MTT(transition_matrix)\n",
    "    S_WTD = 0\n",
    "\n",
    "    for i, state_i in enumerate(states):\n",
    "        for j, state_j in enumerate(states):\n",
    "            if i != j and transition_matrix[i, j] > 0 and transition_matrix[j, i] > 0:\n",
    "                P_ij = (transition_matrix[i, j] * stationary_distribution[i])[0]\n",
    "                waiting_time_ij = waiting_time_distributions.get((state_i, state_j))\n",
    "                waiting_time_ji = waiting_time_distributions.get((state_j, state_i))\n",
    "                \n",
    "                if waiting_time_ij and waiting_time_ji:\n",
    "                    S_WTD += P_ij * kullback_leibler_divergence(waiting_time_ij, waiting_time_ji)\n",
    "    \n",
    "    return S_WTD"
   ]
  }
 ],
 "metadata": {
  "kernelspec": {
   "display_name": "Python 3 (ipykernel)",
   "language": "python",
   "name": "python3"
  },
  "language_info": {
   "codemirror_mode": {
    "name": "ipython",
    "version": 3
   },
   "file_extension": ".py",
   "mimetype": "text/x-python",
   "name": "python",
   "nbconvert_exporter": "python",
   "pygments_lexer": "ipython3",
   "version": "3.9.19"
  }
 },
 "nbformat": 4,
 "nbformat_minor": 5
}
