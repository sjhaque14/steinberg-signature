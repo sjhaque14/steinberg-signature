{
 "cells": [
  {
   "cell_type": "code",
   "execution_count": 1,
   "id": "15c6dce9-03a0-415a-9b9a-e440177467b4",
   "metadata": {},
   "outputs": [],
   "source": [
    "# numpy == 1.21.5\n",
    "import numpy as np\n",
    "# scipy == 1.7.3\n",
    "import scipy.linalg\n",
    "# to make nice plots\n",
    "import matplotlib.pyplot as plt\n",
    "# optional -- to track how long a simulation will take\n",
    "from tqdm import tqdm\n",
    "\n",
    "from steinberg_utils_3vertex import *"
   ]
  },
  {
   "cell_type": "markdown",
   "id": "e2fba1bf-a7d5-4e66-811e-0df72c330780",
   "metadata": {},
   "source": [
    "# Plot features"
   ]
  },
  {
   "cell_type": "code",
   "execution_count": 2,
   "id": "9a5fd1bc-8c38-42b4-9165-54bef63bf7d8",
   "metadata": {},
   "outputs": [],
   "source": [
    "# plot formatting\n",
    "plt.rc(\"text\", usetex=False) # renders LaTeX more quickly\n",
    "plt.rc(\"font\", family = \"serif\",size=14) # font specifications\n",
    "plt.rc(\"figure\",figsize=(14,12)) # figure size\n",
    "%config InlineBackend.figure_format = 'retina' # retina-display quality"
   ]
  },
  {
   "cell_type": "markdown",
   "id": "4b5981b7-64ab-4315-94df-805360eb55af",
   "metadata": {},
   "source": [
    "Parameters are defined as $10^x$, where $x$ is uniformly sampled from $(-3, 3)$. The user can specify the endpoints of this range to sample parameter space more broadly, but $-3$ and $3$ are set as the default parameters."
   ]
  },
  {
   "cell_type": "code",
   "execution_count": 3,
   "id": "9f71ff0c-cbcd-40ba-ad5b-277f085670b6",
   "metadata": {},
   "outputs": [],
   "source": [
    "params = random_parameters()"
   ]
  },
  {
   "cell_type": "code",
   "execution_count": 4,
   "id": "d8810cb4-5797-4cc2-a942-dea29034db84",
   "metadata": {},
   "outputs": [
    {
     "name": "stdout",
     "output_type": "stream",
     "text": [
      "[4.01550670e+02 6.34800653e+01 3.00520038e+02 2.44265497e+02\n",
      " 1.21047019e+01 6.02777829e-03]\n"
     ]
    }
   ],
   "source": [
    "print(params)"
   ]
  },
  {
   "cell_type": "markdown",
   "id": "26d87dec-39a1-4615-aa8b-7948e941bec5",
   "metadata": {},
   "source": [
    "The parameters can be determined such that they satisfy the cycle condition on $K$, initializing the graph in an equlibrium steady state."
   ]
  },
  {
   "cell_type": "code",
   "execution_count": 5,
   "id": "7926fb48-f09e-48c9-896d-181bb3112b68",
   "metadata": {},
   "outputs": [],
   "source": [
    "params = equilibrium_parameters()"
   ]
  },
  {
   "cell_type": "code",
   "execution_count": 6,
   "id": "3a160dd6-b3e5-45dd-9224-b795837de519",
   "metadata": {},
   "outputs": [
    {
     "name": "stdout",
     "output_type": "stream",
     "text": [
      "[9.70944540e+02 7.13723498e-03 6.78107403e-01 2.70267544e+00\n",
      " 2.72353307e+02 7.97927869e-03]\n"
     ]
    }
   ],
   "source": [
    "print(params)"
   ]
  },
  {
   "cell_type": "markdown",
   "id": "fe37faa6-8569-4ef6-87cf-740dccd1574a",
   "metadata": {},
   "source": [
    "To generate the figure in the paper, we will manually assign values for the edge labels of the 3-vertex graph. The parameters for the 3-vertex graph are listed in the following order: $[a, b, d, c, f, e]$"
   ]
  },
  {
   "cell_type": "code",
   "execution_count": 7,
   "id": "308cd923-1cb7-4cf6-810f-80f0e94b2307",
   "metadata": {},
   "outputs": [],
   "source": [
    "#params = [0.08833331, 0.44953403, 0.58597936, 0.02356496, 0.00747019, 0.75898155]"
   ]
  },
  {
   "cell_type": "markdown",
   "id": "f03f2ae1-2c0b-4c20-b62b-91dba7785810",
   "metadata": {},
   "source": [
    "Next, we compute the Laplacian matrix $\\mathcal{L}(K)$ for this specific parameterzation of $K$, and the steady state distribution $\\pi(K)$ as computed through the Matrix-Tree Theorem."
   ]
  },
  {
   "cell_type": "code",
   "execution_count": 8,
   "id": "cd4f6f9a-33e2-4b1d-942a-c1be74f1830a",
   "metadata": {},
   "outputs": [
    {
     "name": "stdout",
     "output_type": "stream",
     "text": [
      "[[-1.24329785e+03  7.13723498e-03  7.97927869e-03]\n",
      " [ 9.70944540e+02 -6.85244638e-01  2.70267544e+00]\n",
      " [ 2.72353307e+02  6.78107403e-01 -2.71065472e+00]]\n"
     ]
    }
   ],
   "source": [
    "L = Laplacian_K(params)\n",
    "print(L)"
   ]
  },
  {
   "cell_type": "code",
   "execution_count": 9,
   "id": "ef2c6900-6f93-4bb6-b2fe-778a3e5a817b",
   "metadata": {},
   "outputs": [
    {
     "name": "stdout",
     "output_type": "stream",
     "text": [
      "[5.87637684e-06 7.99418266e-01 2.00575858e-01]\n"
     ]
    }
   ],
   "source": [
    "pi = steady_state_MTT_K(params)\n",
    "print(pi)"
   ]
  },
  {
   "cell_type": "markdown",
   "id": "72be5659-1bf1-4492-8541-91cd6b45883c",
   "metadata": {},
   "source": [
    "We can also calculate the cycle affinity $\\tilde{A}(C)$ for $K$. The cycle affinity  quantifies the departure from equilibrium that arises from the cycle $C$. We take the absolute value of the cycle affinity in our calculation."
   ]
  },
  {
   "cell_type": "code",
   "execution_count": 10,
   "id": "4d5ba63d-b1fd-4203-94fd-887ffeaafe77",
   "metadata": {},
   "outputs": [
    {
     "data": {
      "text/plain": [
       "1.0842021724855044341e-19"
      ]
     },
     "execution_count": 10,
     "metadata": {},
     "output_type": "execute_result"
    }
   ],
   "source": [
    "cycle_affinity_K(params)"
   ]
  },
  {
   "cell_type": "markdown",
   "id": "150e174e-4e07-4bd5-97ab-3695f7464f03",
   "metadata": {
    "tags": []
   },
   "source": [
    "# Testing response of a KLD signature to increasing thermodynamic force\n",
    "\n",
    "Another class of signatures uses the KL-divergence to detect irreversibility. Here, we are going to test whether or not the KL-divergence between the probability of observing a stochastic trajectory and its time-reversed trajectory varies monotonically with increasing thermodynamic force. We will use the mathematical conventions laid out in Martínez et al. 2019.\n",
    "\n",
    "The entropy production rate $\\dot{S}$ can be estimated by the KL-divergence between the probability of observing a stochastic trajectory $\\gamma_t$ of length $t$ and the probability to observe the time-reversed trajectory $\\tilde{\\gamma_t}$.\n",
    "\n",
    "$$ \\dot{S} \\geq \\dot{S}_{KLD} \\equiv \\lim_{t \\to \\infty} \\frac{k_B}{t} \\mathcal{D} [ P(\\gamma_t) || P(\\tilde{\\gamma_t}) ], $$\n",
    "\n",
    "where $\\mathcal{D}[ p || q ] \\equiv \\sum_x p(x) \\ln{p(x)/q(x)}$ is the KL-divergence between probability distributions $p$ and $q$. We assume that $k_B = 1$.\n",
    "\n",
    "In Martínez et al 2019, the authors claim that $\\dot{S}_{KLD}$ can be expressed as the sum of two entropy productions.\n",
    "\n",
    "$$\\dot{S}_{KLD} = \\dot{S}_{aff} + \\dot{S}_{WTD}$$\n",
    "\n",
    "where\n",
    "\n",
    "$$ \\dot{S}_{aff} = \\frac{1}{\\mathcal{T}} \\sum_{\\alpha \\beta} p_{\\beta \\alpha} R_\\alpha \\ln{p_{\\beta \\alpha}/p_{\\alpha \\beta}} $$\n",
    "\n",
    "and\n",
    "\n",
    "$$\\dot{S}_{WTD} = \\frac{1}{\\mathcal{T}} \\sum_{\\alpha \\beta \\mu} p_{\\mu \\beta} p_{\\beta \\alpha} R_\\alpha \\mathcal{D} [\\Psi(t | \\beta \\to \\mu ) || \\Psi (t | \\beta \\to \\alpha)]$$"
   ]
  },
  {
   "cell_type": "code",
   "execution_count": 19,
   "id": "e494803f-a712-4de2-9e90-44d46d1ad4a7",
   "metadata": {},
   "outputs": [
    {
     "name": "stdout",
     "output_type": "stream",
     "text": [
      "Irreversibility Signature from Waiting Time Distributions: 0.039863895456331976\n"
     ]
    }
   ],
   "source": [
    "import numpy as np\n",
    "from scipy.integrate import quad\n",
    "from scipy.stats import rv_continuous\n",
    "\n",
    "# Define the KL divergence between two waiting time distributions\n",
    "def kullback_leibler_divergence(dist1, dist2):\n",
    "    \"\"\"Compute the Kullback-Leibler divergence between two distributions.\"\"\"\n",
    "    def integrand(x):\n",
    "        p = dist1.pdf(x)\n",
    "        q = dist2.pdf(x)\n",
    "        return p * np.log(p / q) if p > 0 and q > 0 else 0\n",
    "    \n",
    "    return quad(integrand, 0, np.inf)[0]\n",
    "\n",
    "# Compute the irreversibility signature from waiting time distributions\n",
    "def compute_irreversibility(states, transition_matrix, waiting_time_distributions):\n",
    "    \"\"\"Compute the irreversibility measure from waiting time distributions.\"\"\"\n",
    "    stationary_distribution = compute_stationary_distribution(transition_matrix)\n",
    "    S_WTD = 0\n",
    "\n",
    "    for i, state_i in enumerate(states):\n",
    "        for j, state_j in enumerate(states):\n",
    "            if i != j and transition_matrix[i, j] > 0 and transition_matrix[j, i] > 0:\n",
    "                P_ij = transition_matrix[i, j] * stationary_distribution[i]\n",
    "                waiting_time_ij = waiting_time_distributions.get((state_i, state_j))\n",
    "                waiting_time_ji = waiting_time_distributions.get((state_j, state_i))\n",
    "                \n",
    "                if waiting_time_ij and waiting_time_ji:\n",
    "                    S_WTD += P_ij * kullback_leibler_divergence(waiting_time_ij, waiting_time_ji)\n",
    "    \n",
    "    return S_WTD\n",
    "\n",
    "def compute_stationary_distribution(transition_matrix):\n",
    "    \"\"\"Compute the stationary distribution of a Markov chain.\"\"\"\n",
    "    eigvals, eigvecs = np.linalg.eig(transition_matrix.T)\n",
    "    stationary = eigvecs[:, np.isclose(eigvals, 1)]\n",
    "    stationary = stationary / stationary.sum()\n",
    "    return stationary.real.flatten()\n",
    "\n",
    "# Define a custom waiting time distribution (Exponential)\n",
    "class CustomExponential(rv_continuous):\n",
    "    \"\"\"Custom exponential waiting time distribution.\"\"\"\n",
    "    def __init__(self, rate):\n",
    "        super().__init__()\n",
    "        self.rate = rate\n",
    "\n",
    "    def _pdf(self, x):\n",
    "        return self.rate * np.exp(-self.rate * x) if x >= 0 else 0\n",
    "\n",
    "    def rvs(self, size=1):\n",
    "        return np.random.exponential(1 / self.rate, size=size)"
   ]
  },
  {
   "cell_type": "code",
   "execution_count": 29,
   "id": "a46d63a7-228c-4420-8f59-1c4968b98757",
   "metadata": {},
   "outputs": [
    {
     "name": "stdout",
     "output_type": "stream",
     "text": [
      "Irreversibility Signature from Waiting Time Distributions: 0.039863895456331976\n"
     ]
    }
   ],
   "source": [
    "# Example Usage\n",
    "states = [\"A\", \"B\", \"C\"]\n",
    "transition_matrix = np.array([\n",
    "    [0.0, 0.6, 0.4],\n",
    "    [0.5, 0.0, 0.5],\n",
    "    [0.3, 0.7, 0.0],\n",
    "])\n",
    "\n",
    "# Sample rates from a log-normal distribution\n",
    "np.random.seed(42)\n",
    "sampled_rates = np.random.lognormal(mean=0, sigma=0.5, size=6)\n",
    "\n",
    "# Define waiting time distributions\n",
    "waiting_time_distributions = {\n",
    "    (\"A\", \"B\"): CustomExponential(rate=sampled_rates[0]),\n",
    "    (\"B\", \"A\"): CustomExponential(rate=sampled_rates[1]),\n",
    "    (\"A\", \"C\"): CustomExponential(rate=sampled_rates[2]),\n",
    "    (\"C\", \"A\"): CustomExponential(rate=sampled_rates[3]),\n",
    "    (\"B\", \"C\"): CustomExponential(rate=sampled_rates[4]),\n",
    "    (\"C\", \"B\"): CustomExponential(rate=sampled_rates[5]),\n",
    "}\n",
    "\n",
    "# Compute irreversibility measure\n",
    "S_WTD = compute_irreversibility(states, transition_matrix, waiting_time_distributions)\n",
    "print(\"Irreversibility Signature from Waiting Time Distributions:\", S_WTD)"
   ]
  },
  {
   "cell_type": "markdown",
   "id": "ae8917bf-9688-474c-a7d5-328b39e16634",
   "metadata": {
    "tags": []
   },
   "source": [
    "# Sampling parameters for the 3-vertex graph $K$"
   ]
  },
  {
   "cell_type": "markdown",
   "id": "f8663d18-da7a-4940-bd55-14bb0b5212cd",
   "metadata": {},
   "source": [
    "Parameters are defined as $10^x$, where $x$ is uniformly sampled from $(-3, 3)$. The user can specify the endpoints of this range to sample parameter space more broadly, but $-3$ and $3$ are set as the default parameters."
   ]
  },
  {
   "cell_type": "code",
   "execution_count": 20,
   "id": "342e01e0-6351-49a7-90d1-e78689f13d37",
   "metadata": {},
   "outputs": [],
   "source": [
    "params = random_parameters()"
   ]
  },
  {
   "cell_type": "code",
   "execution_count": 21,
   "id": "4ee6aedd-c41c-44c2-8d44-1bdbba2d3f76",
   "metadata": {},
   "outputs": [
    {
     "name": "stdout",
     "output_type": "stream",
     "text": [
      "[2.23101080e-03 1.57418900e+02 4.04287274e+00 1.77188474e+01\n",
      " 1.32894487e-03 6.59871107e+02]\n"
     ]
    }
   ],
   "source": [
    "print(params)"
   ]
  },
  {
   "cell_type": "markdown",
   "id": "96bdc6fd-f2d9-4b3b-93dd-8f6674df7b1a",
   "metadata": {},
   "source": [
    "The parameters can be determined such that they satisfy the cycle condition on $K$, initializing the graph in an equlibrium steady state."
   ]
  },
  {
   "cell_type": "code",
   "execution_count": 38,
   "id": "363514e7-b22d-4ab9-b312-3e8280234bf6",
   "metadata": {},
   "outputs": [
    {
     "data": {
      "text/plain": [
       "dtype('float128')"
      ]
     },
     "execution_count": 38,
     "metadata": {},
     "output_type": "execute_result"
    }
   ],
   "source": [
    "params = equilibrium_parameters()\n",
    "params.dtype"
   ]
  },
  {
   "cell_type": "code",
   "execution_count": 39,
   "id": "cc8f64dd-8e00-4ede-bcbf-03227289a655",
   "metadata": {},
   "outputs": [
    {
     "name": "stdout",
     "output_type": "stream",
     "text": [
      "[6.59871107e+02 9.87770029e+01 1.87946682e-02 1.23296232e-02\n",
      " 1.26016397e-02 1.23748211e-03]\n"
     ]
    }
   ],
   "source": [
    "print(params)"
   ]
  },
  {
   "cell_type": "markdown",
   "id": "109ae30b-f287-490d-b5ca-503c39b7322f",
   "metadata": {},
   "source": [
    "To generate the figure in the paper, we will manually assign values for the edge labels of the 3-vertex graph. The parameters for the 3-vertex graph are listed in the following order: $[a, b, d, c, f, e] = [\\ell(1\\to 2), \\ell(2\\to 1), \\ell(2\\to 3), \\ell(3\\to 2), \\ell(1\\to 3), \\ell(3\\to 1)] = [\\ell(A\\to B), \\ell(B\\to A), \\ell(B\\to C), \\ell(C\\to B), \\ell(A\\to C), \\ell(C\\to A)]$"
   ]
  },
  {
   "cell_type": "code",
   "execution_count": 40,
   "id": "b545b14c-1f9e-476b-ac18-0a5f97bf0887",
   "metadata": {},
   "outputs": [],
   "source": [
    "#params = [0.08833331, 0.44953403, 0.58597936, 0.02356496, 0.00747019, 0.75898155]"
   ]
  },
  {
   "cell_type": "markdown",
   "id": "277df36e-bdbc-4b92-83eb-fdd383af1925",
   "metadata": {},
   "source": [
    "Next, we compute the Laplacian matrix $\\mathcal{L}(K)$ for this specific parameterzation of $K$, and the steady state distribution $\\pi(K)$ as computed through the Matrix-Tree Theorem."
   ]
  },
  {
   "cell_type": "code",
   "execution_count": 47,
   "id": "a91d9a00-5682-44f7-b87e-59cb58eebc1d",
   "metadata": {},
   "outputs": [
    {
     "name": "stdout",
     "output_type": "stream",
     "text": [
      "[[-6.59883709e+02  9.87770029e+01  1.23748211e-03]\n",
      " [ 6.59871107e+02 -9.87957976e+01  1.23296232e-02]\n",
      " [ 1.26016397e-02  1.87946682e-02 -1.35671053e-02]]\n"
     ]
    },
    {
     "data": {
      "text/plain": [
       "dtype('float128')"
      ]
     },
     "execution_count": 47,
     "metadata": {},
     "output_type": "execute_result"
    }
   ],
   "source": [
    "L = Laplacian_K(params)\n",
    "print(L)"
   ]
  },
  {
   "cell_type": "code",
   "execution_count": 42,
   "id": "82bdbaf8-115f-4842-9e0b-265d1eba1f68",
   "metadata": {},
   "outputs": [
    {
     "name": "stdout",
     "output_type": "stream",
     "text": [
      "[0.05597944 0.37396571 0.57005485]\n"
     ]
    }
   ],
   "source": [
    "pi = steady_state_MTT_K(params)\n",
    "print(pi)"
   ]
  },
  {
   "cell_type": "markdown",
   "id": "17f8e5e4-e4ff-48fc-b4f0-dbc71baf1cb7",
   "metadata": {},
   "source": [
    "We can also calculate the cycle affinity $\\tilde{A}(C)$ for $K$. The cycle affinity  quantifies the departure from equilibrium that arises from the cycle $C$. We take the absolute value of the cycle affinity in our calculation."
   ]
  },
  {
   "cell_type": "code",
   "execution_count": 43,
   "id": "0c81b523-6eb8-4657-966a-620b10ff0c14",
   "metadata": {},
   "outputs": [
    {
     "data": {
      "text/plain": [
       "0.0"
      ]
     },
     "execution_count": 43,
     "metadata": {},
     "output_type": "execute_result"
    }
   ],
   "source": [
    "cycle_affinity_K(params)"
   ]
  },
  {
   "cell_type": "code",
   "execution_count": 44,
   "id": "930298d4-49e5-45ba-b709-8f9db2a86a14",
   "metadata": {},
   "outputs": [
    {
     "data": {
      "text/plain": [
       "dtype('float128')"
      ]
     },
     "execution_count": 44,
     "metadata": {},
     "output_type": "execute_result"
    }
   ],
   "source": [
    "params.dtype"
   ]
  },
  {
   "cell_type": "code",
   "execution_count": 50,
   "id": "2ec2bd61-988a-469f-b570-a171333af5fc",
   "metadata": {},
   "outputs": [
    {
     "name": "stdout",
     "output_type": "stream",
     "text": [
      "float64\n"
     ]
    },
    {
     "ename": "IndexError",
     "evalue": "index 0 is out of bounds for axis 0 with size 0",
     "output_type": "error",
     "traceback": [
      "\u001b[0;31m---------------------------------------------------------------------------\u001b[0m",
      "\u001b[0;31mIndexError\u001b[0m                                Traceback (most recent call last)",
      "\u001b[0;32m/var/folders/ch/f1rl6h5x4fx2wbg2_f5bj5dw0000gn/T/ipykernel_14232/1169520417.py\u001b[0m in \u001b[0;36m<module>\u001b[0;34m\u001b[0m\n\u001b[1;32m     16\u001b[0m }\n\u001b[1;32m     17\u001b[0m \u001b[0;34m\u001b[0m\u001b[0m\n\u001b[0;32m---> 18\u001b[0;31m \u001b[0mS_WTD\u001b[0m \u001b[0;34m=\u001b[0m \u001b[0mcompute_irreversibility\u001b[0m\u001b[0;34m(\u001b[0m\u001b[0mstates\u001b[0m\u001b[0;34m,\u001b[0m \u001b[0mnew_L\u001b[0m\u001b[0;34m,\u001b[0m \u001b[0mwaiting_time_distributions\u001b[0m\u001b[0;34m)\u001b[0m\u001b[0;34m\u001b[0m\u001b[0;34m\u001b[0m\u001b[0m\n\u001b[0m\u001b[1;32m     19\u001b[0m \u001b[0mprint\u001b[0m\u001b[0;34m(\u001b[0m\u001b[0;34m\"Irreversibility Signature from Waiting Time Distributions:\"\u001b[0m\u001b[0;34m,\u001b[0m \u001b[0mS_WTD\u001b[0m\u001b[0;34m)\u001b[0m\u001b[0;34m\u001b[0m\u001b[0;34m\u001b[0m\u001b[0m\n",
      "\u001b[0;32m/var/folders/ch/f1rl6h5x4fx2wbg2_f5bj5dw0000gn/T/ipykernel_14232/1377971591.py\u001b[0m in \u001b[0;36mcompute_irreversibility\u001b[0;34m(states, transition_matrix, waiting_time_distributions)\u001b[0m\n\u001b[1;32m     22\u001b[0m         \u001b[0;32mfor\u001b[0m \u001b[0mj\u001b[0m\u001b[0;34m,\u001b[0m \u001b[0mstate_j\u001b[0m \u001b[0;32min\u001b[0m \u001b[0menumerate\u001b[0m\u001b[0;34m(\u001b[0m\u001b[0mstates\u001b[0m\u001b[0;34m)\u001b[0m\u001b[0;34m:\u001b[0m\u001b[0;34m\u001b[0m\u001b[0;34m\u001b[0m\u001b[0m\n\u001b[1;32m     23\u001b[0m             \u001b[0;32mif\u001b[0m \u001b[0mi\u001b[0m \u001b[0;34m!=\u001b[0m \u001b[0mj\u001b[0m \u001b[0;32mand\u001b[0m \u001b[0mtransition_matrix\u001b[0m\u001b[0;34m[\u001b[0m\u001b[0mi\u001b[0m\u001b[0;34m,\u001b[0m \u001b[0mj\u001b[0m\u001b[0;34m]\u001b[0m \u001b[0;34m>\u001b[0m \u001b[0;36m0\u001b[0m \u001b[0;32mand\u001b[0m \u001b[0mtransition_matrix\u001b[0m\u001b[0;34m[\u001b[0m\u001b[0mj\u001b[0m\u001b[0;34m,\u001b[0m \u001b[0mi\u001b[0m\u001b[0;34m]\u001b[0m \u001b[0;34m>\u001b[0m \u001b[0;36m0\u001b[0m\u001b[0;34m:\u001b[0m\u001b[0;34m\u001b[0m\u001b[0;34m\u001b[0m\u001b[0m\n\u001b[0;32m---> 24\u001b[0;31m                 \u001b[0mP_ij\u001b[0m \u001b[0;34m=\u001b[0m \u001b[0mtransition_matrix\u001b[0m\u001b[0;34m[\u001b[0m\u001b[0mi\u001b[0m\u001b[0;34m,\u001b[0m \u001b[0mj\u001b[0m\u001b[0;34m]\u001b[0m \u001b[0;34m*\u001b[0m \u001b[0mstationary_distribution\u001b[0m\u001b[0;34m[\u001b[0m\u001b[0mi\u001b[0m\u001b[0;34m]\u001b[0m\u001b[0;34m\u001b[0m\u001b[0;34m\u001b[0m\u001b[0m\n\u001b[0m\u001b[1;32m     25\u001b[0m                 \u001b[0mwaiting_time_ij\u001b[0m \u001b[0;34m=\u001b[0m \u001b[0mwaiting_time_distributions\u001b[0m\u001b[0;34m.\u001b[0m\u001b[0mget\u001b[0m\u001b[0;34m(\u001b[0m\u001b[0;34m(\u001b[0m\u001b[0mstate_i\u001b[0m\u001b[0;34m,\u001b[0m \u001b[0mstate_j\u001b[0m\u001b[0;34m)\u001b[0m\u001b[0;34m)\u001b[0m\u001b[0;34m\u001b[0m\u001b[0;34m\u001b[0m\u001b[0m\n\u001b[1;32m     26\u001b[0m                 \u001b[0mwaiting_time_ji\u001b[0m \u001b[0;34m=\u001b[0m \u001b[0mwaiting_time_distributions\u001b[0m\u001b[0;34m.\u001b[0m\u001b[0mget\u001b[0m\u001b[0;34m(\u001b[0m\u001b[0;34m(\u001b[0m\u001b[0mstate_j\u001b[0m\u001b[0;34m,\u001b[0m \u001b[0mstate_i\u001b[0m\u001b[0;34m)\u001b[0m\u001b[0;34m)\u001b[0m\u001b[0;34m\u001b[0m\u001b[0;34m\u001b[0m\u001b[0m\n",
      "\u001b[0;31mIndexError\u001b[0m: index 0 is out of bounds for axis 0 with size 0"
     ]
    }
   ],
   "source": [
    "# Compute irreversibility measure\n",
    "states = [\"A\", \"B\", \"C\"]\n",
    "\n",
    "new_params = params.astype(dtype=float)\n",
    "print(new_params.dtype)\n",
    "\n",
    "new_L = L.astype(dtype=float)\n",
    "\n",
    "waiting_time_distributions = {\n",
    "    (\"A\", \"B\"): CustomExponential(rate=new_params[0]),\n",
    "    (\"B\", \"A\"): CustomExponential(rate=new_params[1]),\n",
    "    (\"B\", \"C\"): CustomExponential(rate=new_params[2]),\n",
    "    (\"C\", \"B\"): CustomExponential(rate=new_params[3]),\n",
    "    (\"A\", \"C\"): CustomExponential(rate=new_params[4]),\n",
    "    (\"C\", \"A\"): CustomExponential(rate=new_params[5]),\n",
    "}\n",
    "\n",
    "S_WTD = compute_irreversibility(states, new_L, waiting_time_distributions)\n",
    "print(\"Irreversibility Signature from Waiting Time Distributions:\", S_WTD)"
   ]
  },
  {
   "cell_type": "code",
   "execution_count": null,
   "id": "c8d0bfd8-5ada-4c24-bff9-552419028e8a",
   "metadata": {},
   "outputs": [],
   "source": []
  }
 ],
 "metadata": {
  "kernelspec": {
   "display_name": "Python 3 (ipykernel)",
   "language": "python",
   "name": "python3"
  },
  "language_info": {
   "codemirror_mode": {
    "name": "ipython",
    "version": 3
   },
   "file_extension": ".py",
   "mimetype": "text/x-python",
   "name": "python",
   "nbconvert_exporter": "python",
   "pygments_lexer": "ipython3",
   "version": "3.9.19"
  }
 },
 "nbformat": 4,
 "nbformat_minor": 5
}
