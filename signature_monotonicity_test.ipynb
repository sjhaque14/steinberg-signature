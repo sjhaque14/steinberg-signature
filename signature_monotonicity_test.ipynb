{
 "cells": [
  {
   "cell_type": "code",
   "execution_count": null,
   "id": "15c6dce9-03a0-415a-9b9a-e440177467b4",
   "metadata": {},
   "outputs": [],
   "source": [
    "# numpy == 1.21.5\n",
    "import numpy as np\n",
    "# scipy == 1.7.3\n",
    "import scipy.linalg\n",
    "# to make nice plots\n",
    "import matplotlib.pyplot as plt\n",
    "# optional -- to track how long a simulation will take\n",
    "from tqdm import tqdm\n",
    "\n",
    "from steinberg_utils_3vertex import *"
   ]
  },
  {
   "cell_type": "markdown",
   "id": "e2fba1bf-a7d5-4e66-811e-0df72c330780",
   "metadata": {},
   "source": [
    "# Plot features"
   ]
  },
  {
   "cell_type": "code",
   "execution_count": null,
   "id": "9a5fd1bc-8c38-42b4-9165-54bef63bf7d8",
   "metadata": {},
   "outputs": [],
   "source": [
    "# plot formatting\n",
    "plt.rc(\"text\", usetex=False) # renders LaTeX more quickly\n",
    "plt.rc(\"font\", family = \"serif\",size=14) # font specifications\n",
    "plt.rc(\"figure\",figsize=(14,12)) # figure size\n",
    "%config InlineBackend.figure_format = 'retina' # retina-display quality"
   ]
  },
  {
   "cell_type": "markdown",
   "id": "434f4425-d3aa-4909-826a-84f8cf813ab2",
   "metadata": {
    "tags": []
   },
   "source": [
    "# Sampling parameters for the 3-vertex graph $K$"
   ]
  },
  {
   "cell_type": "markdown",
   "id": "4b5981b7-64ab-4315-94df-805360eb55af",
   "metadata": {},
   "source": [
    "Parameters are defined as $10^x$, where $x$ is uniformly sampled from $(-3, 3)$. The user can specify the endpoints of this range to sample parameter space more broadly, but $-3$ and $3$ are set as the default parameters."
   ]
  },
  {
   "cell_type": "code",
   "execution_count": null,
   "id": "9f71ff0c-cbcd-40ba-ad5b-277f085670b6",
   "metadata": {},
   "outputs": [],
   "source": [
    "params = random_parameters()"
   ]
  },
  {
   "cell_type": "code",
   "execution_count": null,
   "id": "d8810cb4-5797-4cc2-a942-dea29034db84",
   "metadata": {},
   "outputs": [
    {
     "name": "stdout",
     "output_type": "stream",
     "text": [
      "[1.08206414e-03 1.01092706e-01 9.93254641e-01 6.15405297e-02\n",
      " 2.82741566e+01 5.45289597e+00]\n"
     ]
    }
   ],
   "source": [
    "print(params)"
   ]
  },
  {
   "cell_type": "markdown",
   "id": "26d87dec-39a1-4615-aa8b-7948e941bec5",
   "metadata": {},
   "source": [
    "The parameters can be determined such that they satisfy the cycle condition on $K$, initializing the graph in an equlibrium steady state."
   ]
  },
  {
   "cell_type": "code",
   "execution_count": null,
   "id": "7926fb48-f09e-48c9-896d-181bb3112b68",
   "metadata": {},
   "outputs": [],
   "source": [
    "params = equilibrium_parameters()"
   ]
  },
  {
   "cell_type": "code",
   "execution_count": null,
   "id": "3a160dd6-b3e5-45dd-9224-b795837de519",
   "metadata": {},
   "outputs": [
    {
     "name": "stdout",
     "output_type": "stream",
     "text": [
      "[3.14027381e-03 3.73496505e+00 4.34784835e+01 4.91502712e-01\n",
      " 4.99053431e-03 6.70992400e-02]\n"
     ]
    }
   ],
   "source": [
    "print(params)"
   ]
  },
  {
   "cell_type": "markdown",
   "id": "fe37faa6-8569-4ef6-87cf-740dccd1574a",
   "metadata": {},
   "source": [
    "To generate the figure in the paper, we will manually assign values for the edge labels of the 3-vertex graph. The parameters for the 3-vertex graph are listed in the following order: $[a, b, d, c, f, e]$"
   ]
  },
  {
   "cell_type": "code",
   "execution_count": null,
   "id": "308cd923-1cb7-4cf6-810f-80f0e94b2307",
   "metadata": {},
   "outputs": [],
   "source": [
    "#params = [0.08833331, 0.44953403, 0.58597936, 0.02356496, 0.00747019, 0.75898155]"
   ]
  },
  {
   "cell_type": "markdown",
   "id": "f03f2ae1-2c0b-4c20-b62b-91dba7785810",
   "metadata": {},
   "source": [
    "Next, we compute the Laplacian matrix $\\mathcal{L}(K)$ for this specific parameterzation of $K$, and the steady state distribution $\\pi(K)$ as computed through the Matrix-Tree Theorem."
   ]
  },
  {
   "cell_type": "code",
   "execution_count": null,
   "id": "cd4f6f9a-33e2-4b1d-942a-c1be74f1830a",
   "metadata": {},
   "outputs": [
    {
     "name": "stdout",
     "output_type": "stream",
     "text": [
      "[[-8.13080813e-03  3.73496505e+00  6.70992400e-02]\n",
      " [ 3.14027381e-03 -4.72134485e+01  4.91502712e-01]\n",
      " [ 4.99053431e-03  4.34784835e+01 -5.58601952e-01]]\n"
     ]
    }
   ],
   "source": [
    "L = Laplacian_K(params)\n",
    "print(L)"
   ]
  },
  {
   "cell_type": "code",
   "execution_count": null,
   "id": "ef2c6900-6f93-4bb6-b2fe-778a3e5a817b",
   "metadata": {},
   "outputs": [
    {
     "name": "stdout",
     "output_type": "stream",
     "text": [
      "[9.30045511e-01 7.81961150e-04 6.91725277e-02]\n"
     ]
    }
   ],
   "source": [
    "pi = steady_state_MTT_K(params)\n",
    "print(pi)"
   ]
  },
  {
   "cell_type": "markdown",
   "id": "72be5659-1bf1-4492-8541-91cd6b45883c",
   "metadata": {},
   "source": [
    "We can also calculate the cycle affinity $\\tilde{A}(C)$ for $K$. The cycle affinity  quantifies the departure from equilibrium that arises from the cycle $C$. We take the absolute value of the cycle affinity in our calculation."
   ]
  },
  {
   "cell_type": "code",
   "execution_count": null,
   "id": "4d5ba63d-b1fd-4203-94fd-887ffeaafe77",
   "metadata": {},
   "outputs": [
    {
     "data": {
      "text/plain": [
       "0.0"
      ]
     },
     "execution_count": 18,
     "metadata": {},
     "output_type": "execute_result"
    }
   ],
   "source": [
    "cycle_affinity_K(params)"
   ]
  },
  {
   "cell_type": "markdown",
   "id": "150e174e-4e07-4bd5-97ab-3695f7464f03",
   "metadata": {},
   "source": [
    "# Testing response of a KLD signature to increasing thermodynamic force\n",
    "\n",
    "Another class of signatures uses the KL-divergence to detect irreversibility. Here, we are going to test whether or not the KL-divergence between the probability of observing a stochastic trajectory and its time-reversed trajectory varies monotonically with increasing thermodynamic force. We will use the mathematical conventions laid out in Martínez et al. 2019.\n",
    "\n",
    "The entropy production rate $\\dot{S}$ can be estimated by the KL-divergence between the probability of observing a stochastic trajectory $\\gamma_t$ of length $t$ and the probability to observe the time-reversed trajectory $\\tilde{\\gamma_t}$.\n",
    "\n",
    "$$ \\dot{S} \\geq \\dot{S}_{KLD} \\equiv \\lim_{t \\to \\infty} \\frac{k_B}{t} \\mathcal{D} [ P(\\gamma_t) || P(\\tilde{\\gamma_t}) ], $$\n",
    "\n",
    "where $\\mathcal{D}[ p || q ] \\equiv \\sum_x p(x) \\ln{p(x)/q(x)}$ is the KL-divergence between probability distributions $p$ and $q$. We assume that $k_B = 1$.\n",
    "\n",
    "In Martínez et al 2019, the authors claim that $\\dot{S}_{KLD}$ can be expressed as the sum of two entropy productions.\n",
    "\n",
    "$$\\dot{S}_{KLD} = \\dot{S}_{aff} + \\dot{S}_{WTD}$$\n",
    "\n",
    "where\n",
    "\n",
    "$$ \\dot{S}_{aff} = \\frac{1}{\\mathcal{T}} \\sum_{\\alpha \\beta} p_{\\beta \\alpha} R_\\alpha \\ln{p_{\\beta \\alpha}/p_{\\alpha \\beta}} $$\n",
    "\n",
    "and\n",
    "\n",
    "$$\\dot{S}_{WTD} = \\frac{1}{\\mathcal{T}} \\sum_{\\alpha \\beta \\mu} p_{\\mu \\beta} p_{\\beta \\alpha} R_\\alpha \\mathcal{D} [\\Psi(t | \\beta \\to \\mu ) || \\Psi (t | \\beta \\to \\alpha)]$$"
   ]
  },
  {
   "cell_type": "code",
   "execution_count": null,
   "id": "8e4127bb-2146-485d-8e08-373f013ef6e3",
   "metadata": {},
   "outputs": [],
   "source": [
    "from scipy.stats import rv_continuous\n",
    "from scipy.integrate import quad\n",
    "from scipy.optimize import minimize"
   ]
  },
  {
   "cell_type": "code",
   "execution_count": null,
   "id": "c5325c4e-df81-4208-83df-66e7a0f28112",
   "metadata": {},
   "outputs": [],
   "source": [
    "class SemiMarkovProcess:\n",
    "    def __init__(self, states, transition_matrix, waiting_time_distributions):\n",
    "        \"\"\"\n",
    "        Initialize the semi-Markov process.\n",
    "\n",
    "        Parameters:\n",
    "        - states: list of states in the process.\n",
    "        - transition_matrix: NxN matrix of transition probabilities between states.\n",
    "        - waiting_time_distributions: Dictionary with state pairs (i, j) as keys and\n",
    "          waiting time distribution functions as values.\n",
    "        \"\"\"\n",
    "        self.states = states\n",
    "        self.transition_matrix = np.array(transition_matrix)\n",
    "        self.waiting_time_distributions = waiting_time_distributions\n",
    "        \n",
    "        self._validate_inputs()\n",
    "\n",
    "    def _validate_inputs(self):\n",
    "        \"\"\"Validate the inputs for consistency.\"\"\"\n",
    "        assert self.transition_matrix.shape[0] == len(self.states), \"Transition matrix size must match the number of states.\"\n",
    "        assert np.allclose(self.transition_matrix.sum(axis=1), 1), \"Rows of transition matrix must sum to 1.\"\n",
    "\n",
    "    def sample_trajectory(self, initial_state, max_time):\n",
    "        \"\"\"\n",
    "        Simulate a trajectory of the semi-Markov process.\n",
    "\n",
    "        Parameters:\n",
    "        - initial_state: Starting state.\n",
    "        - max_time: Maximum simulation time.\n",
    "\n",
    "        Returns:\n",
    "        - trajectory: List of tuples [(state, time_spent), ...].\n",
    "        \"\"\"\n",
    "        trajectory = []\n",
    "        current_state = initial_state\n",
    "        total_time = 0\n",
    "\n",
    "        while total_time < max_time:\n",
    "            next_state = np.random.choice(\n",
    "                self.states, p=self.transition_matrix[self.states.index(current_state)]\n",
    "            )\n",
    "            waiting_time_dist = self.waiting_time_distributions.get((current_state, next_state))\n",
    "            if waiting_time_dist is None:\n",
    "                raise ValueError(f\"No waiting time distribution defined for transition ({current_state}, {next_state}).\")\n",
    "            waiting_time = waiting_time_dist.rvs()\n",
    "\n",
    "            if total_time + waiting_time > max_time:\n",
    "                break\n",
    "\n",
    "            trajectory.append((current_state, waiting_time))\n",
    "            total_time += waiting_time\n",
    "            current_state = next_state\n",
    "\n",
    "        return trajectory\n",
    "\n",
    "    def compute_entropy_production(self):\n",
    "        \"\"\"\n",
    "        Compute the entropy production rate for the semi-Markov process.\n",
    "\n",
    "        Returns:\n",
    "        - S_aff: Affinity entropy production rate.\n",
    "        - S_WTD: Waiting time distribution entropy production rate.\n",
    "        \"\"\"\n",
    "        S_aff = 0\n",
    "        S_WTD = 0\n",
    "\n",
    "        for i, state_i in enumerate(self.states):\n",
    "            for j, state_j in enumerate(self.states):\n",
    "                if i != j and self.transition_matrix[i, j] > 0:\n",
    "                    R_i = self._compute_stationary_distribution()[i]\n",
    "                    S_aff += (\n",
    "                        self.transition_matrix[i, j] * R_i\n",
    "                        * np.log(self.transition_matrix[i, j] / self.transition_matrix[j, i])\n",
    "                    )\n",
    "\n",
    "                    for k, state_k in enumerate(self.states):\n",
    "                        if k != i and self.transition_matrix[j, k] > 0:\n",
    "                            waiting_time_ij = self.waiting_time_distributions.get((state_i, state_j))\n",
    "                            waiting_time_jk = self.waiting_time_distributions.get((state_j, state_k))\n",
    "                            if waiting_time_ij and waiting_time_jk:\n",
    "                                S_WTD += (\n",
    "                                    self.transition_matrix[j, k] * self.transition_matrix[i, j] * R_i\n",
    "                                    * self._kullback_leibler(waiting_time_ij, waiting_time_jk)\n",
    "                                )\n",
    "\n",
    "        return S_aff, S_WTD\n",
    "\n",
    "    def _compute_stationary_distribution(self):\n",
    "        \"\"\"Compute the stationary distribution of the Markov chain.\"\"\"\n",
    "        eigvals, eigvecs = np.linalg.eig(self.transition_matrix.T)\n",
    "        stationary = eigvecs[:, np.isclose(eigvals, 1)]\n",
    "        stationary = stationary / stationary.sum()\n",
    "        return stationary.real.flatten()\n",
    "\n",
    "    def _kullback_leibler(self, dist1, dist2):\n",
    "        \"\"\"\n",
    "        Compute the Kullback-Leibler divergence between two distributions.\n",
    "\n",
    "        Parameters:\n",
    "        - dist1, dist2: Distribution objects with PDF methods.\n",
    "\n",
    "        Returns:\n",
    "        - KL divergence.\n",
    "        \"\"\"\n",
    "        def integrand(x):\n",
    "            p = dist1.pdf(x)\n",
    "            q = dist2.pdf(x)\n",
    "            return p * np.log(p / q) if p > 0 and q > 0 else 0\n",
    "\n",
    "        return quad(integrand, 0, np.inf)[0]"
   ]
  },
  {
   "cell_type": "code",
   "execution_count": null,
   "id": "66e00a97-65b2-4334-9ffb-331b4ab82ebf",
   "metadata": {},
   "outputs": [],
   "source": [
    "# Example Usage\n",
    "# Define custom waiting time distributions\n",
    "class CustomExponential(rv_continuous):\n",
    "    \"\"\"Custom exponential distribution.\"\"\"\n",
    "    def __init__(self, rate):\n",
    "        super().__init__()\n",
    "        self.rate = rate\n",
    "\n",
    "    def _pdf(self, x):\n",
    "        return self.rate * np.exp(-self.rate * x) if x >= 0 else 0\n",
    "\n",
    "    def rvs(self, size=1):\n",
    "        return np.random.exponential(1 / self.rate, size=size)"
   ]
  },
  {
   "cell_type": "code",
   "execution_count": null,
   "id": "e5ed3720-5d63-48f8-937e-873aa904850b",
   "metadata": {},
   "outputs": [
    {
     "name": "stdout",
     "output_type": "stream",
     "text": [
      "Trajectory: [('A', array([1.56892368])), ('B', array([0.57494266])), ('C', array([3.93871907])), ('A', array([0.25577236])), ('C', array([0.2277769])), ('A', array([0.58032422])), ('B', array([0.24899814])), ('A', array([0.16098799])), ('C', array([0.51294942])), ('A', array([1.19971519])), ('B', array([0.52228909])), ('A', array([0.03710367])), ('B', array([0.08730314]))]\n",
      "Affinity Entropy Production: 0.009906563952444797\n",
      "Waiting Time Distribution Entropy Production: 0.0533403951121652\n"
     ]
    }
   ],
   "source": [
    "# Define states and transition matrix\n",
    "states = [\"A\", \"B\", \"C\"]\n",
    "transition_matrix = [\n",
    "    [0.0, 0.6, 0.4],\n",
    "    [0.5, 0.0, 0.5],\n",
    "    [0.3, 0.7, 0.0],\n",
    "]\n",
    "\n",
    "np.random.seed(42)  # For reproducibility\n",
    "sampled_rates = np.random.uniform(low=0.5, high=2.0, size=6)\n",
    "\n",
    "# Parameters for the log-normal distribution\n",
    "mean = 0  # Mean of the logarithm of the rates\n",
    "sigma = 0.5  # Standard deviation of the logarithm of the rates\n",
    "\n",
    "# Sample rates from the log-normal distribution\n",
    "np.random.seed(42)  # For reproducibility\n",
    "log_sampled_rates = np.random.lognormal(mean=mean, sigma=sigma, size=6)\n",
    "\n",
    "# Define waiting time distributions\n",
    "waiting_time_distributions = {\n",
    "    (\"A\", \"B\"): CustomExponential(rate=log_sampled_rates[0]),\n",
    "    (\"A\", \"C\"): CustomExponential(rate=log_sampled_rates[1]),\n",
    "    (\"B\", \"A\"): CustomExponential(rate=log_sampled_rates[2]),\n",
    "    (\"B\", \"C\"): CustomExponential(rate=log_sampled_rates[3]),\n",
    "    (\"C\", \"A\"): CustomExponential(rate=log_sampled_rates[4]),\n",
    "    (\"C\", \"B\"): CustomExponential(rate=log_sampled_rates[5]),\n",
    "}\n",
    "\n",
    "# Create semi-Markov process and analyze it\n",
    "smp = SemiMarkovProcess(states, transition_matrix, waiting_time_distributions)\n",
    "trajectory = smp.sample_trajectory(initial_state=\"A\", max_time=10)\n",
    "S_aff, S_WTD = smp.compute_entropy_production()\n",
    "\n",
    "print(\"Trajectory:\", trajectory)\n",
    "print(\"Affinity Entropy Production:\", S_aff)\n",
    "print(\"Waiting Time Distribution Entropy Production:\", S_WTD)"
   ]
  },
  {
   "cell_type": "code",
   "execution_count": null,
   "id": "e494803f-a712-4de2-9e90-44d46d1ad4a7",
   "metadata": {},
   "outputs": [],
   "source": []
  }
 ],
 "metadata": {
  "kernelspec": {
   "display_name": "Python 3 (ipykernel)",
   "language": "python",
   "name": "python3"
  },
  "language_info": {
   "codemirror_mode": {
    "name": "ipython",
    "version": 3
   },
   "file_extension": ".py",
   "mimetype": "text/x-python",
   "name": "python",
   "nbconvert_exporter": "python",
   "pygments_lexer": "ipython3",
   "version": "3.9.19"
  }
 },
 "nbformat": 4,
 "nbformat_minor": 5
}
