{
 "cells": [
  {
   "cell_type": "code",
   "execution_count": 1,
   "id": "37fbd8df-8624-478b-840f-5edc0fb5989b",
   "metadata": {},
   "outputs": [],
   "source": [
    "import numpy as np\n",
    "import matplotlib.pyplot as plt\n",
    "from tqdm import tqdm\n",
    "from collections import Counter\n",
    "\n",
    "from general_graph_utils_main import *\n",
    "from steinberg_utils_3vertex import *"
   ]
  },
  {
   "cell_type": "markdown",
   "id": "e1711c15-31f2-4660-a85e-131418d8a065",
   "metadata": {},
   "source": [
    "Figure 4B"
   ]
  },
  {
   "cell_type": "code",
   "execution_count": 2,
   "id": "cc1e05d2-cee0-40d1-acd2-b94d2c7f378f",
   "metadata": {
    "tags": []
   },
   "outputs": [
    {
     "data": {
      "image/png": "[encoded data removed]",
      "text/plain": [
       "<Figure size 432x288 with 1 Axes>"
      ]
     },
     "metadata": {},
     "output_type": "display_data"
    }
   ],
   "source": [
    "G = nx.DiGraph()\n",
    "G.add_node(1)\n",
    "G.add_node(2)\n",
    "G.add_node(3)\n",
    "G.add_node(4)\n",
    "G.add_edge(1, 2)\n",
    "G.add_edge(2, 1)\n",
    "G.add_edge(1, 4)\n",
    "G.add_edge(4, 1)\n",
    "G.add_edge(3, 4)\n",
    "G.add_edge(4, 3)\n",
    "G.add_edge(3, 2)\n",
    "G.add_edge(2, 3)\n",
    "\n",
    "G_ud = nx.Graph()\n",
    "G_ud.add_node(1)\n",
    "G_ud.add_node(2)\n",
    "G_ud.add_node(3)\n",
    "G_ud.add_node(4)\n",
    "G_ud.add_edge(1, 2)\n",
    "G_ud.add_edge(2, 1)\n",
    "G_ud.add_edge(1, 4)\n",
    "G_ud.add_edge(4, 1)\n",
    "G_ud.add_edge(3, 4)\n",
    "G_ud.add_edge(4, 3)\n",
    "G_ud.add_edge(3, 2)\n",
    "G_ud.add_edge(2, 3)\n",
    "\n",
    "nx.draw(G, \n",
    "        pos=nx.circular_layout(G), \n",
    "        with_labels=True, \n",
    "        node_size=2000, \n",
    "        node_color = 'lightgray', \n",
    "        font_size=18, \n",
    "        font_color='black', \n",
    "        font_family='sans-serif')"
   ]
  },
  {
   "cell_type": "code",
   "execution_count": 5,
   "id": "84dcdbda-89a8-440c-b29f-2d1b219cc2f5",
   "metadata": {},
   "outputs": [
    {
     "name": "stdout",
     "output_type": "stream",
     "text": [
      "{(1, 2): 1.0, (1, 4): 1.0, (2, 1): 1.0, (2, 3): 1.0, (3, 4): 1.0, (3, 2): 1.0, (4, 1): 1.0, (4, 3): 1.0}\n",
      "Cycle 0 affinity after solve: 0.0\n",
      "(2, 3)\n"
     ]
    }
   ],
   "source": [
    "# all ones\n",
    "\n",
    "edge_list = get_edges(G)        # list of (u,v) tuples\n",
    "node_list = get_nodes(G)\n",
    "# label the graph\n",
    "label_dict,label_list = get_labels_ones(G,edge_list)\n",
    "cycles = get_cycles(G_ud)\n",
    "edgesf, edgesb, labelsf, labelsb = get_cycle_labels_edges(cycles, label_dict)\n",
    "\n",
    "print(label_dict)\n",
    "\n",
    "# which edges are shared between cycles?\n",
    "shared_edges, all_edges_f = shared_edges_cycles(cycles,\n",
    "                                            edgesf,\n",
    "                                            edgesb)\n",
    "\n",
    "# set each cycle to thermodynamic equilibrium, output affinities\n",
    "new_labelsf, edge_tracker, idx_tracker = equilibrium_params(cycles, edgesf, labelsf, labelsb, shared_edges)\n",
    "\n",
    "# update graph's data structures \n",
    "\n",
    "# Update label_dict & build label_list in edge_list order:\n",
    "new_label_dict, new_label_list = reformat_labels(edge_tracker,\n",
    "                                                 idx_tracker,\n",
    "                                                 new_labelsf,\n",
    "                                                 label_dict,\n",
    "                                                 edge_list)\n",
    "\n",
    "label_dict = new_label_dict\n",
    "label_list = new_label_list\n",
    "\n",
    "edgesf, edgesb, labelsf, labelsb = get_cycle_labels_edges(cycles, label_dict)\n",
    "L  = Laplacian_all(edge_list, label_list, node_list)\n",
    "pi = steady_state_spectrum(L)\n",
    "\n",
    "perturb_edge = edgesf[0][0]\n",
    "print(perturb_edge)\n",
    "\n",
    "#----#\n",
    "\n",
    "signal = make_observable(node_list)\n",
    "alpha, beta  = 1, 3"
   ]
  },
  {
   "cell_type": "code",
   "execution_count": 6,
   "id": "072957cb-ee12-427f-8474-27a0e270ba43",
   "metadata": {},
   "outputs": [
    {
     "name": "stderr",
     "output_type": "stream",
     "text": [
      "100%|███████████████████████████████████████████| 2000/2000 [04:26<00:00,  7.52it/s]\n"
     ]
    }
   ],
   "source": [
    "N = 2000\n",
    "all_affinities = np.zeros((N,len(cycles)))\n",
    "all_areas = np.zeros((N,1))\n",
    "\n",
    "for i in tqdm(range(0,N)):\n",
    "    \n",
    "    # 1. update the edge label value for the chosen rate in label_dict, label_list    \n",
    "    label_list = np.array([label_dict[e] for e in edge_list], dtype=float)\n",
    "    edgesf, edgesb, labelsf, labelsb = get_cycle_labels_edges(cycles, label_dict)\n",
    "    \n",
    "    # 2. update the Laplacian\n",
    "    L = Laplacian_all(edge_list,label_list,node_list)\n",
    "    \n",
    "    # 3. calculate and store the affinity\n",
    "    prodf, prodb = calculate_cycle_products(labelsf, labelsb)\n",
    "    all_affinities[i] = calculate_affinities(prodf,prodb,cycles)\n",
    "    \n",
    "    # 4. calculate and store the Steinberg signature\n",
    "    tau, _ = define_tau_range(L, max_points=500, cap_factor=10.0)\n",
    "    pi = steady_state_spectrum(L)\n",
    "    a13, a31 = asymmetric_autocorrelation(signal,L,tau,pi,alpha=1,beta=3)\n",
    "    all_areas[i] = numerical_area(a13,a31)\n",
    "    \n",
    "    # 5. perturb chosen parameter for next iteration \n",
    "    label_dict[perturb_edge] *= 1.01"
   ]
  },
  {
   "cell_type": "code",
   "execution_count": 7,
   "id": "8c4b8c48-9320-4a8e-8f0c-e96bf61461ab",
   "metadata": {},
   "outputs": [
    {
     "data": {
      "image/png": "[encoded data removed]",
      "text/plain": [
       "<Figure size 432x288 with 1 Axes>"
      ]
     },
     "metadata": {
      "needs_background": "light"
     },
     "output_type": "display_data"
    }
   ],
   "source": [
    "for i in range(len(cycles)):\n",
    "    plt.plot(np.abs(all_affinities[:,0]),all_areas,label=r'$\\mathcal{I}^{1,3}(G)$',linewidth=1, color= 'black')\n",
    "plt.xlabel(r\"$\\tilde{A}(C)$\")\n",
    "plt.ylabel(r\"$\\mathcal{I}^{1,3}(G)$\")\n",
    "plt.show()"
   ]
  },
  {
   "cell_type": "code",
   "execution_count": 8,
   "id": "743a8655-1818-471e-95ef-43a3ed7bc6f8",
   "metadata": {
    "tags": []
   },
   "outputs": [
    {
     "name": "stdout",
     "output_type": "stream",
     "text": [
      "[839]\n",
      "{(1, 2): 14.1, (1, 4): 18.69, (2, 1): 88.4, (2, 3): 1.667, (3, 4): 0.02169, (3, 2): 0.001078, (4, 1): 0.002591, (4, 3): 0.001342}\n",
      "Cycle 0 affinity after solve: 2.2204460492503128e-16\n",
      "[[(2, 3), (3, 4), (4, 1), (1, 2)]]\n",
      "(2, 3)\n"
     ]
    }
   ],
   "source": [
    "# param_set1\n",
    "\n",
    "seed = 839 #np.random.choice(np.arange(1,1000), size=1)\n",
    "print(seed)\n",
    "\n",
    "np.random.seed(seed)\n",
    "\n",
    "edge_list = get_edges(G)        # list of (u,v) tuples\n",
    "node_list = get_nodes(G)\n",
    "# label the graph\n",
    "label_dict1,label_list = get_labels(G,edge_list)\n",
    "cycles = get_cycles(G_ud)\n",
    "edgesf, edgesb, labelsf, labelsb = get_cycle_labels_edges(cycles, label_dict1)\n",
    "\n",
    "print(label_dict1)\n",
    "\n",
    "# which edges are shared between cycles?\n",
    "shared_edges, all_edges_f = shared_edges_cycles(cycles,\n",
    "                                            edgesf,\n",
    "                                            edgesb)\n",
    "\n",
    "# set each cycle to thermodynamic equilibrium, output affinities\n",
    "new_labelsf, edge_tracker, idx_tracker = equilibrium_params(cycles, edgesf, labelsf, labelsb, shared_edges)\n",
    "\n",
    "# update graph's data structures \n",
    "\n",
    "# Update label_dict & build label_list in edge_list order:\n",
    "new_label_dict, new_label_list = reformat_labels(edge_tracker,\n",
    "                                                 idx_tracker,\n",
    "                                                 new_labelsf,\n",
    "                                                 label_dict1,\n",
    "                                                 edge_list)\n",
    "\n",
    "label_dict1 = new_label_dict\n",
    "label_list = new_label_list\n",
    "\n",
    "edgesf, edgesb, labelsf, labelsb = get_cycle_labels_edges(cycles, label_dict1)\n",
    "L  = Laplacian_all(edge_list, label_list, node_list)\n",
    "pi = steady_state_spectrum(L)\n",
    "\n",
    "cycle_idx = 0\n",
    "edge_idx = 0\n",
    "\n",
    "print(edgesf)\n",
    "\n",
    "perturb_edge = edgesf[cycle_idx][edge_idx]\n",
    "\n",
    "print(perturb_edge)\n",
    "\n",
    "#----#\n",
    "\n",
    "signal = make_observable(node_list)\n",
    "alpha, beta  = 1, 3"
   ]
  },
  {
   "cell_type": "code",
   "execution_count": 9,
   "id": "f7ae0f7a-9448-4d25-ab22-a2f70a454c0a",
   "metadata": {},
   "outputs": [
    {
     "name": "stderr",
     "output_type": "stream",
     "text": [
      "100%|███████████████████████████████████████████| 1000/1000 [02:17<00:00,  7.26it/s]\n"
     ]
    }
   ],
   "source": [
    "N = 1000\n",
    "all_affinities1 = np.zeros((N,len(cycles)))\n",
    "all_areas1 = np.zeros((N,1))\n",
    "\n",
    "for i in tqdm(range(0,N)):\n",
    "    \n",
    "    # 1. update the edge label value for the chosen rate in label_dict, label_list    \n",
    "    label_list = np.array([label_dict1[e] for e in edge_list], dtype=float)\n",
    "    edgesf, edgesb, labelsf, labelsb = get_cycle_labels_edges(cycles, label_dict1)\n",
    "    \n",
    "    # 2. update the Laplacian\n",
    "    L = Laplacian_all(edge_list,label_list,node_list)\n",
    "    \n",
    "    # 3. calculate and store the affinity\n",
    "    prodf, prodb = calculate_cycle_products(labelsf, labelsb)\n",
    "    all_affinities1[i] = calculate_affinities(prodf,prodb,cycles)\n",
    "    \n",
    "    # 4. calculate and store the Steinberg signature\n",
    "    tau, _ = define_tau_range(L, max_points=500, cap_factor=10.0)\n",
    "    pi = steady_state_spectrum(L)\n",
    "    a13, a31 = asymmetric_autocorrelation(signal,L,tau,pi,alpha=1,beta=3)\n",
    "    all_areas1[i] = numerical_area(a13,a31)\n",
    "    \n",
    "    # 5. perturb chosen parameter for next iteration \n",
    "    label_dict1[perturb_edge] *= 1.01"
   ]
  },
  {
   "cell_type": "code",
   "execution_count": 10,
   "id": "e9c3cc48-c850-4ef4-bdb9-74d15faba2d1",
   "metadata": {},
   "outputs": [
    {
     "data": {
      "image/png": "[encoded data removed]",
      "text/plain": [
       "<Figure size 432x288 with 1 Axes>"
      ]
     },
     "metadata": {
      "needs_background": "light"
     },
     "output_type": "display_data"
    }
   ],
   "source": [
    "for i in range(len(cycles)):\n",
    "    plt.plot(np.abs(all_affinities1[:,0]),all_areas1,label=r'$\\mathcal{I}^{1,3}(G)$',linewidth=1, color= 'black')\n",
    "plt.xlabel(r\"$\\tilde{A}(C)$\")\n",
    "plt.ylabel(r\"$\\mathcal{I}^{1,3}(G)$\")\n",
    "plt.show()"
   ]
  },
  {
   "cell_type": "code",
   "execution_count": 11,
   "id": "4686b41a-ea59-4f9e-9697-e41059834c7d",
   "metadata": {},
   "outputs": [
    {
     "name": "stdout",
     "output_type": "stream",
     "text": [
      "700\n",
      "{(1, 2): 0.008695, (1, 4): 0.3171, (2, 1): 0.002517, (2, 3): 155.8, (3, 4): 0.06513, (3, 2): 28.02, (4, 1): 0.2901, (4, 3): 0.1177}\n",
      "Cycle 0 affinity after solve: -1.1102230246251565e-16\n",
      "[[(2, 3), (3, 4), (4, 1), (1, 2)]]\n",
      "(2, 3)\n"
     ]
    }
   ],
   "source": [
    "# param_set2\n",
    "\n",
    "seed = 700 #np.random.choice(np.arange(1,1000), size=1)\n",
    "print(seed)\n",
    "\n",
    "np.random.seed(seed)\n",
    "\n",
    "edge_list = get_edges(G)        # list of (u,v) tuples\n",
    "node_list = get_nodes(G)\n",
    "# label the graph\n",
    "label_dict2,label_list = get_labels(G,edge_list)\n",
    "cycles = get_cycles(G_ud)\n",
    "edgesf, edgesb, labelsf, labelsb = get_cycle_labels_edges(cycles, label_dict2)\n",
    "\n",
    "print(label_dict2)\n",
    "\n",
    "# which edges are shared between cycles?\n",
    "shared_edges, all_edges_f = shared_edges_cycles(cycles,\n",
    "                                            edgesf,\n",
    "                                            edgesb)\n",
    "\n",
    "# set each cycle to thermodynamic equilibrium, output affinities\n",
    "new_labelsf, edge_tracker, idx_tracker = equilibrium_params(cycles, edgesf, labelsf, labelsb, shared_edges)\n",
    "\n",
    "# update graph's data structures \n",
    "\n",
    "# Update label_dict & build label_list in edge_list order:\n",
    "new_label_dict, new_label_list = reformat_labels(edge_tracker,\n",
    "                                                 idx_tracker,\n",
    "                                                 new_labelsf,\n",
    "                                                 label_dict2,\n",
    "                                                 edge_list)\n",
    "\n",
    "label_dict2 = new_label_dict\n",
    "label_list = new_label_list\n",
    "\n",
    "edgesf, edgesb, labelsf, labelsb = get_cycle_labels_edges(cycles, label_dict2)\n",
    "L  = Laplacian_all(edge_list, label_list, node_list)\n",
    "pi = steady_state_spectrum(L)\n",
    "\n",
    "cycle_idx = 0\n",
    "edge_idx = 0\n",
    "\n",
    "print(edgesf)\n",
    "\n",
    "perturb_edge = edgesf[cycle_idx][edge_idx]\n",
    "\n",
    "print(perturb_edge)\n",
    "\n",
    "#----#\n",
    "\n",
    "signal = make_observable(node_list)\n",
    "alpha, beta  = 1, 3"
   ]
  },
  {
   "cell_type": "code",
   "execution_count": 12,
   "id": "27765e47-e8a7-4f6b-99b1-bbf2587666af",
   "metadata": {},
   "outputs": [
    {
     "name": "stderr",
     "output_type": "stream",
     "text": [
      "100%|███████████████████████████████████████████| 2000/2000 [04:32<00:00,  7.34it/s]\n"
     ]
    }
   ],
   "source": [
    "N = 2000\n",
    "all_affinities2 = np.zeros((N,len(cycles)))\n",
    "all_areas2 = np.zeros((N,1))\n",
    "\n",
    "for i in tqdm(range(0,N)):\n",
    "    \n",
    "    # 1. update the edge label value for the chosen rate in label_dict, label_list    \n",
    "    label_list = np.array([label_dict2[e] for e in edge_list], dtype=float)\n",
    "    edgesf, edgesb, labelsf, labelsb = get_cycle_labels_edges(cycles, label_dict2)\n",
    "    \n",
    "    # 2. update the Laplacian\n",
    "    L = Laplacian_all(edge_list,label_list,node_list)\n",
    "    \n",
    "    # 3. calculate and store the affinity\n",
    "    prodf, prodb = calculate_cycle_products(labelsf, labelsb)\n",
    "    all_affinities2[i] = calculate_affinities(prodf,prodb,cycles)\n",
    "    \n",
    "    # 4. calculate and store the Steinberg signature\n",
    "    tau, _ = define_tau_range(L, max_points=500, cap_factor=10.0)\n",
    "    pi = steady_state_spectrum(L)\n",
    "    a13, a31 = asymmetric_autocorrelation(signal,L,tau,pi,alpha=1,beta=3)\n",
    "    all_areas2[i] = numerical_area(a13,a31)\n",
    "    \n",
    "    # 5. perturb chosen parameter for next iteration \n",
    "    label_dict2[perturb_edge] *= 1.01"
   ]
  },
  {
   "cell_type": "code",
   "execution_count": 13,
   "id": "81a22596-d1c8-4900-83a4-e4f9e046ea2d",
   "metadata": {},
   "outputs": [
    {
     "data": {
      "image/png": "[encoded data removed]",
      "text/plain": [
       "<Figure size 432x288 with 1 Axes>"
      ]
     },
     "metadata": {
      "needs_background": "light"
     },
     "output_type": "display_data"
    }
   ],
   "source": [
    "for i in range(len(cycles)):\n",
    "    plt.plot(np.abs(all_affinities2[:,0]),all_areas2,label=r'$\\mathcal{I}^{1,3}(G)$',linewidth=1, color= 'black')\n",
    "plt.xlabel(r\"$\\tilde{A}(C)$\")\n",
    "plt.ylabel(r\"$\\mathcal{I}^{1,3}(G)$\")\n",
    "plt.show()"
   ]
  },
  {
   "cell_type": "code",
   "execution_count": 38,
   "id": "7d18bf71-2459-4195-927a-286a7f28b1d7",
   "metadata": {},
   "outputs": [
    {
     "name": "stdout",
     "output_type": "stream",
     "text": [
      "524\n",
      "{(1, 2): 5.154, (1, 4): 0.2267, (2, 1): 0.01257, (2, 3): 288.1, (3, 4): 2.321, (3, 2): 2.29, (4, 1): 0.4464, (4, 3): 15.02}\n",
      "Cycle 0 affinity after solve: 0.0\n",
      "[[(2, 3), (3, 4), (4, 1), (1, 2)]]\n",
      "(2, 3)\n"
     ]
    }
   ],
   "source": [
    "# param_set3\n",
    "\n",
    "seed = 524 \n",
    "#np.random.choice(np.arange(1,1000), size=1)\n",
    "print(seed)\n",
    "\n",
    "np.random.seed(seed)\n",
    "\n",
    "edge_list = get_edges(G)        # list of (u,v) tuples\n",
    "node_list = get_nodes(G)\n",
    "# label the graph\n",
    "label_dict3,label_list = get_labels(G,edge_list)\n",
    "cycles = get_cycles(G_ud)\n",
    "edgesf, edgesb, labelsf, labelsb = get_cycle_labels_edges(cycles, label_dict3)\n",
    "\n",
    "print(label_dict3)\n",
    "\n",
    "# which edges are shared between cycles?\n",
    "shared_edges, all_edges_f = shared_edges_cycles(cycles,\n",
    "                                            edgesf,\n",
    "                                            edgesb)\n",
    "\n",
    "# set each cycle to thermodynamic equilibrium, output affinities\n",
    "new_labelsf, edge_tracker, idx_tracker = equilibrium_params(cycles, edgesf, labelsf, labelsb, shared_edges)\n",
    "\n",
    "# update graph's data structures \n",
    "\n",
    "# Update label_dict & build label_list in edge_list order:\n",
    "new_label_dict, new_label_list = reformat_labels(edge_tracker,\n",
    "                                                 idx_tracker,\n",
    "                                                 new_labelsf,\n",
    "                                                 label_dict3,\n",
    "                                                 edge_list)\n",
    "\n",
    "label_dict3 = new_label_dict\n",
    "label_list = new_label_list\n",
    "\n",
    "edgesf, edgesb, labelsf, labelsb = get_cycle_labels_edges(cycles, label_dict3)\n",
    "L  = Laplacian_all(edge_list, label_list, node_list)\n",
    "pi = steady_state_spectrum(L)\n",
    "\n",
    "cycle_idx = 0\n",
    "edge_idx = 0\n",
    "\n",
    "print(edgesf)\n",
    "\n",
    "perturb_edge = edgesf[cycle_idx][edge_idx]\n",
    "\n",
    "print(perturb_edge)\n",
    "\n",
    "#----#\n",
    "\n",
    "signal = make_observable(node_list)\n",
    "alpha, beta  = 1, 3\n",
    "tau = np.linspace(0.01, 100, num=500)"
   ]
  },
  {
   "cell_type": "code",
   "execution_count": 39,
   "id": "34805a2a-c16b-403d-ac5d-7b16c25f005e",
   "metadata": {},
   "outputs": [
    {
     "name": "stderr",
     "output_type": "stream",
     "text": [
      "100%|███████████████████████████████████████████| 1000/1000 [02:13<00:00,  7.52it/s]\n"
     ]
    }
   ],
   "source": [
    "N = 1000\n",
    "all_affinities3 = np.zeros((N,len(cycles)))\n",
    "all_areas3 = np.zeros((N,1))\n",
    "\n",
    "for i in tqdm(range(0,N)):\n",
    "    \n",
    "    # 1. update the edge label value for the chosen rate in label_dict, label_list    \n",
    "    label_list = np.array([label_dict3[e] for e in edge_list], dtype=float)\n",
    "    edgesf, edgesb, labelsf, labelsb = get_cycle_labels_edges(cycles, label_dict3)\n",
    "    \n",
    "    # 2. update the Laplacian\n",
    "    L = Laplacian_all(edge_list,label_list,node_list)\n",
    "    \n",
    "    # 3. calculate and store the affinity\n",
    "    prodf, prodb = calculate_cycle_products(labelsf, labelsb)\n",
    "    all_affinities3[i] = calculate_affinities(prodf,prodb,cycles)\n",
    "    \n",
    "    # 4. calculate and store the Steinberg signature\n",
    "    #tau, _ = define_tau_range(L, max_points=500, cap_factor=10.0)\n",
    "    pi = steady_state_spectrum(L)\n",
    "    a13, a31 = asymmetric_autocorrelation(signal,L,tau,pi,alpha=1,beta=3)\n",
    "    all_areas3[i] = numerical_area(a13,a31)\n",
    "    \n",
    "    # 5. perturb chosen parameter for next iteration \n",
    "    label_dict3[perturb_edge] *= 1.01"
   ]
  },
  {
   "cell_type": "code",
   "execution_count": 40,
   "id": "ad2a64dd-ed24-4da6-b1cb-f01b7468617d",
   "metadata": {},
   "outputs": [
    {
     "data": {
      "image/png": "[encoded data removed]",
      "text/plain": [
       "<Figure size 432x288 with 1 Axes>"
      ]
     },
     "metadata": {
      "needs_background": "light"
     },
     "output_type": "display_data"
    }
   ],
   "source": [
    "for i in range(len(cycles)):\n",
    "    plt.plot(np.abs(all_affinities3[:,0]),all_areas3,label=r'$\\mathcal{I}^{1,3}(G)$',linewidth=1, color= 'black')\n",
    "plt.xlabel(r\"$\\tilde{A}(C)$\")\n",
    "plt.ylabel(r\"$\\mathcal{I}^{1,3}(G)$\")\n",
    "plt.show()"
   ]
  },
  {
   "cell_type": "code",
   "execution_count": null,
   "id": "6ee85f46-09cf-47d4-929f-898a24580cef",
   "metadata": {},
   "outputs": [],
   "source": []
  },
  {
   "cell_type": "code",
   "execution_count": null,
   "id": "2c3fcccd-a25d-4fc6-84c7-a0329cb01c9e",
   "metadata": {},
   "outputs": [],
   "source": [
    "fig, ax = plt.subplots(figsize = (14, 12))\n",
    "\n",
    "plt.plot(np.abs(all_affinities1[:,0]),all_areas1,linewidth=2, color = 'black', label = '1')\n",
    "plt.plot(np.abs(all_affinities_2[:,0]),all_areas_2,linewidth=2, color = 'deepskyblue', label = '2')\n",
    "plt.plot(np.abs(all_affinities_3[:,0]),all_areas_3,linewidth=2, color = 'orange', label = '3')\n",
    "\n",
    "plt.legend()\n",
    "plt.xlabel(r\"$\\tilde{A}(C)$\")\n",
    "plt.ylabel(r\"$\\mathcal{I}^{1,3}(G)$\")\n",
    "plt.show()\n",
    "fig.savefig('4Bnew.pdf', dpi = 900, bbox_inches='tight',facecolor=fig.get_facecolor(), edgecolor='none')"
   ]
  },
  {
   "cell_type": "code",
   "execution_count": null,
   "id": "b2556ea6-1352-456e-adee-46f2cee43b83",
   "metadata": {},
   "outputs": [],
   "source": [
    "num_simulations = 20\n",
    "num_perturbations = 2000\n",
    "num_params = 8\n",
    "\n",
    "mega_affinities = np.zeros((num_simulations,num_perturbations))\n",
    "mega_areas = np.zeros((num_simulations,num_perturbations))\n",
    "\n",
    "for j in range(num_simulations):\n",
    "    \n",
    "    # arrays for force/area tracking\n",
    "    affinities = np.zeros(num_perturbations)\n",
    "    areas = np.zeros(num_perturbations)\n",
    "    \n",
    "    # reset the initial equilibrium parameters\n",
    "    params = equilibrium_parameters()\n",
    "    print(params)\n",
    "    \n",
    "    # determine which parameter to perturb from its equilibrium value\n",
    "    param_choice = np.random.choice(np.arange(0,6),size=1)[0]\n",
    "    print(param_choice)\n",
    "    \n",
    "    # equilibrium conditions\n",
    "    affinities[0] = cycle_affinity_K(params)\n",
    "    L = Laplacian_K(params)\n",
    "    tau, tau_max = define_tau_range(L, max_points=500, cap_factor=10.0)\n",
    "    pi = steady_state_MTT_K(params)\n",
    "    \n",
    "    a_13, a_31 = asymmetric_autocorrelation(signal,L,tau,pi,alpha=1,beta=3)\n",
    "    areas[0] = numerical_area(a_13, a_31)\n",
    "    \n",
    "    for i in tqdm(range(1,num_perturbations)):\n",
    "        params[param_choice] = params[param_choice]*1.01\n",
    "\n",
    "        affinities[i] = cycle_affinity_K(params)\n",
    "\n",
    "        L = Laplacian_K(params)\n",
    "        tau, tau_max = define_tau_range(L, max_points=500, cap_factor=10.0)\n",
    "        pi = steady_state_MTT_K(params)\n",
    "\n",
    "        a_13, a_31 = asymmetric_autocorrelation(signal,L,tau,pi,alpha=1,beta=3)\n",
    "\n",
    "        areas[i] = numerical_area(a_13,a_31)\n",
    "    \n",
    "    mega_affinities[j,] = affinities\n",
    "    mega_areas[j,] = areas"
   ]
  }
 ],
 "metadata": {
  "kernelspec": {
   "display_name": "Python 3 (ipykernel)",
   "language": "python",
   "name": "python3"
  },
  "language_info": {
   "codemirror_mode": {
    "name": "ipython",
    "version": 3
   },
   "file_extension": ".py",
   "mimetype": "text/x-python",
   "name": "python",
   "nbconvert_exporter": "python",
   "pygments_lexer": "ipython3",
   "version": "3.9.19"
  }
 },
 "nbformat": 4,
 "nbformat_minor": 5
}
