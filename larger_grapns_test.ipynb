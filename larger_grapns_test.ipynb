{
 "cells": [
  {
   "cell_type": "markdown",
   "id": "d338c4cc-2b19-4938-b043-5a1e52b6d1ff",
   "metadata": {},
   "source": [
    "# Numerical analysis of the Steinberg signature on more complex linear framework graphs. \n",
    "\n",
    "# Haque, Çetiner, Gunawardea 2024. _Anomalous behavior of the Steinberg signature for detecting departure from thermodynamic equilibrium._"
   ]
  },
  {
   "cell_type": "markdown",
   "id": "8875debf-2136-4194-845e-5096ba4136e7",
   "metadata": {
    "tags": []
   },
   "source": [
    "Here, we demonstrate how to use the `general-graphs` library developed for quantitative analysis of the Steinberg signature on any strongly connected, fully reversible linear framework graph. In the development of this software, the NetworkX library for Python 3 was used. For more information on NetworkX, see https://networkx.org/documentation/stable/index.html\n",
    "\n",
    "In this notebook, we will do the following. \n",
    "\n",
    "1. Create a random linear framework graph $G$ that is **strongly connected** and **fully reversible**.\n",
    "2. Find a parameterization for $G$ such that $G$ exists in an equilibrium steady state \n",
    "3. Calculate the Steinberg signature $\\mathcal{I}^{\\alpha,\\beta}(G)$\n",
    "4. Drive the system represented by $G$ away from equilibrium by progressively modifying a single parameter\n",
    "5. Plot the Steinberg signature $\\mathcal{I}^{\\alpha,\\beta}(G)$ against the cycle affinity $\\tilde{A}(C)$ of the driven cycle"
   ]
  },
  {
   "cell_type": "code",
   "execution_count": 1,
   "id": "912bf042-3a38-4e5b-8cd2-fdf9cfad8617",
   "metadata": {},
   "outputs": [],
   "source": [
    "import numpy as np\n",
    "import matplotlib.pyplot as plt\n",
    "from tqdm import tqdm\n",
    "\n",
    "from general_graph_utils_main import *"
   ]
  },
  {
   "cell_type": "markdown",
   "id": "d9cf77ee-d8ff-4671-ba88-0d4e510875b8",
   "metadata": {},
   "source": [
    "# Plot features"
   ]
  },
  {
   "cell_type": "code",
   "execution_count": 2,
   "id": "31bc7bb7-ba40-4291-a70d-4bd08f7e18e1",
   "metadata": {},
   "outputs": [],
   "source": [
    "# plot formatting\n",
    "plt.rc(\"text\", usetex=False) # renders LaTeX more quickly\n",
    "plt.rc(\"font\", family = \"serif\",size=14) # font specifications\n",
    "plt.rc(\"figure\",figsize=(14,12)) # figure size\n",
    "%config InlineBackend.figure_format = 'retina' # retina-display quality"
   ]
  },
  {
   "cell_type": "code",
   "execution_count": null,
   "id": "2420d76e-a783-44e5-958d-b54617c8cc04",
   "metadata": {},
   "outputs": [],
   "source": []
  }
 ],
 "metadata": {
  "kernelspec": {
   "display_name": "Python 3 (ipykernel)",
   "language": "python",
   "name": "python3"
  },
  "language_info": {
   "codemirror_mode": {
    "name": "ipython",
    "version": 3
   },
   "file_extension": ".py",
   "mimetype": "text/x-python",
   "name": "python",
   "nbconvert_exporter": "python",
   "pygments_lexer": "ipython3",
   "version": "3.9.19"
  }
 },
 "nbformat": 4,
 "nbformat_minor": 5
}
