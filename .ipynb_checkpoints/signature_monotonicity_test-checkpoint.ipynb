{
 "cells": [
  {
   "cell_type": "code",
   "execution_count": 1,
   "id": "15c6dce9-03a0-415a-9b9a-e440177467b4",
   "metadata": {},
   "outputs": [],
   "source": [
    "# numpy == 1.21.5\n",
    "import numpy as np\n",
    "# scipy == 1.7.3\n",
    "import scipy.linalg\n",
    "# to make nice plots\n",
    "import matplotlib.pyplot as plt\n",
    "# optional -- to track how long a simulation will take\n",
    "from tqdm import tqdm\n",
    "\n",
    "from steinberg_utils_3vertex import *"
   ]
  },
  {
   "cell_type": "markdown",
   "id": "e2fba1bf-a7d5-4e66-811e-0df72c330780",
   "metadata": {},
   "source": [
    "# Plot features"
   ]
  },
  {
   "cell_type": "code",
   "execution_count": 2,
   "id": "9a5fd1bc-8c38-42b4-9165-54bef63bf7d8",
   "metadata": {},
   "outputs": [],
   "source": [
    "# plot formatting\n",
    "plt.rc(\"text\", usetex=False) # renders LaTeX more quickly\n",
    "plt.rc(\"font\", family = \"serif\",size=14) # font specifications\n",
    "plt.rc(\"figure\",figsize=(14,12)) # figure size\n",
    "%config InlineBackend.figure_format = 'retina' # retina-display quality"
   ]
  },
  {
   "cell_type": "markdown",
   "id": "434f4425-d3aa-4909-826a-84f8cf813ab2",
   "metadata": {
    "tags": []
   },
   "source": [
    "# Sampling parameters for the 3-vertex graph $K$"
   ]
  },
  {
   "cell_type": "markdown",
   "id": "4b5981b7-64ab-4315-94df-805360eb55af",
   "metadata": {},
   "source": [
    "Parameters are defined as $10^x$, where $x$ is uniformly sampled from $(-3, 3)$. The user can specify the endpoints of this range to sample parameter space more broadly, but $-3$ and $3$ are set as the default parameters."
   ]
  },
  {
   "cell_type": "code",
   "execution_count": 3,
   "id": "9f71ff0c-cbcd-40ba-ad5b-277f085670b6",
   "metadata": {},
   "outputs": [],
   "source": [
    "params = random_parameters()"
   ]
  },
  {
   "cell_type": "code",
   "execution_count": 4,
   "id": "d8810cb4-5797-4cc2-a942-dea29034db84",
   "metadata": {},
   "outputs": [
    {
     "name": "stdout",
     "output_type": "stream",
     "text": [
      "[9.80912219e+00 6.16626161e+01 9.89162054e+00 2.06296464e-03\n",
      " 1.04093024e+00 7.38395308e-03]\n"
     ]
    }
   ],
   "source": [
    "print(params)"
   ]
  },
  {
   "cell_type": "markdown",
   "id": "26d87dec-39a1-4615-aa8b-7948e941bec5",
   "metadata": {},
   "source": [
    "The parameters can be determined such that they satisfy the cycle condition on $K$, initializing the graph in an equlibrium steady state."
   ]
  },
  {
   "cell_type": "code",
   "execution_count": 5,
   "id": "7926fb48-f09e-48c9-896d-181bb3112b68",
   "metadata": {},
   "outputs": [],
   "source": [
    "params = equilibrium_parameters()"
   ]
  },
  {
   "cell_type": "code",
   "execution_count": 6,
   "id": "3a160dd6-b3e5-45dd-9224-b795837de519",
   "metadata": {},
   "outputs": [
    {
     "name": "stdout",
     "output_type": "stream",
     "text": [
      "[3.08847629e-03 1.27976285e+02 1.64439412e-03 2.15453778e-03\n",
      " 4.67619706e+01 2.53878680e+06]\n"
     ]
    }
   ],
   "source": [
    "print(params)"
   ]
  },
  {
   "cell_type": "markdown",
   "id": "fe37faa6-8569-4ef6-87cf-740dccd1574a",
   "metadata": {},
   "source": [
    "To generate the figure in the paper, we will manually assign values for the edge labels of the 3-vertex graph. The parameters for the 3-vertex graph are listed in the following order: $[a, b, d, c, f, e]$"
   ]
  },
  {
   "cell_type": "code",
   "execution_count": 7,
   "id": "308cd923-1cb7-4cf6-810f-80f0e94b2307",
   "metadata": {},
   "outputs": [],
   "source": [
    "#params = [0.08833331, 0.44953403, 0.58597936, 0.02356496, 0.00747019, 0.75898155]"
   ]
  },
  {
   "cell_type": "markdown",
   "id": "f03f2ae1-2c0b-4c20-b62b-91dba7785810",
   "metadata": {},
   "source": [
    "Next, we compute the Laplacian matrix $\\mathcal{L}(K)$ for this specific parameterzation of $K$, and the steady state distribution $\\pi(K)$ as computed through the Matrix-Tree Theorem."
   ]
  },
  {
   "cell_type": "code",
   "execution_count": 8,
   "id": "cd4f6f9a-33e2-4b1d-942a-c1be74f1830a",
   "metadata": {},
   "outputs": [
    {
     "name": "stdout",
     "output_type": "stream",
     "text": [
      "[[-4.67650591e+01  1.27976285e+02  2.53878680e+06]\n",
      " [ 3.08847629e-03 -1.27977930e+02  2.15453778e-03]\n",
      " [ 4.67619706e+01  1.64439412e-03 -2.53878680e+06]]\n"
     ]
    }
   ],
   "source": [
    "L = Laplacian_K(params)\n",
    "print(L)"
   ]
  },
  {
   "cell_type": "code",
   "execution_count": 9,
   "id": "ef2c6900-6f93-4bb6-b2fe-778a3e5a817b",
   "metadata": {},
   "outputs": [
    {
     "name": "stdout",
     "output_type": "stream",
     "text": [
      "[9.99957450e-01 2.41321653e-05 1.84182385e-05]\n"
     ]
    }
   ],
   "source": [
    "pi = steady_state_MTT_K(params)\n",
    "print(pi)"
   ]
  },
  {
   "cell_type": "markdown",
   "id": "72be5659-1bf1-4492-8541-91cd6b45883c",
   "metadata": {},
   "source": [
    "We can also calculate the cycle affinity $\\tilde{A}(C)$ for $K$. The cycle affinity  quantifies the departure from equilibrium that arises from the cycle $C$. We take the absolute value of the cycle affinity in our calculation."
   ]
  },
  {
   "cell_type": "code",
   "execution_count": 10,
   "id": "4d5ba63d-b1fd-4203-94fd-887ffeaafe77",
   "metadata": {},
   "outputs": [
    {
     "data": {
      "text/plain": [
       "0.0"
      ]
     },
     "execution_count": 10,
     "metadata": {},
     "output_type": "execute_result"
    }
   ],
   "source": [
    "cycle_affinity_K(params)"
   ]
  },
  {
   "cell_type": "markdown",
   "id": "150e174e-4e07-4bd5-97ab-3695f7464f03",
   "metadata": {},
   "source": [
    "# Testing response of a different signature to increasing thermodynamic force\n",
    "\n"
   ]
  },
  {
   "cell_type": "code",
   "execution_count": null,
   "id": "e7c4e4b6-d22a-44c8-86d1-7de852283b79",
   "metadata": {},
   "outputs": [],
   "source": []
  },
  {
   "cell_type": "code",
   "execution_count": null,
   "id": "8e4127bb-2146-485d-8e08-373f013ef6e3",
   "metadata": {},
   "outputs": [],
   "source": []
  }
 ],
 "metadata": {
  "kernelspec": {
   "display_name": "Python 3 (ipykernel)",
   "language": "python",
   "name": "python3"
  },
  "language_info": {
   "codemirror_mode": {
    "name": "ipython",
    "version": 3
   },
   "file_extension": ".py",
   "mimetype": "text/x-python",
   "name": "python",
   "nbconvert_exporter": "python",
   "pygments_lexer": "ipython3",
   "version": "3.9.19"
  }
 },
 "nbformat": 4,
 "nbformat_minor": 5
}
