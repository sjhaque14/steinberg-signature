{
 "cells": [
  {
   "cell_type": "code",
   "execution_count": 53,
   "id": "83d81888-6e89-4bad-b861-cdc504ddbb5c",
   "metadata": {},
   "outputs": [],
   "source": [
    "# numpy == 1.21.5\n",
    "import numpy as np\n",
    "# scipy == 1.7.3\n",
    "import scipy.linalg\n",
    "# to make nice plots\n",
    "import matplotlib.pyplot as plt\n",
    "# optional -- to track how long a simulation will take\n",
    "from tqdm import tqdm\n",
    "# scipy functions to compute the KLD signature\n",
    "from scipy.integrate import quad\n",
    "from scipy.stats import rv_continuous\n",
    "\n",
    "from steinberg_utils_3vertex import *"
   ]
  },
  {
   "cell_type": "markdown",
   "id": "67200b8c-8e45-46f3-b4fc-e709d855c675",
   "metadata": {},
   "source": [
    "# Plot features"
   ]
  },
  {
   "cell_type": "code",
   "execution_count": 2,
   "id": "c187a432-030d-40fd-81bc-9bd20813fe98",
   "metadata": {},
   "outputs": [],
   "source": [
    "# plot formatting\n",
    "plt.rc(\"text\", usetex=False) # renders LaTeX more quickly\n",
    "plt.rc(\"font\", family = \"serif\",size=14) # font specifications\n",
    "plt.rc(\"figure\",figsize=(14,12)) # figure size\n",
    "%config InlineBackend.figure_format = 'retina' # retina-display quality"
   ]
  },
  {
   "cell_type": "markdown",
   "id": "2f425891-76e2-4b93-a160-eb5acfc3832a",
   "metadata": {},
   "source": [
    "Parameters are defined as $10^x$, where $x$ is uniformly sampled from $(-3, 3)$. The user can specify the endpoints of this range to sample parameter space more broadly, but $-3$ and $3$ are set as the default parameters."
   ]
  },
  {
   "cell_type": "code",
   "execution_count": 3,
   "id": "69f8e36e-58f7-41f6-aa26-f7a4a3a5a227",
   "metadata": {},
   "outputs": [],
   "source": [
    "params = random_parameters()"
   ]
  },
  {
   "cell_type": "code",
   "execution_count": 4,
   "id": "dba5d663-8b2c-4b5e-a1c8-b7fcd80197d1",
   "metadata": {},
   "outputs": [
    {
     "name": "stdout",
     "output_type": "stream",
     "text": [
      "[4.01550670e+02 6.34800653e+01 3.00520038e+02 2.44265497e+02\n",
      " 1.21047019e+01 6.02777829e-03]\n"
     ]
    }
   ],
   "source": [
    "print(params)"
   ]
  },
  {
   "cell_type": "markdown",
   "id": "b0bd63aa-8965-40e4-abe4-6b134cae31a8",
   "metadata": {},
   "source": [
    "The parameters can be determined such that they satisfy the cycle condition on $K$, initializing the graph in an equlibrium steady state."
   ]
  },
  {
   "cell_type": "code",
   "execution_count": 5,
   "id": "e85a1450-7b2d-4cb5-a08d-506f5e3e36d8",
   "metadata": {},
   "outputs": [],
   "source": [
    "params = equilibrium_parameters()"
   ]
  },
  {
   "cell_type": "code",
   "execution_count": 6,
   "id": "360dd79b-41a7-4073-aaa0-0652677a8fa6",
   "metadata": {},
   "outputs": [
    {
     "name": "stdout",
     "output_type": "stream",
     "text": [
      "[9.70944540e+02 7.13723498e-03 6.78107403e-01 2.70267544e+00\n",
      " 2.72353307e+02 7.97927869e-03]\n"
     ]
    }
   ],
   "source": [
    "print(params)"
   ]
  },
  {
   "cell_type": "markdown",
   "id": "9d4d162a-a0e0-4006-be3f-48802eb76fe0",
   "metadata": {},
   "source": [
    "To generate the figure in the paper, we will manually assign values for the edge labels of the 3-vertex graph. The parameters for the 3-vertex graph are listed in the following order: $[a, b, d, c, f, e]$"
   ]
  },
  {
   "cell_type": "code",
   "execution_count": 7,
   "id": "62d9ffb5-7496-457f-91b6-4262ba2de52f",
   "metadata": {},
   "outputs": [],
   "source": [
    "#params = [0.08833331, 0.44953403, 0.58597936, 0.02356496, 0.00747019, 0.75898155]"
   ]
  },
  {
   "cell_type": "markdown",
   "id": "cf832862-c8dd-4690-b4ec-35de842c2f64",
   "metadata": {},
   "source": [
    "Next, we compute the Laplacian matrix $\\mathcal{L}(K)$ for this specific parameterzation of $K$, and the steady state distribution $\\pi(K)$ as computed through the Matrix-Tree Theorem."
   ]
  },
  {
   "cell_type": "code",
   "execution_count": 8,
   "id": "894ca713-45b7-4451-9257-48ca6e21252f",
   "metadata": {},
   "outputs": [
    {
     "name": "stdout",
     "output_type": "stream",
     "text": [
      "[[-1.24329785e+03  7.13723498e-03  7.97927869e-03]\n",
      " [ 9.70944540e+02 -6.85244638e-01  2.70267544e+00]\n",
      " [ 2.72353307e+02  6.78107403e-01 -2.71065472e+00]]\n"
     ]
    }
   ],
   "source": [
    "L = Laplacian_K(params)\n",
    "print(L)"
   ]
  },
  {
   "cell_type": "code",
   "execution_count": 9,
   "id": "01e4ae69-c5fb-4e0c-b977-fb61cb297a5d",
   "metadata": {},
   "outputs": [
    {
     "name": "stdout",
     "output_type": "stream",
     "text": [
      "[5.87637684e-06 7.99418266e-01 2.00575858e-01]\n"
     ]
    }
   ],
   "source": [
    "pi = steady_state_MTT_K(params)\n",
    "print(pi)"
   ]
  },
  {
   "cell_type": "markdown",
   "id": "8c4bba30-b504-41c8-8254-531f6894096b",
   "metadata": {},
   "source": [
    "We can also calculate the cycle affinity $\\tilde{A}(C)$ for $K$. The cycle affinity  quantifies the departure from equilibrium that arises from the cycle $C$. We take the absolute value of the cycle affinity in our calculation."
   ]
  },
  {
   "cell_type": "code",
   "execution_count": 10,
   "id": "d49bc406-66f5-4ffd-bb7f-027cba0dc0e7",
   "metadata": {},
   "outputs": [
    {
     "data": {
      "text/plain": [
       "1.0842021724855044341e-19"
      ]
     },
     "execution_count": 10,
     "metadata": {},
     "output_type": "execute_result"
    }
   ],
   "source": [
    "cycle_affinity_K(params)"
   ]
  },
  {
   "cell_type": "markdown",
   "id": "f6a924d3-8abb-4baa-9f8a-f4452154e3bc",
   "metadata": {
    "tags": []
   },
   "source": [
    "# Testing response of a KLD signature to increasing thermodynamic force\n",
    "\n",
    "Another class of signatures uses the KL-divergence to detect irreversibility. Here, we are going to test whether or not the KL-divergence between the probability of observing a stochastic trajectory and its time-reversed trajectory varies monotonically with increasing thermodynamic force. We will use the mathematical conventions laid out in Martínez et al. 2019.\n",
    "\n",
    "The entropy production rate $\\dot{S}$ can be estimated by the KL-divergence between the probability of observing a stochastic trajectory $\\gamma_t$ of length $t$ and the probability to observe the time-reversed trajectory $\\tilde{\\gamma_t}$.\n",
    "\n",
    "$$ \\dot{S} \\geq \\dot{S}_{KLD} \\equiv \\lim_{t \\to \\infty} \\frac{k_B}{t} \\mathcal{D} [ P(\\gamma_t) || P(\\tilde{\\gamma_t}) ], $$\n",
    "\n",
    "where $\\mathcal{D}[ p || q ] \\equiv \\sum_x p(x) \\ln{p(x)/q(x)}$ is the KL-divergence between probability distributions $p$ and $q$. We assume that $k_B = 1$.\n",
    "\n",
    "In Martínez et al 2019, the authors claim that $\\dot{S}_{KLD}$ can be expressed as the sum of two entropy productions.\n",
    "\n",
    "$$\\dot{S}_{KLD} = \\dot{S}_{aff} + \\dot{S}_{WTD}$$\n",
    "\n",
    "where\n",
    "\n",
    "$$ \\dot{S}_{aff} = \\frac{1}{\\mathcal{T}} \\sum_{\\alpha \\beta} p_{\\beta \\alpha} R_\\alpha \\ln{p_{\\beta \\alpha}/p_{\\alpha \\beta}} $$\n",
    "\n",
    "and\n",
    "\n",
    "$$\\dot{S}_{WTD} = \\frac{1}{\\mathcal{T}} \\sum_{\\alpha \\beta \\mu} p_{\\mu \\beta} p_{\\beta \\alpha} R_\\alpha \\mathcal{D} [\\Psi(t | \\beta \\to \\mu ) || \\Psi (t | \\beta \\to \\alpha)]$$"
   ]
  },
  {
   "cell_type": "code",
   "execution_count": 19,
   "id": "8edd7e2e-1a3e-4439-bd38-11143245c892",
   "metadata": {},
   "outputs": [
    {
     "name": "stdout",
     "output_type": "stream",
     "text": [
      "Irreversibility Signature from Waiting Time Distributions: 0.039863895456331976\n"
     ]
    }
   ],
   "source": [
    "# Define a custom waiting time distribution (Exponential)\n",
    "class CustomExponential(rv_continuous):\n",
    "    \"\"\"Custom exponential waiting time distribution.\"\"\"\n",
    "    def __init__(self, rate):\n",
    "        super().__init__()\n",
    "        self.rate = rate\n",
    "\n",
    "    def _pdf(self, x):\n",
    "        return self.rate * np.exp(-self.rate * x) if x >= 0 else 0\n",
    "\n",
    "    def rvs(self, size=1):\n",
    "        return np.random.exponential(1 / self.rate, size=size)\n",
    "\n",
    "# Define the stationary distribution from a transition matrix\n",
    "def compute_stationary_distribution(transition_matrix):\n",
    "    \"\"\"Compute the stationary distribution of a Markov chain.\"\"\"\n",
    "    eigvals, eigvecs = np.linalg.eig(transition_matrix.T)\n",
    "    stationary = eigvecs[:, np.isclose(eigvals, 1)]\n",
    "    stationary = stationary / stationary.sum()\n",
    "    return stationary.real.flatten()\n",
    "\n",
    "# Define the KL divergence between two waiting time distributions\n",
    "def kullback_leibler_divergence(dist1, dist2):\n",
    "    \"\"\"Compute the Kullback-Leibler divergence between two distributions.\"\"\"\n",
    "    def integrand(x):\n",
    "        p = dist1.pdf(x)\n",
    "        q = dist2.pdf(x)\n",
    "        return p * np.log(p / q) if p > 0 and q > 0 else 0\n",
    "    \n",
    "    return quad(integrand, 0, np.inf)[0]\n",
    "\n",
    "# Compute the irreversibility signature from waiting time distributions\n",
    "def compute_irreversibility(states, transition_matrix, waiting_time_distributions):\n",
    "    \"\"\"Compute the irreversibility measure from waiting time distributions.\"\"\"\n",
    "    stationary_distribution = compute_stationary_distribution(transition_matrix)\n",
    "    S_WTD = 0\n",
    "\n",
    "    for i, state_i in enumerate(states):\n",
    "        for j, state_j in enumerate(states):\n",
    "            if i != j and transition_matrix[i, j] > 0 and transition_matrix[j, i] > 0:\n",
    "                P_ij = transition_matrix[i, j] * stationary_distribution[i]\n",
    "                waiting_time_ij = waiting_time_distributions.get((state_i, state_j))\n",
    "                waiting_time_ji = waiting_time_distributions.get((state_j, state_i))\n",
    "                \n",
    "                if waiting_time_ij and waiting_time_ji:\n",
    "                    S_WTD += P_ij * kullback_leibler_divergence(waiting_time_ij, waiting_time_ji)\n",
    "    \n",
    "    return S_WTD"
   ]
  },
  {
   "cell_type": "code",
   "execution_count": 29,
   "id": "e75e2f9a-52f6-4aa0-ab55-b38939e7a917",
   "metadata": {},
   "outputs": [
    {
     "name": "stdout",
     "output_type": "stream",
     "text": [
      "Irreversibility Signature from Waiting Time Distributions: 0.039863895456331976\n"
     ]
    }
   ],
   "source": [
    "# Example Usage\n",
    "states = [\"A\", \"B\", \"C\"]\n",
    "transition_matrix = np.array([\n",
    "    [0.0, 0.6, 0.4],\n",
    "    [0.5, 0.0, 0.5],\n",
    "    [0.3, 0.7, 0.0],\n",
    "])\n",
    "\n",
    "# Sample rates from a log-normal distribution\n",
    "np.random.seed(42)\n",
    "sampled_rates = np.random.lognormal(mean=0, sigma=0.5, size=6)\n",
    "\n",
    "# Define waiting time distributions\n",
    "waiting_time_distributions = {\n",
    "    (\"A\", \"B\"): CustomExponential(rate=sampled_rates[0]),\n",
    "    (\"B\", \"A\"): CustomExponential(rate=sampled_rates[1]),\n",
    "    (\"A\", \"C\"): CustomExponential(rate=sampled_rates[2]),\n",
    "    (\"C\", \"A\"): CustomExponential(rate=sampled_rates[3]),\n",
    "    (\"B\", \"C\"): CustomExponential(rate=sampled_rates[4]),\n",
    "    (\"C\", \"B\"): CustomExponential(rate=sampled_rates[5]),\n",
    "}\n",
    "\n",
    "# Compute irreversibility measure\n",
    "S_WTD = compute_irreversibility(states, transition_matrix, waiting_time_distributions)\n",
    "print(\"Irreversibility Signature from Waiting Time Distributions:\", S_WTD)"
   ]
  },
  {
   "cell_type": "markdown",
   "id": "02eb780d-e44f-41c7-9cb1-393b9746b727",
   "metadata": {
    "tags": []
   },
   "source": [
    "# Sampling parameters for the 3-vertex graph $K$"
   ]
  },
  {
   "cell_type": "markdown",
   "id": "7ecc489e-4c76-4523-a848-df7fbb86d4cd",
   "metadata": {},
   "source": [
    "Parameters are defined as $10^x$, where $x$ is uniformly sampled from $(-3, 3)$. The user can specify the endpoints of this range to sample parameter space more broadly, but $-3$ and $3$ are set as the default parameters."
   ]
  },
  {
   "cell_type": "code",
   "execution_count": 20,
   "id": "71d01571-d096-4e62-b4aa-938c51815df1",
   "metadata": {},
   "outputs": [],
   "source": [
    "params = random_parameters()"
   ]
  },
  {
   "cell_type": "code",
   "execution_count": 21,
   "id": "219b4743-64e5-4777-9b7b-648d3094285d",
   "metadata": {},
   "outputs": [
    {
     "name": "stdout",
     "output_type": "stream",
     "text": [
      "[2.23101080e-03 1.57418900e+02 4.04287274e+00 1.77188474e+01\n",
      " 1.32894487e-03 6.59871107e+02]\n"
     ]
    }
   ],
   "source": [
    "print(params)"
   ]
  },
  {
   "cell_type": "markdown",
   "id": "96e6e1bc-41f5-44d0-8bdc-1b4b071a052a",
   "metadata": {},
   "source": [
    "The parameters can be determined such that they satisfy the cycle condition on $K$, initializing the graph in an equlibrium steady state."
   ]
  },
  {
   "cell_type": "code",
   "execution_count": 38,
   "id": "663eb5dd-bc53-4a24-8ac8-92db64e906dc",
   "metadata": {},
   "outputs": [
    {
     "data": {
      "text/plain": [
       "dtype('float128')"
      ]
     },
     "execution_count": 38,
     "metadata": {},
     "output_type": "execute_result"
    }
   ],
   "source": [
    "params = equilibrium_parameters()\n",
    "params.dtype"
   ]
  },
  {
   "cell_type": "code",
   "execution_count": 39,
   "id": "99601495-6cfb-480d-8512-8a216101693d",
   "metadata": {},
   "outputs": [
    {
     "name": "stdout",
     "output_type": "stream",
     "text": [
      "[6.59871107e+02 9.87770029e+01 1.87946682e-02 1.23296232e-02\n",
      " 1.26016397e-02 1.23748211e-03]\n"
     ]
    }
   ],
   "source": [
    "print(params)"
   ]
  },
  {
   "cell_type": "markdown",
   "id": "ca138b07-d48d-49c3-aa92-6d80a72f2739",
   "metadata": {},
   "source": [
    "To generate the figure in the paper, we will manually assign values for the edge labels of the 3-vertex graph. The parameters for the 3-vertex graph are listed in the following order: $[a, b, d, c, f, e] = [\\ell(1\\to 2), \\ell(2\\to 1), \\ell(2\\to 3), \\ell(3\\to 2), \\ell(1\\to 3), \\ell(3\\to 1)] = [\\ell(A\\to B), \\ell(B\\to A), \\ell(B\\to C), \\ell(C\\to B), \\ell(A\\to C), \\ell(C\\to A)]$"
   ]
  },
  {
   "cell_type": "code",
   "execution_count": 40,
   "id": "d68a15f8-1726-4a0a-9c1b-36b618fb25e6",
   "metadata": {},
   "outputs": [],
   "source": [
    "#params = [0.08833331, 0.44953403, 0.58597936, 0.02356496, 0.00747019, 0.75898155]"
   ]
  },
  {
   "cell_type": "markdown",
   "id": "dafd8740-14ae-4bdd-8a74-ddc5ef2371f0",
   "metadata": {},
   "source": [
    "Next, we compute the Laplacian matrix $\\mathcal{L}(K)$ for this specific parameterzation of $K$, and the steady state distribution $\\pi(K)$ as computed through the Matrix-Tree Theorem."
   ]
  },
  {
   "cell_type": "code",
   "execution_count": 47,
   "id": "8bb24480-73cd-4914-b6bb-15171c6c00fe",
   "metadata": {},
   "outputs": [
    {
     "name": "stdout",
     "output_type": "stream",
     "text": [
      "[[-6.59883709e+02  9.87770029e+01  1.23748211e-03]\n",
      " [ 6.59871107e+02 -9.87957976e+01  1.23296232e-02]\n",
      " [ 1.26016397e-02  1.87946682e-02 -1.35671053e-02]]\n"
     ]
    },
    {
     "data": {
      "text/plain": [
       "dtype('float128')"
      ]
     },
     "execution_count": 47,
     "metadata": {},
     "output_type": "execute_result"
    }
   ],
   "source": [
    "L = Laplacian_K(params)\n",
    "print(L)"
   ]
  },
  {
   "cell_type": "code",
   "execution_count": 42,
   "id": "7537bc00-ac8f-4cab-b1e2-5c4d2a6e1ab2",
   "metadata": {},
   "outputs": [
    {
     "name": "stdout",
     "output_type": "stream",
     "text": [
      "[0.05597944 0.37396571 0.57005485]\n"
     ]
    }
   ],
   "source": [
    "pi = steady_state_MTT_K(params)\n",
    "print(pi)"
   ]
  },
  {
   "cell_type": "markdown",
   "id": "5c899087-625a-49b5-b29d-080c6caad23b",
   "metadata": {},
   "source": [
    "We can also calculate the cycle affinity $\\tilde{A}(C)$ for $K$. The cycle affinity  quantifies the departure from equilibrium that arises from the cycle $C$. We take the absolute value of the cycle affinity in our calculation."
   ]
  },
  {
   "cell_type": "code",
   "execution_count": 43,
   "id": "5b86a074-1566-44ba-add3-63dc5dbdd5d4",
   "metadata": {},
   "outputs": [
    {
     "data": {
      "text/plain": [
       "0.0"
      ]
     },
     "execution_count": 43,
     "metadata": {},
     "output_type": "execute_result"
    }
   ],
   "source": [
    "cycle_affinity_K(params)"
   ]
  },
  {
   "cell_type": "code",
   "execution_count": 44,
   "id": "9c254c64-92d7-45ea-9ad6-2cc058f81411",
   "metadata": {},
   "outputs": [
    {
     "data": {
      "text/plain": [
       "dtype('float128')"
      ]
     },
     "execution_count": 44,
     "metadata": {},
     "output_type": "execute_result"
    }
   ],
   "source": [
    "params.dtype"
   ]
  },
  {
   "cell_type": "code",
   "execution_count": 52,
   "id": "528615a0-413e-4f49-b142-11d6709033b4",
   "metadata": {},
   "outputs": [
    {
     "name": "stdout",
     "output_type": "stream",
     "text": [
      "float64\n",
      "[[-6.59883709e+02  9.87770029e+01  1.23748211e-03]\n",
      " [ 6.59871107e+02 -9.87957976e+01  1.23296232e-02]\n",
      " [ 1.26016397e-02  1.87946682e-02 -1.35671053e-02]]\n"
     ]
    },
    {
     "ename": "IndexError",
     "evalue": "index 0 is out of bounds for axis 0 with size 0",
     "output_type": "error",
     "traceback": [
      "\u001b[0;31m---------------------------------------------------------------------------\u001b[0m",
      "\u001b[0;31mIndexError\u001b[0m                                Traceback (most recent call last)",
      "\u001b[0;32m/var/folders/ch/f1rl6h5x4fx2wbg2_f5bj5dw0000gn/T/ipykernel_14232/133716866.py\u001b[0m in \u001b[0;36m<module>\u001b[0;34m\u001b[0m\n\u001b[1;32m     19\u001b[0m }\n\u001b[1;32m     20\u001b[0m \u001b[0;34m\u001b[0m\u001b[0m\n\u001b[0;32m---> 21\u001b[0;31m \u001b[0mS_WTD\u001b[0m \u001b[0;34m=\u001b[0m \u001b[0mcompute_irreversibility\u001b[0m\u001b[0;34m(\u001b[0m\u001b[0mstates\u001b[0m\u001b[0;34m,\u001b[0m \u001b[0mnew_L\u001b[0m\u001b[0;34m,\u001b[0m \u001b[0mwaiting_time_distributions\u001b[0m\u001b[0;34m)\u001b[0m\u001b[0;34m\u001b[0m\u001b[0;34m\u001b[0m\u001b[0m\n\u001b[0m\u001b[1;32m     22\u001b[0m \u001b[0mprint\u001b[0m\u001b[0;34m(\u001b[0m\u001b[0;34m\"Irreversibility Signature from Waiting Time Distributions:\"\u001b[0m\u001b[0;34m,\u001b[0m \u001b[0mS_WTD\u001b[0m\u001b[0;34m)\u001b[0m\u001b[0;34m\u001b[0m\u001b[0;34m\u001b[0m\u001b[0m\n",
      "\u001b[0;32m/var/folders/ch/f1rl6h5x4fx2wbg2_f5bj5dw0000gn/T/ipykernel_14232/1377971591.py\u001b[0m in \u001b[0;36mcompute_irreversibility\u001b[0;34m(states, transition_matrix, waiting_time_distributions)\u001b[0m\n\u001b[1;32m     22\u001b[0m         \u001b[0;32mfor\u001b[0m \u001b[0mj\u001b[0m\u001b[0;34m,\u001b[0m \u001b[0mstate_j\u001b[0m \u001b[0;32min\u001b[0m \u001b[0menumerate\u001b[0m\u001b[0;34m(\u001b[0m\u001b[0mstates\u001b[0m\u001b[0;34m)\u001b[0m\u001b[0;34m:\u001b[0m\u001b[0;34m\u001b[0m\u001b[0;34m\u001b[0m\u001b[0m\n\u001b[1;32m     23\u001b[0m             \u001b[0;32mif\u001b[0m \u001b[0mi\u001b[0m \u001b[0;34m!=\u001b[0m \u001b[0mj\u001b[0m \u001b[0;32mand\u001b[0m \u001b[0mtransition_matrix\u001b[0m\u001b[0;34m[\u001b[0m\u001b[0mi\u001b[0m\u001b[0;34m,\u001b[0m \u001b[0mj\u001b[0m\u001b[0;34m]\u001b[0m \u001b[0;34m>\u001b[0m \u001b[0;36m0\u001b[0m \u001b[0;32mand\u001b[0m \u001b[0mtransition_matrix\u001b[0m\u001b[0;34m[\u001b[0m\u001b[0mj\u001b[0m\u001b[0;34m,\u001b[0m \u001b[0mi\u001b[0m\u001b[0;34m]\u001b[0m \u001b[0;34m>\u001b[0m \u001b[0;36m0\u001b[0m\u001b[0;34m:\u001b[0m\u001b[0;34m\u001b[0m\u001b[0;34m\u001b[0m\u001b[0m\n\u001b[0;32m---> 24\u001b[0;31m                 \u001b[0mP_ij\u001b[0m \u001b[0;34m=\u001b[0m \u001b[0mtransition_matrix\u001b[0m\u001b[0;34m[\u001b[0m\u001b[0mi\u001b[0m\u001b[0;34m,\u001b[0m \u001b[0mj\u001b[0m\u001b[0;34m]\u001b[0m \u001b[0;34m*\u001b[0m \u001b[0mstationary_distribution\u001b[0m\u001b[0;34m[\u001b[0m\u001b[0mi\u001b[0m\u001b[0;34m]\u001b[0m\u001b[0;34m\u001b[0m\u001b[0;34m\u001b[0m\u001b[0m\n\u001b[0m\u001b[1;32m     25\u001b[0m                 \u001b[0mwaiting_time_ij\u001b[0m \u001b[0;34m=\u001b[0m \u001b[0mwaiting_time_distributions\u001b[0m\u001b[0;34m.\u001b[0m\u001b[0mget\u001b[0m\u001b[0;34m(\u001b[0m\u001b[0;34m(\u001b[0m\u001b[0mstate_i\u001b[0m\u001b[0;34m,\u001b[0m \u001b[0mstate_j\u001b[0m\u001b[0;34m)\u001b[0m\u001b[0;34m)\u001b[0m\u001b[0;34m\u001b[0m\u001b[0;34m\u001b[0m\u001b[0m\n\u001b[1;32m     26\u001b[0m                 \u001b[0mwaiting_time_ji\u001b[0m \u001b[0;34m=\u001b[0m \u001b[0mwaiting_time_distributions\u001b[0m\u001b[0;34m.\u001b[0m\u001b[0mget\u001b[0m\u001b[0;34m(\u001b[0m\u001b[0;34m(\u001b[0m\u001b[0mstate_j\u001b[0m\u001b[0;34m,\u001b[0m \u001b[0mstate_i\u001b[0m\u001b[0;34m)\u001b[0m\u001b[0;34m)\u001b[0m\u001b[0;34m\u001b[0m\u001b[0;34m\u001b[0m\u001b[0m\n",
      "\u001b[0;31mIndexError\u001b[0m: index 0 is out of bounds for axis 0 with size 0"
     ]
    }
   ],
   "source": [
    "# Compute irreversibility measure\n",
    "states = [\"A\", \"B\", \"C\"]\n",
    "\n",
    "new_params = params.astype(dtype=float)\n",
    "print(new_params.dtype)\n",
    "\n",
    "new_L = L.astype(dtype=float)\n",
    "print(new_L)\n",
    "\n",
    "stationary_distribution = compute_stationary_distribution(new_L)\n",
    "\n",
    "waiting_time_distributions = {\n",
    "    (\"A\", \"B\"): CustomExponential(rate=new_params[0]),\n",
    "    (\"B\", \"A\"): CustomExponential(rate=new_params[1]),\n",
    "    (\"B\", \"C\"): CustomExponential(rate=new_params[2]),\n",
    "    (\"C\", \"B\"): CustomExponential(rate=new_params[3]),\n",
    "    (\"A\", \"C\"): CustomExponential(rate=new_params[4]),\n",
    "    (\"C\", \"A\"): CustomExponential(rate=new_params[5]),\n",
    "}\n",
    "\n",
    "S_WTD = compute_irreversibility(states, new_L, waiting_time_distributions)\n",
    "print(\"Irreversibility Signature from Waiting Time Distributions:\", S_WTD)"
   ]
  },
  {
   "cell_type": "code",
   "execution_count": null,
   "id": "e494803f-a712-4de2-9e90-44d46d1ad4a7",
   "metadata": {},
   "outputs": [],
   "source": []
  }
 ],
 "metadata": {
  "kernelspec": {
   "display_name": "Python 3 (ipykernel)",
   "language": "python",
   "name": "python3"
  },
  "language_info": {
   "codemirror_mode": {
    "name": "ipython",
    "version": 3
   },
   "file_extension": ".py",
   "mimetype": "text/x-python",
   "name": "python",
   "nbconvert_exporter": "python",
   "pygments_lexer": "ipython3",
   "version": "3.9.19"
  }
 },
 "nbformat": 4,
 "nbformat_minor": 5
}
