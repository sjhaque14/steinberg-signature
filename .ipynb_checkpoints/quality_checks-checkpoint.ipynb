{
 "cells": [
  {
   "cell_type": "code",
   "execution_count": 1,
   "id": "54c57a7d-49d2-4187-9fb9-01ec9175da04",
   "metadata": {},
   "outputs": [],
   "source": [
    "import numpy as np\n",
    "import matplotlib.pyplot as plt\n",
    "from tqdm import tqdm\n",
    "\n",
    "from steinberg_utils_3vertex import *\n",
    "from general_graph_utils import *"
   ]
  },
  {
   "cell_type": "markdown",
   "id": "8c219b26-4f2f-4638-8d07-624fd43ab277",
   "metadata": {},
   "source": [
    "1. Are autocorrelation functions $\\mathcal{A}^{\\alpha,\\beta}(\\tau)$ always monotonic decreasing? \n",
    "2. Does one of the curves $\\mathcal{A}^{\\alpha,\\beta}(\\tau)$ or $\\mathcal{A}^{\\beta,\\alpha}(\\tau)$ always lie above the other, or do the two curves cross for positive values of $\\tau$? \n",
    "3. Does this separation of the two curves always occur regardless of parameter values? "
   ]
  },
  {
   "cell_type": "code",
   "execution_count": 2,
   "id": "3bb03b58-69d5-4853-a1e9-38da64578c2e",
   "metadata": {},
   "outputs": [
    {
     "name": "stdout",
     "output_type": "stream",
     "text": [
      "[1.73473176e-01 5.68291698e-03 3.89862737e+02 5.36269965e-01\n",
      " 2.80890103e-03 1.66421850e+01]\n"
     ]
    }
   ],
   "source": [
    "params = random_parameters()\n",
    "print(params)"
   ]
  },
  {
   "cell_type": "code",
   "execution_count": 5,
   "id": "7cb08bab-07bb-4391-898e-61528d8e45bd",
   "metadata": {},
   "outputs": [
    {
     "data": {
      "text/plain": [
       "array([[-1.76282077e-01,  5.68291698e-03,  1.66421850e+01],\n",
       "       [ 1.73473176e-01, -3.89868420e+02,  5.36269965e-01],\n",
       "       [ 2.80890103e-03,  3.89862737e+02, -1.71784549e+01]],\n",
       "      dtype=float128)"
      ]
     },
     "execution_count": 5,
     "metadata": {},
     "output_type": "execute_result"
    }
   ],
   "source": [
    "L = Laplacian_K(params)\n",
    "L"
   ]
  },
  {
   "cell_type": "code",
   "execution_count": 6,
   "id": "84ee3856-f6ff-4dd8-ac2e-8ef58e09f319",
   "metadata": {},
   "outputs": [
    {
     "data": {
      "text/plain": [
       "array([9.89068958e-01, 4.54499978e-04, 1.04765419e-02], dtype=float128)"
      ]
     },
     "execution_count": 6,
     "metadata": {},
     "output_type": "execute_result"
    }
   ],
   "source": [
    "pi = steady_state_MTT(params)\n",
    "pi"
   ]
  },
  {
   "cell_type": "code",
   "execution_count": 7,
   "id": "ff8caa57-bafd-4d51-a01f-e118e4e1f251",
   "metadata": {},
   "outputs": [
    {
     "ename": "TypeError",
     "evalue": "array type float128 is unsupported in linalg",
     "output_type": "error",
     "traceback": [
      "\u001b[0;31m---------------------------------------------------------------------------\u001b[0m",
      "\u001b[0;31mTypeError\u001b[0m                                 Traceback (most recent call last)",
      "Input \u001b[0;32mIn [7]\u001b[0m, in \u001b[0;36m<cell line: 1>\u001b[0;34m()\u001b[0m\n\u001b[0;32m----> 1\u001b[0m pi_2 \u001b[38;5;241m=\u001b[39m \u001b[43msteady_state_spectrum\u001b[49m\u001b[43m(\u001b[49m\u001b[43mL\u001b[49m\u001b[43m)\u001b[49m\n",
      "File \u001b[0;32m~/Desktop/All my shit/work/Gunawardena-lab/software/steinberg-signature/general_graph_utils.py:212\u001b[0m, in \u001b[0;36msteady_state_spectrum\u001b[0;34m(L)\u001b[0m\n\u001b[1;32m    196\u001b[0m \u001b[38;5;28;01mdef\u001b[39;00m \u001b[38;5;21msteady_state_spectrum\u001b[39m(L):\n\u001b[1;32m    197\u001b[0m     \u001b[38;5;124;03m\"\"\"\u001b[39;00m\n\u001b[1;32m    198\u001b[0m \u001b[38;5;124;03m    Calculates the steady-state distribution for the any linear framework graph by computing the eigenvector associated with eigenvalue 0.\u001b[39;00m\n\u001b[1;32m    199\u001b[0m \u001b[38;5;124;03m    \u001b[39;00m\n\u001b[0;32m   (...)\u001b[0m\n\u001b[1;32m    209\u001b[0m \u001b[38;5;124;03m    \u001b[39;00m\n\u001b[1;32m    210\u001b[0m \u001b[38;5;124;03m    \"\"\"\u001b[39;00m\n\u001b[0;32m--> 212\u001b[0m     eigvals, eigvecs \u001b[38;5;241m=\u001b[39m \u001b[43mnp\u001b[49m\u001b[38;5;241;43m.\u001b[39;49m\u001b[43mlinalg\u001b[49m\u001b[38;5;241;43m.\u001b[39;49m\u001b[43meig\u001b[49m\u001b[43m(\u001b[49m\u001b[43mL\u001b[49m\u001b[43m)\u001b[49m\n\u001b[1;32m    213\u001b[0m     pi \u001b[38;5;241m=\u001b[39m np\u001b[38;5;241m.\u001b[39marray([eigvecs[:,np\u001b[38;5;241m.\u001b[39margmin(np\u001b[38;5;241m.\u001b[39mabs(eigvals))]\u001b[38;5;241m.\u001b[39mreal\u001b[38;5;241m/\u001b[39m\u001b[38;5;28msum\u001b[39m(eigvecs[:,np\u001b[38;5;241m.\u001b[39margmin(np\u001b[38;5;241m.\u001b[39mabs(eigvals))]\u001b[38;5;241m.\u001b[39mreal)])\u001b[38;5;241m.\u001b[39mT\n\u001b[1;32m    215\u001b[0m     \u001b[38;5;28;01mreturn\u001b[39;00m pi\n",
      "File \u001b[0;32m<__array_function__ internals>:5\u001b[0m, in \u001b[0;36meig\u001b[0;34m(*args, **kwargs)\u001b[0m\n",
      "File \u001b[0;32m~/opt/anaconda3/lib/python3.9/site-packages/numpy/linalg/linalg.py:1318\u001b[0m, in \u001b[0;36meig\u001b[0;34m(a)\u001b[0m\n\u001b[1;32m   1316\u001b[0m _assert_stacked_square(a)\n\u001b[1;32m   1317\u001b[0m _assert_finite(a)\n\u001b[0;32m-> 1318\u001b[0m t, result_t \u001b[38;5;241m=\u001b[39m \u001b[43m_commonType\u001b[49m\u001b[43m(\u001b[49m\u001b[43ma\u001b[49m\u001b[43m)\u001b[49m\n\u001b[1;32m   1320\u001b[0m extobj \u001b[38;5;241m=\u001b[39m get_linalg_error_extobj(\n\u001b[1;32m   1321\u001b[0m     _raise_linalgerror_eigenvalues_nonconvergence)\n\u001b[1;32m   1322\u001b[0m signature \u001b[38;5;241m=\u001b[39m \u001b[38;5;124m'\u001b[39m\u001b[38;5;124mD->DD\u001b[39m\u001b[38;5;124m'\u001b[39m \u001b[38;5;28;01mif\u001b[39;00m isComplexType(t) \u001b[38;5;28;01melse\u001b[39;00m \u001b[38;5;124m'\u001b[39m\u001b[38;5;124md->DD\u001b[39m\u001b[38;5;124m'\u001b[39m\n",
      "File \u001b[0;32m~/opt/anaconda3/lib/python3.9/site-packages/numpy/linalg/linalg.py:146\u001b[0m, in \u001b[0;36m_commonType\u001b[0;34m(*arrays)\u001b[0m\n\u001b[1;32m    143\u001b[0m     rt \u001b[38;5;241m=\u001b[39m _realType(a\u001b[38;5;241m.\u001b[39mdtype\u001b[38;5;241m.\u001b[39mtype, default\u001b[38;5;241m=\u001b[39m\u001b[38;5;28;01mNone\u001b[39;00m)\n\u001b[1;32m    144\u001b[0m     \u001b[38;5;28;01mif\u001b[39;00m rt \u001b[38;5;129;01mis\u001b[39;00m \u001b[38;5;28;01mNone\u001b[39;00m:\n\u001b[1;32m    145\u001b[0m         \u001b[38;5;66;03m# unsupported inexact scalar\u001b[39;00m\n\u001b[0;32m--> 146\u001b[0m         \u001b[38;5;28;01mraise\u001b[39;00m \u001b[38;5;167;01mTypeError\u001b[39;00m(\u001b[38;5;124m\"\u001b[39m\u001b[38;5;124marray type \u001b[39m\u001b[38;5;132;01m%s\u001b[39;00m\u001b[38;5;124m is unsupported in linalg\u001b[39m\u001b[38;5;124m\"\u001b[39m \u001b[38;5;241m%\u001b[39m\n\u001b[1;32m    147\u001b[0m                 (a\u001b[38;5;241m.\u001b[39mdtype\u001b[38;5;241m.\u001b[39mname,))\n\u001b[1;32m    148\u001b[0m \u001b[38;5;28;01melse\u001b[39;00m:\n\u001b[1;32m    149\u001b[0m     rt \u001b[38;5;241m=\u001b[39m double\n",
      "\u001b[0;31mTypeError\u001b[0m: array type float128 is unsupported in linalg"
     ]
    }
   ],
   "source": [
    "pi_2 = steady_state_spectrum(L)"
   ]
  },
  {
   "cell_type": "code",
   "execution_count": null,
   "id": "9f7085fc-70ed-467c-8b58-c1c72acc4899",
   "metadata": {},
   "outputs": [],
   "source": []
  }
 ],
 "metadata": {
  "kernelspec": {
   "display_name": "Python 3 (ipykernel)",
   "language": "python",
   "name": "python3"
  },
  "language_info": {
   "codemirror_mode": {
    "name": "ipython",
    "version": 3
   },
   "file_extension": ".py",
   "mimetype": "text/x-python",
   "name": "python",
   "nbconvert_exporter": "python",
   "pygments_lexer": "ipython3",
   "version": "3.9.12"
  }
 },
 "nbformat": 4,
 "nbformat_minor": 5
}
