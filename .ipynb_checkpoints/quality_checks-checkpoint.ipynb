{
 "cells": [
  {
   "cell_type": "markdown",
   "id": "b06a6ccc-97a3-4425-9fb9-8cc429e01bed",
   "metadata": {},
   "source": [
    "# Software quality checks\n",
    "\n",
    "# Haque, Çetiner, Gunawardea 2024. _Anomalous behavior of the Steinberg signature for detecting departure from thermodynamic equilibrium._"
   ]
  },
  {
   "cell_type": "code",
   "execution_count": 2,
   "id": "54c57a7d-49d2-4187-9fb9-01ec9175da04",
   "metadata": {},
   "outputs": [],
   "source": [
    "import numpy as np\n",
    "import matplotlib.pyplot as plt\n",
    "from tqdm import tqdm\n",
    "\n",
    "from steinberg_utils_3vertex import *\n",
    "from general_graph_utils_main import *"
   ]
  },
  {
   "cell_type": "code",
   "execution_count": 72,
   "id": "098a80c1-d4e6-4230-8609-72ac77858c66",
   "metadata": {},
   "outputs": [],
   "source": [
    "# plot formatting\n",
    "plt.rc(\"text\", usetex=False) # renders LaTeX more quickly\n",
    "plt.rc(\"font\", family = \"serif\",size=14) # font specifications\n",
    "plt.rc(\"figure\",figsize=(14,12)) # figure size\n",
    "%config InlineBackend.figure_format = 'retina' # retina-display quality"
   ]
  },
  {
   "cell_type": "markdown",
   "id": "8cb864a4-833b-4eaa-8a9b-3eb8b84a7fd3",
   "metadata": {},
   "source": [
    "### Quality checks:\n",
    "\n",
    "1. How can we systematically determine the tau range without taking forever?\n",
    "2. Are the autocorrelation functions always monotonically decreasing and are they separate?\n",
    "3. Do the indefinite integrals we compute converge?"
   ]
  },
  {
   "cell_type": "markdown",
   "id": "cc308c55-ea07-40d0-9c4a-e50c5a57c4da",
   "metadata": {},
   "source": [
    "### Developing a systematic range for $\\tau$\n",
    "\n",
    "We need to capture the entire decay period of the asymmetric autocorrelation functions in order to accurately calculate the area between them (i.e. the Steinberg signature). Thus, it is important to define the $\\tau$ array with a large enough maximal $\\tau$. However, choosing a maximal $\\tau$ that is too large can make calculating the asymmetric autocorrelation functions much more computationally expensive, and thus our estimations of the Steinberg signature become intractible. \n",
    "\n",
    "To systematically determine an optimal value of $\\tau$, we consider the **mixing time** $\\tau_{mix}$ for continuous time Markov processes. The mixing time is the time it takes for the Markov process to get \"close\" to its steady state. It is defined as \n",
    "\n",
    "$$\\tau_{mix} = \\text{inf} \\{ t > 0 : \\text{sup}_x || P_t(x,.) - \\pi||_{TV} \\leq \\epsilon \\} \\, ,$$\n",
    "\n",
    "where $P_t = \\text{exp}(Lt)$ is the transition kernel, and $||.||_{TV}$ is the total variation distance. (Reference: Levin, Peres, and Wilmer. Markov Chains and Mixing Times, Chapter 20, Equation 20.9, https://pages.uoregon.edu/dlevin/MARKOV/mcmt2e.pdf).\n",
    "\n",
    "In practice, people use the spectral gap $\\lambda_1$ of $−L$, defined as the smallest nonzero eigenvalue of $−L$ (assuming the process is irreducible). This governs the exponential rate of convergence to stationarity. The relaxation time is then:\n",
    "\n",
    "$$\\tau_{relax} = 1/\\lambda_1\\, .$$\n",
    "\n",
    "(Reference: Aldous and Fill, Reversible Markov Chains and Random Walks on Graphs. Chapter 3, Equations 3.38-3.39, https://www.stat.berkeley.edu/~aldous/RWG/book.pdf)\n",
    "\n",
    "Here, we use the relaxation time $\\tau_{relax}$ to obtain an optimal maximal $\\tau$ value and ensure that our asymmetric autocorrelation functions are computed in their entirety. We have verified that the correct formula to use for continuous time Markov processes is the inverse of the spectral gap, which is the first nontrivial eigenvalue. To make sure our $\\tau_{max}$ is indeed large enough, we set $\\tau_{max} = 2 \\tau_{relax} = 2 / \\lambda_1$."
   ]
  },
  {
   "cell_type": "code",
   "execution_count": 3,
   "id": "91f547e7-976f-4833-b195-2bee5911ae87",
   "metadata": {},
   "outputs": [],
   "source": [
    "def define_tau_range(L, max_points=500, cap_factor=5.0):\n",
    "    # infer the slowest rate\n",
    "    eigs = np.real(np.linalg.eigvals(-L))\n",
    "    eigs.sort()\n",
    "    lambda_1 = eigs[1]\n",
    "    \n",
    "    # set upper bound but don’t let it explode\n",
    "    tau_max = min(cap_factor/lambda_1, 10.0)   # never longer than 10 time-units\n",
    "    \n",
    "    # choose resolution so Δτ ≈ τ_max / max_points\n",
    "    num = min(max_points, int(np.ceil(tau_max / 0.01)))\n",
    "    tau = np.linspace(0.01, tau_max, num=num)\n",
    "    return tau, tau_max"
   ]
  },
  {
   "cell_type": "markdown",
   "id": "97f88978-8be9-4b2c-8e7b-ab69e866c616",
   "metadata": {},
   "source": [
    "### Test for monotonicity\n",
    "\n",
    "Are autocorrelation functions $\\mathcal{A}^{\\alpha,\\beta}(\\tau)$ always monotonic decreasing? "
   ]
  },
  {
   "cell_type": "code",
   "execution_count": 86,
   "id": "2c7972f4-ba6e-4b0b-8832-1c98555be3c9",
   "metadata": {},
   "outputs": [
    {
     "name": "stdout",
     "output_type": "stream",
     "text": [
      "Is Monotonic ?:  True\n",
      "Is Monotonic ?:  False\n",
      "Is Monotonic ?:  True\n"
     ]
    }
   ],
   "source": [
    "# Function to check array is monotonic\n",
    "def check(arr):\n",
    "    N = len(arr)\n",
    "    inc = True\n",
    "    dec = True\n",
    "     \n",
    "    # Loop to check if array is increasing\n",
    "    for i in range(0, N-1):\n",
    "       \n",
    "        # To check if array is not increasing\n",
    "        if arr[i] > arr[i+1]:\n",
    "            inc = False\n",
    " \n",
    "    # Loop to check if array is decreasing\n",
    "    for i in range(0, N-1):\n",
    "       \n",
    "       # To check if array is not decreasing\n",
    "        if arr[i] < arr[i+1]:\n",
    "            dec = False\n",
    " \n",
    "    # Pick one whether inc or dec\n",
    "    return inc or dec\n",
    "\n",
    "print(\"Is Monotonic ?: \", check([7, 5, 3, 1]))\n",
    "print(\"Is Monotonic ?: \", check([4, 0, 3, 1]))\n",
    "print(\"Is Monotonic ?: \", check([5, 4, 3]))"
   ]
  },
  {
   "cell_type": "code",
   "execution_count": 87,
   "id": "0b9116fc-5caf-4d41-a359-cdf760b2210a",
   "metadata": {},
   "outputs": [
    {
     "name": "stdout",
     "output_type": "stream",
     "text": [
      "Is Monotonic ?:  True\n",
      "Is Monotonic ?:  False\n",
      "Is Monotonic ?:  True\n"
     ]
    }
   ],
   "source": [
    "def check_monotonic(array):\n",
    "\treturn (\n",
    "\t\t# First check for decreasing order sequence...\n",
    "\t\tall(element <= array[index - 1] for index, element in enumerate(array) if index > 0) or\n",
    "\t\t# Then check for increasing order sequence...\n",
    "\t\tall(element >= array[index - 1] for index, element in enumerate(array) if index > 0)\n",
    "\t)\n",
    "\n",
    "print(\"Is Monotonic ?: \", check_monotonic([7, 5, 3, 1]))\n",
    "print(\"Is Monotonic ?: \", check_monotonic([4, 0, 3, 1]))\n",
    "print(\"Is Monotonic ?: \", check_monotonic([5, 4, 3]))"
   ]
  },
  {
   "cell_type": "code",
   "execution_count": 88,
   "id": "24b3f811-522a-4dca-85a8-9f94def262fd",
   "metadata": {},
   "outputs": [
    {
     "name": "stdout",
     "output_type": "stream",
     "text": [
      "Is Monotonic ?:  True\n",
      "Is Monotonic ?:  True\n",
      "Is Monotonic ?:  True\n"
     ]
    }
   ],
   "source": [
    "def check_monotonic_dec(array):\n",
    "    \n",
    "    N = len(array)\n",
    "    inc = True\n",
    "    dec = True\n",
    "    \n",
    "    # loop to check if array is increasing\n",
    "    for i in range(0, N-1):\n",
    "        if array[i] > array[i+1]:\n",
    "            return True\n",
    "        elif array[i] < array[i+1]:\n",
    "            return True\n",
    "        else:\n",
    "            return False\n",
    "\n",
    "print(\"Is Monotonic ?: \", check_monotonic_dec([7, 5, 3, 1]))\n",
    "print(\"Is Monotonic ?: \", check_monotonic_dec([4, 0, 3, 1]))\n",
    "print(\"Is Monotonic ?: \", check_monotonic_dec([5, 4, 3]))"
   ]
  },
  {
   "cell_type": "code",
   "execution_count": 89,
   "id": "bd02d48c-3d8e-4759-bfaf-5c6e31d1b707",
   "metadata": {},
   "outputs": [],
   "source": [
    "signal = [3, 5, 7]\n",
    "alpha = 1\n",
    "beta = 3\n",
    "tau = np.around(np.arange(0.01,4,step=.01), decimals = 2)\n",
    "\n",
    "params = random_parameters()\n",
    "L = Laplacian_K(params)\n",
    "pi = steady_state_MTT_K(params)\n",
    "a_13, a_31 = asymmetric_autocorrelation(signal,L,tau,pi,alpha,beta)\n",
    "\n"
   ]
  },
  {
   "cell_type": "code",
   "execution_count": 145,
   "id": "34c2a61b-094c-4cb5-99a6-b4762f2147b4",
   "metadata": {},
   "outputs": [],
   "source": [
    "tau = np.around(np.arange(0.01,.03,step=.000001), decimals = 2)\n",
    "a_13, a_31 = asymmetric_autocorrelation(signal,L,tau,pi,alpha,beta)"
   ]
  },
  {
   "cell_type": "code",
   "execution_count": 146,
   "id": "decb25a1-f56c-4e33-a50b-006e4d9bca19",
   "metadata": {},
   "outputs": [
    {
     "name": "stdout",
     "output_type": "stream",
     "text": [
      "True\n",
      "True\n",
      "True\n",
      "True\n"
     ]
    }
   ],
   "source": [
    "print(check(a_13))\n",
    "print(check_monotonic(a_13))\n",
    "\n",
    "print(check(a_31))\n",
    "print(check_monotonic(a_31))"
   ]
  },
  {
   "cell_type": "code",
   "execution_count": 147,
   "id": "1fa9797d-77dc-4734-a0d4-e4d1df6c44d0",
   "metadata": {},
   "outputs": [
    {
     "data": {
      "text/plain": [
       "array([1497.22584644, 1497.22584644, 1497.22584644, ..., 1496.96027487,\n",
       "       1496.96027487, 1496.96027487], dtype=float128)"
      ]
     },
     "execution_count": 147,
     "metadata": {},
     "output_type": "execute_result"
    }
   ],
   "source": [
    "a_13"
   ]
  },
  {
   "cell_type": "code",
   "execution_count": 148,
   "id": "ea02c9ce-99ad-4856-8cf1-72f12c397f2f",
   "metadata": {},
   "outputs": [
    {
     "data": {
      "text/plain": [
       "array([1497.21066769, 1497.21066769, 1497.21066769, ..., 1496.96027484,\n",
       "       1496.96027484, 1496.96027484], dtype=float128)"
      ]
     },
     "execution_count": 148,
     "metadata": {},
     "output_type": "execute_result"
    }
   ],
   "source": [
    "a_31"
   ]
  },
  {
   "cell_type": "code",
   "execution_count": 149,
   "id": "e9d0a259-bbbe-46c4-8a73-cc2b2dc75363",
   "metadata": {},
   "outputs": [
    {
     "data": {
      "text/plain": [
       "76.09912808994158695"
      ]
     },
     "execution_count": 149,
     "metadata": {},
     "output_type": "execute_result"
    }
   ],
   "source": [
    "numerical_area(a_13,a_31)"
   ]
  },
  {
   "cell_type": "code",
   "execution_count": 150,
   "id": "97ffc978-9885-49e1-a769-6d96ffa28b75",
   "metadata": {},
   "outputs": [
    {
     "data": {
      "image/png": "[encoded data removed]",
      "text/plain": [
       "<Figure size 1008x864 with 1 Axes>"
      ]
     },
     "metadata": {
      "image/png": {
       "height": 704,
       "width": 881
      },
      "needs_background": "light"
     },
     "output_type": "display_data"
    }
   ],
   "source": [
    "fig = plt.figure()\n",
    "plt.plot(tau,a_13,label=r'$\\mathcal{A}^{3,1}(\\tau)$',linewidth=3, c= '#4599DF')\n",
    "plt.plot(tau,a_31,label=r'$\\mathcal{A}^{1,3}(\\tau)$',linewidth=3,color='#FF3D6E')\n",
    "plt.xlabel(r\"$\\tau$\")\n",
    "plt.ylabel(r\"$\\mathcal{A}^{\\alpha,\\beta}(\\tau)$\")\n",
    "plt.legend()\n",
    "plt.show()"
   ]
  },
  {
   "cell_type": "markdown",
   "id": "ca1a9ef2-f5d1-4462-873e-c5cb3203d89b",
   "metadata": {},
   "source": [
    "### Test for separation\n",
    "\n",
    "1. Does one of the curves $\\mathcal{A}^{\\alpha,\\beta}(\\tau)$ or $\\mathcal{A}^{\\beta,\\alpha}(\\tau)$ always lie above the other, or do the two curves cross for positive values of $\\tau$? \n",
    "2. Does this separation of the two curves always occur for all sets of parameter values? "
   ]
  },
  {
   "cell_type": "markdown",
   "id": "c6bd7236-e3ed-422d-882e-db6c18b1ecec",
   "metadata": {},
   "source": [
    "Initialize a system."
   ]
  },
  {
   "cell_type": "code",
   "execution_count": 4,
   "id": "6897dbbe-dfeb-474d-aa14-4778afd12c04",
   "metadata": {},
   "outputs": [],
   "source": [
    "params = random_parameters()"
   ]
  },
  {
   "cell_type": "code",
   "execution_count": 5,
   "id": "afdb083b-9bdd-4c2a-bf5a-3f63f33af468",
   "metadata": {},
   "outputs": [],
   "source": [
    "L = Laplacian_K(params)"
   ]
  },
  {
   "cell_type": "code",
   "execution_count": 6,
   "id": "077e6a8e-df32-47f5-957b-910053289555",
   "metadata": {},
   "outputs": [],
   "source": [
    "pi = steady_state_MTT_K(params)"
   ]
  },
  {
   "cell_type": "code",
   "execution_count": 7,
   "id": "e5f74999-a89b-4279-8251-c2a14945df6d",
   "metadata": {},
   "outputs": [],
   "source": [
    "signal = [3, 5, 7]\n",
    "alpha = 1\n",
    "beta = 3\n",
    "tau = np.around(np.arange(0.01,40.01,step=.01), decimals = 2)"
   ]
  },
  {
   "cell_type": "code",
   "execution_count": 8,
   "id": "d2c2e151-e3fb-46b9-9bac-c1a9e8321235",
   "metadata": {},
   "outputs": [],
   "source": [
    "a_13, a_31 = asymmetric_autocorrelation(signal,L,tau,pi,alpha,beta)"
   ]
  },
  {
   "cell_type": "code",
   "execution_count": 26,
   "id": "2d8de1f8-ba8c-45fb-a437-c458d936a33c",
   "metadata": {},
   "outputs": [],
   "source": [
    "index_a13 = np.array([])\n",
    "index_a31 = np.array([])"
   ]
  },
  {
   "cell_type": "code",
   "execution_count": 27,
   "id": "392d8d56-902d-44c8-92a5-2c60b0fe3675",
   "metadata": {},
   "outputs": [],
   "source": [
    "for i in range(len(tau)):\n",
    "    if np.round(a_13[i],10) > np.round(a_31[i],10):\n",
    "        index_a13 = np.append(index_a13, i)\n",
    "    elif np.round(a_13[i],10) < np.round(a_31[i],10):\n",
    "        index_a31 = np.append(index_a31, i)\n",
    "    elif np.round(a_13[i],10) == np.round(a_31[i],10):\n",
    "        continue"
   ]
  },
  {
   "cell_type": "code",
   "execution_count": 28,
   "id": "8c3fd39f-6ba7-42ef-a04b-e5d609259805",
   "metadata": {},
   "outputs": [
    {
     "data": {
      "text/plain": [
       "array([0.000e+00, 1.000e+00, 2.000e+00, ..., 2.427e+03, 2.480e+03,\n",
       "       2.487e+03])"
      ]
     },
     "execution_count": 28,
     "metadata": {},
     "output_type": "execute_result"
    }
   ],
   "source": [
    "index_a13"
   ]
  },
  {
   "cell_type": "code",
   "execution_count": 29,
   "id": "94ff2f2e-4687-41fe-b0fa-b4f7b5d83436",
   "metadata": {},
   "outputs": [
    {
     "data": {
      "text/plain": [
       "array([], dtype=float64)"
      ]
     },
     "execution_count": 29,
     "metadata": {},
     "output_type": "execute_result"
    }
   ],
   "source": [
    "index_a31"
   ]
  },
  {
   "cell_type": "markdown",
   "id": "51f1bffa-2cf1-4be5-91dc-713debe8b142",
   "metadata": {},
   "source": [
    "The discrepancy for these specific points most likely comes from numerical precision error in the calculation of a_13 and a_31. We could try to round the values in the array, but how do we decide the cut-off?"
   ]
  },
  {
   "cell_type": "code",
   "execution_count": 32,
   "id": "5f48d876-1c5e-4b0c-bdf7-8640ae5dab73",
   "metadata": {},
   "outputs": [],
   "source": [
    "def test_separation(a_13,a_31,tau):\n",
    "    index_a13 = np.array([])\n",
    "    index_a31 = np.array([])\n",
    "    \n",
    "    for i in range(len(tau)):\n",
    "        if np.round(a_13[i],10) > np.round(a_31[i],10):\n",
    "            index_a13 = np.append(index_a13, i)\n",
    "        elif np.round(a_13[i],10) < np.round(a_31[i],10):\n",
    "            index_a31 = np.append(index_a31, i)\n",
    "        elif np.round(a_13[i],10) == np.round(a_31[i],10):\n",
    "            continue\n",
    "    \n",
    "    return index_a13, index_a31"
   ]
  },
  {
   "cell_type": "markdown",
   "id": "9f16648e-6e09-4464-af41-55d1d4e06e76",
   "metadata": {},
   "source": [
    "Are both steady state functions equivalent?"
   ]
  },
  {
   "cell_type": "code",
   "execution_count": 3,
   "id": "8f17cba3-64eb-4f39-b068-51896676cbe9",
   "metadata": {},
   "outputs": [],
   "source": [
    "params = random_parameters()"
   ]
  },
  {
   "cell_type": "code",
   "execution_count": 4,
   "id": "6b133b2b-3094-413f-bb09-89202ead1b62",
   "metadata": {},
   "outputs": [],
   "source": [
    "L = Laplacian_K(params)"
   ]
  },
  {
   "cell_type": "code",
   "execution_count": 5,
   "id": "a9b1cb4a-485c-465e-add4-de9e327c411d",
   "metadata": {},
   "outputs": [
    {
     "name": "stdout",
     "output_type": "stream",
     "text": [
      "[0.03706932 0.14074326 0.82218742]\n",
      "1\n",
      "[[0.03706932 0.         0.        ]\n",
      " [0.         0.14074326 0.        ]\n",
      " [0.         0.         0.82218742]]\n"
     ]
    }
   ],
   "source": [
    "pi = steady_state_MTT_K(params)\n",
    "print(pi)\n",
    "print(pi.ndim)\n",
    "print(np.diag(pi))"
   ]
  },
  {
   "cell_type": "code",
   "execution_count": 6,
   "id": "07781e1e-9ce9-4751-9702-c8d36008ea4b",
   "metadata": {},
   "outputs": [
    {
     "name": "stdout",
     "output_type": "stream",
     "text": [
      "[0.03706932 0.14074326 0.82218742]\n",
      "1\n",
      "[[0.03706932 0.         0.        ]\n",
      " [0.         0.14074326 0.        ]\n",
      " [0.         0.         0.82218742]]\n"
     ]
    }
   ],
   "source": [
    "pi_all = steady_state_spectrum(L)\n",
    "print(pi_all)\n",
    "print(pi_all.ndim)\n",
    "print(np.diag(pi_all))"
   ]
  },
  {
   "cell_type": "code",
   "execution_count": 7,
   "id": "7009590e-3e32-43f2-80fe-9039fb921965",
   "metadata": {},
   "outputs": [],
   "source": [
    "def steady_state_spectrum(L):\n",
    "    \"\"\"\n",
    "    Calculates the steady-state distribution for the any linear framework graph by computing the eigenvector associated with eigenvalue 0.\n",
    "    \n",
    "    Parameters\n",
    "    ----------\n",
    "    L : num_nodes x num_nodes array\n",
    "        the Laplacian matrix of the graph G\n",
    "    \n",
    "    Returns\n",
    "    -------\n",
    "    pi : 1D array\n",
    "         the steady state distribution for a 3-vertex graph K.\n",
    "    \n",
    "    \"\"\"\n",
    "    \n",
    "    eigvals, eigvecs = scipy.linalg.eig(L)\n",
    "    pi = [eigvecs[:,np.argmin(np.abs(eigvals))].real/sum(eigvecs[:,np.argmin(np.abs(eigvals))].real)]\n",
    "    \n",
    "    return pi"
   ]
  },
  {
   "cell_type": "code",
   "execution_count": 8,
   "id": "8f54fabe-8044-44e7-9cc4-565599e922c3",
   "metadata": {},
   "outputs": [
    {
     "data": {
      "text/plain": [
       "array([0.03706932, 0.14074326, 0.82218742], dtype=float128)"
      ]
     },
     "execution_count": 8,
     "metadata": {},
     "output_type": "execute_result"
    }
   ],
   "source": [
    "pi"
   ]
  },
  {
   "cell_type": "code",
   "execution_count": 9,
   "id": "a1d55ba1-134c-4cf9-90ff-afc77d87caaf",
   "metadata": {},
   "outputs": [
    {
     "data": {
      "text/plain": [
       "array([0.03706932, 0.14074326, 0.82218742], dtype=float128)"
      ]
     },
     "execution_count": 9,
     "metadata": {},
     "output_type": "execute_result"
    }
   ],
   "source": [
    "pi_all"
   ]
  },
  {
   "cell_type": "code",
   "execution_count": 10,
   "id": "93031765-e15c-41b7-979c-4059086cd33c",
   "metadata": {},
   "outputs": [
    {
     "data": {
      "text/plain": [
       "1"
      ]
     },
     "execution_count": 10,
     "metadata": {},
     "output_type": "execute_result"
    }
   ],
   "source": [
    "pi.ndim"
   ]
  },
  {
   "cell_type": "code",
   "execution_count": 11,
   "id": "86b2c5c5-734a-4d21-ab92-904d74d7e961",
   "metadata": {},
   "outputs": [
    {
     "data": {
      "text/plain": [
       "1"
      ]
     },
     "execution_count": 11,
     "metadata": {},
     "output_type": "execute_result"
    }
   ],
   "source": [
    "pi_all.ndim"
   ]
  },
  {
   "cell_type": "markdown",
   "id": "ff744df3-3afe-4dff-8e36-92b2c4f78e49",
   "metadata": {},
   "source": [
    "What is the largest possible area difference we can get?"
   ]
  },
  {
   "cell_type": "code",
   "execution_count": 12,
   "id": "e2639beb-180e-41ea-9e34-136770c2d298",
   "metadata": {},
   "outputs": [
    {
     "name": "stderr",
     "output_type": "stream",
     "text": [
      "100%|█████████████████████████████████████████| 100/100 [03:27<00:00,  2.07s/it]\n"
     ]
    }
   ],
   "source": [
    "# choosing a tau range large enough such that the entire decay is captured for as many sets of autocorrelation functions as possible\n",
    "tau = np.around(np.arange(0.01,40.0,step=.01), decimals = 2)\n",
    "signal = [3, 5, 7]\n",
    "alpha = 1\n",
    "beta = 3\n",
    "\n",
    "true_params = np.array([])\n",
    "\n",
    "new_area = 0\n",
    "crowned_area = 0\n",
    "\n",
    "for i in tqdm(range(100)):\n",
    "    # randomly sample new parameters on K\n",
    "    params = random_parameters()\n",
    "    \n",
    "    # calculate the autocorrelation functions\n",
    "    L = Laplacian_K(params)\n",
    "    pi = steady_state_MTT_K(params)\n",
    "    a_13, a_31 = asymmetric_autocorrelation(signal,L,tau,pi,alpha,beta)\n",
    "    \n",
    "    new_area = numerical_area(a_13,a_31)\n",
    "    \n",
    "    if new_area > crowned_area:\n",
    "        true_params = params\n",
    "        crowned_area = new_area"
   ]
  },
  {
   "cell_type": "code",
   "execution_count": 19,
   "id": "8977717f-3b17-4b6a-afea-a0e9cccc66a8",
   "metadata": {},
   "outputs": [
    {
     "data": {
      "text/plain": [
       "3269.2927552356802607"
      ]
     },
     "execution_count": 19,
     "metadata": {},
     "output_type": "execute_result"
    }
   ],
   "source": [
    "crowned_area"
   ]
  },
  {
   "cell_type": "code",
   "execution_count": 20,
   "id": "85d15949-e5ae-4b77-b113-6f2bf2e9832a",
   "metadata": {},
   "outputs": [
    {
     "data": {
      "text/plain": [
       "array([0.32161742, 0.3968768 , 0.00260506, 0.01338035, 0.02071359,\n",
       "       0.00607068], dtype=float128)"
      ]
     },
     "execution_count": 20,
     "metadata": {},
     "output_type": "execute_result"
    }
   ],
   "source": [
    "true_params"
   ]
  },
  {
   "cell_type": "markdown",
   "id": "8c219b26-4f2f-4638-8d07-624fd43ab277",
   "metadata": {},
   "source": [
    "1. Are autocorrelation functions $\\mathcal{A}^{\\alpha,\\beta}(\\tau)$ always monotonic decreasing? \n",
    "2. Does one of the curves $\\mathcal{A}^{\\alpha,\\beta}(\\tau)$ or $\\mathcal{A}^{\\beta,\\alpha}(\\tau)$ always lie above the other, or do the two curves cross for positive values of $\\tau$? \n",
    "3. Does this separation of the two curves always occur for all sets of parameter values? "
   ]
  },
  {
   "cell_type": "code",
   "execution_count": 31,
   "id": "3bb03b58-69d5-4853-a1e9-38da64578c2e",
   "metadata": {},
   "outputs": [
    {
     "name": "stdout",
     "output_type": "stream",
     "text": [
      "[1.03928414e+01 5.82841470e-02 5.16352292e+01 2.79212497e+01\n",
      " 1.13780955e-01 5.92138344e+02]\n"
     ]
    }
   ],
   "source": [
    "params = random_parameters()\n",
    "print(params)"
   ]
  },
  {
   "cell_type": "code",
   "execution_count": 32,
   "id": "7cb08bab-07bb-4391-898e-61528d8e45bd",
   "metadata": {},
   "outputs": [
    {
     "data": {
      "text/plain": [
       "array([[-1.05066224e+01,  5.82841470e-02,  5.92138344e+02],\n",
       "       [ 1.03928414e+01, -5.16935133e+01,  2.79212497e+01],\n",
       "       [ 1.13780955e-01,  5.16352292e+01, -6.20059594e+02]],\n",
       "      dtype=float128)"
      ]
     },
     "execution_count": 32,
     "metadata": {},
     "output_type": "execute_result"
    }
   ],
   "source": [
    "L = Laplacian_K(params)\n",
    "L"
   ]
  },
  {
   "cell_type": "code",
   "execution_count": 33,
   "id": "84ee3856-f6ff-4dd8-ac2e-8ef58e09f319",
   "metadata": {},
   "outputs": [
    {
     "data": {
      "text/plain": [
       "array([0.81410504, 0.17146674, 0.01442822], dtype=float128)"
      ]
     },
     "execution_count": 33,
     "metadata": {},
     "output_type": "execute_result"
    }
   ],
   "source": [
    "pi = steady_state_MTT(params)\n",
    "pi"
   ]
  },
  {
   "cell_type": "code",
   "execution_count": 34,
   "id": "ff8caa57-bafd-4d51-a01f-e118e4e1f251",
   "metadata": {},
   "outputs": [
    {
     "data": {
      "text/plain": [
       "array([[0.81410504],\n",
       "       [0.17146674],\n",
       "       [0.01442822]])"
      ]
     },
     "execution_count": 34,
     "metadata": {},
     "output_type": "execute_result"
    }
   ],
   "source": [
    "# double check SS function works\n",
    "pi_2 = steady_state_spectrum(L)\n",
    "pi_2"
   ]
  },
  {
   "cell_type": "code",
   "execution_count": 35,
   "id": "9f7085fc-70ed-467c-8b58-c1c72acc4899",
   "metadata": {},
   "outputs": [],
   "source": [
    "signal = [3, 5, 7]\n",
    "alpha = 1\n",
    "beta = 3"
   ]
  },
  {
   "cell_type": "code",
   "execution_count": 36,
   "id": "7488e9e5-4914-43f6-aaf7-f56ffbffb762",
   "metadata": {},
   "outputs": [],
   "source": [
    "tau = np.around(np.arange(0.01,40.01,step=.01), decimals = 2)"
   ]
  },
  {
   "cell_type": "code",
   "execution_count": 37,
   "id": "0767c256-d0b2-4eaf-a620-b95726dac879",
   "metadata": {},
   "outputs": [],
   "source": [
    "a_13, a_31 = asymmetric_autocorrelation(signal,L,tau,pi,alpha,beta)"
   ]
  },
  {
   "cell_type": "code",
   "execution_count": 38,
   "id": "6f9b70ce-fa42-49a8-bbf7-ad0ba5e75e02",
   "metadata": {},
   "outputs": [
    {
     "data": {
      "text/plain": [
       "4000"
      ]
     },
     "execution_count": 38,
     "metadata": {},
     "output_type": "execute_result"
    }
   ],
   "source": [
    "sum(a_13.round(5) >= a_31.round(5))"
   ]
  },
  {
   "cell_type": "code",
   "execution_count": 39,
   "id": "1d7f2ff1-b293-414a-8c50-348e9c3c650c",
   "metadata": {},
   "outputs": [
    {
     "data": {
      "text/plain": [
       "0"
      ]
     },
     "execution_count": 39,
     "metadata": {},
     "output_type": "execute_result"
    }
   ],
   "source": [
    "sum(a_31.round(5) > a_13.round(5))"
   ]
  },
  {
   "cell_type": "code",
   "execution_count": 40,
   "id": "62d6ca38-5e0d-45a3-a824-2b2b3b6f204f",
   "metadata": {},
   "outputs": [
    {
     "data": {
      "image/png": "[encoded data removed]",
      "text/plain": [
       "<Figure size 1008x864 with 1 Axes>"
      ]
     },
     "metadata": {
      "image/png": {
       "height": 704,
       "width": 863
      },
      "needs_background": "light"
     },
     "output_type": "display_data"
    }
   ],
   "source": [
    "fig = plt.figure()\n",
    "plt.plot(tau,a_13,label=r'$\\mathcal{A}^{3,1}(\\tau)$',linewidth=3, c= '#4599DF')\n",
    "plt.plot(tau,a_31,label=r'$\\mathcal{A}^{1,3}(\\tau)$',linewidth=3,color='#FF3D6E')\n",
    "plt.xlabel(r\"$\\tau$\")\n",
    "plt.ylabel(r\"$\\mathcal{A}^{\\alpha,\\beta}(\\tau)$\")\n",
    "plt.legend()\n",
    "plt.show()"
   ]
  },
  {
   "cell_type": "code",
   "execution_count": 55,
   "id": "4fc82359-88b5-4598-8614-d3e0130f3c35",
   "metadata": {},
   "outputs": [
    {
     "name": "stderr",
     "output_type": "stream",
     "text": [
      "100%|███████████████████████████████████████████| 100/100 [03:31<00:00,  2.11s/it]\n"
     ]
    }
   ],
   "source": [
    "# choosing a tau range large enough such that the entire decay is captured for as many sets of autocorrelation functions as possible\n",
    "tau = np.around(np.arange(0.01,40.0,step=.01), decimals = 2)\n",
    "signal = [3, 5, 7]\n",
    "alpha = 1\n",
    "beta = 3\n",
    "\n",
    "count = 0\n",
    "issues = 0\n",
    "a13_over = 0\n",
    "a31_over = 0\n",
    "\n",
    "# over 100 non-equilibrium parameter sets on K\n",
    "for i in tqdm(range(10000)):\n",
    "    \n",
    "    # randomly sample new parameters on K\n",
    "    params = random_parameters()\n",
    "    \n",
    "    # calculate the autocorrelation functions\n",
    "    L = Laplacian_K(params)\n",
    "    pi = steady_state_MTT(params)\n",
    "    a_13, a_31 = asymmetric_autocorrelation(signal,L,tau,pi,alpha,beta)\n",
    "    \n",
    "    # for how many values is one autocorrelation function strictly greater than the other\n",
    "    # rounding to 5 decimal points\n",
    "    a_13_sum = sum(a_13.round(10) > a_31.round(10))\n",
    "    a_31_sum = sum(a_31.round(10) > a_13.round(10))\n",
    "    \n",
    "    # if either a_31 or a_13 is always less than the other autocorrelation function\n",
    "    if (a_31_sum == 0) or (a_13_sum == 0):\n",
    "        count += 1\n",
    "        \n",
    "        # which autocorrelation function lies on top of the other\n",
    "        if a_31_sum == 0:\n",
    "            a13_over += 1\n",
    "        if a_13_sum == 0:\n",
    "            a31_over += 1\n",
    "    \n",
    "    else: \n",
    "        issues += 1"
   ]
  },
  {
   "cell_type": "code",
   "execution_count": 56,
   "id": "76a0cbfb-98ff-408f-989e-0acd4716a954",
   "metadata": {},
   "outputs": [
    {
     "data": {
      "text/plain": [
       "82"
      ]
     },
     "execution_count": 56,
     "metadata": {},
     "output_type": "execute_result"
    }
   ],
   "source": [
    "count"
   ]
  },
  {
   "cell_type": "code",
   "execution_count": 57,
   "id": "3a2a8fe2-37fa-4be3-ac70-cef91bb21296",
   "metadata": {},
   "outputs": [
    {
     "data": {
      "text/plain": [
       "43"
      ]
     },
     "execution_count": 57,
     "metadata": {},
     "output_type": "execute_result"
    }
   ],
   "source": [
    "a13_over"
   ]
  },
  {
   "cell_type": "code",
   "execution_count": 58,
   "id": "29d5a161-9fb4-4707-a4aa-384b356f1764",
   "metadata": {},
   "outputs": [
    {
     "data": {
      "text/plain": [
       "39"
      ]
     },
     "execution_count": 58,
     "metadata": {},
     "output_type": "execute_result"
    }
   ],
   "source": [
    "a31_over"
   ]
  },
  {
   "cell_type": "code",
   "execution_count": 59,
   "id": "e7ad40f0-7c4e-4324-a8e6-ccfa1db7df99",
   "metadata": {},
   "outputs": [
    {
     "data": {
      "text/plain": [
       "18"
      ]
     },
     "execution_count": 59,
     "metadata": {},
     "output_type": "execute_result"
    }
   ],
   "source": [
    "issues"
   ]
  },
  {
   "cell_type": "markdown",
   "id": "7e059523-0f7d-4618-8972-2cf1165c5f4c",
   "metadata": {},
   "source": [
    "What I should do: ask if the issues are really instances where one function crosses the other? If not, then they can be included in count."
   ]
  },
  {
   "cell_type": "code",
   "execution_count": null,
   "id": "aa3c4621-d069-4841-a470-0b7d01a52d83",
   "metadata": {},
   "outputs": [],
   "source": []
  }
 ],
 "metadata": {
  "kernelspec": {
   "display_name": "Python 3 (ipykernel)",
   "language": "python",
   "name": "python3"
  },
  "language_info": {
   "codemirror_mode": {
    "name": "ipython",
    "version": 3
   },
   "file_extension": ".py",
   "mimetype": "text/x-python",
   "name": "python",
   "nbconvert_exporter": "python",
   "pygments_lexer": "ipython3",
   "version": "3.9.19"
  }
 },
 "nbformat": 4,
 "nbformat_minor": 5
}
