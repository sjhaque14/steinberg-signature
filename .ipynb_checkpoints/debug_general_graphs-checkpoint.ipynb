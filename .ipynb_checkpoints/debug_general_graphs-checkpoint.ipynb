{
 "cells": [
  {
   "cell_type": "code",
   "execution_count": 1,
   "id": "8afba899-ce0e-4bbf-8272-cd852c8fb712",
   "metadata": {},
   "outputs": [],
   "source": [
    "import numpy as np\n",
    "import matplotlib.pyplot as plt\n",
    "from tqdm import tqdm\n",
    "from collections import Counter\n",
    "\n",
    "from general_graph_utils_main import *"
   ]
  },
  {
   "cell_type": "code",
   "execution_count": 18,
   "id": "552d7943-cce7-4f31-97a3-ccc8765c8cac",
   "metadata": {},
   "outputs": [],
   "source": [
    "G, G_ud = random_graph_n(4)"
   ]
  },
  {
   "cell_type": "code",
   "execution_count": 19,
   "id": "8762736a-ea93-40e1-8f1a-440f740dfdc6",
   "metadata": {},
   "outputs": [
    {
     "data": {
      "image/png": "[encoded data removed]",
      "text/plain": [
       "<Figure size 720x576 with 1 Axes>"
      ]
     },
     "metadata": {},
     "output_type": "display_data"
    }
   ],
   "source": [
    "fig, ax = plt.subplots(figsize = (10, 8))\n",
    "nx.draw(G, pos=nx.circular_layout(G), with_labels=True, node_size=2000, node_color = 'lightgray', font_size=18, font_color='black', font_family='sans-serif')"
   ]
  },
  {
   "cell_type": "code",
   "execution_count": 20,
   "id": "c7ceed8a-72d0-4ebc-a142-f0e7bdefe426",
   "metadata": {},
   "outputs": [],
   "source": [
    "node_list = get_nodes(G)\n",
    "num_nodes = len(node_list)\n",
    "edge_list = get_edges(G)\n",
    "cycle_list = get_cycles(G_ud)\n",
    "num_cycles = len(cycle_list)\n",
    "label_dict, label_list = get_labels(G)"
   ]
  },
  {
   "cell_type": "code",
   "execution_count": 21,
   "id": "4f0ee484-ba0b-4c82-aaa3-dcdafce045b6",
   "metadata": {},
   "outputs": [
    {
     "data": {
      "text/plain": [
       "[[2, 4, 1], [3, 4, 1], [2, 3, 1]]"
      ]
     },
     "execution_count": 21,
     "metadata": {},
     "output_type": "execute_result"
    }
   ],
   "source": [
    "cycle_list"
   ]
  },
  {
   "cell_type": "code",
   "execution_count": 22,
   "id": "6b226b02-0beb-4df7-81ef-3819ea523590",
   "metadata": {},
   "outputs": [
    {
     "name": "stdout",
     "output_type": "stream",
     "text": [
      "{(1, 3): 17.73235, (1, 4): 103.13046, (1, 2): 0.54349, (2, 1): 0.00255, (2, 4): 10.05217, (2, 3): 1.02801, (3, 4): 6.6771, (3, 1): 0.01239, (3, 2): 0.20014, (4, 2): 0.00293, (4, 3): 50.82188, (4, 1): 29.97685}\n"
     ]
    }
   ],
   "source": [
    "print(label_dict)"
   ]
  },
  {
   "cell_type": "code",
   "execution_count": 23,
   "id": "efa1768e-31d9-4515-bbd8-148d20254e82",
   "metadata": {},
   "outputs": [],
   "source": [
    "cycle_edges_forward,cycle_edges_backward,cycle_labels_forward,cycle_labels_backward = get_cycle_labels_edges(cycle_list,label_dict)"
   ]
  },
  {
   "cell_type": "code",
   "execution_count": 24,
   "id": "68c79dfe-bc65-4cf3-a879-276bf908a767",
   "metadata": {},
   "outputs": [
    {
     "data": {
      "text/plain": [
       "[[(4, 2), (1, 4), (2, 1)], [(4, 3), (1, 4), (3, 1)], [(3, 2), (1, 3), (2, 1)]]"
      ]
     },
     "execution_count": 24,
     "metadata": {},
     "output_type": "execute_result"
    }
   ],
   "source": [
    "cycle_edges_backward"
   ]
  },
  {
   "cell_type": "code",
   "execution_count": 25,
   "id": "b4bd3709-fa74-4b5c-9fb8-17d681e63741",
   "metadata": {},
   "outputs": [
    {
     "data": {
      "text/plain": [
       "[[(2, 4), (4, 1), (1, 2)], [(3, 4), (4, 1), (1, 3)], [(2, 3), (3, 1), (1, 2)]]"
      ]
     },
     "execution_count": 25,
     "metadata": {},
     "output_type": "execute_result"
    }
   ],
   "source": [
    "cycle_edges_forward"
   ]
  },
  {
   "cell_type": "code",
   "execution_count": 26,
   "id": "132ba78e-2c9c-454b-8b8c-e3e4fb58719d",
   "metadata": {},
   "outputs": [],
   "source": [
    "shared_cycle_edges_list,all_cycle_edges_forward = shared_edges_cycles(cycle_list,\n",
    "                                                                      cycle_edges_forward,\n",
    "                                                                      cycle_edges_backward)"
   ]
  },
  {
   "cell_type": "code",
   "execution_count": 27,
   "id": "067005f1-af13-4830-9a29-97ad800233fe",
   "metadata": {},
   "outputs": [],
   "source": [
    "products_f, products_b = calculate_cycle_products(cycle_labels_forward,cycle_labels_backward)\n",
    "total_affinities = calculate_affinities(products_f, products_b, cycle_list)"
   ]
  },
  {
   "cell_type": "code",
   "execution_count": 28,
   "id": "4d11f7ac-9d3f-45b2-969f-c69dd7fdb1c7",
   "metadata": {},
   "outputs": [
    {
     "name": "stdout",
     "output_type": "stream",
     "text": [
      "Cycle 0 affinity after solve: -6.803368632346540555e-17\n",
      "Cycle 1 affinity after solve: 3.4694469519536141828e-18\n",
      "Cycle 2 affinity after solve: -6.505213034913026816e-17\n"
     ]
    }
   ],
   "source": [
    "cycle_labels_forward, edge_tracker, index_tracker = equilibrium_params_2(cycle_list,\n",
    "                                                                         cycle_edges_forward,\n",
    "                                                                         shared_cycle_edges_list,\n",
    "                                                                         all_cycle_edges_forward,\n",
    "                                                                         cycle_labels_forward,\n",
    "                                                                         cycle_labels_backward,\n",
    "                                                                         products_f,\n",
    "                                                                         products_b)"
   ]
  },
  {
   "cell_type": "code",
   "execution_count": 30,
   "id": "4da52e0c-e910-4dc0-8acd-0413e6d8a92f",
   "metadata": {},
   "outputs": [
    {
     "name": "stdout",
     "output_type": "stream",
     "text": [
      "Cycle 0 affinity after solve: 0.0\n",
      "Cycle 1 affinity after solve: 0.0\n",
      "Cycle 2 affinity after solve: 0.0\n"
     ]
    }
   ],
   "source": [
    "cycle_labels_forward, edge_tracker, index_tracker = equilibrium_params(cycle_list,\n",
    "                                                                       cycle_edges_forward,\n",
    "                                                                       cycle_labels_forward,\n",
    "                                                                       cycle_labels_backward,\n",
    "                                                                       shared_cycle_edges_list)"
   ]
  },
  {
   "cell_type": "code",
   "execution_count": 48,
   "id": "54c75c23-8465-4726-9684-bbec648d8897",
   "metadata": {},
   "outputs": [
    {
     "name": "stdout",
     "output_type": "stream",
     "text": [
      "Cycle 0 affinity after solve: 0.0\n",
      "Cycle 1 affinity after solve: 2.2204460492503128e-16\n"
     ]
    },
    {
     "data": {
      "image/png": "[encoded data removed]",
      "text/plain": [
       "<Figure size 432x288 with 1 Axes>"
      ]
     },
     "metadata": {},
     "output_type": "display_data"
    }
   ],
   "source": [
    "# cleaner workflow to test\n",
    "\n",
    "G, G_ud = random_graph_n(4)\n",
    "nx.draw(G)\n",
    "cycles = get_cycles(G_ud)\n",
    "ed_f, ed_b, lb_f, lb_b = get_cycle_labels_edges(cycles, get_labels(G)[0])\n",
    "pf = calculate_cycle_products(lb_f, lb_b)[0]\n",
    "pb = calculate_cycle_products(lb_f, lb_b)[1]\n",
    "shared_edges, all_ed_f = shared_edges_cycles(cycles,\n",
    "                                            ed_f,\n",
    "                                            ed_b)\n",
    "# Actually call your new function:\n",
    "new_clf, tracker, idx = equilibrium_params(\n",
    "    cycles, ed_f, lb_f, lb_b, shared_edges)\n",
    "# Then recompute affinities to verify every cycle is ≈ 0."
   ]
  },
  {
   "cell_type": "code",
   "execution_count": null,
   "id": "601d7947-a310-4a90-9f8c-289bdf165304",
   "metadata": {},
   "outputs": [],
   "source": []
  }
 ],
 "metadata": {
  "kernelspec": {
   "display_name": "Python 3 (ipykernel)",
   "language": "python",
   "name": "python3"
  },
  "language_info": {
   "codemirror_mode": {
    "name": "ipython",
    "version": 3
   },
   "file_extension": ".py",
   "mimetype": "text/x-python",
   "name": "python",
   "nbconvert_exporter": "python",
   "pygments_lexer": "ipython3",
   "version": "3.9.19"
  }
 },
 "nbformat": 4,
 "nbformat_minor": 5
}
