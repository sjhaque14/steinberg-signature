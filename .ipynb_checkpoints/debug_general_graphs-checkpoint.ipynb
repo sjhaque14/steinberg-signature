{
 "cells": [
  {
   "cell_type": "code",
   "execution_count": 1,
   "id": "8afba899-ce0e-4bbf-8272-cd852c8fb712",
   "metadata": {},
   "outputs": [],
   "source": [
    "import numpy as np\n",
    "import matplotlib.pyplot as plt\n",
    "from tqdm import tqdm\n",
    "from collections import Counter\n",
    "\n",
    "from general_graph_utils_main import *"
   ]
  },
  {
   "cell_type": "code",
   "execution_count": 4,
   "id": "552d7943-cce7-4f31-97a3-ccc8765c8cac",
   "metadata": {},
   "outputs": [],
   "source": [
    "G, G_ud = random_graph_n(4)"
   ]
  },
  {
   "cell_type": "code",
   "execution_count": 5,
   "id": "8762736a-ea93-40e1-8f1a-440f740dfdc6",
   "metadata": {},
   "outputs": [
    {
     "data": {
      "image/png": "[encoded data removed]",
      "text/plain": [
       "<Figure size 720x576 with 1 Axes>"
      ]
     },
     "metadata": {},
     "output_type": "display_data"
    }
   ],
   "source": [
    "fig, ax = plt.subplots(figsize = (10, 8))\n",
    "nx.draw(G, pos=nx.circular_layout(G), with_labels=True, node_size=2000, node_color = 'lightgray', font_size=18, font_color='black', font_family='sans-serif')"
   ]
  },
  {
   "cell_type": "code",
   "execution_count": 6,
   "id": "c7ceed8a-72d0-4ebc-a142-f0e7bdefe426",
   "metadata": {},
   "outputs": [],
   "source": [
    "node_list = get_nodes(G)\n",
    "num_nodes = len(node_list)\n",
    "edge_list = get_edges(G)\n",
    "cycle_list = get_cycles(G_ud)\n",
    "num_cycles = len(cycle_list)\n",
    "label_dict, label_list = get_labels(G)"
   ]
  },
  {
   "cell_type": "code",
   "execution_count": 7,
   "id": "4f0ee484-ba0b-4c82-aaa3-dcdafce045b6",
   "metadata": {},
   "outputs": [
    {
     "data": {
      "text/plain": [
       "[[4, 2, 1], [4, 3, 2]]"
      ]
     },
     "execution_count": 7,
     "metadata": {},
     "output_type": "execute_result"
    }
   ],
   "source": [
    "cycle_list"
   ]
  },
  {
   "cell_type": "code",
   "execution_count": 8,
   "id": "6b226b02-0beb-4df7-81ef-3819ea523590",
   "metadata": {},
   "outputs": [
    {
     "name": "stdout",
     "output_type": "stream",
     "text": [
      "{(1, 2): 8.47142, (1, 4): 177.99284, (2, 4): 46.59501, (2, 3): 0.27878, (2, 1): 43.13626, (3, 4): 8.41159, (3, 2): 23.68483, (4, 1): 754.61485, (4, 2): 3.35559, (4, 3): 0.00367}\n"
     ]
    }
   ],
   "source": [
    "print(label_dict)"
   ]
  },
  {
   "cell_type": "code",
   "execution_count": 11,
   "id": "efa1768e-31d9-4515-bbd8-148d20254e82",
   "metadata": {},
   "outputs": [],
   "source": [
    "cycle_edges_forward,cycle_edges_backward,cycle_labels_forward,cycle_labels_backward = get_cycle_labels_edges(cycle_list,label_dict)"
   ]
  },
  {
   "cell_type": "code",
   "execution_count": 12,
   "id": "68c79dfe-bc65-4cf3-a879-276bf908a767",
   "metadata": {},
   "outputs": [
    {
     "data": {
      "text/plain": [
       "[[(2, 4), (1, 2), (4, 1)], [(3, 4), (2, 3), (4, 2)]]"
      ]
     },
     "execution_count": 12,
     "metadata": {},
     "output_type": "execute_result"
    }
   ],
   "source": [
    "cycle_edges_backward"
   ]
  },
  {
   "cell_type": "code",
   "execution_count": 13,
   "id": "b4bd3709-fa74-4b5c-9fb8-17d681e63741",
   "metadata": {},
   "outputs": [
    {
     "data": {
      "text/plain": [
       "[[(4, 2), (2, 1), (1, 4)], [(4, 3), (3, 2), (2, 4)]]"
      ]
     },
     "execution_count": 13,
     "metadata": {},
     "output_type": "execute_result"
    }
   ],
   "source": [
    "cycle_edges_forward"
   ]
  },
  {
   "cell_type": "code",
   "execution_count": 14,
   "id": "132ba78e-2c9c-454b-8b8c-e3e4fb58719d",
   "metadata": {},
   "outputs": [],
   "source": [
    "shared_cycle_edges_list,all_cycle_edges_forward = shared_edges_cycles(cycle_list,\n",
    "                                                                      cycle_edges_forward,\n",
    "                                                                      cycle_edges_backward)"
   ]
  },
  {
   "cell_type": "code",
   "execution_count": 15,
   "id": "067005f1-af13-4830-9a29-97ad800233fe",
   "metadata": {},
   "outputs": [],
   "source": [
    "products_f, products_b = calculate_cycle_products(cycle_labels_forward,cycle_labels_backward)\n",
    "total_affinities = calculate_affinities(products_f, products_b, cycle_list)"
   ]
  },
  {
   "cell_type": "code",
   "execution_count": 16,
   "id": "4d11f7ac-9d3f-45b2-969f-c69dd7fdb1c7",
   "metadata": {},
   "outputs": [
    {
     "name": "stdout",
     "output_type": "stream",
     "text": [
      "Cycle 0 affinity after solve: 1.330316065639713852e-16\n",
      "Cycle 1 affinity after solve: -2.9219248548484344924e-17\n"
     ]
    }
   ],
   "source": [
    "cycle_labels_forward, edge_tracker, index_tracker = equilibrium_params_2(cycle_list,\n",
    "                                                                         cycle_edges_forward,\n",
    "                                                                         shared_cycle_edges_list,\n",
    "                                                                         all_cycle_edges_forward,\n",
    "                                                                         cycle_labels_forward,\n",
    "                                                                         cycle_labels_backward,\n",
    "                                                                         products_f,\n",
    "                                                                         products_b)"
   ]
  },
  {
   "cell_type": "code",
   "execution_count": 17,
   "id": "4da52e0c-e910-4dc0-8acd-0413e6d8a92f",
   "metadata": {},
   "outputs": [
    {
     "name": "stdout",
     "output_type": "stream",
     "text": [
      "Cycle 0 affinity after solve: -1.6276657975762776865\n",
      "Cycle 1 affinity after solve: 7.7371741336728965996\n"
     ]
    }
   ],
   "source": [
    "cycle_labels_forward, cycle_labels_backward, edge_tracker, index_tracker = equilibrium_params(cycle_list,\n",
    "                                                                                              cycle_edges_forward,\n",
    "                                                                                              cycle_labels_forward,\n",
    "                                                                                              cycle_edges_backward,\n",
    "                                                                                              cycle_labels_backward,\n",
    "                                                                                              shared_cycle_edges_list)"
   ]
  },
  {
   "cell_type": "code",
   "execution_count": null,
   "id": "54c75c23-8465-4726-9684-bbec648d8897",
   "metadata": {},
   "outputs": [],
   "source": []
  }
 ],
 "metadata": {
  "kernelspec": {
   "display_name": "Python 3 (ipykernel)",
   "language": "python",
   "name": "python3"
  },
  "language_info": {
   "codemirror_mode": {
    "name": "ipython",
    "version": 3
   },
   "file_extension": ".py",
   "mimetype": "text/x-python",
   "name": "python",
   "nbconvert_exporter": "python",
   "pygments_lexer": "ipython3",
   "version": "3.9.19"
  }
 },
 "nbformat": 4,
 "nbformat_minor": 5
}
