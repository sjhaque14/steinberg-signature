{
 "cells": [
  {
   "cell_type": "code",
   "execution_count": 1,
   "id": "e32a2c2e-189a-495c-be00-ec56f5af1bcd",
   "metadata": {},
   "outputs": [],
   "source": [
    "import numpy as np\n",
    "import matplotlib.pyplot as plt\n",
    "from tqdm import tqdm\n",
    "from collections import Counter\n",
    "\n",
    "from general_graph_utils_main import *\n",
    "from steinberg_utils_3vertex import *"
   ]
  },
  {
   "cell_type": "markdown",
   "id": "f8964e5a-ad54-4cd8-8d6a-2b6078209f7a",
   "metadata": {},
   "source": [
    "Figure 4D"
   ]
  },
  {
   "cell_type": "code",
   "execution_count": 3,
   "id": "cc8bd298-be3d-4d3b-9741-1e462e5f2773",
   "metadata": {
    "tags": []
   },
   "outputs": [
    {
     "data": {
      "image/png": "[encoded data removed]",
      "text/plain": [
       "<Figure size 432x288 with 1 Axes>"
      ]
     },
     "metadata": {},
     "output_type": "display_data"
    }
   ],
   "source": [
    "G = nx.DiGraph()\n",
    "G.add_node(1)\n",
    "G.add_node(2)\n",
    "G.add_node(3)\n",
    "G.add_node(4)\n",
    "G.add_edge(1, 2)\n",
    "G.add_edge(2, 1)\n",
    "G.add_edge(1, 4)\n",
    "G.add_edge(4, 1)\n",
    "G.add_edge(3, 4)\n",
    "G.add_edge(4, 3)\n",
    "G.add_edge(3, 2)\n",
    "G.add_edge(2, 3)\n",
    "G.add_edge(4, 2)\n",
    "G.add_edge(2, 4)\n",
    "\n",
    "G_ud = nx.Graph()\n",
    "G_ud.add_node(1)\n",
    "G_ud.add_node(2)\n",
    "G_ud.add_node(3)\n",
    "G_ud.add_node(4)\n",
    "G_ud.add_edge(1, 2)\n",
    "G_ud.add_edge(2, 1)\n",
    "G_ud.add_edge(1, 4)\n",
    "G_ud.add_edge(4, 1)\n",
    "G_ud.add_edge(3, 4)\n",
    "G_ud.add_edge(4, 3)\n",
    "G_ud.add_edge(3, 2)\n",
    "G_ud.add_edge(2, 3)\n",
    "G_ud.add_edge(4, 2)\n",
    "G_ud.add_edge(2, 4)\n",
    "\n",
    "nx.draw(G, \n",
    "        pos=nx.circular_layout(G), \n",
    "        with_labels=True, \n",
    "        node_size=2000, \n",
    "        node_color = 'lightgray', \n",
    "        font_size=18, \n",
    "        font_color='black', \n",
    "        font_family='sans-serif')"
   ]
  },
  {
   "cell_type": "code",
   "execution_count": 4,
   "id": "c3248a2e-8455-4fc4-9a0f-eae99956c1c5",
   "metadata": {},
   "outputs": [
    {
     "name": "stdout",
     "output_type": "stream",
     "text": [
      "{(1, 2): 1.0, (1, 4): 1.0, (2, 1): 1.0, (2, 3): 1.0, (2, 4): 1.0, (3, 4): 1.0, (3, 2): 1.0, (4, 1): 1.0, (4, 3): 1.0, (4, 2): 1.0}\n",
      "Cycle 0 affinity after solve: 0.0\n",
      "Cycle 1 affinity after solve: 0.0\n",
      "(1, 2)\n"
     ]
    }
   ],
   "source": [
    "# all ones\n",
    "\n",
    "edge_list = get_edges(G)        # list of (u,v) tuples\n",
    "node_list = get_nodes(G)\n",
    "# label the graph\n",
    "label_dict,label_list = get_labels_ones(G,edge_list)\n",
    "cycles = get_cycles(G_ud)\n",
    "edgesf, edgesb, labelsf, labelsb = get_cycle_labels_edges(cycles, label_dict)\n",
    "\n",
    "print(label_dict)\n",
    "\n",
    "# which edges are shared between cycles?\n",
    "shared_edges, all_edges_f = shared_edges_cycles(cycles,\n",
    "                                            edgesf,\n",
    "                                            edgesb)\n",
    "\n",
    "# set each cycle to thermodynamic equilibrium, output affinities\n",
    "new_labelsf, edge_tracker, idx_tracker = equilibrium_params(cycles, edgesf, labelsf, labelsb, shared_edges)\n",
    "\n",
    "# update graph's data structures \n",
    "\n",
    "# Update label_dict & build label_list in edge_list order:\n",
    "new_label_dict, new_label_list = reformat_labels(edge_tracker,\n",
    "                                                 idx_tracker,\n",
    "                                                 new_labelsf,\n",
    "                                                 label_dict,\n",
    "                                                 edge_list)\n",
    "\n",
    "label_dict = new_label_dict\n",
    "label_list = new_label_list\n",
    "\n",
    "edgesf, edgesb, labelsf, labelsb = get_cycle_labels_edges(cycles, label_dict)\n",
    "L  = Laplacian_all(edge_list, label_list, node_list)\n",
    "pi = steady_state_spectrum(L)\n",
    "\n",
    "perturb_edge = edgesf[0][2]\n",
    "print(perturb_edge)\n",
    "\n",
    "#----#\n",
    "\n",
    "signal = make_observable(node_list)\n",
    "alpha, beta  = 1, 3"
   ]
  },
  {
   "cell_type": "code",
   "execution_count": 5,
   "id": "30263957-0b44-4164-b68a-3f136da66741",
   "metadata": {},
   "outputs": [
    {
     "name": "stderr",
     "output_type": "stream",
     "text": [
      "100%|███████████████████████████████████████| 2000/2000 [02:51<00:00, 11.68it/s]\n"
     ]
    }
   ],
   "source": [
    "N = 2000\n",
    "all_affinities = np.zeros((N,len(cycles)))\n",
    "all_areas = np.zeros((N,1))\n",
    "\n",
    "for i in tqdm(range(0,N)):\n",
    "    \n",
    "    # 1. update the edge label value for the chosen rate in label_dict, label_list    \n",
    "    label_list = np.array([label_dict[e] for e in edge_list], dtype=float)\n",
    "    edgesf, edgesb, labelsf, labelsb = get_cycle_labels_edges(cycles, label_dict)\n",
    "    \n",
    "    # 2. update the Laplacian\n",
    "    L = Laplacian_all(edge_list,label_list,node_list)\n",
    "    \n",
    "    # 3. calculate and store the affinity\n",
    "    prodf, prodb = calculate_cycle_products(labelsf, labelsb)\n",
    "    all_affinities[i] = calculate_affinities(prodf,prodb,cycles)\n",
    "    \n",
    "    # 4. calculate and store the Steinberg signature\n",
    "    tau, _ = define_tau_range(L, max_points=500, cap_factor=10.0)\n",
    "    pi = steady_state_spectrum(L)\n",
    "    a13, a31 = asymmetric_autocorrelation(signal,L,tau,pi,alpha=1,beta=3)\n",
    "    all_areas[i] = numerical_area(a13,a31)\n",
    "    \n",
    "    # 5. perturb chosen parameter for next iteration \n",
    "    label_dict[perturb_edge] *= 1.01"
   ]
  },
  {
   "cell_type": "code",
   "execution_count": 6,
   "id": "8fe22d55-43ec-456f-b6a8-ea21a3f64971",
   "metadata": {},
   "outputs": [
    {
     "data": {
      "image/png": "[encoded data removed]",
      "text/plain": [
       "<Figure size 432x288 with 1 Axes>"
      ]
     },
     "metadata": {
      "needs_background": "light"
     },
     "output_type": "display_data"
    }
   ],
   "source": [
    "fig = plt.figure()\n",
    "for i in range(len(cycles)):\n",
    "    plt.plot(np.abs(all_affinities[:,0]),all_areas,label=r'$\\mathcal{I}^{1,3}(G)$',linewidth=1, color= 'black')\n",
    "plt.xlabel(r\"$\\mathcal{A}(C)$\")\n",
    "plt.ylabel(r\"$\\mathcal{I}^{1,3}(G)$\")\n",
    "plt.show()\n",
    "#fig.savefig('4v2c_allones.pdf', dpi = 900, bbox_inches='tight',facecolor=fig.get_facecolor(), edgecolor='none')"
   ]
  },
  {
   "cell_type": "code",
   "execution_count": 53,
   "id": "743a8655-1818-471e-95ef-43a3ed7bc6f8",
   "metadata": {
    "tags": []
   },
   "outputs": [
    {
     "name": "stdout",
     "output_type": "stream",
     "text": [
      "[889]\n",
      "{(1, 2): 0.3727, (1, 4): 70.45, (2, 1): 31.45, (2, 3): 0.2702, (2, 4): 0.0445, (3, 4): 0.252, (3, 2): 1.059, (4, 1): 796.2, (4, 3): 0.2995, (4, 2): 0.03452}\n",
      "Cycle 0 affinity after solve: 0.0\n",
      "Cycle 1 affinity after solve: 0.0\n",
      "[[(2, 4), (4, 1), (1, 2)], [(2, 3), (3, 4), (4, 2)]]\n",
      "(1, 2)\n"
     ]
    }
   ],
   "source": [
    "# param_set1\n",
    "\n",
    "seed = np.random.choice(np.arange(1,1000), size=1)\n",
    "print(seed)\n",
    "\n",
    "np.random.seed(seed)\n",
    "\n",
    "edge_list = get_edges(G)        # list of (u,v) tuples\n",
    "node_list = get_nodes(G)\n",
    "# label the graph\n",
    "label_dict1,label_list = get_labels(G,edge_list)\n",
    "cycles = get_cycles(G_ud)\n",
    "edgesf, edgesb, labelsf, labelsb = get_cycle_labels_edges(cycles, label_dict1)\n",
    "\n",
    "print(label_dict1)\n",
    "\n",
    "# which edges are shared between cycles?\n",
    "shared_edges, all_edges_f = shared_edges_cycles(cycles,\n",
    "                                            edgesf,\n",
    "                                            edgesb)\n",
    "\n",
    "# set each cycle to thermodynamic equilibrium, output affinities\n",
    "new_labelsf, edge_tracker, idx_tracker = equilibrium_params(cycles, edgesf, labelsf, labelsb, shared_edges)\n",
    "\n",
    "# update graph's data structures \n",
    "\n",
    "# Update label_dict & build label_list in edge_list order:\n",
    "new_label_dict, new_label_list = reformat_labels(edge_tracker,\n",
    "                                                 idx_tracker,\n",
    "                                                 new_labelsf,\n",
    "                                                 label_dict1,\n",
    "                                                 edge_list)\n",
    "\n",
    "label_dict1 = new_label_dict\n",
    "label_list = new_label_list\n",
    "\n",
    "edgesf, edgesb, labelsf, labelsb = get_cycle_labels_edges(cycles, label_dict1)\n",
    "L  = Laplacian_all(edge_list, label_list, node_list)\n",
    "pi = steady_state_spectrum(L)\n",
    "\n",
    "cycle_idx = 0\n",
    "edge_idx = 2\n",
    "\n",
    "print(edgesf)\n",
    "\n",
    "perturb_edge = edgesf[cycle_idx][edge_idx]\n",
    "\n",
    "print(perturb_edge)\n",
    "\n",
    "#----#\n",
    "\n",
    "signal = make_observable(node_list)\n",
    "alpha, beta  = 1, 3"
   ]
  },
  {
   "cell_type": "code",
   "execution_count": 54,
   "id": "f7ae0f7a-9448-4d25-ab22-a2f70a454c0a",
   "metadata": {},
   "outputs": [
    {
     "name": "stderr",
     "output_type": "stream",
     "text": [
      "100%|███████████████████████████████████████| 2000/2000 [02:52<00:00, 11.61it/s]\n"
     ]
    }
   ],
   "source": [
    "N = 2000\n",
    "all_affinities1 = np.zeros((N,len(cycles)))\n",
    "all_areas1 = np.zeros((N,1))\n",
    "\n",
    "for i in tqdm(range(0,N)):\n",
    "    \n",
    "    # 1. update the edge label value for the chosen rate in label_dict, label_list    \n",
    "    label_list = np.array([label_dict1[e] for e in edge_list], dtype=float)\n",
    "    edgesf, edgesb, labelsf, labelsb = get_cycle_labels_edges(cycles, label_dict1)\n",
    "    \n",
    "    # 2. update the Laplacian\n",
    "    L = Laplacian_all(edge_list,label_list,node_list)\n",
    "    \n",
    "    # 3. calculate and store the affinity\n",
    "    prodf, prodb = calculate_cycle_products(labelsf, labelsb)\n",
    "    all_affinities1[i] = calculate_affinities(prodf,prodb,cycles)\n",
    "    \n",
    "    # 4. calculate and store the Steinberg signature\n",
    "    tau, _ = define_tau_range(L, max_points=500, cap_factor=10.0)\n",
    "    pi = steady_state_spectrum(L)\n",
    "    a13, a31 = asymmetric_autocorrelation(signal,L,tau,pi,alpha=1,beta=3)\n",
    "    all_areas1[i] = numerical_area(a13,a31)\n",
    "    \n",
    "    # 5. perturb chosen parameter for next iteration \n",
    "    label_dict1[perturb_edge] *= 1.01"
   ]
  },
  {
   "cell_type": "code",
   "execution_count": 55,
   "id": "e9c3cc48-c850-4ef4-bdb9-74d15faba2d1",
   "metadata": {},
   "outputs": [
    {
     "data": {
      "image/png": "[encoded data removed]",
      "text/plain": [
       "<Figure size 432x288 with 1 Axes>"
      ]
     },
     "metadata": {
      "needs_background": "light"
     },
     "output_type": "display_data"
    }
   ],
   "source": [
    "for i in range(len(cycles)):\n",
    "    plt.plot(np.abs(all_affinities1[:,0]),all_areas1,label=r'$\\mathcal{I}^{1,3}(G)$',linewidth=1, color= 'black')\n",
    "plt.xlabel(r\"$\\tilde{A}(C)$\")\n",
    "plt.ylabel(r\"$\\mathcal{I}^{1,3}(G)$\")\n",
    "plt.show()"
   ]
  },
  {
   "cell_type": "code",
   "execution_count": 56,
   "id": "4686b41a-ea59-4f9e-9697-e41059834c7d",
   "metadata": {},
   "outputs": [
    {
     "name": "stdout",
     "output_type": "stream",
     "text": [
      "[669]\n",
      "{(1, 2): 3.634, (1, 4): 12.02, (2, 1): 0.1782, (2, 3): 0.00356, (2, 4): 0.04175, (3, 4): 0.08741, (3, 2): 0.8482, (4, 1): 5.022, (4, 3): 0.4757, (4, 2): 4.086}\n",
      "Cycle 0 affinity after solve: -2.220446049250313e-16\n",
      "Cycle 1 affinity after solve: -2.220446049250313e-16\n",
      "[[(2, 4), (4, 1), (1, 2)], [(2, 3), (3, 4), (4, 2)]]\n",
      "(1, 2)\n"
     ]
    }
   ],
   "source": [
    "# param_set2\n",
    "\n",
    "seed = np.random.choice(np.arange(1,1000), size=1)\n",
    "print(seed)\n",
    "\n",
    "np.random.seed(seed)\n",
    "\n",
    "edge_list = get_edges(G)        # list of (u,v) tuples\n",
    "node_list = get_nodes(G)\n",
    "# label the graph\n",
    "label_dict2,label_list = get_labels(G,edge_list)\n",
    "cycles = get_cycles(G_ud)\n",
    "edgesf, edgesb, labelsf, labelsb = get_cycle_labels_edges(cycles, label_dict2)\n",
    "\n",
    "print(label_dict2)\n",
    "\n",
    "# which edges are shared between cycles?\n",
    "shared_edges, all_edges_f = shared_edges_cycles(cycles,\n",
    "                                            edgesf,\n",
    "                                            edgesb)\n",
    "\n",
    "# set each cycle to thermodynamic equilibrium, output affinities\n",
    "new_labelsf, edge_tracker, idx_tracker = equilibrium_params(cycles, edgesf, labelsf, labelsb, shared_edges)\n",
    "\n",
    "# update graph's data structures \n",
    "\n",
    "# Update label_dict & build label_list in edge_list order:\n",
    "new_label_dict, new_label_list = reformat_labels(edge_tracker,\n",
    "                                                 idx_tracker,\n",
    "                                                 new_labelsf,\n",
    "                                                 label_dict2,\n",
    "                                                 edge_list)\n",
    "\n",
    "label_dict2 = new_label_dict\n",
    "label_list = new_label_list\n",
    "\n",
    "edgesf, edgesb, labelsf, labelsb = get_cycle_labels_edges(cycles, label_dict2)\n",
    "L  = Laplacian_all(edge_list, label_list, node_list)\n",
    "pi = steady_state_spectrum(L)\n",
    "\n",
    "cycle_idx = 0\n",
    "edge_idx = 2\n",
    "\n",
    "print(edgesf)\n",
    "\n",
    "perturb_edge = edgesf[cycle_idx][edge_idx]\n",
    "\n",
    "print(perturb_edge)\n",
    "\n",
    "#----#\n",
    "\n",
    "signal = make_observable(node_list)\n",
    "alpha, beta  = 1, 3"
   ]
  },
  {
   "cell_type": "code",
   "execution_count": 57,
   "id": "27765e47-e8a7-4f6b-99b1-bbf2587666af",
   "metadata": {},
   "outputs": [
    {
     "name": "stderr",
     "output_type": "stream",
     "text": [
      "100%|███████████████████████████████████████| 2000/2000 [02:59<00:00, 11.14it/s]\n"
     ]
    }
   ],
   "source": [
    "N = 2000\n",
    "all_affinities2 = np.zeros((N,len(cycles)))\n",
    "all_areas2 = np.zeros((N,1))\n",
    "\n",
    "for i in tqdm(range(0,N)):\n",
    "    \n",
    "    # 1. update the edge label value for the chosen rate in label_dict, label_list    \n",
    "    label_list = np.array([label_dict2[e] for e in edge_list], dtype=float)\n",
    "    edgesf, edgesb, labelsf, labelsb = get_cycle_labels_edges(cycles, label_dict2)\n",
    "    \n",
    "    # 2. update the Laplacian\n",
    "    L = Laplacian_all(edge_list,label_list,node_list)\n",
    "    \n",
    "    # 3. calculate and store the affinity\n",
    "    prodf, prodb = calculate_cycle_products(labelsf, labelsb)\n",
    "    all_affinities2[i] = calculate_affinities(prodf,prodb,cycles)\n",
    "    \n",
    "    # 4. calculate and store the Steinberg signature\n",
    "    tau, _ = define_tau_range(L, max_points=500, cap_factor=10.0)\n",
    "    pi = steady_state_spectrum(L)\n",
    "    a13, a31 = asymmetric_autocorrelation(signal,L,tau,pi,alpha=1,beta=3)\n",
    "    all_areas2[i] = numerical_area(a13,a31)\n",
    "    \n",
    "    # 5. perturb chosen parameter for next iteration \n",
    "    label_dict2[perturb_edge] *= 1.01"
   ]
  },
  {
   "cell_type": "code",
   "execution_count": 58,
   "id": "81a22596-d1c8-4900-83a4-e4f9e046ea2d",
   "metadata": {},
   "outputs": [
    {
     "data": {
      "image/png": "[encoded data removed]",
      "text/plain": [
       "<Figure size 432x288 with 1 Axes>"
      ]
     },
     "metadata": {
      "needs_background": "light"
     },
     "output_type": "display_data"
    }
   ],
   "source": [
    "for i in range(len(cycles)):\n",
    "    plt.plot(np.abs(all_affinities2[:,0]),all_areas2,label=r'$\\mathcal{I}^{1,3}(G)$',linewidth=1, color= 'black')\n",
    "plt.xlabel(r\"$\\tilde{A}(C)$\")\n",
    "plt.ylabel(r\"$\\mathcal{I}^{1,3}(G)$\")\n",
    "plt.show()"
   ]
  },
  {
   "cell_type": "code",
   "execution_count": 59,
   "id": "7d18bf71-2459-4195-927a-286a7f28b1d7",
   "metadata": {},
   "outputs": [
    {
     "name": "stdout",
     "output_type": "stream",
     "text": [
      "[507]\n",
      "{(1, 2): 0.001234, (1, 4): 857.3, (2, 1): 11.13, (2, 3): 0.5729, (2, 4): 0.1805, (3, 4): 0.04191, (3, 2): 0.007725, (4, 1): 2.092, (4, 3): 0.02582, (4, 2): 0.09423}\n",
      "Cycle 0 affinity after solve: 0.0\n",
      "Cycle 1 affinity after solve: 0.0\n",
      "[[(2, 4), (4, 1), (1, 2)], [(2, 3), (3, 4), (4, 2)]]\n",
      "(1, 2)\n"
     ]
    }
   ],
   "source": [
    "# param_set3\n",
    "\n",
    "seed = np.random.choice(np.arange(1,1000), size=1)\n",
    "print(seed)\n",
    "\n",
    "np.random.seed(seed)\n",
    "\n",
    "edge_list = get_edges(G)        # list of (u,v) tuples\n",
    "node_list = get_nodes(G)\n",
    "# label the graph\n",
    "label_dict3,label_list = get_labels(G,edge_list)\n",
    "cycles = get_cycles(G_ud)\n",
    "edgesf, edgesb, labelsf, labelsb = get_cycle_labels_edges(cycles, label_dict3)\n",
    "\n",
    "print(label_dict3)\n",
    "\n",
    "# which edges are shared between cycles?\n",
    "shared_edges, all_edges_f = shared_edges_cycles(cycles,\n",
    "                                            edgesf,\n",
    "                                            edgesb)\n",
    "\n",
    "# set each cycle to thermodynamic equilibrium, output affinities\n",
    "new_labelsf, edge_tracker, idx_tracker = equilibrium_params(cycles, edgesf, labelsf, labelsb, shared_edges)\n",
    "\n",
    "# update graph's data structures \n",
    "\n",
    "# Update label_dict & build label_list in edge_list order:\n",
    "new_label_dict, new_label_list = reformat_labels(edge_tracker,\n",
    "                                                 idx_tracker,\n",
    "                                                 new_labelsf,\n",
    "                                                 label_dict3,\n",
    "                                                 edge_list)\n",
    "\n",
    "label_dict3 = new_label_dict\n",
    "label_list = new_label_list\n",
    "\n",
    "edgesf, edgesb, labelsf, labelsb = get_cycle_labels_edges(cycles, label_dict3)\n",
    "L  = Laplacian_all(edge_list, label_list, node_list)\n",
    "pi = steady_state_spectrum(L)\n",
    "\n",
    "cycle_idx = 0\n",
    "edge_idx = 2\n",
    "\n",
    "print(edgesf)\n",
    "\n",
    "perturb_edge = edgesf[cycle_idx][edge_idx]\n",
    "\n",
    "print(perturb_edge)\n",
    "\n",
    "#----#\n",
    "\n",
    "signal = make_observable(node_list)\n",
    "alpha, beta  = 1, 3"
   ]
  },
  {
   "cell_type": "code",
   "execution_count": 60,
   "id": "34805a2a-c16b-403d-ac5d-7b16c25f005e",
   "metadata": {},
   "outputs": [
    {
     "name": "stderr",
     "output_type": "stream",
     "text": [
      "100%|███████████████████████████████████████| 2000/2000 [03:12<00:00, 10.37it/s]\n"
     ]
    }
   ],
   "source": [
    "N = 2000\n",
    "all_affinities3 = np.zeros((N,len(cycles)))\n",
    "all_areas3 = np.zeros((N,1))\n",
    "\n",
    "for i in tqdm(range(0,N)):\n",
    "    \n",
    "    # 1. update the edge label value for the chosen rate in label_dict, label_list    \n",
    "    label_list = np.array([label_dict3[e] for e in edge_list], dtype=float)\n",
    "    edgesf, edgesb, labelsf, labelsb = get_cycle_labels_edges(cycles, label_dict3)\n",
    "    \n",
    "    # 2. update the Laplacian\n",
    "    L = Laplacian_all(edge_list,label_list,node_list)\n",
    "    \n",
    "    # 3. calculate and store the affinity\n",
    "    prodf, prodb = calculate_cycle_products(labelsf, labelsb)\n",
    "    all_affinities3[i] = calculate_affinities(prodf,prodb,cycles)\n",
    "    \n",
    "    # 4. calculate and store the Steinberg signature\n",
    "    tau, _ = define_tau_range(L, max_points=500, cap_factor=10.0)\n",
    "    pi = steady_state_spectrum(L)\n",
    "    a13, a31 = asymmetric_autocorrelation(signal,L,tau,pi,alpha=1,beta=3)\n",
    "    all_areas3[i] = numerical_area(a13,a31)\n",
    "    \n",
    "    # 5. perturb chosen parameter for next iteration \n",
    "    label_dict3[perturb_edge] *= 1.01"
   ]
  },
  {
   "cell_type": "code",
   "execution_count": 61,
   "id": "ad2a64dd-ed24-4da6-b1cb-f01b7468617d",
   "metadata": {},
   "outputs": [
    {
     "data": {
      "image/png": "[encoded data removed]",
      "text/plain": [
       "<Figure size 432x288 with 1 Axes>"
      ]
     },
     "metadata": {
      "needs_background": "light"
     },
     "output_type": "display_data"
    }
   ],
   "source": [
    "for i in range(len(cycles)):\n",
    "    plt.plot(np.abs(all_affinities3[:,0]),all_areas3,label=r'$\\mathcal{I}^{1,3}(G)$',linewidth=1, color= 'black')\n",
    "plt.xlabel(r\"$\\tilde{A}(C)$\")\n",
    "plt.ylabel(r\"$\\mathcal{I}^{1,3}(G)$\")\n",
    "plt.show()"
   ]
  },
  {
   "cell_type": "code",
   "execution_count": 64,
   "id": "2c3fcccd-a25d-4fc6-84c7-a0329cb01c9e",
   "metadata": {},
   "outputs": [
    {
     "data": {
      "image/png": "[encoded data removed]",
      "text/plain": [
       "<Figure size 1008x864 with 1 Axes>"
      ]
     },
     "metadata": {
      "needs_background": "light"
     },
     "output_type": "display_data"
    }
   ],
   "source": [
    "fig, ax = plt.subplots(figsize = (14, 12))\n",
    "\n",
    "plt.plot(np.abs(all_affinities1[:,0]),all_areas1,linewidth=2, color = 'black', label = '1')\n",
    "plt.plot(np.abs(all_affinities2[:,0]),all_areas2,linewidth=2, color = 'deepskyblue', label = '2')\n",
    "plt.plot(np.abs(all_affinities3[:,0]),all_areas3,linewidth=2, color = 'orange', label = '3')\n",
    "\n",
    "plt.legend()\n",
    "plt.xlabel(r\"$\\tilde{A}(C)$\")\n",
    "plt.ylabel(r\"$\\mathcal{I}^{1,3}(G)$\")\n",
    "plt.show()\n",
    "fig.savefig('4Dnew.pdf', dpi = 900, bbox_inches='tight',facecolor=fig.get_facecolor(), edgecolor='none')"
   ]
  },
  {
   "cell_type": "code",
   "execution_count": null,
   "id": "aed9f95d-14b7-4d36-8e3a-d49d0b3275e8",
   "metadata": {},
   "outputs": [],
   "source": []
  }
 ],
 "metadata": {
  "kernelspec": {
   "display_name": "Python 3 (ipykernel)",
   "language": "python",
   "name": "python3"
  },
  "language_info": {
   "codemirror_mode": {
    "name": "ipython",
    "version": 3
   },
   "file_extension": ".py",
   "mimetype": "text/x-python",
   "name": "python",
   "nbconvert_exporter": "python",
   "pygments_lexer": "ipython3",
   "version": "3.9.19"
  }
 },
 "nbformat": 4,
 "nbformat_minor": 5
}
