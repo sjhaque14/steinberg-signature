{
 "cells": [
  {
   "cell_type": "code",
   "execution_count": 1,
   "id": "5736d6c1-74ce-4cb6-a5b4-54d0762fbd26",
   "metadata": {},
   "outputs": [],
   "source": [
    "import numpy as np\n",
    "import matplotlib.pyplot as plt\n",
    "from tqdm import tqdm\n",
    "\n",
    "from general_graph_utils import *"
   ]
  },
  {
   "cell_type": "markdown",
   "id": "5f0d9795-414d-46e0-be5a-3424a582ac85",
   "metadata": {},
   "source": [
    "# Plot features"
   ]
  },
  {
   "cell_type": "code",
   "execution_count": 64,
   "id": "e12c1912-0e4e-4b3b-9c65-7487eda195d1",
   "metadata": {},
   "outputs": [],
   "source": [
    "# plot formatting\n",
    "plt.rc(\"text\", usetex=False) # renders LaTeX more quickly\n",
    "plt.rc(\"font\", family = \"serif\",size=14) # font specifications\n",
    "plt.rc(\"figure\",figsize=(14,12)) # figure size\n",
    "%config InlineBackend.figure_format = 'retina' # retina-display quality"
   ]
  }
 ],
 "metadata": {
  "kernelspec": {
   "display_name": "Python 3 (ipykernel)",
   "language": "python",
   "name": "python3"
  },
  "language_info": {
   "codemirror_mode": {
    "name": "ipython",
    "version": 3
   },
   "file_extension": ".py",
   "mimetype": "text/x-python",
   "name": "python",
   "nbconvert_exporter": "python",
   "pygments_lexer": "ipython3",
   "version": "3.9.19"
  }
 },
 "nbformat": 4,
 "nbformat_minor": 5
}
