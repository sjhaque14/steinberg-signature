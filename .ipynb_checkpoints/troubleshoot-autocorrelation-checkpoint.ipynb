{
 "cells": [
  {
   "cell_type": "code",
   "execution_count": 1,
   "id": "a5cb2969-f08c-40e5-bdf2-1a827edf5aa9",
   "metadata": {
    "tags": []
   },
   "outputs": [],
   "source": [
    "import numpy as np\n",
    "import scipy.linalg\n",
    "from general_graph_utils import *\n",
    "from tqdm import tqdm"
   ]
  },
  {
   "cell_type": "markdown",
   "id": "47d9fc42-6095-435b-9e3d-96569b22b47e",
   "metadata": {},
   "source": [
    "# Set parameters to something known"
   ]
  },
  {
   "cell_type": "code",
   "execution_count": 2,
   "id": "895141fe-1c6c-49a9-9ee3-bd29bba5a19d",
   "metadata": {},
   "outputs": [],
   "source": [
    "def new_param_choice(G):\n",
    "    \"\"\"\n",
    "    Extracts the label information for each edge in a NetworkX graph object. If G not labeled, labels are logarithmically sampled.\n",
    "    \n",
    "    Note: works for undirected graph, but if given a choice, better to use a directed graph\n",
    "    \n",
    "    Parameters\n",
    "    ----------\n",
    "    G : NetworkX graph object (directed)\n",
    "            \n",
    "    Returns\n",
    "    -------\n",
    "    label_dict : dictionary\n",
    "        keys: edges in G represented as tuple (source,sink), values: edge labels\n",
    "        \n",
    "    label_list : 1D numpy array\n",
    "        list of edge labels in G\n",
    "        \n",
    "    \"\"\"\n",
    "    \n",
    "    label_dict = {}\n",
    "    \n",
    "    if nx.is_weighted(G)==True:\n",
    "        for i in range(len(G.edges())):\n",
    "            label_dict[list(G.edges())[i]] = G.get_edge_data(list(G.edges)[i][0],list(G.edges)[i][1])['weight']\n",
    "        \n",
    "    elif nx.is_weighted(G)==False:\n",
    "        label_dict = {e: 1.0 for e in G.edges}\n",
    "        \n",
    "    label_list = np.fromiter(label_dict.values(), dtype=float)\n",
    "    \n",
    "    return label_dict, label_list"
   ]
  },
  {
   "cell_type": "code",
   "execution_count": 3,
   "id": "4591eda1-59c6-471d-a981-bd7f2c0adaba",
   "metadata": {},
   "outputs": [],
   "source": [
    "def autocorrelation_analytical_wooo(observable,L,tau_n,alpha=1,beta=3):\n",
    "    \"\"\"\n",
    "    Calculates the analytical solution for autocorrelation function given a Laplacian matrix\n",
    "    \n",
    "    Parameters\n",
    "    ----------\n",
    "    observable : 1D array\n",
    "        possible values of observable (which is a state function on the Markov process)\n",
    "    L : 2D array\n",
    "        column-based Laplacian matrix of system (including diagonal entries)\n",
    "    tau_n : 1D array\n",
    "        range of intervals between values of observable taken by system\n",
    "    alpha : scalar\n",
    "        exponent\n",
    "    beta : scalar\n",
    "        exponent\n",
    "    \n",
    "    Returns\n",
    "    -------\n",
    "    t : 1D array\n",
    "        forward autocorrelation function values\n",
    "    t_rev : 1D array\n",
    "        reverse autocorrelation function values\n",
    "    \n",
    "    \"\"\"\n",
    "    f = np.array([observable])\n",
    "    fstar = f.T\n",
    "    \n",
    "    eigvals, eigvecs = scipy.linalg.eig(L)\n",
    "    pi = np.array([eigvecs[:,np.argmin(np.abs(eigvals))].real/sum(eigvecs[:,np.argmin(np.abs(eigvals))].real)]).T\n",
    "    \n",
    "    # initialize forward and reverse autocorrelation function arrays\n",
    "    t = np.zeros(len(tau_n))\n",
    "    t_rev = np.zeros(len(tau_n))\n",
    "    \n",
    "    list_result = list(map(lambda i: scipy.linalg.expm(L*i), tau_n))\n",
    "    \n",
    "    # populate arrays with analytical solution to autocorrelation function\n",
    "    for i in range(len(tau_n)):\n",
    "        t[i] = f**alpha @ list_result[i] @(fstar ** beta * pi)\n",
    "        t_rev[i] = f**beta @ list_result[i] @(fstar ** alpha * pi)\n",
    "        \n",
    "    return t, t_rev"
   ]
  },
  {
   "cell_type": "code",
   "execution_count": 4,
   "id": "734fe524-959c-4fc5-910b-c787929d06aa",
   "metadata": {},
   "outputs": [],
   "source": [
    "def autocorrelation_analytical_wooo(observable,L,tau_n,alpha=1,beta=3):\n",
    "    \"\"\"\n",
    "    Calculates the analytical solution for autocorrelation function given a Laplacian matrix\n",
    "    \n",
    "    Parameters\n",
    "    ----------\n",
    "    observable : 1D array\n",
    "        possible values of observable (which is a state function on the Markov process)\n",
    "    L : 2D array\n",
    "        column-based Laplacian matrix of system (including diagonal entries)\n",
    "    tau_n : 1D array\n",
    "        range of intervals between values of observable taken by system\n",
    "    alpha : scalar\n",
    "        exponent\n",
    "    beta : scalar\n",
    "        exponent\n",
    "    \n",
    "    Returns\n",
    "    -------\n",
    "    t : 1D array\n",
    "        forward autocorrelation function values\n",
    "    t_rev : 1D array\n",
    "        reverse autocorrelation function values\n",
    "    \n",
    "    \"\"\"\n",
    "    f = np.array([observable])\n",
    "    fstar = f.T\n",
    "    \n",
    "    eigvals, eigvecs = scipy.linalg.eig(L)\n",
    "    pi = np.array([eigvecs[:,np.argmin(np.abs(eigvals))].real/sum(eigvecs[:,np.argmin(np.abs(eigvals))].real)]).T\n",
    "    \n",
    "    # initialize forward and reverse autocorrelation function arrays\n",
    "    t = np.zeros(len(tau_n))\n",
    "    t_rev = np.zeros(len(tau_n))\n",
    "    \n",
    "    list_result = list(map(lambda i: scipy.linalg.expm(L*i), tau_n))\n",
    "    \n",
    "    # populate arrays with analytical solution to autocorrelation function\n",
    "    for i in range(len(tau_n)):\n",
    "        t[i] = f**alpha @ list_result[i] @(fstar ** beta * pi)\n",
    "        t_rev[i] = f**beta @ list_result[i] @(fstar ** alpha * pi)\n",
    "        \n",
    "    return t, t_rev"
   ]
  },
  {
   "cell_type": "code",
   "execution_count": 5,
   "id": "148189f9-de5d-493d-9679-092b950f638d",
   "metadata": {},
   "outputs": [],
   "source": [
    "def make_observable(node_list):\n",
    "    \n",
    "    num_nodes = len(node_list)\n",
    "    \n",
    "    f = np.zeros(num_nodes)\n",
    "    \n",
    "    for i in range(0,num_nodes):\n",
    "        f[i] = 3+(2*i)\n",
    "    \n",
    "    return f"
   ]
  },
  {
   "cell_type": "code",
   "execution_count": 6,
   "id": "c4c981ec-60f7-4e3b-a10a-c9668cec9084",
   "metadata": {},
   "outputs": [],
   "source": [
    "n=5\n",
    "G,G_ud = random_graph(n)"
   ]
  },
  {
   "cell_type": "code",
   "execution_count": 7,
   "id": "8af82d17-2e08-4107-bf40-876dcde527a6",
   "metadata": {},
   "outputs": [
    {
     "name": "stdout",
     "output_type": "stream",
     "text": [
      "DiGraph with 4 nodes and 10 edges\n",
      "Graph with 4 nodes and 5 edges\n"
     ]
    }
   ],
   "source": [
    "print(G)\n",
    "print(G_ud)"
   ]
  },
  {
   "cell_type": "code",
   "execution_count": 8,
   "id": "cbb0fac5-605a-4634-8af7-27bc47a9a410",
   "metadata": {},
   "outputs": [
    {
     "data": {
      "image/png": "[encoded data removed]",
      "text/plain": [
       "<Figure size 432x288 with 1 Axes>"
      ]
     },
     "metadata": {},
     "output_type": "display_data"
    }
   ],
   "source": [
    "fig, ax = plt.subplots()\n",
    "nx.draw(G)\n",
    "fig.savefig('G_4_2cycle_diagram.png')"
   ]
  },
  {
   "cell_type": "code",
   "execution_count": 9,
   "id": "073d979b-dc52-4125-8249-7f53f79ee687",
   "metadata": {},
   "outputs": [
    {
     "data": {
      "image/png": "[encoded data removed]",
      "text/plain": [
       "<Figure size 432x288 with 1 Axes>"
      ]
     },
     "metadata": {},
     "output_type": "display_data"
    }
   ],
   "source": [
    "fig, ax = plt.subplots()\n",
    "nx.draw(G_ud)\n",
    "fig.savefig('Gud_4_2cycle_diagram.png')"
   ]
  },
  {
   "cell_type": "code",
   "execution_count": 10,
   "id": "d385c548-dafd-4bd8-9f73-e8a0215df603",
   "metadata": {},
   "outputs": [],
   "source": [
    "node_list = get_nodes(G)"
   ]
  },
  {
   "cell_type": "code",
   "execution_count": 11,
   "id": "82e8e32c-f341-48bb-8e11-4cae48ea7767",
   "metadata": {},
   "outputs": [],
   "source": [
    "edge_list = get_edges(G)"
   ]
  },
  {
   "cell_type": "code",
   "execution_count": 12,
   "id": "5495fd9c-8385-43a7-ad1c-61c14aa15893",
   "metadata": {},
   "outputs": [],
   "source": [
    "label_dict, label_list = new_param_choice(G)"
   ]
  },
  {
   "cell_type": "code",
   "execution_count": 13,
   "id": "9982927f-e00c-4e24-b0e9-67d5714d7285",
   "metadata": {},
   "outputs": [
    {
     "name": "stdout",
     "output_type": "stream",
     "text": [
      "{(1, 3): 1.0, (1, 4): 1.0, (1, 2): 1.0, (2, 1): 1.0, (2, 3): 1.0, (2, 4): 1.0, (3, 2): 1.0, (3, 1): 1.0, (4, 1): 1.0, (4, 2): 1.0}\n"
     ]
    }
   ],
   "source": [
    "print(label_dict)"
   ]
  },
  {
   "cell_type": "code",
   "execution_count": 14,
   "id": "3121ca63-8dca-42f6-ad4e-58660b75ec34",
   "metadata": {},
   "outputs": [
    {
     "name": "stdout",
     "output_type": "stream",
     "text": [
      "[[3, 2, 1], [4, 2, 1]]\n"
     ]
    }
   ],
   "source": [
    "cycle_list = get_cycle_nodes(G_ud)\n",
    "print(cycle_list)"
   ]
  },
  {
   "cell_type": "code",
   "execution_count": 15,
   "id": "69f43fd7-18ac-4fbd-9f26-c19cc4f59a06",
   "metadata": {},
   "outputs": [],
   "source": [
    "L = Laplacian_all(edge_list,label_list,node_list)"
   ]
  },
  {
   "cell_type": "code",
   "execution_count": 16,
   "id": "09a18288-9aef-409c-9d33-d374f1422377",
   "metadata": {},
   "outputs": [
    {
     "name": "stdout",
     "output_type": "stream",
     "text": [
      "[[-3.  1.  1.  1.]\n",
      " [ 1. -3.  1.  1.]\n",
      " [ 1.  1. -2.  0.]\n",
      " [ 1.  1.  0. -2.]]\n"
     ]
    }
   ],
   "source": [
    "print(L)"
   ]
  },
  {
   "cell_type": "code",
   "execution_count": 17,
   "id": "fcf801f2-0617-45de-bcd1-961691c5d2a3",
   "metadata": {},
   "outputs": [],
   "source": [
    "eigvals, eigvecs = scipy.linalg.eig(L)"
   ]
  },
  {
   "cell_type": "code",
   "execution_count": 18,
   "id": "255d8ef3-a838-4c0d-9f84-7eca9b555a7d",
   "metadata": {},
   "outputs": [
    {
     "name": "stdout",
     "output_type": "stream",
     "text": [
      "[3. 5. 7. 9.]\n"
     ]
    }
   ],
   "source": [
    "observable = make_observable(node_list)\n",
    "print(observable)"
   ]
  },
  {
   "cell_type": "code",
   "execution_count": 19,
   "id": "5faf2b5a-3e81-4299-8180-ceb8c22570f4",
   "metadata": {},
   "outputs": [],
   "source": [
    "tau_n = np.around(np.arange(0.01,2.0,step=.01), decimals = 2)"
   ]
  },
  {
   "cell_type": "code",
   "execution_count": 20,
   "id": "aac3b1aa-c45b-4e20-bfec-d4a8b0ff5283",
   "metadata": {},
   "outputs": [],
   "source": [
    "t,t_rev = autocorrelation_analytical(observable,L,tau_n,alpha=1,beta=3)"
   ]
  },
  {
   "cell_type": "code",
   "execution_count": 21,
   "id": "a2589801-b92a-4077-8ce0-bc2074fe9103",
   "metadata": {},
   "outputs": [
    {
     "name": "stdout",
     "output_type": "stream",
     "text": [
      "1837.9723288814996067\n",
      "1837.9723288814996067\n"
     ]
    }
   ],
   "source": [
    "print(t[-1])\n",
    "print(t_rev[-1])"
   ]
  },
  {
   "cell_type": "code",
   "execution_count": 22,
   "id": "6b94a363-bf63-4575-a705-fb9011aa380e",
   "metadata": {},
   "outputs": [
    {
     "data": {
      "text/plain": [
       "6.8212102632969617844e-13"
      ]
     },
     "execution_count": 22,
     "metadata": {},
     "output_type": "execute_result"
    }
   ],
   "source": [
    "np.abs(np.trapz(t)-np.trapz(t_rev))"
   ]
  },
  {
   "cell_type": "code",
   "execution_count": 23,
   "id": "f6e90fd2-9deb-4ccb-ad51-d6763ef40ce6",
   "metadata": {},
   "outputs": [],
   "source": [
    "import matplotlib.pyplot as plt"
   ]
  },
  {
   "cell_type": "code",
   "execution_count": 24,
   "id": "c584efe6-09b7-4060-b03d-d8682cf75c78",
   "metadata": {},
   "outputs": [
    {
     "data": {
      "text/plain": [
       "[<matplotlib.lines.Line2D at 0x7fb651051700>]"
      ]
     },
     "execution_count": 24,
     "metadata": {},
     "output_type": "execute_result"
    },
    {
     "data": {
      "image/png": "[encoded data removed]",
      "text/plain": [
       "<Figure size 432x288 with 1 Axes>"
      ]
     },
     "metadata": {
      "needs_background": "light"
     },
     "output_type": "display_data"
    }
   ],
   "source": [
    "plt.plot(tau_n,t)\n",
    "plt.plot(tau_n,t_rev)\n",
    "#fig.savefig('G_4_2cycle_autocorrelation.png')"
   ]
  },
  {
   "cell_type": "code",
   "execution_count": 25,
   "id": "619c835f-2bc8-47db-a07e-c219ece97fae",
   "metadata": {},
   "outputs": [],
   "source": [
    "cycle_edges_forward,cycle_edges_backward,cycle_labels_forward,cycle_labels_backward = get_cycle_labels_edges(cycle_list,label_dict)"
   ]
  },
  {
   "cell_type": "code",
   "execution_count": 26,
   "id": "167d2a18-c952-4df7-a4fe-23f9cb3ccc1e",
   "metadata": {},
   "outputs": [],
   "source": [
    "products_f, products_b = calculate_cycle_products(cycle_labels_forward,cycle_labels_backward)"
   ]
  },
  {
   "cell_type": "code",
   "execution_count": 27,
   "id": "1e19508b-e261-4256-b81a-28bd8311dccf",
   "metadata": {},
   "outputs": [],
   "source": [
    "total_affinities = calculate_affinities(products_f, products_b, cycle_list)"
   ]
  },
  {
   "cell_type": "code",
   "execution_count": 28,
   "id": "e7a92db9-8904-45eb-95fc-2d31eb55f727",
   "metadata": {},
   "outputs": [
    {
     "name": "stdout",
     "output_type": "stream",
     "text": [
      "[0. 0.]\n"
     ]
    }
   ],
   "source": [
    "print(total_affinities)"
   ]
  },
  {
   "cell_type": "code",
   "execution_count": 29,
   "id": "2ce786fe-f3c3-44a4-883e-8a0bd9441b8f",
   "metadata": {},
   "outputs": [],
   "source": [
    "cycle_labels_forward, edge_tracker = initial_equilibrium_parameters(cycle_list,cycle_edges_forward,cycle_labels_forward,cycle_labels_backward)"
   ]
  },
  {
   "cell_type": "code",
   "execution_count": 30,
   "id": "1d84348f-e27a-4168-b7c2-cd11c2f19511",
   "metadata": {},
   "outputs": [],
   "source": [
    "products_f, products_b = calculate_cycle_products(cycle_labels_forward,cycle_labels_backward)"
   ]
  },
  {
   "cell_type": "code",
   "execution_count": 31,
   "id": "38093397-18a5-4b52-afac-a5a1953c8b51",
   "metadata": {},
   "outputs": [],
   "source": [
    "total_affinities = calculate_affinities(products_f, products_b, cycle_list)"
   ]
  },
  {
   "cell_type": "code",
   "execution_count": 32,
   "id": "a3a7cab3-3290-4b1d-80d8-afa164868400",
   "metadata": {},
   "outputs": [],
   "source": [
    "for i in range(len(cycle_list)):\n",
    "    label_dict[edge_tracker[i]] = cycle_labels_forward[i][0]"
   ]
  },
  {
   "cell_type": "code",
   "execution_count": 33,
   "id": "0d9cb5d0-1032-47ae-b797-658f1cf3f68a",
   "metadata": {},
   "outputs": [
    {
     "name": "stdout",
     "output_type": "stream",
     "text": [
      "[0. 0.]\n"
     ]
    }
   ],
   "source": [
    "print(total_affinities)"
   ]
  },
  {
   "cell_type": "code",
   "execution_count": 34,
   "id": "de934779-57b6-4647-9e70-58bffaf92a96",
   "metadata": {},
   "outputs": [],
   "source": [
    "label_list = np.fromiter(label_dict.values(), dtype=float)"
   ]
  },
  {
   "cell_type": "code",
   "execution_count": 35,
   "id": "4e8c8209-a506-4286-a20d-4120c4abd9a3",
   "metadata": {},
   "outputs": [],
   "source": [
    "L = Laplacian_all(edge_list,label_list,node_list)"
   ]
  },
  {
   "cell_type": "code",
   "execution_count": 36,
   "id": "d319b292-644e-42cc-bcfa-c8c8d29507af",
   "metadata": {},
   "outputs": [],
   "source": [
    "t,t_rev = autocorrelation_analytical(observable,L,tau_n,alpha=1,beta=3)"
   ]
  },
  {
   "cell_type": "code",
   "execution_count": 37,
   "id": "34fa2b01-e2d9-44e5-945f-3ab40ea74b46",
   "metadata": {},
   "outputs": [
    {
     "name": "stdout",
     "output_type": "stream",
     "text": [
      "1837.9723288814996067\n",
      "1837.9723288814996067\n"
     ]
    }
   ],
   "source": [
    "print(t[-1])\n",
    "print(t_rev[-1])"
   ]
  },
  {
   "cell_type": "code",
   "execution_count": 38,
   "id": "7786984b-7ac8-44a1-b5ba-a5c35f807934",
   "metadata": {},
   "outputs": [
    {
     "data": {
      "text/plain": [
       "6.8212102632969617844e-13"
      ]
     },
     "execution_count": 38,
     "metadata": {},
     "output_type": "execute_result"
    }
   ],
   "source": [
    "np.abs(np.trapz(t)-np.trapz(t_rev))"
   ]
  },
  {
   "cell_type": "code",
   "execution_count": 39,
   "id": "87c81998-dcbf-46f7-9e28-62b1e84f3c08",
   "metadata": {},
   "outputs": [
    {
     "data": {
      "text/plain": [
       "[<matplotlib.lines.Line2D at 0x7fb630a6a8e0>]"
      ]
     },
     "execution_count": 39,
     "metadata": {},
     "output_type": "execute_result"
    },
    {
     "data": {
      "image/png": "[encoded data removed]",
      "text/plain": [
       "<Figure size 432x288 with 1 Axes>"
      ]
     },
     "metadata": {
      "needs_background": "light"
     },
     "output_type": "display_data"
    }
   ],
   "source": [
    "plt.plot(tau_n,t)\n",
    "plt.plot(tau_n,t_rev)"
   ]
  },
  {
   "cell_type": "code",
   "execution_count": 40,
   "id": "386ae0ee-d96f-4035-9b75-ee883f7ee00e",
   "metadata": {},
   "outputs": [],
   "source": [
    "Lstar = L.T\n",
    "f = observable\n",
    "fstar = observable.T\n",
    "alpha=1\n",
    "beta=3"
   ]
  },
  {
   "cell_type": "code",
   "execution_count": 41,
   "id": "cb3b5c89-d993-4334-a3da-fe108a733112",
   "metadata": {},
   "outputs": [],
   "source": [
    "eigvals, right_eigvecs = scipy.linalg.eig(L)\n",
    "eigvals, left_eigvecs = scipy.linalg.eig(Lstar)"
   ]
  },
  {
   "cell_type": "code",
   "execution_count": 42,
   "id": "01877fe4-a3aa-4e6e-9d27-5f2da4990278",
   "metadata": {},
   "outputs": [],
   "source": [
    "idx = np.argmax(eigvals)"
   ]
  },
  {
   "cell_type": "code",
   "execution_count": 43,
   "id": "661c7840-b27c-4318-9893-f4d1ee0fc739",
   "metadata": {},
   "outputs": [],
   "source": [
    "pi = np.array([right_eigvecs[:,np.argmin(np.abs(eigvals))].real/sum(right_eigvecs[:,np.argmin(np.abs(eigvals))].real)])"
   ]
  },
  {
   "cell_type": "code",
   "execution_count": 44,
   "id": "a6f95a0f-0014-48d7-a4b5-d00b0adf2632",
   "metadata": {},
   "outputs": [],
   "source": [
    "eigvals = np.delete(eigvals,idx)\n",
    "right_eigvecs = np.delete(right_eigvecs,idx, axis=1)\n",
    "left_eigvecs = np.delete(left_eigvecs,idx, axis=1)"
   ]
  },
  {
   "cell_type": "code",
   "execution_count": 45,
   "id": "ce926335-b18c-4975-af18-abed949fa6cc",
   "metadata": {},
   "outputs": [],
   "source": [
    "chis = np.zeros(len(eigvals))"
   ]
  },
  {
   "cell_type": "code",
   "execution_count": 46,
   "id": "fe944abf-da4a-4236-a90f-f5a3b3dc86be",
   "metadata": {},
   "outputs": [
    {
     "name": "stderr",
     "output_type": "stream",
     "text": [
      "/var/folders/ch/f1rl6h5x4fx2wbg2_f5bj5dw0000gn/T/ipykernel_6690/1654868688.py:4: ComplexWarning: Casting complex values to real discards the imaginary part\n",
      "  chis[i] = (chi_r-chi_f)/eigvals[i]\n"
     ]
    }
   ],
   "source": [
    "for i in range(len(eigvals)):\n",
    "    chi_f = np.dot(np.dot(f**alpha,right_eigvecs[:,i]),np.dot(np.multiply(fstar**beta, pi),left_eigvecs[:,i]))[0]\n",
    "    chi_r = np.dot(np.dot(f**beta,right_eigvecs[:,i]),np.dot(np.multiply(fstar**alpha, pi),left_eigvecs[:,i]))[0]\n",
    "    chis[i] = (chi_r-chi_f)/eigvals[i]"
   ]
  },
  {
   "cell_type": "code",
   "execution_count": 47,
   "id": "d7f0748d-10d5-47f8-8178-f7b540a45f10",
   "metadata": {},
   "outputs": [
    {
     "data": {
      "text/plain": [
       "0.0"
      ]
     },
     "execution_count": 47,
     "metadata": {},
     "output_type": "execute_result"
    }
   ],
   "source": [
    "np.sum(chis)"
   ]
  },
  {
   "cell_type": "markdown",
   "id": "dca7d1a8-6f02-4fdd-85aa-6d05e9922484",
   "metadata": {
    "tags": []
   },
   "source": [
    "# Try a force-area curve"
   ]
  },
  {
   "cell_type": "code",
   "execution_count": 48,
   "id": "260822fb-718f-4045-a6a9-1835d06e0fb7",
   "metadata": {},
   "outputs": [
    {
     "name": "stdout",
     "output_type": "stream",
     "text": [
      "2\n"
     ]
    }
   ],
   "source": [
    "num_cycles = len(cycle_list)\n",
    "print(num_cycles)"
   ]
  },
  {
   "cell_type": "code",
   "execution_count": 49,
   "id": "caffd7fc-2766-4f95-9d1b-01a110310080",
   "metadata": {},
   "outputs": [],
   "source": [
    "N = 2000\n",
    "all_affinities = np.zeros((N,num_cycles))\n",
    "all_areas = np.zeros((N,1))"
   ]
  },
  {
   "cell_type": "code",
   "execution_count": 50,
   "id": "06af21ec-1316-4171-9b7c-c28745edc7d1",
   "metadata": {},
   "outputs": [
    {
     "name": "stderr",
     "output_type": "stream",
     "text": [
      "100%|███████████████████████████████████████| 2000/2000 [02:52<00:00, 11.56it/s]\n"
     ]
    }
   ],
   "source": [
    "for i in tqdm(range(0,N)):\n",
    "    \n",
    "    # calculate and store the cycle affinity for each cycle\n",
    "    products_f, products_b = calculate_cycle_products(cycle_labels_forward,cycle_labels_backward)\n",
    "    total_affinities = calculate_affinities(products_f, products_b, cycle_list)\n",
    "    \n",
    "    all_affinities[i] = total_affinities\n",
    "    \n",
    "    # edit the record of the weights in the graph\n",
    "    for j in range(num_cycles):\n",
    "        label_dict[edge_tracker[j]] = cycle_labels_forward[j][0]\n",
    "    \n",
    "    label_list = np.fromiter(label_dict.values(), dtype=float)\n",
    "    \n",
    "    # calculate the Laplacian\n",
    "    L = Laplacian_all(edge_list,label_list,node_list)\n",
    "    \n",
    "    # calculate the autocorrelation functions\n",
    "    t, t_rev = autocorrelation_analytical(observable,L,tau_n,alpha=1,beta=3)\n",
    "    \n",
    "    # calculate and store the area between them\n",
    "    #print(np.abs(np.trapz(t_ex1)-np.trapz(t_rev_ex1)))\n",
    "    all_areas[i] = np.abs(np.trapz(t)-np.trapz(t_rev))\n",
    "    \n",
    "    # perturb parameter in each cycle\n",
    "    for cycle in cycle_labels_forward:\n",
    "        cycle[0] = cycle[0]*1.01\n",
    "    #cycle_labels_forward[0][0] = cycle_labels_forward[0][0]*1.01\n",
    "    #cycle[0] = cycle[0]*1.01"
   ]
  },
  {
   "cell_type": "code",
   "execution_count": 51,
   "id": "a5dc2fd4-180b-4a49-9350-41e91f7d6b62",
   "metadata": {},
   "outputs": [
    {
     "data": {
      "image/png": "[encoded data removed]",
      "text/plain": [
       "<Figure size 432x288 with 1 Axes>"
      ]
     },
     "metadata": {
      "needs_background": "light"
     },
     "output_type": "display_data"
    }
   ],
   "source": [
    "for i in range(0,num_cycles):\n",
    "    plt.plot(all_affinities[:,i],all_areas)"
   ]
  },
  {
   "cell_type": "code",
   "execution_count": 52,
   "id": "f1e944b7-6058-402a-8a00-0a56dd7b592b",
   "metadata": {},
   "outputs": [],
   "source": [
    "plt.rc(\"text\", usetex=False)\n",
    "plt.rc(\"font\", family = \"serif\",size=14)\n",
    "plt.rc(\"figure\",figsize=(14,12))\n",
    "%config InlineBackend.figure_format = 'retina'"
   ]
  },
  {
   "cell_type": "code",
   "execution_count": 53,
   "id": "00754a12-6eaf-497b-9cf3-c9d05d815778",
   "metadata": {},
   "outputs": [
    {
     "data": {
      "image/png": "[encoded data removed]",
      "text/plain": [
       "<Figure size 1008x864 with 1 Axes>"
      ]
     },
     "metadata": {
      "image/png": {
       "height": 687,
       "width": 829
      },
      "needs_background": "light"
     },
     "output_type": "display_data"
    }
   ],
   "source": [
    "fig, ax = plt.subplots()\n",
    "for i in range(0,num_cycles):\n",
    "    plt.plot(all_affinities[:,i],all_areas,linewidth=3,label='cycle'+str(i))\n",
    "plt.legend()\n",
    "fig.savefig('G_4_2cycle_forcearea_bothcycles_2.png')"
   ]
  },
  {
   "cell_type": "code",
   "execution_count": 131,
   "id": "846d33f8-7fef-44d0-863f-5169e4ec58ed",
   "metadata": {},
   "outputs": [
    {
     "name": "stdout",
     "output_type": "stream",
     "text": [
      "[8.32751471e-06]\n"
     ]
    }
   ],
   "source": [
    "print(all_areas[1999])"
   ]
  },
  {
   "cell_type": "code",
   "execution_count": 132,
   "id": "0fe4df8f-280f-48e6-8187-0e5afcc46383",
   "metadata": {},
   "outputs": [
    {
     "data": {
      "text/plain": [
       "2000"
      ]
     },
     "execution_count": 132,
     "metadata": {},
     "output_type": "execute_result"
    }
   ],
   "source": [
    "len(all_areas)"
   ]
  },
  {
   "cell_type": "code",
   "execution_count": 133,
   "id": "77fb51d0-c9b6-4e64-957c-a0abfade838c",
   "metadata": {},
   "outputs": [
    {
     "name": "stdout",
     "output_type": "stream",
     "text": [
      "{(1, 4): 1.0, (1, 2): 1.0, (2, 3): 1.0, (2, 1): 1.0, (2, 4): 434936836.68327135, (3, 4): 1.0, (3, 2): 1.0, (4, 3): 1.0, (4, 2): 1.0, (4, 1): 434936836.68327135}\n"
     ]
    }
   ],
   "source": [
    "print(label_dict)"
   ]
  },
  {
   "cell_type": "code",
   "execution_count": 134,
   "id": "11caa2d2-4b02-4369-8272-449ecf31f6fa",
   "metadata": {},
   "outputs": [
    {
     "data": {
      "text/plain": [
       "array([[-4.34936838e+08,  1.00000000e+00,  0.00000000e+00,\n",
       "         1.00000000e+00],\n",
       "       [ 1.00000000e+00, -3.00000000e+00,  1.00000000e+00,\n",
       "         4.34936837e+08],\n",
       "       [ 0.00000000e+00,  1.00000000e+00, -2.00000000e+00,\n",
       "         1.00000000e+00],\n",
       "       [ 4.34936837e+08,  1.00000000e+00,  1.00000000e+00,\n",
       "        -4.34936839e+08]], dtype=float128)"
      ]
     },
     "execution_count": 134,
     "metadata": {},
     "output_type": "execute_result"
    }
   ],
   "source": [
    "L"
   ]
  },
  {
   "cell_type": "code",
   "execution_count": 135,
   "id": "d8bc8c73-3b89-4460-8a08-b0da936d1e3e",
   "metadata": {},
   "outputs": [],
   "source": [
    "Lstar = L.T\n",
    "f = observable\n",
    "fstar = observable.T\n",
    "alpha=1\n",
    "beta=3"
   ]
  },
  {
   "cell_type": "code",
   "execution_count": 136,
   "id": "c0101298-ebe1-469b-ae82-d688f8330ec9",
   "metadata": {},
   "outputs": [],
   "source": [
    "eigvals, right_eigvecs = scipy.linalg.eig(L)\n",
    "eigvals, left_eigvecs = scipy.linalg.eig(Lstar)"
   ]
  },
  {
   "cell_type": "code",
   "execution_count": 137,
   "id": "ade3b960-d2ba-42e3-9cca-04a76380e229",
   "metadata": {},
   "outputs": [],
   "source": [
    "idx = np.argmax(eigvals)"
   ]
  },
  {
   "cell_type": "code",
   "execution_count": 138,
   "id": "fe69a91b-0a35-4c03-9006-10f585549af1",
   "metadata": {},
   "outputs": [],
   "source": [
    "pi = np.array([right_eigvecs[:,np.argmin(np.abs(eigvals))].real/sum(right_eigvecs[:,np.argmin(np.abs(eigvals))].real)])"
   ]
  },
  {
   "cell_type": "code",
   "execution_count": 139,
   "id": "2615f445-ffd7-4461-9f0c-2bebca47689f",
   "metadata": {},
   "outputs": [],
   "source": [
    "eigvals = np.delete(eigvals,idx)\n",
    "right_eigvecs = np.delete(right_eigvecs,idx, axis=1)\n",
    "left_eigvecs = np.delete(left_eigvecs,idx, axis=1)"
   ]
  },
  {
   "cell_type": "code",
   "execution_count": 140,
   "id": "1838e2df-d069-472e-b6b1-9d1612a3f88a",
   "metadata": {},
   "outputs": [],
   "source": [
    "chis = np.zeros(len(eigvals))"
   ]
  },
  {
   "cell_type": "code",
   "execution_count": 141,
   "id": "0b49b5a3-e4b4-43bd-b7f5-352032416478",
   "metadata": {},
   "outputs": [
    {
     "name": "stderr",
     "output_type": "stream",
     "text": [
      "/var/folders/ch/f1rl6h5x4fx2wbg2_f5bj5dw0000gn/T/ipykernel_7528/1654868688.py:4: ComplexWarning: Casting complex values to real discards the imaginary part\n",
      "  chis[i] = (chi_r-chi_f)/eigvals[i]\n"
     ]
    }
   ],
   "source": [
    "for i in range(len(eigvals)):\n",
    "    chi_f = np.dot(np.dot(f**alpha,right_eigvecs[:,i]),np.dot(np.multiply(fstar**beta, pi),left_eigvecs[:,i]))[0]\n",
    "    chi_r = np.dot(np.dot(f**beta,right_eigvecs[:,i]),np.dot(np.multiply(fstar**alpha, pi),left_eigvecs[:,i]))[0]\n",
    "    chis[i] = (chi_r-chi_f)/eigvals[i]"
   ]
  },
  {
   "cell_type": "code",
   "execution_count": 142,
   "id": "d1dbc418-86dc-4e88-bfc5-73f38d8dad19",
   "metadata": {},
   "outputs": [
    {
     "data": {
      "text/plain": [
       "-2341293.064122118"
      ]
     },
     "execution_count": 142,
     "metadata": {},
     "output_type": "execute_result"
    }
   ],
   "source": [
    "np.sum(chis)"
   ]
  },
  {
   "cell_type": "markdown",
   "id": "873acdc9-b8ec-4cd7-9e78-5a5b408eba12",
   "metadata": {
    "tags": []
   },
   "source": [
    "# Troubleshoot force-area curves"
   ]
  },
  {
   "cell_type": "code",
   "execution_count": 277,
   "id": "38da3df4-5330-4c3a-8fb0-7cbf3bf10e17",
   "metadata": {},
   "outputs": [
    {
     "name": "stdout",
     "output_type": "stream",
     "text": [
      "2\n"
     ]
    }
   ],
   "source": [
    "num_cycles = len(cycle_list)\n",
    "print(num_cycles)"
   ]
  },
  {
   "cell_type": "code",
   "execution_count": 278,
   "id": "cd8e21e3-a20e-4358-8977-c8e2158201a3",
   "metadata": {},
   "outputs": [
    {
     "name": "stdout",
     "output_type": "stream",
     "text": [
      "[[1.0, 1.0, 1.0], [1.0, 1.0, 1.0, 1.0, 1.0, 1.0]]\n",
      "[[(4, 3), (3, 1), (1, 4)], [(4, 5), (5, 7), (7, 6), (6, 2), (2, 3), (3, 4)]]\n"
     ]
    }
   ],
   "source": [
    "print(cycle_labels_forward)\n",
    "print(cycle_edges_forward)"
   ]
  },
  {
   "cell_type": "code",
   "execution_count": 279,
   "id": "1843c971-6065-4851-b9b5-de529da25d4a",
   "metadata": {},
   "outputs": [],
   "source": [
    "N = 2000\n",
    "all_affinities = np.zeros((N,num_cycles))\n",
    "all_areas = np.zeros((N,1))\n",
    "perturbed_edges = []"
   ]
  },
  {
   "cell_type": "code",
   "execution_count": 274,
   "id": "ef571909-091c-4008-a1d1-0efc4e21d469",
   "metadata": {},
   "outputs": [
    {
     "data": {
      "text/plain": [
       "[[(4, 3), (3, 1), (1, 4)], [(4, 5), (5, 7), (7, 6), (6, 2), (2, 3), (3, 4)]]"
      ]
     },
     "execution_count": 274,
     "metadata": {},
     "output_type": "execute_result"
    }
   ],
   "source": [
    "cycle_edges_forward"
   ]
  },
  {
   "cell_type": "code",
   "execution_count": 275,
   "id": "00a6b336-cc02-42de-82a9-168c121e008c",
   "metadata": {},
   "outputs": [
    {
     "data": {
      "text/plain": [
       "[(1, 4), (3, 4)]"
      ]
     },
     "execution_count": 275,
     "metadata": {},
     "output_type": "execute_result"
    }
   ],
   "source": [
    "for i in range(num_cycles):\n",
    "    edge = np.random.choice(np.arange(len(cycle_list[i])))\n",
    "    \n",
    "    if cycle_edges_forward[i][edge] in perturbed_edges:\n",
    "        pass\n",
    "    else:\n",
    "        perturbed_edges.append(cycle_edges_forward[i][edge])\n",
    "\n",
    "perturbed_edges"
   ]
  },
  {
   "cell_type": "code",
   "execution_count": 276,
   "id": "669cee13-6a39-4536-9a43-1e24ac20e9e1",
   "metadata": {},
   "outputs": [
    {
     "ename": "TypeError",
     "evalue": "list indices must be integers or slices, not tuple",
     "output_type": "error",
     "traceback": [
      "\u001b[0;31m---------------------------------------------------------------------------\u001b[0m",
      "\u001b[0;31mTypeError\u001b[0m                                 Traceback (most recent call last)",
      "Input \u001b[0;32mIn [276]\u001b[0m, in \u001b[0;36m<cell line: 1>\u001b[0;34m()\u001b[0m\n\u001b[1;32m      1\u001b[0m \u001b[38;5;28;01mfor\u001b[39;00m edge \u001b[38;5;129;01min\u001b[39;00m perturbed_edges:\n\u001b[0;32m----> 2\u001b[0m     cycle_labels_forward[i][edge] \u001b[38;5;241m=\u001b[39m \u001b[43mcycle_labels_forward\u001b[49m\u001b[43m[\u001b[49m\u001b[43mi\u001b[49m\u001b[43m]\u001b[49m\u001b[43m[\u001b[49m\u001b[43medge\u001b[49m\u001b[43m]\u001b[49m\u001b[38;5;241m*\u001b[39m\u001b[38;5;241m1.01\u001b[39m\n",
      "\u001b[0;31mTypeError\u001b[0m: list indices must be integers or slices, not tuple"
     ]
    }
   ],
   "source": [
    "for edge in perturbed_edges:\n",
    "    cycle_labels_forward[i][edge] = cycle_labels_forward[i][edge]*1.01"
   ]
  },
  {
   "cell_type": "code",
   "execution_count": 301,
   "id": "777fb0c4-cf37-4310-bad0-781a34c28033",
   "metadata": {},
   "outputs": [
    {
     "name": "stdout",
     "output_type": "stream",
     "text": [
      "2\n",
      "[[4, 3, 1], [4, 5, 7, 6, 2, 3]]\n"
     ]
    }
   ],
   "source": [
    "print(num_cycles)\n",
    "print(cycle_list)\n",
    "print"
   ]
  },
  {
   "cell_type": "code",
   "execution_count": 294,
   "id": "ff627082-5650-4a88-997b-836693e787fa",
   "metadata": {},
   "outputs": [],
   "source": [
    "def choose_edges(cycle_list,num_cycles,cycle_edges_forward):\n",
    "    \n",
    "    perturbed_edges = []\n",
    "    perturbed_indices = []\n",
    "    \n",
    "    for i in range(num_cycles):\n",
    "        edge = int(np.random.choice(np.arange(len(cycle_list[i]))))\n",
    "        \n",
    "\n",
    "        if cycle_edges_forward[i][edge] in perturbed_edges:\n",
    "            pass\n",
    "        else:\n",
    "            perturbed_edges.append(cycle_edges_forward[i][edge])\n",
    "            perturbed_indices.append(edge)\n",
    "            \n",
    "    return perturbed_edges, perturbed_indices"
   ]
  },
  {
   "cell_type": "code",
   "execution_count": 295,
   "id": "d0970313-f137-447a-b9cf-f130c396b3b3",
   "metadata": {},
   "outputs": [
    {
     "data": {
      "text/plain": [
       "[1, 3]"
      ]
     },
     "execution_count": 295,
     "metadata": {},
     "output_type": "execute_result"
    }
   ],
   "source": [
    "perturbed_edges,perturbed_indices = choose_edges(cycle_list,num_cycles,cycle_edges_forward)\n",
    "perturbed_indices"
   ]
  },
  {
   "cell_type": "code",
   "execution_count": 299,
   "id": "4bb8e848-bb59-44b6-8d7b-d9524d376607",
   "metadata": {},
   "outputs": [
    {
     "name": "stderr",
     "output_type": "stream",
     "text": [
      "  0%|                                                  | 0/2000 [00:00<?, ?it/s]"
     ]
    },
    {
     "name": "stdout",
     "output_type": "stream",
     "text": [
      "[0.02985099 0.        ]\n"
     ]
    },
    {
     "name": "stderr",
     "output_type": "stream",
     "text": [
      "  0%|                                                  | 0/2000 [00:00<?, ?it/s]\n"
     ]
    },
    {
     "ename": "IndexError",
     "evalue": "list index out of range",
     "output_type": "error",
     "traceback": [
      "\u001b[0;31m---------------------------------------------------------------------------\u001b[0m",
      "\u001b[0;31mIndexError\u001b[0m                                Traceback (most recent call last)",
      "Input \u001b[0;32mIn [299]\u001b[0m, in \u001b[0;36m<cell line: 1>\u001b[0;34m()\u001b[0m\n\u001b[1;32m     27\u001b[0m \u001b[38;5;28;01mfor\u001b[39;00m cycle \u001b[38;5;129;01min\u001b[39;00m cycle_labels_forward:\n\u001b[1;32m     28\u001b[0m     \u001b[38;5;28;01mfor\u001b[39;00m index \u001b[38;5;129;01min\u001b[39;00m perturbed_indices:\n\u001b[0;32m---> 29\u001b[0m         cycle[index] \u001b[38;5;241m=\u001b[39m \u001b[43mcycle\u001b[49m\u001b[43m[\u001b[49m\u001b[43mindex\u001b[49m\u001b[43m]\u001b[49m\u001b[38;5;241m*\u001b[39m\u001b[38;5;241m1.01\u001b[39m\n",
      "\u001b[0;31mIndexError\u001b[0m: list index out of range"
     ]
    }
   ],
   "source": [
    "for i in tqdm(range(0,N)):\n",
    "    \n",
    "    # calculate and store the cycle affinity for each cycle\n",
    "    products_f, products_b = calculate_cycle_products(cycle_labels_forward,cycle_labels_backward)\n",
    "    total_affinities = calculate_affinities(products_f, products_b, cycle_list)\n",
    "    print(total_affinities)\n",
    "    \n",
    "    all_affinities[i] = total_affinities\n",
    "    \n",
    "    # edit the record of the weights in the graph\n",
    "    for j in range(num_cycles):\n",
    "        label_dict[edge_tracker[j]] = cycle_labels_forward[j][0]\n",
    "    \n",
    "    label_list = np.fromiter(label_dict.values(), dtype=float)\n",
    "    \n",
    "    # calculate the Laplacian\n",
    "    L = Laplacian_all(edge_list,label_list,node_list)\n",
    "    \n",
    "    # calculate the autocorrelation functions\n",
    "    t, t_rev = autocorrelation_analytical(observable,L,tau_n,alpha=1,beta=3)\n",
    "    \n",
    "    # calculate and store the area between them\n",
    "    all_areas[i] = np.abs(np.trapz(t)-np.trapz(t_rev))\n",
    "    #print(all_areas[i])\n",
    "    \n",
    "    # perturb parameter in each cycle\n",
    "    for cycle in cycle_labels_forward:\n",
    "        for index in perturbed_indices:\n",
    "            cycle[index] = cycle[index]*1.01"
   ]
  },
  {
   "cell_type": "code",
   "execution_count": 136,
   "id": "c136faa4-8ddb-47c3-bd9c-f04e5eb763a0",
   "metadata": {},
   "outputs": [
    {
     "data": {
      "image/png": "[encoded data removed]",
      "text/plain": [
       "<Figure size 1008x864 with 1 Axes>"
      ]
     },
     "metadata": {
      "image/png": {
       "height": 687,
       "width": 847
      },
      "needs_background": "light"
     },
     "output_type": "display_data"
    }
   ],
   "source": [
    "for i in range(0,num_cycles):\n",
    "    plt.plot(all_affinities[:,i],all_areas)"
   ]
  },
  {
   "cell_type": "markdown",
   "id": "6d58c14e-5069-4474-a990-03c0473315ec",
   "metadata": {},
   "source": [
    "# Troubleshoot equilibrium parameter function"
   ]
  },
  {
   "cell_type": "code",
   "execution_count": 384,
   "id": "b77cdbd9-46c5-4d6e-b44b-87a3328883d9",
   "metadata": {},
   "outputs": [],
   "source": [
    "def initial_equilibrium_parameters(cycle_list,cycle_edges_forward,cycle_labels_forward,cycle_labels_backward):\n",
    "    \"\"\"\n",
    "    Initializes a graph with a particular parameterization in an equilibrium steady state\n",
    "    \n",
    "    Parameters\n",
    "    ----------\n",
    "    cycle_list : list of lists\n",
    "        each element is a list of the nodes connected in a given cycle.\n",
    "\n",
    "    cycle_edges_forward : list of lists\n",
    "        each element is a list of the edges going around one direction of a given cycle\n",
    "\n",
    "    cycle_labels_forward : list of lists\n",
    "        each element is a list of the labels going around one direction of a given cycle\n",
    "    \n",
    "    cycle_labels_backward : list of lists\n",
    "        each element is a list of the labels going around the opposite direction of a given cycle\n",
    "\n",
    "    Returns\n",
    "    -------\n",
    "    \n",
    "    cycle_labels_forward : list of lists\n",
    "        updated with new values for certain edges\n",
    "        \n",
    "    edge_tracker : list of lists\n",
    "        list of edges with labels that were changed to initialize the system in an equilibrium steady state\n",
    "    \n",
    "    \"\"\"\n",
    "    \n",
    "    num_cycles = len(cycle_list)\n",
    "    edge_tracker = []\n",
    "    \n",
    "    # for each cycle in cycle_list\n",
    "    for i in range(num_cycles):\n",
    "        for j in range(len(cycle_list[i])):\n",
    "            \n",
    "            # if the edge is already in edge_tracker, move on\n",
    "            if cycle_edges_forward[i][j] in edge_tracker:\n",
    "                pass\n",
    "            \n",
    "            # otherwise, change the value of one edge in the cycle such that the cycle affinity is 0\n",
    "            else:\n",
    "                cycle_labels_forward[i][j] = 1/(np.prod(cycle_labels_forward[i])/(cycle_labels_forward[i][j]*np.prod(cycle_labels_backward[i])))\n",
    "                \n",
    "                # add that edge to edge_tracker\n",
    "                edge_tracker.append(cycle_edges_forward[i][j])\n",
    "    \n",
    "    return cycle_labels_forward, edge_tracker"
   ]
  },
  {
   "cell_type": "code",
   "execution_count": 382,
   "id": "572b39b2-580f-484a-9386-932360ab8638",
   "metadata": {},
   "outputs": [
    {
     "name": "stdout",
     "output_type": "stream",
     "text": [
      "{(1, 3): 0.01899, (1, 4): 162.51235, (2, 6): 0.13879, (2, 3): 0.00795, (3, 4): 577.75925, (3, 2): 0.22285, (3, 1): 3.1374358252047284e-06, (4, 1): 6.22897, (4, 3): 76743.57091830157, (4, 5): 0.02296, (5, 4): 0.41641, (5, 7): 0.38218, (6, 7): 0.12373, (6, 2): 0.13861, (7, 5): 0.029, (7, 6): 17.21205}\n"
     ]
    }
   ],
   "source": [
    "print(label_dict)"
   ]
  },
  {
   "cell_type": "code",
   "execution_count": 383,
   "id": "1c62fc9b-a8bd-4b16-8cf8-35d928fa7223",
   "metadata": {},
   "outputs": [
    {
     "name": "stdout",
     "output_type": "stream",
     "text": [
      "[[4, 3, 1], [4, 5, 7, 6, 2, 3]]\n"
     ]
    }
   ],
   "source": [
    "print(cycle_list)"
   ]
  },
  {
   "cell_type": "code",
   "execution_count": 367,
   "id": "088e80db-21de-40c2-80bd-f6b2a770405a",
   "metadata": {},
   "outputs": [],
   "source": [
    "cycle_edges_forward,cycle_edges_backward,cycle_labels_forward,cycle_labels_backward = get_cycle_labels_edges(cycle_list,label_dict)"
   ]
  },
  {
   "cell_type": "code",
   "execution_count": 385,
   "id": "e0486642-adce-4e3c-8a78-12bf0b02bc8c",
   "metadata": {},
   "outputs": [
    {
     "name": "stdout",
     "output_type": "stream",
     "text": [
      "[[(4, 3), (3, 1), (1, 4)], [(4, 5), (5, 7), (7, 6), (6, 2), (2, 3), (3, 4)]]\n",
      "[[(3, 4), (1, 3), (4, 1)], [(5, 4), (7, 5), (6, 7), (2, 6), (3, 2), (4, 3)]]\n"
     ]
    }
   ],
   "source": [
    "print(cycle_edges_forward)\n",
    "print(cycle_edges_backward)"
   ]
  },
  {
   "cell_type": "code",
   "execution_count": 386,
   "id": "ce2e1349-6aea-45a6-921e-a60f7bc9bfd5",
   "metadata": {},
   "outputs": [
    {
     "name": "stdout",
     "output_type": "stream",
     "text": [
      "[[76743.57091830157, 5.479737284411067e-06, 162.51234999999997], [3.1374358252047284e-06, 0.38217999999999996, 17.21205, 0.13861, 0.00795, 577.75925]]\n",
      "[[577.75925, 0.01899, 6.22897], [0.41641, 0.029, 0.12373, 0.13879, 0.22285, 0.2843276073534385]]\n"
     ]
    }
   ],
   "source": [
    "print(cycle_labels_forward)\n",
    "print(cycle_labels_backward)"
   ]
  },
  {
   "cell_type": "code",
   "execution_count": 368,
   "id": "9b93fc16-377a-4d07-b849-5bf71269bfe5",
   "metadata": {},
   "outputs": [],
   "source": [
    "products_f, products_b = calculate_cycle_products(cycle_labels_forward,cycle_labels_backward)"
   ]
  },
  {
   "cell_type": "code",
   "execution_count": 369,
   "id": "351556d7-1abd-4166-866d-20575413379f",
   "metadata": {},
   "outputs": [],
   "source": [
    "total_affinities = calculate_affinities(products_f, products_b, cycle_list)"
   ]
  },
  {
   "cell_type": "code",
   "execution_count": 370,
   "id": "4606a008-a169-4049-a96f-cd1c27cbaf2c",
   "metadata": {},
   "outputs": [
    {
     "name": "stdout",
     "output_type": "stream",
     "text": [
      "[-12.50585305   8.898103  ]\n"
     ]
    }
   ],
   "source": [
    "print(total_affinities)"
   ]
  },
  {
   "cell_type": "code",
   "execution_count": 371,
   "id": "35a92fe8-bc41-4c92-bf34-30b7a7249b2e",
   "metadata": {},
   "outputs": [],
   "source": [
    "cycle_labels_forward, edge_tracker = initial_equilibrium_parameters(cycle_list,cycle_edges_forward,cycle_labels_forward,cycle_labels_backward)"
   ]
  },
  {
   "cell_type": "code",
   "execution_count": 372,
   "id": "cc416548-edf8-4fa5-b89f-6eaa719e8de7",
   "metadata": {},
   "outputs": [],
   "source": [
    "products_f, products_b = calculate_cycle_products(cycle_labels_forward,cycle_labels_backward)"
   ]
  },
  {
   "cell_type": "code",
   "execution_count": 373,
   "id": "415ae810-aa69-4513-a8aa-3f295203821e",
   "metadata": {},
   "outputs": [],
   "source": [
    "total_affinities = calculate_affinities(products_f, products_b, cycle_list)"
   ]
  },
  {
   "cell_type": "code",
   "execution_count": 374,
   "id": "d4b4f62d-4db2-4725-9256-8fe32fb2a8e7",
   "metadata": {},
   "outputs": [],
   "source": [
    "for i in range(len(cycle_list)):\n",
    "    label_dict[edge_tracker[i]] = cycle_labels_forward[i][0]"
   ]
  },
  {
   "cell_type": "code",
   "execution_count": 375,
   "id": "471704bc-6077-4de5-bc4a-c0ce0d241ef0",
   "metadata": {},
   "outputs": [
    {
     "name": "stdout",
     "output_type": "stream",
     "text": [
      "[0. 0.]\n"
     ]
    }
   ],
   "source": [
    "print(total_affinities)"
   ]
  },
  {
   "cell_type": "code",
   "execution_count": 376,
   "id": "1f1c58e4-35c4-42d3-b29f-cdfcd3dc2308",
   "metadata": {},
   "outputs": [],
   "source": [
    "label_list = np.fromiter(label_dict.values(), dtype=float)"
   ]
  },
  {
   "cell_type": "code",
   "execution_count": 377,
   "id": "6017dc55-ff88-413a-a529-68fc55ed5b58",
   "metadata": {},
   "outputs": [],
   "source": [
    "L = Laplacian_all(edge_list,label_list,node_list)"
   ]
  },
  {
   "cell_type": "code",
   "execution_count": 378,
   "id": "c8588e0d-5c1a-4125-af8a-0ce73f73127b",
   "metadata": {},
   "outputs": [],
   "source": [
    "t,t_rev = autocorrelation_analytical(observable,L,tau_n,alpha=1,beta=3)"
   ]
  },
  {
   "cell_type": "code",
   "execution_count": 379,
   "id": "5883c8ab-5634-4acf-a346-56085a910a9f",
   "metadata": {},
   "outputs": [
    {
     "name": "stdout",
     "output_type": "stream",
     "text": [
      "4274.4914821638749345\n",
      "4274.576755506981499\n"
     ]
    }
   ],
   "source": [
    "print(t[-1])\n",
    "print(t_rev[-1])"
   ]
  },
  {
   "cell_type": "code",
   "execution_count": 380,
   "id": "29fa3b21-dafc-46fa-a06d-3f5d12d26c8c",
   "metadata": {},
   "outputs": [
    {
     "data": {
      "text/plain": [
       "2471.8097025168681284"
      ]
     },
     "execution_count": 380,
     "metadata": {},
     "output_type": "execute_result"
    }
   ],
   "source": [
    "np.abs(np.trapz(t)-np.trapz(t_rev))"
   ]
  },
  {
   "cell_type": "code",
   "execution_count": 381,
   "id": "a8d5aa27-83f1-4d1c-b046-903b6715d6d0",
   "metadata": {},
   "outputs": [
    {
     "data": {
      "text/plain": [
       "[<matplotlib.lines.Line2D at 0x7fa4d1766f70>]"
      ]
     },
     "execution_count": 381,
     "metadata": {},
     "output_type": "execute_result"
    },
    {
     "data": {
      "image/png": "[encoded data removed]",
      "text/plain": [
       "<Figure size 1008x864 with 1 Axes>"
      ]
     },
     "metadata": {
      "image/png": {
       "height": 687,
       "width": 838
      },
      "needs_background": "light"
     },
     "output_type": "display_data"
    }
   ],
   "source": [
    "plt.plot(tau_n,t)\n",
    "plt.plot(tau_n,t_rev)"
   ]
  },
  {
   "cell_type": "code",
   "execution_count": null,
   "id": "9436ca7d-1a90-44bd-a191-dbd0edc83490",
   "metadata": {},
   "outputs": [],
   "source": []
  }
 ],
 "metadata": {
  "kernelspec": {
   "display_name": "Python 3 (ipykernel)",
   "language": "python",
   "name": "python3"
  },
  "language_info": {
   "codemirror_mode": {
    "name": "ipython",
    "version": 3
   },
   "file_extension": ".py",
   "mimetype": "text/x-python",
   "name": "python",
   "nbconvert_exporter": "python",
   "pygments_lexer": "ipython3",
   "version": "3.9.19"
  }
 },
 "nbformat": 4,
 "nbformat_minor": 5
}
