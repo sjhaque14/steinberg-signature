{
 "cells": [
  {
   "cell_type": "code",
   "execution_count": 1,
   "id": "cb235c49-59ad-44c1-b0ea-090c4066b51d",
   "metadata": {},
   "outputs": [],
   "source": [
    "import numpy as np\n",
    "import matplotlib.pyplot as plt\n",
    "from tqdm import tqdm\n",
    "import networkx as nx\n",
    "import scipy.linalg\n",
    "\n",
    "from k4 import *\n",
    "\n",
    "plt.rc(\"text\", usetex=False)\n",
    "plt.rc(\"font\", family = \"serif\",size=14)\n",
    "plt.rc(\"figure\",figsize=(12,10))\n",
    "%config InlineBackend.figure_format = 'retina'"
   ]
  },
  {
   "cell_type": "code",
   "execution_count": 2,
   "id": "3cf85a81-0ce6-49fb-bc6d-7d51b094314b",
   "metadata": {},
   "outputs": [
    {
     "name": "stdout",
     "output_type": "stream",
     "text": [
      "[57.37, 6.935, 316.3, 308.9]\n",
      "[0.02843, 0.00297, 0.1452, 3170651358870.7817]\n"
     ]
    }
   ],
   "source": [
    "###### SIMULATION LOOP #######\n",
    "\n",
    "# equilibrium parameters\n",
    "\n",
    "labels_f_eq, labels_r_eq = eq_params_k4()\n",
    "print(labels_f_eq)\n",
    "print(labels_r_eq)"
   ]
  },
  {
   "cell_type": "code",
   "execution_count": 3,
   "id": "026a66db-89d5-4247-a417-11e57e632286",
   "metadata": {},
   "outputs": [],
   "source": [
    "labels_f_eq1 = labels_f_eq.copy()\n",
    "labels_r_eq1 = labels_r_eq.copy()"
   ]
  },
  {
   "cell_type": "code",
   "execution_count": 4,
   "id": "69c2e44d-ea17-4b32-af8d-4f59b108be3a",
   "metadata": {},
   "outputs": [
    {
     "name": "stdout",
     "output_type": "stream",
     "text": [
      "0.0\n"
     ]
    }
   ],
   "source": [
    "aff = np.abs(np.log(np.prod(labels_f_eq)/np.prod(labels_r_eq)))\n",
    "print(aff)"
   ]
  },
  {
   "cell_type": "code",
   "execution_count": 5,
   "id": "8a1ae8ad-c5eb-4f3e-9395-daeb4705a5b8",
   "metadata": {},
   "outputs": [],
   "source": [
    "# autocorr settings\n",
    "signal = [3,5,7,9]\n",
    "alpha, beta  = 1, 3"
   ]
  },
  {
   "cell_type": "code",
   "execution_count": 6,
   "id": "f5ab755c-eb91-4ddd-8b54-82708ea004bf",
   "metadata": {},
   "outputs": [
    {
     "ename": "AttributeError",
     "evalue": "module 'numpy' has no attribute 'float128'",
     "output_type": "error",
     "traceback": [
      "\u001b[0;31m---------------------------------------------------------------------------\u001b[0m",
      "\u001b[0;31mAttributeError\u001b[0m                            Traceback (most recent call last)",
      "Cell \u001b[0;32mIn[6], line 5\u001b[0m\n\u001b[1;32m      3\u001b[0m affinities \u001b[38;5;241m=\u001b[39m np\u001b[38;5;241m.\u001b[39mempty(N, dtype\u001b[38;5;241m=\u001b[39m\u001b[38;5;28mfloat\u001b[39m)\n\u001b[1;32m      4\u001b[0m areas \u001b[38;5;241m=\u001b[39m np\u001b[38;5;241m.\u001b[39mempty(N, dtype\u001b[38;5;241m=\u001b[39m\u001b[38;5;28mfloat\u001b[39m)\n\u001b[0;32m----> 5\u001b[0m eigvals_all_r \u001b[38;5;241m=\u001b[39m np\u001b[38;5;241m.\u001b[39mzeros((N, \u001b[38;5;241m4\u001b[39m), dtype\u001b[38;5;241m=\u001b[39mnp\u001b[38;5;241m.\u001b[39mfloat128)\n\u001b[1;32m      6\u001b[0m eigvals_all_c \u001b[38;5;241m=\u001b[39m np\u001b[38;5;241m.\u001b[39mzeros((N, \u001b[38;5;241m4\u001b[39m), dtype\u001b[38;5;241m=\u001b[39mnp\u001b[38;5;241m.\u001b[39mfloat128)\n\u001b[1;32m      8\u001b[0m \u001b[38;5;66;03m# edge to perturb\u001b[39;00m\n",
      "File \u001b[0;32m/opt/anaconda3/lib/python3.13/site-packages/numpy/__init__.py:795\u001b[0m, in \u001b[0;36m__getattr__\u001b[0;34m(attr)\u001b[0m\n\u001b[1;32m    792\u001b[0m     \u001b[38;5;28;01mimport\u001b[39;00m\u001b[38;5;250m \u001b[39m\u001b[38;5;21;01mnumpy\u001b[39;00m\u001b[38;5;21;01m.\u001b[39;00m\u001b[38;5;21;01mchar\u001b[39;00m\u001b[38;5;250m \u001b[39m\u001b[38;5;28;01mas\u001b[39;00m\u001b[38;5;250m \u001b[39m\u001b[38;5;21;01mchar\u001b[39;00m\n\u001b[1;32m    793\u001b[0m     \u001b[38;5;28;01mreturn\u001b[39;00m char\u001b[38;5;241m.\u001b[39mchararray\n\u001b[0;32m--> 795\u001b[0m \u001b[38;5;28;01mraise\u001b[39;00m \u001b[38;5;167;01mAttributeError\u001b[39;00m(\u001b[38;5;124mf\u001b[39m\u001b[38;5;124m\"\u001b[39m\u001b[38;5;124mmodule \u001b[39m\u001b[38;5;132;01m{\u001b[39;00m\u001b[38;5;18m__name__\u001b[39m\u001b[38;5;132;01m!r}\u001b[39;00m\u001b[38;5;124m has no attribute \u001b[39m\u001b[38;5;132;01m{\u001b[39;00mattr\u001b[38;5;132;01m!r}\u001b[39;00m\u001b[38;5;124m\"\u001b[39m)\n",
      "\u001b[0;31mAttributeError\u001b[0m: module 'numpy' has no attribute 'float128'"
     ]
    }
   ],
   "source": [
    "\n",
    "# arrays for tracking aff, area, and eigs\n",
    "N = 2000\n",
    "affinities = np.empty(N, dtype=float)\n",
    "areas = np.empty(N, dtype=float)\n",
    "eigvals_all_r = np.zeros((N, 4), dtype=float)\n",
    "eigvals_all_c = np.zeros((N, 4), dtype=float)\n",
    "\n",
    "# edge to perturb\n",
    "edge_idx = 1\n",
    "perturb_edge = labels_f[edge_idx] # labels_f[1] = k23\n",
    "\n",
    "for i in tqdm(range(0,N)):\n",
    "    \n",
    "    labels_f[edge_idx] = perturb_edge\n",
    "    \n",
    "    lap = lap_k4(labels_f, labels_r)\n",
    "    \n",
    "    aff = np.abs(np.log(np.prod(labels_f)/np.prod(labels_r)))\n",
    "    affinities[i] = aff\n",
    "    \n",
    "    tau, _ = define_tau_range(lap, max_points=500, cap_factor=10.0)\n",
    "    a13, a31 = autocorrelation_analytical(signal,lap,tau,alpha=1,beta=3)\n",
    "    areas[i] = np.abs(np.trapz(a13)-np.trapz(a31))\n",
    "    \n",
    "    # Track eigenvalues (real part)\n",
    "    eigvals = scipy.linalg.eigvals(lap)\n",
    "    eigvals_all_r[i, :] = np.sort(eigvals.real)\n",
    "    eigvals_all_c[i, :] = np.sort(eigvals.imag)\n",
    "    \n",
    "    perturb_edge *= 1.01"
   ]
  },
  {
   "cell_type": "code",
   "execution_count": null,
   "id": "dc3d912d-71b0-4fe9-a479-3879dc563d41",
   "metadata": {},
   "outputs": [],
   "source": [
    "# Steinberg curve plot\n",
    "plt.plot(np.abs(affinities),areas,label=r'$\\mathcal{I}^{1,3}(G)$',linewidth=1, color= 'black')\n",
    "plt.xlabel(r\"$\\tilde{A}(C)$\")\n",
    "plt.ylabel(r\"$\\mathcal{I}^{1,3}(G)$\")\n",
    "plt.show()"
   ]
  },
  {
   "cell_type": "code",
   "execution_count": null,
   "id": "7c68266d-5266-4375-bd22-220b45cb2a40",
   "metadata": {},
   "outputs": [],
   "source": [
    "# Eigenvalues plots\n",
    "plt.figure(figsize=(12,5))\n",
    "\n",
    "# Real part\n",
    "plt.subplot(1,2,1)\n",
    "for j in range(4):\n",
    "    plt.plot(affinities, eigvals_all_r[:, j], label=f\"Re(λ{j+1})\")\n",
    "plt.xlabel(\"Affinity\")\n",
    "plt.ylabel(\"Re(λ)\")\n",
    "plt.title(\"Real Parts of Eigenvalues\")\n",
    "plt.legend()\n",
    "\n",
    "# Imaginary part\n",
    "plt.subplot(1,2,2)\n",
    "for j in range(4):\n",
    "    plt.plot(affinities, eigvals_all_c[:, j], label=f\"Im(λ{j+1})\")\n",
    "plt.xlabel(\"Affinity\")\n",
    "plt.ylabel(\"Im(λ)\")\n",
    "plt.title(\"Imaginary Parts of Eigenvalues\")\n",
    "plt.legend()\n",
    "\n",
    "plt.tight_layout()\n",
    "plt.savefig(f\"eigenvalue_evolution_edge_{edge_idx}.png\", dpi=300)\n",
    "plt.show()"
   ]
  }
 ],
 "metadata": {
  "kernelspec": {
   "display_name": "Python [conda env:base] *",
   "language": "python",
   "name": "conda-base-py"
  },
  "language_info": {
   "codemirror_mode": {
    "name": "ipython",
    "version": 3
   },
   "file_extension": ".py",
   "mimetype": "text/x-python",
   "name": "python",
   "nbconvert_exporter": "python",
   "pygments_lexer": "ipython3",
   "version": "3.13.5"
  }
 },
 "nbformat": 4,
 "nbformat_minor": 5
}
