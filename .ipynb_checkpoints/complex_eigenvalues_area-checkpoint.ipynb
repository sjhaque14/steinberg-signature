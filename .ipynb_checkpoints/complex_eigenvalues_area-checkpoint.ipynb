{
 "cells": [
  {
   "cell_type": "code",
   "execution_count": 1,
   "id": "bf76d173-32ac-49ea-9975-daf15a607761",
   "metadata": {},
   "outputs": [],
   "source": [
    "import numpy as np\n",
    "import matplotlib.pyplot as plt\n",
    "from tqdm import tqdm\n",
    "\n",
    "from steinberg_utils_3vertex import *"
   ]
  },
  {
   "cell_type": "markdown",
   "id": "9252413f-3b7b-45cf-90a9-4f3670f7b850",
   "metadata": {},
   "source": [
    "How does the area formula break down when the eigenvalues are complex?"
   ]
  },
  {
   "cell_type": "code",
   "execution_count": 21,
   "id": "ea6c56de-d65b-4497-b7d5-8c5579b5780a",
   "metadata": {},
   "outputs": [],
   "source": [
    "# complex parameter set\n",
    "params = [134.893, 0.005, 34.320, 0.041, 12.775, 149.760]\n",
    "\n",
    "# real parameter set\n",
    "#params = [11.781, 0.291, 17.519, 0.013, 0.006, 542.228]"
   ]
  },
  {
   "cell_type": "code",
   "execution_count": 22,
   "id": "8a8a3da5-0968-4f9b-a155-9eaae40378e4",
   "metadata": {},
   "outputs": [
    {
     "data": {
      "text/plain": [
       "array([[-1.47668e+02,  5.00000e-03,  1.49760e+02],\n",
       "       [ 1.34893e+02, -3.43250e+01,  4.10000e-02],\n",
       "       [ 1.27750e+01,  3.43200e+01, -1.49801e+02]], dtype=float128)"
      ]
     },
     "execution_count": 22,
     "metadata": {},
     "output_type": "execute_result"
    }
   ],
   "source": [
    "L = Laplacian_K(params)\n",
    "L"
   ]
  },
  {
   "cell_type": "code",
   "execution_count": 45,
   "id": "e75dd906-2e06-4503-a39b-9c82c917f6c4",
   "metadata": {},
   "outputs": [
    {
     "name": "stdout",
     "output_type": "stream",
     "text": [
      "[-8.62161517e-17 +0.j        -1.65897000e+02+53.7992314j\n",
      " -1.65897000e+02-53.7992314j]\n",
      "(-8.621615171411029e-17+0j)\n",
      "(-165.89699999999993+53.79923139785545j)\n",
      "(-165.89699999999993-53.79923139785545j)\n"
     ]
    }
   ],
   "source": [
    "eigvals, left_eigvecs, right_eigvecs = scipy.linalg.eig(L, left=True, right=True)\n",
    "print(eigvals)\n",
    "lambda_1 = eigvals[0]\n",
    "lambda_2 = eigvals[1]\n",
    "lambda_3 = eigvals[2]\n",
    "\n",
    "print(lambda_1)\n",
    "print(lambda_2)\n",
    "print(lambda_3)"
   ]
  },
  {
   "cell_type": "code",
   "execution_count": 46,
   "id": "4ad027e1-6bd1-45ee-b4b0-b77d5c973ccd",
   "metadata": {},
   "outputs": [
    {
     "name": "stdout",
     "output_type": "stream",
     "text": [
      "[[ 0.57735027+0.j         -0.09810327-0.32810973j -0.09810327+0.32810973j]\n",
      " [ 0.57735027+0.j         -0.20409513+0.0834661j  -0.20409513-0.0834661j ]\n",
      " [ 0.57735027+0.j          0.91328984+0.j          0.91328984-0.j        ]]\n"
     ]
    }
   ],
   "source": [
    "print(left_eigvecs)"
   ]
  },
  {
   "cell_type": "code",
   "execution_count": 47,
   "id": "5d318991-4468-43a7-874d-328d857039fc",
   "metadata": {},
   "outputs": [
    {
     "name": "stdout",
     "output_type": "stream",
     "text": [
      "[[ 0.23955836+0.j          0.69939434+0.j          0.69939434-0.j        ]\n",
      " [ 0.94171681+0.j         -0.61428358-0.25125624j -0.61428358+0.25125624j]\n",
      " [ 0.23618053+0.j         -0.08511076+0.25125624j -0.08511076-0.25125624j]]\n"
     ]
    }
   ],
   "source": [
    "print(right_eigvecs)"
   ]
  },
  {
   "cell_type": "code",
   "execution_count": 24,
   "id": "6af06ea7-76e9-4589-8c32-8db650656024",
   "metadata": {},
   "outputs": [
    {
     "data": {
      "text/plain": [
       "0"
      ]
     },
     "execution_count": 24,
     "metadata": {},
     "output_type": "execute_result"
    }
   ],
   "source": [
    "idx_1 = np.argmax(eigvals)\n",
    "idx_1"
   ]
  },
  {
   "cell_type": "code",
   "execution_count": 25,
   "id": "7e834dc7-5418-4dcf-bae9-1ffbcf5eec64",
   "metadata": {},
   "outputs": [],
   "source": [
    "z_1 = right_eigvecs[:,idx_1]\n",
    "w_1 = left_eigvecs[:,idx_1]"
   ]
  },
  {
   "cell_type": "code",
   "execution_count": 26,
   "id": "0a821fb2-4b7c-46ee-b8b7-9faed8f4da46",
   "metadata": {},
   "outputs": [],
   "source": [
    "# Normalize u_1 and v_1\n",
    "normalization_1 = sum(z_1)\n",
    "z_1 = z_1/normalization_1\n",
    "w_1 = w_1/w_1"
   ]
  },
  {
   "cell_type": "code",
   "execution_count": 27,
   "id": "1d694c65-2ae5-4c1f-8165-0771c1c49bd5",
   "metadata": {},
   "outputs": [
    {
     "data": {
      "text/plain": [
       "array([-165.897+53.7992314j, -165.897-53.7992314j])"
      ]
     },
     "execution_count": 27,
     "metadata": {},
     "output_type": "execute_result"
    }
   ],
   "source": [
    "eigvals_other = np.delete(eigvals, idx_1)\n",
    "eigvals_other"
   ]
  },
  {
   "cell_type": "code",
   "execution_count": 28,
   "id": "14c7b158-aca6-4142-ada8-24407151f733",
   "metadata": {},
   "outputs": [],
   "source": [
    "# Delete eigenvectors u_1 and v_1 from their respective arrays\n",
    "right_eigvecs_other = np.delete(right_eigvecs, idx_1, axis=1)\n",
    "left_eigvecs_other = np.delete(left_eigvecs, idx_1, axis=1)"
   ]
  },
  {
   "cell_type": "code",
   "execution_count": 29,
   "id": "c4d4c5c9-c776-43e5-b9be-8cf4de46ec30",
   "metadata": {},
   "outputs": [
    {
     "data": {
      "text/plain": [
       "0"
      ]
     },
     "execution_count": 29,
     "metadata": {},
     "output_type": "execute_result"
    }
   ],
   "source": [
    "idx_3 = np.argmin(eigvals_other)\n",
    "idx_2 = np.argmax(eigvals_other)\n",
    "idx_2"
   ]
  },
  {
   "cell_type": "code",
   "execution_count": 31,
   "id": "e01a9256-bae6-4cb3-86d6-2d340eb864c9",
   "metadata": {},
   "outputs": [
    {
     "name": "stdout",
     "output_type": "stream",
     "text": [
      "(-165.89699999999993+53.79923139785545j)\n",
      "(-165.89699999999993-53.79923139785545j)\n"
     ]
    }
   ],
   "source": [
    "# Define lambda_2 and lambda_3\n",
    "lambda_2 = eigvals_other[idx_2]\n",
    "lambda_3 = eigvals_other[idx_3]\n",
    "print(lambda_2)\n",
    "print(lambda_3)"
   ]
  },
  {
   "cell_type": "code",
   "execution_count": 32,
   "id": "1f3d78bb-78c4-40e0-8230-5ab268d90a1c",
   "metadata": {},
   "outputs": [
    {
     "name": "stdout",
     "output_type": "stream",
     "text": [
      "[ 0.69939434+0.j         -0.61428358-0.25125624j -0.08511076+0.25125624j]\n",
      "[-0.09810327-0.32810973j -0.20409513+0.0834661j   0.91328984+0.j        ]\n"
     ]
    }
   ],
   "source": [
    "# Define left and right eigenvectors for lambda_2 and normalize appropriately\n",
    "z_2 = right_eigvecs_other[:,idx_2]\n",
    "w_2 = left_eigvecs_other[:,idx_2]\n",
    "print(z_2)\n",
    "print(w_2)"
   ]
  },
  {
   "cell_type": "code",
   "execution_count": 35,
   "id": "5cbba9a2-c22a-4f1a-b382-21478b3378c1",
   "metadata": {},
   "outputs": [
    {
     "data": {
      "text/plain": [
       "array([-116.02742334+37.6268781j ,  115.42519542 +8.63467192j,\n",
       "          0.60222791-46.26155002j], dtype=complex256)"
      ]
     },
     "execution_count": 35,
     "metadata": {},
     "output_type": "execute_result"
    }
   ],
   "source": [
    "np.dot(L,z_2)"
   ]
  },
  {
   "cell_type": "code",
   "execution_count": 34,
   "id": "46d9318b-d124-42cb-ac59-35f432aaf9e0",
   "metadata": {},
   "outputs": [
    {
     "data": {
      "text/plain": [
       "array([-116.02742334+37.6268781j ,  115.42519542 +8.63467192j,\n",
       "          0.60222791-46.26155002j])"
      ]
     },
     "execution_count": 34,
     "metadata": {},
     "output_type": "execute_result"
    }
   ],
   "source": [
    "lambda_2*z_2"
   ]
  },
  {
   "cell_type": "code",
   "execution_count": 49,
   "id": "7b43dbcc-8b51-49e3-9e64-b54603a70f00",
   "metadata": {},
   "outputs": [
    {
     "data": {
      "text/plain": [
       "array([  -1.37701364-59.71030092j,   38.34918235 +2.86661446j,\n",
       "       -151.51204516+49.13429162j], dtype=complex256)"
      ]
     },
     "execution_count": 49,
     "metadata": {},
     "output_type": "execute_result"
    }
   ],
   "source": [
    "np.dot(w_3,L)"
   ]
  },
  {
   "cell_type": "code",
   "execution_count": 48,
   "id": "6e959308-9b48-4c3f-9b2b-10fc7bb68727",
   "metadata": {},
   "outputs": [
    {
     "data": {
      "text/plain": [
       "array([  -1.37701364-59.71030092j,   38.34918235 +2.86661446j,\n",
       "       -151.51204516+49.13429162j])"
      ]
     },
     "execution_count": 48,
     "metadata": {},
     "output_type": "execute_result"
    }
   ],
   "source": [
    "lambda_2*w_3"
   ]
  },
  {
   "cell_type": "code",
   "execution_count": 14,
   "id": "db830268-a12e-486e-bfc2-ae805f7e85f1",
   "metadata": {},
   "outputs": [
    {
     "data": {
      "text/plain": [
       "array([-0.09810327+0.32810973j, -0.20409513-0.0834661j ,\n",
       "        0.91328984-0.j        ])"
      ]
     },
     "execution_count": 14,
     "metadata": {},
     "output_type": "execute_result"
    }
   ],
   "source": [
    "# Define left and right eigenvectors for lambda_3 and normalize appropriately\n",
    "z_3 = right_eigvecs_other[:,idx_3]\n",
    "w_3 = left_eigvecs_other[:,idx_3]\n",
    "w_3"
   ]
  },
  {
   "cell_type": "code",
   "execution_count": 50,
   "id": "672efb66-3775-416f-9e13-c6a0f6450c9a",
   "metadata": {},
   "outputs": [
    {
     "data": {
      "text/plain": [
       "(8.673617379884035e-17-1.1102230246251565e-16j)"
      ]
     },
     "execution_count": 50,
     "metadata": {},
     "output_type": "execute_result"
    }
   ],
   "source": [
    "np.dot(w_3,z_3)"
   ]
  },
  {
   "cell_type": "code",
   "execution_count": 51,
   "id": "d1834e18-f386-4389-8dec-f370d0125307",
   "metadata": {},
   "outputs": [
    {
     "data": {
      "text/plain": [
       "(8.673617379884035e-17+1.1102230246251565e-16j)"
      ]
     },
     "execution_count": 51,
     "metadata": {},
     "output_type": "execute_result"
    }
   ],
   "source": [
    "np.dot(w_2,z_2)"
   ]
  },
  {
   "cell_type": "code",
   "execution_count": 17,
   "id": "0fd0aa5b-b90f-47fe-84b5-98acb97668e2",
   "metadata": {},
   "outputs": [
    {
     "data": {
      "text/plain": [
       "(-0.06861287069531473-0.2294780917153401j)"
      ]
     },
     "execution_count": 17,
     "metadata": {},
     "output_type": "execute_result"
    }
   ],
   "source": [
    "w_2[0]*z_3[0]"
   ]
  },
  {
   "cell_type": "code",
   "execution_count": 18,
   "id": "c4e7d08b-cbfe-4bde-a13c-2224ff0fe9b2",
   "metadata": {},
   "outputs": [
    {
     "data": {
      "text/plain": [
       "(-0.20409513294365542+0.08346610094154272j)"
      ]
     },
     "execution_count": 18,
     "metadata": {},
     "output_type": "execute_result"
    }
   ],
   "source": [
    "w_2[1]"
   ]
  },
  {
   "cell_type": "code",
   "execution_count": 19,
   "id": "d0ca0827-f17b-4e9f-867a-31c95f4314e9",
   "metadata": {},
   "outputs": [
    {
     "data": {
      "text/plain": [
       "(-0.6142835787877554+0.25125623920676676j)"
      ]
     },
     "execution_count": 19,
     "metadata": {},
     "output_type": "execute_result"
    }
   ],
   "source": [
    "z_3[1]"
   ]
  },
  {
   "cell_type": "code",
   "execution_count": 20,
   "id": "a368e5a5-962e-48df-888c-471002115dc6",
   "metadata": {},
   "outputs": [
    {
     "data": {
      "text/plain": [
       "-0.011688173518584347"
      ]
     },
     "execution_count": 20,
     "metadata": {},
     "output_type": "execute_result"
    }
   ],
   "source": [
    "-0.7279275445959555 * 0.01605678148238229"
   ]
  },
  {
   "cell_type": "code",
   "execution_count": null,
   "id": "597f06a5-9e62-4e8a-b3b6-f85eb4959228",
   "metadata": {},
   "outputs": [],
   "source": []
  }
 ],
 "metadata": {
  "kernelspec": {
   "display_name": "Python 3 (ipykernel)",
   "language": "python",
   "name": "python3"
  },
  "language_info": {
   "codemirror_mode": {
    "name": "ipython",
    "version": 3
   },
   "file_extension": ".py",
   "mimetype": "text/x-python",
   "name": "python",
   "nbconvert_exporter": "python",
   "pygments_lexer": "ipython3",
   "version": "3.9.12"
  }
 },
 "nbformat": 4,
 "nbformat_minor": 5
}
