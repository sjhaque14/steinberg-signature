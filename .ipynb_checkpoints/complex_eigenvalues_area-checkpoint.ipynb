{
 "cells": [
  {
   "cell_type": "code",
   "execution_count": 1,
   "id": "bf76d173-32ac-49ea-9975-daf15a607761",
   "metadata": {},
   "outputs": [],
   "source": [
    "import numpy as np\n",
    "import matplotlib.pyplot as plt\n",
    "from tqdm import tqdm\n",
    "\n",
    "from steinberg_utils_3vertex import *"
   ]
  },
  {
   "cell_type": "markdown",
   "id": "0815aeb4-24b3-4468-a4c3-333790210a00",
   "metadata": {},
   "source": [
    "Verification of the formula in "
   ]
  },
  {
   "cell_type": "markdown",
   "id": "113cd420-0166-46e0-8f74-23385dbc0224",
   "metadata": {},
   "source": [
    "Eigenvalue sampling"
   ]
  },
  {
   "cell_type": "code",
   "execution_count": 148,
   "id": "5bada65f-214c-465e-94a4-1e88ea33c5d4",
   "metadata": {},
   "outputs": [],
   "source": [
    "signal = [3,5,7]\n",
    "tau = np.around(np.arange(0.01,2.0,step=.01), decimals = 2)\n",
    "alpha = 1\n",
    "beta = 3"
   ]
  },
  {
   "cell_type": "code",
   "execution_count": 149,
   "id": "d4597c57-cfdf-4615-878d-8e7f90a15a0c",
   "metadata": {},
   "outputs": [
    {
     "name": "stdout",
     "output_type": "stream",
     "text": [
      "19.394254601663402\n"
     ]
    },
    {
     "data": {
      "text/plain": [
       "array([-8.62161517e-17 +0.j       , -1.65897000e+02+53.7992314j,\n",
       "       -1.65897000e+02-53.7992314j])"
      ]
     },
     "execution_count": 149,
     "metadata": {},
     "output_type": "execute_result"
    }
   ],
   "source": [
    "params = [134.893, 0.005, 34.320, 0.041, 12.775, 149.760]\n",
    "#params = [11.781, 0.291, 17.519, 0.013, 0.006, 542.228]\n",
    "print(cycle_affinity_K(params))\n",
    "L = Laplacian_K(params)\n",
    "eigvals, left_eigvecs, right_eigvecs = scipy.linalg.eig(L, left=True, right=True)\n",
    "eigvals"
   ]
  },
  {
   "cell_type": "code",
   "execution_count": 150,
   "id": "8c980963-3c7f-4ab7-a6d0-9fbd5d72d3bd",
   "metadata": {},
   "outputs": [
    {
     "data": {
      "text/plain": [
       "array([[-1.47668e+02,  5.00000e-03,  1.49760e+02],\n",
       "       [ 1.34893e+02, -3.43250e+01,  4.10000e-02],\n",
       "       [ 1.27750e+01,  3.43200e+01, -1.49801e+02]], dtype=float128)"
      ]
     },
     "execution_count": 150,
     "metadata": {},
     "output_type": "execute_result"
    }
   ],
   "source": [
    "L"
   ]
  },
  {
   "cell_type": "code",
   "execution_count": 151,
   "id": "1cbef81a-9f5e-43f1-8758-4608bce591e3",
   "metadata": {},
   "outputs": [
    {
     "data": {
      "text/plain": [
       "[134.893, 0.005, 34.32, 0.041, 12.775, 149.76]"
      ]
     },
     "execution_count": 151,
     "metadata": {},
     "output_type": "execute_result"
    }
   ],
   "source": [
    "params"
   ]
  },
  {
   "cell_type": "code",
   "execution_count": 163,
   "id": "5a91cf42-bb55-4242-b537-e9dfbf62ffda",
   "metadata": {},
   "outputs": [
    {
     "data": {
      "text/plain": [
       "0"
      ]
     },
     "execution_count": 163,
     "metadata": {},
     "output_type": "execute_result"
    }
   ],
   "source": [
    "idx_1 = np.argmax(eigvals)\n",
    "idx_1"
   ]
  },
  {
   "cell_type": "code",
   "execution_count": 164,
   "id": "d6bbfe4b-96a9-4873-ab75-28ada30d700d",
   "metadata": {},
   "outputs": [],
   "source": [
    "lambda_1 = eigvals[idx_1]\n",
    "z_1 = right_eigvecs[:,idx_1]\n",
    "w_1 = left_eigvecs[:,idx_1]"
   ]
  },
  {
   "cell_type": "code",
   "execution_count": 165,
   "id": "56e190f4-2f22-4737-980a-97018f1113d3",
   "metadata": {},
   "outputs": [],
   "source": [
    "# Normalize u_1 and v_1\n",
    "normalization_1 = sum(z_1)\n",
    "z_1 = z_1/normalization_1\n",
    "w_1 = w_1/w_1"
   ]
  },
  {
   "cell_type": "code",
   "execution_count": 166,
   "id": "2204d005-71f7-4333-ade4-913ddc0bc8c0",
   "metadata": {},
   "outputs": [
    {
     "data": {
      "text/plain": [
       "array([-165.897+53.7992314j, -165.897-53.7992314j])"
      ]
     },
     "execution_count": 166,
     "metadata": {},
     "output_type": "execute_result"
    }
   ],
   "source": [
    "eigvals_other = np.delete(eigvals, idx_1)\n",
    "eigvals_other"
   ]
  },
  {
   "cell_type": "code",
   "execution_count": 167,
   "id": "f91fc264-7287-4fb0-8a21-529d746dc9fb",
   "metadata": {},
   "outputs": [],
   "source": [
    "# Delete eigenvectors u_1 and v_1 from their respective arrays\n",
    "right_eigvecs_other = np.delete(right_eigvecs, idx_1, axis=1)\n",
    "left_eigvecs_other = np.delete(left_eigvecs, idx_1, axis=1)"
   ]
  },
  {
   "cell_type": "code",
   "execution_count": 168,
   "id": "c43c7822-f96a-4e28-bd85-e5c699464670",
   "metadata": {},
   "outputs": [
    {
     "data": {
      "text/plain": [
       "0"
      ]
     },
     "execution_count": 168,
     "metadata": {},
     "output_type": "execute_result"
    }
   ],
   "source": [
    "idx_3 = np.argmin(eigvals_other)\n",
    "idx_2 = np.argmax(eigvals_other)\n",
    "idx_2"
   ]
  },
  {
   "cell_type": "code",
   "execution_count": 175,
   "id": "dd7f0b6b-e9ff-4b32-8e6c-5363f839effa",
   "metadata": {},
   "outputs": [
    {
     "data": {
      "text/plain": [
       "(-165.89699999999993+53.79923139785545j)"
      ]
     },
     "execution_count": 175,
     "metadata": {},
     "output_type": "execute_result"
    }
   ],
   "source": [
    "# Define lambda_2 and lambda_3\n",
    "lambda_2 = eigvals_other[idx_2]\n",
    "lambda_3 = eigvals_other[idx_3]\n",
    "lambda_2"
   ]
  },
  {
   "cell_type": "code",
   "execution_count": null,
   "id": "45555c6d-1910-42e8-bdef-1f70da940ee2",
   "metadata": {},
   "outputs": [
    {
     "data": {
      "text/plain": [
       "array([-0.09810327-0.32810973j, -0.20409513+0.0834661j ,\n",
       "        0.91328984+0.j        ])"
      ]
     },
     "execution_count": 173,
     "metadata": {},
     "output_type": "execute_result"
    }
   ],
   "source": [
    "# Define left and right eigenvectors for lambda_2 and normalize appropriately\n",
    "z_2 = right_eigvecs_other[:,idx_2]\n",
    "w_2 = left_eigvecs_other[:,idx_2]\n",
    "w_2"
   ]
  },
  {
   "cell_type": "code",
   "execution_count": 178,
   "id": "3497a68c-005e-4c45-85c6-b62ae70d374b",
   "metadata": {},
   "outputs": [
    {
     "data": {
      "text/plain": [
       "array([-0.09810327+0.32810973j, -0.20409513-0.0834661j ,\n",
       "        0.91328984-0.j        ])"
      ]
     },
     "execution_count": 178,
     "metadata": {},
     "output_type": "execute_result"
    }
   ],
   "source": [
    "# Define left and right eigenvectors for lambda_3 and normalize appropriately\n",
    "z_3 = right_eigvecs_other[:,idx_3]\n",
    "w_3 = left_eigvecs_other[:,idx_3]\n",
    "w_3"
   ]
  },
  {
   "cell_type": "code",
   "execution_count": 179,
   "id": "582c2dfc-f065-4263-b7f6-b8906b04d264",
   "metadata": {},
   "outputs": [
    {
     "data": {
      "text/plain": [
       "(-0.041942757247648704-0.5614998938183421j)"
      ]
     },
     "execution_count": 179,
     "metadata": {},
     "output_type": "execute_result"
    }
   ],
   "source": [
    "np.dot(w_2,z_3)"
   ]
  },
  {
   "cell_type": "code",
   "execution_count": 183,
   "id": "2d836feb-3e3b-485a-9a45-689d174dd890",
   "metadata": {},
   "outputs": [
    {
     "data": {
      "text/plain": [
       "(-0.041942757247648704+0.5614998938183421j)"
      ]
     },
     "execution_count": 183,
     "metadata": {},
     "output_type": "execute_result"
    }
   ],
   "source": [
    "np.dot(w_3,z_2)"
   ]
  },
  {
   "cell_type": "code",
   "execution_count": 182,
   "id": "338e1a26-70fa-48ea-aded-20359c09b704",
   "metadata": {},
   "outputs": [
    {
     "data": {
      "text/plain": [
       "(-0.06861287069531473-0.2294780917153401j)"
      ]
     },
     "execution_count": 182,
     "metadata": {},
     "output_type": "execute_result"
    }
   ],
   "source": [
    "w_2[0]*z_3[0]"
   ]
  },
  {
   "cell_type": "code",
   "execution_count": 136,
   "id": "3495076f-e330-42ff-9c9e-85411035428f",
   "metadata": {},
   "outputs": [
    {
     "data": {
      "text/plain": [
       "-0.7279275445959555"
      ]
     },
     "execution_count": 136,
     "metadata": {},
     "output_type": "execute_result"
    }
   ],
   "source": [
    "w_2[1]"
   ]
  },
  {
   "cell_type": "code",
   "execution_count": 137,
   "id": "c81b0e35-35e1-4207-964e-a9242a209f2e",
   "metadata": {},
   "outputs": [
    {
     "data": {
      "text/plain": [
       "0.01605678148238229"
      ]
     },
     "execution_count": 137,
     "metadata": {},
     "output_type": "execute_result"
    }
   ],
   "source": [
    "z_3[1]"
   ]
  },
  {
   "cell_type": "code",
   "execution_count": 138,
   "id": "c1ed771e-e21a-43f3-8958-6d7503360d6c",
   "metadata": {},
   "outputs": [
    {
     "data": {
      "text/plain": [
       "-0.011688173518584347"
      ]
     },
     "execution_count": 138,
     "metadata": {},
     "output_type": "execute_result"
    }
   ],
   "source": [
    "-0.7279275445959555 * 0.01605678148238229"
   ]
  },
  {
   "cell_type": "code",
   "execution_count": null,
   "id": "8a4e90fa-9cc5-4d88-a907-10eee16f5316",
   "metadata": {},
   "outputs": [],
   "source": []
  },
  {
   "cell_type": "markdown",
   "id": "9252413f-3b7b-45cf-90a9-4f3670f7b850",
   "metadata": {},
   "source": [
    "How does the area formula break down when the eigenvalues are complex?"
   ]
  },
  {
   "cell_type": "code",
   "execution_count": 21,
   "id": "ea6c56de-d65b-4497-b7d5-8c5579b5780a",
   "metadata": {},
   "outputs": [],
   "source": [
    "# complex parameter set\n",
    "params = [134.893, 0.005, 34.320, 0.041, 12.775, 149.760]\n",
    "\n",
    "# real parameter set\n",
    "#params = [11.781, 0.291, 17.519, 0.013, 0.006, 542.228]"
   ]
  },
  {
   "cell_type": "code",
   "execution_count": 22,
   "id": "8a8a3da5-0968-4f9b-a155-9eaae40378e4",
   "metadata": {},
   "outputs": [
    {
     "data": {
      "text/plain": [
       "array([[-1.47668e+02,  5.00000e-03,  1.49760e+02],\n",
       "       [ 1.34893e+02, -3.43250e+01,  4.10000e-02],\n",
       "       [ 1.27750e+01,  3.43200e+01, -1.49801e+02]], dtype=float128)"
      ]
     },
     "execution_count": 22,
     "metadata": {},
     "output_type": "execute_result"
    }
   ],
   "source": [
    "L = Laplacian_K(params)\n",
    "L"
   ]
  },
  {
   "cell_type": "code",
   "execution_count": 45,
   "id": "e75dd906-2e06-4503-a39b-9c82c917f6c4",
   "metadata": {},
   "outputs": [
    {
     "name": "stdout",
     "output_type": "stream",
     "text": [
      "[-8.62161517e-17 +0.j        -1.65897000e+02+53.7992314j\n",
      " -1.65897000e+02-53.7992314j]\n",
      "(-8.621615171411029e-17+0j)\n",
      "(-165.89699999999993+53.79923139785545j)\n",
      "(-165.89699999999993-53.79923139785545j)\n"
     ]
    }
   ],
   "source": [
    "eigvals, left_eigvecs, right_eigvecs = scipy.linalg.eig(L, left=True, right=True)\n",
    "print(eigvals)\n",
    "lambda_1 = eigvals[0]\n",
    "lambda_2 = eigvals[1]\n",
    "lambda_3 = eigvals[2]\n",
    "\n",
    "print(lambda_1)\n",
    "print(lambda_2)\n",
    "print(lambda_3)"
   ]
  },
  {
   "cell_type": "code",
   "execution_count": 46,
   "id": "4ad027e1-6bd1-45ee-b4b0-b77d5c973ccd",
   "metadata": {},
   "outputs": [
    {
     "name": "stdout",
     "output_type": "stream",
     "text": [
      "[[ 0.57735027+0.j         -0.09810327-0.32810973j -0.09810327+0.32810973j]\n",
      " [ 0.57735027+0.j         -0.20409513+0.0834661j  -0.20409513-0.0834661j ]\n",
      " [ 0.57735027+0.j          0.91328984+0.j          0.91328984-0.j        ]]\n"
     ]
    }
   ],
   "source": [
    "print(left_eigvecs)"
   ]
  },
  {
   "cell_type": "code",
   "execution_count": 47,
   "id": "5d318991-4468-43a7-874d-328d857039fc",
   "metadata": {},
   "outputs": [
    {
     "name": "stdout",
     "output_type": "stream",
     "text": [
      "[[ 0.23955836+0.j          0.69939434+0.j          0.69939434-0.j        ]\n",
      " [ 0.94171681+0.j         -0.61428358-0.25125624j -0.61428358+0.25125624j]\n",
      " [ 0.23618053+0.j         -0.08511076+0.25125624j -0.08511076-0.25125624j]]\n"
     ]
    }
   ],
   "source": [
    "print(right_eigvecs)"
   ]
  },
  {
   "cell_type": "code",
   "execution_count": 24,
   "id": "6af06ea7-76e9-4589-8c32-8db650656024",
   "metadata": {},
   "outputs": [
    {
     "data": {
      "text/plain": [
       "0"
      ]
     },
     "execution_count": 24,
     "metadata": {},
     "output_type": "execute_result"
    }
   ],
   "source": [
    "idx_1 = np.argmax(eigvals)\n",
    "idx_1"
   ]
  },
  {
   "cell_type": "code",
   "execution_count": 25,
   "id": "7e834dc7-5418-4dcf-bae9-1ffbcf5eec64",
   "metadata": {},
   "outputs": [],
   "source": [
    "z_1 = right_eigvecs[:,idx_1]\n",
    "w_1 = left_eigvecs[:,idx_1]"
   ]
  },
  {
   "cell_type": "code",
   "execution_count": 26,
   "id": "0a821fb2-4b7c-46ee-b8b7-9faed8f4da46",
   "metadata": {},
   "outputs": [],
   "source": [
    "# Normalize u_1 and v_1\n",
    "normalization_1 = sum(z_1)\n",
    "z_1 = z_1/normalization_1\n",
    "w_1 = w_1/w_1"
   ]
  },
  {
   "cell_type": "code",
   "execution_count": 27,
   "id": "1d694c65-2ae5-4c1f-8165-0771c1c49bd5",
   "metadata": {},
   "outputs": [
    {
     "data": {
      "text/plain": [
       "array([-165.897+53.7992314j, -165.897-53.7992314j])"
      ]
     },
     "execution_count": 27,
     "metadata": {},
     "output_type": "execute_result"
    }
   ],
   "source": [
    "eigvals_other = np.delete(eigvals, idx_1)\n",
    "eigvals_other"
   ]
  },
  {
   "cell_type": "code",
   "execution_count": 28,
   "id": "14c7b158-aca6-4142-ada8-24407151f733",
   "metadata": {},
   "outputs": [],
   "source": [
    "# Delete eigenvectors u_1 and v_1 from their respective arrays\n",
    "right_eigvecs_other = np.delete(right_eigvecs, idx_1, axis=1)\n",
    "left_eigvecs_other = np.delete(left_eigvecs, idx_1, axis=1)"
   ]
  },
  {
   "cell_type": "code",
   "execution_count": 29,
   "id": "c4d4c5c9-c776-43e5-b9be-8cf4de46ec30",
   "metadata": {},
   "outputs": [
    {
     "data": {
      "text/plain": [
       "0"
      ]
     },
     "execution_count": 29,
     "metadata": {},
     "output_type": "execute_result"
    }
   ],
   "source": [
    "idx_3 = np.argmin(eigvals_other)\n",
    "idx_2 = np.argmax(eigvals_other)\n",
    "idx_2"
   ]
  },
  {
   "cell_type": "code",
   "execution_count": 31,
   "id": "e01a9256-bae6-4cb3-86d6-2d340eb864c9",
   "metadata": {},
   "outputs": [
    {
     "name": "stdout",
     "output_type": "stream",
     "text": [
      "(-165.89699999999993+53.79923139785545j)\n",
      "(-165.89699999999993-53.79923139785545j)\n"
     ]
    }
   ],
   "source": [
    "# Define lambda_2 and lambda_3\n",
    "lambda_2 = eigvals_other[idx_2]\n",
    "lambda_3 = eigvals_other[idx_3]\n",
    "print(lambda_2)\n",
    "print(lambda_3)"
   ]
  },
  {
   "cell_type": "code",
   "execution_count": 32,
   "id": "1f3d78bb-78c4-40e0-8230-5ab268d90a1c",
   "metadata": {},
   "outputs": [
    {
     "name": "stdout",
     "output_type": "stream",
     "text": [
      "[ 0.69939434+0.j         -0.61428358-0.25125624j -0.08511076+0.25125624j]\n",
      "[-0.09810327-0.32810973j -0.20409513+0.0834661j   0.91328984+0.j        ]\n"
     ]
    }
   ],
   "source": [
    "# Define left and right eigenvectors for lambda_2 and normalize appropriately\n",
    "z_2 = right_eigvecs_other[:,idx_2]\n",
    "w_2 = left_eigvecs_other[:,idx_2]\n",
    "print(z_2)\n",
    "print(w_2)"
   ]
  },
  {
   "cell_type": "code",
   "execution_count": 35,
   "id": "5cbba9a2-c22a-4f1a-b382-21478b3378c1",
   "metadata": {},
   "outputs": [
    {
     "data": {
      "text/plain": [
       "array([-116.02742334+37.6268781j ,  115.42519542 +8.63467192j,\n",
       "          0.60222791-46.26155002j], dtype=complex256)"
      ]
     },
     "execution_count": 35,
     "metadata": {},
     "output_type": "execute_result"
    }
   ],
   "source": [
    "np.dot(L,z_2)"
   ]
  },
  {
   "cell_type": "code",
   "execution_count": 34,
   "id": "46d9318b-d124-42cb-ac59-35f432aaf9e0",
   "metadata": {},
   "outputs": [
    {
     "data": {
      "text/plain": [
       "array([-116.02742334+37.6268781j ,  115.42519542 +8.63467192j,\n",
       "          0.60222791-46.26155002j])"
      ]
     },
     "execution_count": 34,
     "metadata": {},
     "output_type": "execute_result"
    }
   ],
   "source": [
    "lambda_2*z_2"
   ]
  },
  {
   "cell_type": "code",
   "execution_count": 49,
   "id": "7b43dbcc-8b51-49e3-9e64-b54603a70f00",
   "metadata": {},
   "outputs": [
    {
     "data": {
      "text/plain": [
       "array([  -1.37701364-59.71030092j,   38.34918235 +2.86661446j,\n",
       "       -151.51204516+49.13429162j], dtype=complex256)"
      ]
     },
     "execution_count": 49,
     "metadata": {},
     "output_type": "execute_result"
    }
   ],
   "source": [
    "np.dot(w_3,L)"
   ]
  },
  {
   "cell_type": "code",
   "execution_count": 48,
   "id": "6e959308-9b48-4c3f-9b2b-10fc7bb68727",
   "metadata": {},
   "outputs": [
    {
     "data": {
      "text/plain": [
       "array([  -1.37701364-59.71030092j,   38.34918235 +2.86661446j,\n",
       "       -151.51204516+49.13429162j])"
      ]
     },
     "execution_count": 48,
     "metadata": {},
     "output_type": "execute_result"
    }
   ],
   "source": [
    "lambda_2*w_3"
   ]
  },
  {
   "cell_type": "code",
   "execution_count": 14,
   "id": "db830268-a12e-486e-bfc2-ae805f7e85f1",
   "metadata": {},
   "outputs": [
    {
     "data": {
      "text/plain": [
       "array([-0.09810327+0.32810973j, -0.20409513-0.0834661j ,\n",
       "        0.91328984-0.j        ])"
      ]
     },
     "execution_count": 14,
     "metadata": {},
     "output_type": "execute_result"
    }
   ],
   "source": [
    "# Define left and right eigenvectors for lambda_3 and normalize appropriately\n",
    "z_3 = right_eigvecs_other[:,idx_3]\n",
    "w_3 = left_eigvecs_other[:,idx_3]\n",
    "w_3"
   ]
  },
  {
   "cell_type": "code",
   "execution_count": 50,
   "id": "672efb66-3775-416f-9e13-c6a0f6450c9a",
   "metadata": {},
   "outputs": [
    {
     "data": {
      "text/plain": [
       "(8.673617379884035e-17-1.1102230246251565e-16j)"
      ]
     },
     "execution_count": 50,
     "metadata": {},
     "output_type": "execute_result"
    }
   ],
   "source": [
    "np.dot(w_3,z_3)"
   ]
  },
  {
   "cell_type": "code",
   "execution_count": 51,
   "id": "d1834e18-f386-4389-8dec-f370d0125307",
   "metadata": {},
   "outputs": [
    {
     "data": {
      "text/plain": [
       "(8.673617379884035e-17+1.1102230246251565e-16j)"
      ]
     },
     "execution_count": 51,
     "metadata": {},
     "output_type": "execute_result"
    }
   ],
   "source": [
    "np.dot(w_2,z_2)"
   ]
  },
  {
   "cell_type": "code",
   "execution_count": 17,
   "id": "0fd0aa5b-b90f-47fe-84b5-98acb97668e2",
   "metadata": {},
   "outputs": [
    {
     "data": {
      "text/plain": [
       "(-0.06861287069531473-0.2294780917153401j)"
      ]
     },
     "execution_count": 17,
     "metadata": {},
     "output_type": "execute_result"
    }
   ],
   "source": [
    "w_2[0]*z_3[0]"
   ]
  },
  {
   "cell_type": "code",
   "execution_count": 18,
   "id": "c4e7d08b-cbfe-4bde-a13c-2224ff0fe9b2",
   "metadata": {},
   "outputs": [
    {
     "data": {
      "text/plain": [
       "(-0.20409513294365542+0.08346610094154272j)"
      ]
     },
     "execution_count": 18,
     "metadata": {},
     "output_type": "execute_result"
    }
   ],
   "source": [
    "w_2[1]"
   ]
  },
  {
   "cell_type": "code",
   "execution_count": 19,
   "id": "d0ca0827-f17b-4e9f-867a-31c95f4314e9",
   "metadata": {},
   "outputs": [
    {
     "data": {
      "text/plain": [
       "(-0.6142835787877554+0.25125623920676676j)"
      ]
     },
     "execution_count": 19,
     "metadata": {},
     "output_type": "execute_result"
    }
   ],
   "source": [
    "z_3[1]"
   ]
  },
  {
   "cell_type": "code",
   "execution_count": 20,
   "id": "a368e5a5-962e-48df-888c-471002115dc6",
   "metadata": {},
   "outputs": [
    {
     "data": {
      "text/plain": [
       "-0.011688173518584347"
      ]
     },
     "execution_count": 20,
     "metadata": {},
     "output_type": "execute_result"
    }
   ],
   "source": [
    "-0.7279275445959555 * 0.01605678148238229"
   ]
  },
  {
   "cell_type": "markdown",
   "id": "b437799f-365f-4046-a145-f3c1a98720d3",
   "metadata": {},
   "source": [
    "Eigenvalue sampling"
   ]
  },
  {
   "cell_type": "code",
   "execution_count": 148,
   "id": "c7554cb3-8c7c-427f-a22b-38a2d7232eb7",
   "metadata": {},
   "outputs": [],
   "source": [
    "signal = [3,5,7]\n",
    "tau = np.around(np.arange(0.01,2.0,step=.01), decimals = 2)\n",
    "alpha = 1\n",
    "beta = 3"
   ]
  },
  {
   "cell_type": "code",
   "execution_count": 149,
   "id": "e318bb97-5bd8-45d7-bfcc-64297859e248",
   "metadata": {},
   "outputs": [
    {
     "name": "stdout",
     "output_type": "stream",
     "text": [
      "19.394254601663402\n"
     ]
    },
    {
     "data": {
      "text/plain": [
       "array([-8.62161517e-17 +0.j       , -1.65897000e+02+53.7992314j,\n",
       "       -1.65897000e+02-53.7992314j])"
      ]
     },
     "execution_count": 149,
     "metadata": {},
     "output_type": "execute_result"
    }
   ],
   "source": [
    "params = [134.893, 0.005, 34.320, 0.041, 12.775, 149.760]\n",
    "#params = [11.781, 0.291, 17.519, 0.013, 0.006, 542.228]\n",
    "print(cycle_affinity_K(params))\n",
    "L = Laplacian_K(params)\n",
    "eigvals, left_eigvecs, right_eigvecs = scipy.linalg.eig(L, left=True, right=True)\n",
    "eigvals"
   ]
  },
  {
   "cell_type": "code",
   "execution_count": 150,
   "id": "4e1f1ee3-9f16-462f-8746-deefa719e325",
   "metadata": {},
   "outputs": [
    {
     "data": {
      "text/plain": [
       "array([[-1.47668e+02,  5.00000e-03,  1.49760e+02],\n",
       "       [ 1.34893e+02, -3.43250e+01,  4.10000e-02],\n",
       "       [ 1.27750e+01,  3.43200e+01, -1.49801e+02]], dtype=float128)"
      ]
     },
     "execution_count": 150,
     "metadata": {},
     "output_type": "execute_result"
    }
   ],
   "source": [
    "L"
   ]
  },
  {
   "cell_type": "code",
   "execution_count": 151,
   "id": "35af2c38-ea6c-4857-884c-72f15f4593dd",
   "metadata": {},
   "outputs": [
    {
     "data": {
      "text/plain": [
       "[134.893, 0.005, 34.32, 0.041, 12.775, 149.76]"
      ]
     },
     "execution_count": 151,
     "metadata": {},
     "output_type": "execute_result"
    }
   ],
   "source": [
    "params"
   ]
  },
  {
   "cell_type": "code",
   "execution_count": 163,
   "id": "5d61683c-a176-4583-a8e7-5565b11c679f",
   "metadata": {},
   "outputs": [
    {
     "data": {
      "text/plain": [
       "0"
      ]
     },
     "execution_count": 163,
     "metadata": {},
     "output_type": "execute_result"
    }
   ],
   "source": [
    "idx_1 = np.argmax(eigvals)\n",
    "idx_1"
   ]
  },
  {
   "cell_type": "code",
   "execution_count": 164,
   "id": "08efd172-d789-4611-b439-dee0ef3a326b",
   "metadata": {},
   "outputs": [],
   "source": [
    "lambda_1 = eigvals[idx_1]\n",
    "z_1 = right_eigvecs[:,idx_1]\n",
    "w_1 = left_eigvecs[:,idx_1]"
   ]
  },
  {
   "cell_type": "code",
   "execution_count": 165,
   "id": "c40d842d-7e5c-4c7b-9e36-2addf4543fdc",
   "metadata": {},
   "outputs": [],
   "source": [
    "# Normalize u_1 and v_1\n",
    "normalization_1 = sum(z_1)\n",
    "z_1 = z_1/normalization_1\n",
    "w_1 = w_1/w_1"
   ]
  },
  {
   "cell_type": "code",
   "execution_count": 166,
   "id": "82ba5a0a-6406-4f07-bd4c-e92222387851",
   "metadata": {},
   "outputs": [
    {
     "data": {
      "text/plain": [
       "array([-165.897+53.7992314j, -165.897-53.7992314j])"
      ]
     },
     "execution_count": 166,
     "metadata": {},
     "output_type": "execute_result"
    }
   ],
   "source": [
    "eigvals_other = np.delete(eigvals, idx_1)\n",
    "eigvals_other"
   ]
  },
  {
   "cell_type": "code",
   "execution_count": 167,
   "id": "1a399bee-76e2-41b8-94fb-50a8a38b88fa",
   "metadata": {},
   "outputs": [],
   "source": [
    "# Delete eigenvectors u_1 and v_1 from their respective arrays\n",
    "right_eigvecs_other = np.delete(right_eigvecs, idx_1, axis=1)\n",
    "left_eigvecs_other = np.delete(left_eigvecs, idx_1, axis=1)"
   ]
  },
  {
   "cell_type": "code",
   "execution_count": 168,
   "id": "c92457b3-9541-4136-9a85-025a635e6f54",
   "metadata": {},
   "outputs": [
    {
     "data": {
      "text/plain": [
       "0"
      ]
     },
     "execution_count": 168,
     "metadata": {},
     "output_type": "execute_result"
    }
   ],
   "source": [
    "idx_3 = np.argmin(eigvals_other)\n",
    "idx_2 = np.argmax(eigvals_other)\n",
    "idx_2"
   ]
  },
  {
   "cell_type": "code",
   "execution_count": 175,
   "id": "5870f917-c790-409e-97b8-70523e14f3b2",
   "metadata": {},
   "outputs": [
    {
     "data": {
      "text/plain": [
       "(-165.89699999999993+53.79923139785545j)"
      ]
     },
     "execution_count": 175,
     "metadata": {},
     "output_type": "execute_result"
    }
   ],
   "source": [
    "# Define lambda_2 and lambda_3\n",
    "lambda_2 = eigvals_other[idx_2]\n",
    "lambda_3 = eigvals_other[idx_3]\n",
    "lambda_2"
   ]
  },
  {
   "cell_type": "code",
   "execution_count": null,
   "id": "65c90be2-470f-45a4-aee1-ff04bd709248",
   "metadata": {},
   "outputs": [
    {
     "data": {
      "text/plain": [
       "array([-0.09810327-0.32810973j, -0.20409513+0.0834661j ,\n",
       "        0.91328984+0.j        ])"
      ]
     },
     "execution_count": 173,
     "metadata": {},
     "output_type": "execute_result"
    }
   ],
   "source": [
    "# Define left and right eigenvectors for lambda_2 and normalize appropriately\n",
    "z_2 = right_eigvecs_other[:,idx_2]\n",
    "w_2 = left_eigvecs_other[:,idx_2]\n",
    "w_2"
   ]
  },
  {
   "cell_type": "code",
   "execution_count": 178,
   "id": "295daf69-7333-42cb-984a-256276e50026",
   "metadata": {},
   "outputs": [
    {
     "data": {
      "text/plain": [
       "array([-0.09810327+0.32810973j, -0.20409513-0.0834661j ,\n",
       "        0.91328984-0.j        ])"
      ]
     },
     "execution_count": 178,
     "metadata": {},
     "output_type": "execute_result"
    }
   ],
   "source": [
    "# Define left and right eigenvectors for lambda_3 and normalize appropriately\n",
    "z_3 = right_eigvecs_other[:,idx_3]\n",
    "w_3 = left_eigvecs_other[:,idx_3]\n",
    "w_3"
   ]
  },
  {
   "cell_type": "code",
   "execution_count": 179,
   "id": "0fd8be32-95ce-4e3a-b4dd-cc8c0fb2c736",
   "metadata": {},
   "outputs": [
    {
     "data": {
      "text/plain": [
       "(-0.041942757247648704-0.5614998938183421j)"
      ]
     },
     "execution_count": 179,
     "metadata": {},
     "output_type": "execute_result"
    }
   ],
   "source": [
    "np.dot(w_2,z_3)"
   ]
  },
  {
   "cell_type": "code",
   "execution_count": 183,
   "id": "58a1ec92-1d77-4e33-970c-e79de7c6da34",
   "metadata": {},
   "outputs": [
    {
     "data": {
      "text/plain": [
       "(-0.041942757247648704+0.5614998938183421j)"
      ]
     },
     "execution_count": 183,
     "metadata": {},
     "output_type": "execute_result"
    }
   ],
   "source": [
    "np.dot(w_3,z_2)"
   ]
  },
  {
   "cell_type": "code",
   "execution_count": 182,
   "id": "e1fe1d55-778a-4a18-9520-2777f94cf806",
   "metadata": {},
   "outputs": [
    {
     "data": {
      "text/plain": [
       "(-0.06861287069531473-0.2294780917153401j)"
      ]
     },
     "execution_count": 182,
     "metadata": {},
     "output_type": "execute_result"
    }
   ],
   "source": [
    "w_2[0]*z_3[0]"
   ]
  },
  {
   "cell_type": "code",
   "execution_count": 136,
   "id": "68633a63-b40c-4b01-a59a-9cb070f76fcc",
   "metadata": {},
   "outputs": [
    {
     "data": {
      "text/plain": [
       "-0.7279275445959555"
      ]
     },
     "execution_count": 136,
     "metadata": {},
     "output_type": "execute_result"
    }
   ],
   "source": [
    "w_2[1]"
   ]
  },
  {
   "cell_type": "code",
   "execution_count": 137,
   "id": "a049d91c-56e2-4dc7-a36d-51aa8d4b3fab",
   "metadata": {},
   "outputs": [
    {
     "data": {
      "text/plain": [
       "0.01605678148238229"
      ]
     },
     "execution_count": 137,
     "metadata": {},
     "output_type": "execute_result"
    }
   ],
   "source": [
    "z_3[1]"
   ]
  },
  {
   "cell_type": "code",
   "execution_count": 138,
   "id": "cadc8498-54dc-496d-b982-4dd7d904dc43",
   "metadata": {},
   "outputs": [
    {
     "data": {
      "text/plain": [
       "-0.011688173518584347"
      ]
     },
     "execution_count": 138,
     "metadata": {},
     "output_type": "execute_result"
    }
   ],
   "source": [
    "-0.7279275445959555 * 0.01605678148238229"
   ]
  },
  {
   "cell_type": "code",
   "execution_count": null,
   "id": "4e4405d5-b625-4f75-9349-8d5633e3c840",
   "metadata": {},
   "outputs": [],
   "source": []
  }
 ],
 "metadata": {
  "kernelspec": {
   "display_name": "Python 3 (ipykernel)",
   "language": "python",
   "name": "python3"
  },
  "language_info": {
   "codemirror_mode": {
    "name": "ipython",
    "version": 3
   },
   "file_extension": ".py",
   "mimetype": "text/x-python",
   "name": "python",
   "nbconvert_exporter": "python",
   "pygments_lexer": "ipython3",
   "version": "3.9.19"
  }
 },
 "nbformat": 4,
 "nbformat_minor": 5
}
