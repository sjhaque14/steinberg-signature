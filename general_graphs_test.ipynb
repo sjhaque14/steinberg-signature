{
 "cells": [
  {
   "cell_type": "code",
   "execution_count": 1,
   "id": "5736d6c1-74ce-4cb6-a5b4-54d0762fbd26",
   "metadata": {},
   "outputs": [],
   "source": [
    "import numpy as np\n",
    "import matplotlib.pyplot as plt\n",
    "from tqdm import tqdm\n",
    "\n",
    "from general_graph_utils import *"
   ]
  },
  {
   "cell_type": "markdown",
   "id": "5f0d9795-414d-46e0-be5a-3424a582ac85",
   "metadata": {},
   "source": [
    "# Plot features"
   ]
  },
  {
   "cell_type": "code",
   "execution_count": 64,
   "id": "e12c1912-0e4e-4b3b-9c65-7487eda195d1",
   "metadata": {},
   "outputs": [],
   "source": [
    "# plot formatting\n",
    "plt.rc(\"text\", usetex=False) # renders LaTeX more quickly\n",
    "plt.rc(\"font\", family = \"serif\",size=14) # font specifications\n",
    "plt.rc(\"figure\",figsize=(14,12)) # figure size\n",
    "%config InlineBackend.figure_format = 'retina' # retina-display quality"
   ]
  },
  {
   "cell_type": "code",
   "execution_count": 2,
   "id": "73fe6f22-5121-4a8a-94ab-b28e6cda5296",
   "metadata": {},
   "outputs": [],
   "source": [
    "G, G_ud = random_graph(n=10)"
   ]
  },
  {
   "cell_type": "code",
   "execution_count": 4,
   "id": "63b646d6-6958-4407-be71-9e4fdda291fc",
   "metadata": {},
   "outputs": [
    {
     "data": {
      "image/png": "[encoded data removed]",
      "text/plain": [
       "<Figure size 864x720 with 1 Axes>"
      ]
     },
     "metadata": {},
     "output_type": "display_data"
    }
   ],
   "source": [
    "fig, ax = plt.subplots(figsize = (12, 10))\n",
    "nx.draw(G, pos=nx.circular_layout(G), with_labels=True, node_size=2000, node_color = 'lightgray', font_size=18, font_color='black', font_family='sans-serif')"
   ]
  },
  {
   "cell_type": "code",
   "execution_count": 5,
   "id": "0b249633-1ebf-47aa-89f2-bbb6ce7439c9",
   "metadata": {},
   "outputs": [
    {
     "name": "stdout",
     "output_type": "stream",
     "text": [
      "[1 2 3]\n"
     ]
    }
   ],
   "source": [
    "node_list = get_nodes(G)\n",
    "num_nodes = len(node_list)\n",
    "print(node_list)"
   ]
  },
  {
   "cell_type": "code",
   "execution_count": 6,
   "id": "89cb29c9-d8d7-4b1b-a970-749ca9ecafb6",
   "metadata": {},
   "outputs": [
    {
     "name": "stdout",
     "output_type": "stream",
     "text": [
      "[[1 3]\n",
      " [1 2]\n",
      " [2 3]\n",
      " [2 1]\n",
      " [3 1]\n",
      " [3 2]]\n"
     ]
    }
   ],
   "source": [
    "edge_list = get_edges(G)\n",
    "print(edge_list)"
   ]
  },
  {
   "cell_type": "code",
   "execution_count": 7,
   "id": "c3c4f55c-70c2-429e-96b9-d1600af827c4",
   "metadata": {},
   "outputs": [
    {
     "name": "stdout",
     "output_type": "stream",
     "text": [
      "[[2, 3, 1]]\n"
     ]
    }
   ],
   "source": [
    "cycle_list = get_cycle_nodes(G_ud)\n",
    "num_cycles = len(cycle_list)\n",
    "print(cycle_list)"
   ]
  },
  {
   "cell_type": "code",
   "execution_count": 8,
   "id": "d24c3f00-672c-4dbf-9f5b-1decd8a0fead",
   "metadata": {},
   "outputs": [
    {
     "name": "stdout",
     "output_type": "stream",
     "text": [
      "{(1, 3): 128.75782, (1, 2): 3.23877, (2, 3): 0.74722, (2, 1): 5.99538, (3, 1): 0.0603, (3, 2): 154.77577}\n",
      "[1.2875782e+02 3.2387700e+00 7.4722000e-01 5.9953800e+00 6.0300000e-02\n",
      " 1.5477577e+02]\n"
     ]
    }
   ],
   "source": [
    "label_dict, label_list = get_labels(G)\n",
    "print(label_dict)\n",
    "print(label_list)"
   ]
  },
  {
   "cell_type": "code",
   "execution_count": 9,
   "id": "40015d32-56b9-4b03-b420-a6ebfc094b93",
   "metadata": {},
   "outputs": [],
   "source": [
    "cycle_edges_forward,cycle_edges_backward,cycle_labels_forward,cycle_labels_backward = get_cycle_labels_edges(cycle_list,label_dict)"
   ]
  },
  {
   "cell_type": "code",
   "execution_count": 10,
   "id": "8e54d30e-1533-4eb3-aa3c-c8764c2b7655",
   "metadata": {},
   "outputs": [],
   "source": [
    "cycle_labels_forward, edge_tracker = initial_equilibrium_parameters(cycle_list,cycle_edges_forward,cycle_labels_forward,cycle_labels_backward)"
   ]
  },
  {
   "cell_type": "code",
   "execution_count": 11,
   "id": "2a113369-b24c-41d8-b609-9b79a2de9864",
   "metadata": {},
   "outputs": [
    {
     "data": {
      "text/plain": [
       "[[611780.8564650019, 0.0603, 3.23877]]"
      ]
     },
     "execution_count": 11,
     "metadata": {},
     "output_type": "execute_result"
    }
   ],
   "source": [
    "cycle_labels_forward"
   ]
  },
  {
   "cell_type": "code",
   "execution_count": 12,
   "id": "dd3d7f69-bf18-4c56-890f-bb05f8f9a119",
   "metadata": {},
   "outputs": [
    {
     "name": "stdout",
     "output_type": "stream",
     "text": [
      "[0.]\n"
     ]
    }
   ],
   "source": [
    "products_f, products_b = calculate_cycle_products(cycle_labels_forward,cycle_labels_backward)\n",
    "total_affinities = calculate_affinities(products_f, products_b, cycle_list)\n",
    "print(total_affinities)"
   ]
  },
  {
   "cell_type": "code",
   "execution_count": 13,
   "id": "e2494477-aa2f-4bef-b5af-1b2cd0b67620",
   "metadata": {},
   "outputs": [],
   "source": [
    "label_dict, label_list = reformat_labels(cycle_list, cycle_labels_forward, edge_tracker, label_dict, label_list)"
   ]
  },
  {
   "cell_type": "code",
   "execution_count": null,
   "id": "242f428c-cb06-424c-be4d-68f2a8350715",
   "metadata": {},
   "outputs": [],
   "source": []
  }
 ],
 "metadata": {
  "kernelspec": {
   "display_name": "Python 3 (ipykernel)",
   "language": "python",
   "name": "python3"
  },
  "language_info": {
   "codemirror_mode": {
    "name": "ipython",
    "version": 3
   },
   "file_extension": ".py",
   "mimetype": "text/x-python",
   "name": "python",
   "nbconvert_exporter": "python",
   "pygments_lexer": "ipython3",
   "version": "3.9.19"
  }
 },
 "nbformat": 4,
 "nbformat_minor": 5
}
