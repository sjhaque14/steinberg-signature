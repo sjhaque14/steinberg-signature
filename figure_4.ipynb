{
 "cells": [
  {
   "cell_type": "code",
   "execution_count": 85,
   "id": "e32a2c2e-189a-495c-be00-ec56f5af1bcd",
   "metadata": {},
   "outputs": [],
   "source": [
    "import numpy as np\n",
    "import matplotlib.pyplot as plt\n",
    "from tqdm import tqdm\n",
    "from collections import Counter\n",
    "\n",
    "from general_graph_utils_main import *\n",
    "from steinberg_utils_3vertex import *"
   ]
  },
  {
   "cell_type": "markdown",
   "id": "f8964e5a-ad54-4cd8-8d6a-2b6078209f7a",
   "metadata": {},
   "source": [
    "Figure 4D"
   ]
  },
  {
   "cell_type": "code",
   "execution_count": 82,
   "id": "cc8bd298-be3d-4d3b-9741-1e462e5f2773",
   "metadata": {
    "tags": []
   },
   "outputs": [
    {
     "data": {
      "image/png": "[encoded data removed]",
      "text/plain": [
       "<Figure size 432x288 with 1 Axes>"
      ]
     },
     "metadata": {},
     "output_type": "display_data"
    }
   ],
   "source": [
    "G = nx.DiGraph()\n",
    "G.add_node(1)\n",
    "G.add_node(2)\n",
    "G.add_node(3)\n",
    "G.add_node(4)\n",
    "G.add_edge(1, 2)\n",
    "G.add_edge(2, 1)\n",
    "G.add_edge(1, 4)\n",
    "G.add_edge(4, 1)\n",
    "G.add_edge(3, 4)\n",
    "G.add_edge(4, 3)\n",
    "G.add_edge(3, 2)\n",
    "G.add_edge(2, 3)\n",
    "G.add_edge(4, 2)\n",
    "G.add_edge(2, 4)\n",
    "\n",
    "G_ud = nx.Graph()\n",
    "G_ud.add_node(1)\n",
    "G_ud.add_node(2)\n",
    "G_ud.add_node(3)\n",
    "G_ud.add_node(4)\n",
    "G_ud.add_edge(1, 2)\n",
    "G_ud.add_edge(2, 1)\n",
    "G_ud.add_edge(1, 4)\n",
    "G_ud.add_edge(4, 1)\n",
    "G_ud.add_edge(3, 4)\n",
    "G_ud.add_edge(4, 3)\n",
    "G_ud.add_edge(3, 2)\n",
    "G_ud.add_edge(2, 3)\n",
    "G_ud.add_edge(4, 2)\n",
    "G_ud.add_edge(2, 4)\n",
    "\n",
    "nx.draw(G, \n",
    "        pos=nx.circular_layout(G), \n",
    "        with_labels=True, \n",
    "        node_size=2000, \n",
    "        node_color = 'lightgray', \n",
    "        font_size=18, \n",
    "        font_color='black', \n",
    "        font_family='sans-serif')"
   ]
  },
  {
   "cell_type": "code",
   "execution_count": 83,
   "id": "c3248a2e-8455-4fc4-9a0f-eae99956c1c5",
   "metadata": {},
   "outputs": [
    {
     "name": "stdout",
     "output_type": "stream",
     "text": [
      "{(1, 2): 1.0, (1, 4): 1.0, (2, 1): 1.0, (2, 3): 1.0, (2, 4): 1.0, (3, 4): 1.0, (3, 2): 1.0, (4, 1): 1.0, (4, 3): 1.0, (4, 2): 1.0}\n",
      "Cycle 0 affinity after solve: 0.0\n",
      "Cycle 1 affinity after solve: 0.0\n",
      "(1, 2)\n"
     ]
    }
   ],
   "source": [
    "# all ones\n",
    "\n",
    "edge_list = get_edges(G)        # list of (u,v) tuples\n",
    "node_list = get_nodes(G)\n",
    "# label the graph\n",
    "label_dict,label_list = get_labels_ones(G,edge_list)\n",
    "cycles = get_cycles(G_ud)\n",
    "edgesf, edgesb, labelsf, labelsb = get_cycle_labels_edges(cycles, label_dict)\n",
    "\n",
    "print(label_dict)\n",
    "\n",
    "# which edges are shared between cycles?\n",
    "shared_edges, all_edges_f = shared_edges_cycles(cycles,\n",
    "                                            edgesf,\n",
    "                                            edgesb)\n",
    "\n",
    "# set each cycle to thermodynamic equilibrium, output affinities\n",
    "new_labelsf, edge_tracker, idx_tracker = equilibrium_params(cycles, edgesf, labelsf, labelsb, shared_edges)\n",
    "\n",
    "# update graph's data structures \n",
    "\n",
    "# Update label_dict & build label_list in edge_list order:\n",
    "new_label_dict, new_label_list = reformat_labels(edge_tracker,\n",
    "                                                 idx_tracker,\n",
    "                                                 new_labelsf,\n",
    "                                                 label_dict,\n",
    "                                                 edge_list)\n",
    "\n",
    "label_dict = new_label_dict\n",
    "label_list = new_label_list\n",
    "\n",
    "edgesf, edgesb, labelsf, labelsb = get_cycle_labels_edges(cycles, label_dict)\n",
    "L  = Laplacian_all(edge_list, label_list, node_list)\n",
    "pi = steady_state_spectrum(L)\n",
    "\n",
    "perturb_edge = edgesf[0][2]\n",
    "print(perturb_edge)\n",
    "\n",
    "#----#\n",
    "\n",
    "signal = make_observable(node_list)\n",
    "alpha, beta  = 1, 3"
   ]
  },
  {
   "cell_type": "code",
   "execution_count": 84,
   "id": "30263957-0b44-4164-b68a-3f136da66741",
   "metadata": {},
   "outputs": [
    {
     "name": "stderr",
     "output_type": "stream",
     "text": [
      "  4%|█▋                                       | 85/2000 [00:06<02:33, 12.47it/s]\n"
     ]
    },
    {
     "ename": "KeyboardInterrupt",
     "evalue": "",
     "output_type": "error",
     "traceback": [
      "\u001b[0;31m---------------------------------------------------------------------------\u001b[0m",
      "\u001b[0;31mKeyboardInterrupt\u001b[0m                         Traceback (most recent call last)",
      "\u001b[0;32m/var/folders/ch/f1rl6h5x4fx2wbg2_f5bj5dw0000gn/T/ipykernel_1814/3987307766.py\u001b[0m in \u001b[0;36m<module>\u001b[0;34m\u001b[0m\n\u001b[1;32m     19\u001b[0m     \u001b[0mtau\u001b[0m\u001b[0;34m,\u001b[0m \u001b[0m_\u001b[0m \u001b[0;34m=\u001b[0m \u001b[0mdefine_tau_range\u001b[0m\u001b[0;34m(\u001b[0m\u001b[0mL\u001b[0m\u001b[0;34m,\u001b[0m \u001b[0mmax_points\u001b[0m\u001b[0;34m=\u001b[0m\u001b[0;36m500\u001b[0m\u001b[0;34m,\u001b[0m \u001b[0mcap_factor\u001b[0m\u001b[0;34m=\u001b[0m\u001b[0;36m10.0\u001b[0m\u001b[0;34m)\u001b[0m\u001b[0;34m\u001b[0m\u001b[0;34m\u001b[0m\u001b[0m\n\u001b[1;32m     20\u001b[0m     \u001b[0mpi\u001b[0m \u001b[0;34m=\u001b[0m \u001b[0msteady_state_spectrum\u001b[0m\u001b[0;34m(\u001b[0m\u001b[0mL\u001b[0m\u001b[0;34m)\u001b[0m\u001b[0;34m\u001b[0m\u001b[0;34m\u001b[0m\u001b[0m\n\u001b[0;32m---> 21\u001b[0;31m     \u001b[0ma13\u001b[0m\u001b[0;34m,\u001b[0m \u001b[0ma31\u001b[0m \u001b[0;34m=\u001b[0m \u001b[0masymmetric_autocorrelation\u001b[0m\u001b[0;34m(\u001b[0m\u001b[0msignal\u001b[0m\u001b[0;34m,\u001b[0m\u001b[0mL\u001b[0m\u001b[0;34m,\u001b[0m\u001b[0mtau\u001b[0m\u001b[0;34m,\u001b[0m\u001b[0mpi\u001b[0m\u001b[0;34m,\u001b[0m\u001b[0malpha\u001b[0m\u001b[0;34m=\u001b[0m\u001b[0;36m1\u001b[0m\u001b[0;34m,\u001b[0m\u001b[0mbeta\u001b[0m\u001b[0;34m=\u001b[0m\u001b[0;36m3\u001b[0m\u001b[0;34m)\u001b[0m\u001b[0;34m\u001b[0m\u001b[0;34m\u001b[0m\u001b[0m\n\u001b[0m\u001b[1;32m     22\u001b[0m     \u001b[0mall_areas\u001b[0m\u001b[0;34m[\u001b[0m\u001b[0mi\u001b[0m\u001b[0;34m]\u001b[0m \u001b[0;34m=\u001b[0m \u001b[0mnumerical_area\u001b[0m\u001b[0;34m(\u001b[0m\u001b[0ma13\u001b[0m\u001b[0;34m,\u001b[0m\u001b[0ma31\u001b[0m\u001b[0;34m)\u001b[0m\u001b[0;34m\u001b[0m\u001b[0;34m\u001b[0m\u001b[0m\n\u001b[1;32m     23\u001b[0m \u001b[0;34m\u001b[0m\u001b[0m\n",
      "\u001b[0;32m~/steinberg-signature/steinberg_utils_3vertex.py\u001b[0m in \u001b[0;36masymmetric_autocorrelation\u001b[0;34m(signal, L, tau, pi, alpha, beta)\u001b[0m\n\u001b[1;32m    238\u001b[0m \u001b[0;34m\u001b[0m\u001b[0m\n\u001b[1;32m    239\u001b[0m     \u001b[0;31m# vectorize the Laplacian matrix multiplied by each value in the vector tau\u001b[0m\u001b[0;34m\u001b[0m\u001b[0;34m\u001b[0m\u001b[0m\n\u001b[0;32m--> 240\u001b[0;31m     \u001b[0mlist_result\u001b[0m \u001b[0;34m=\u001b[0m \u001b[0mlist\u001b[0m\u001b[0;34m(\u001b[0m\u001b[0mmap\u001b[0m\u001b[0;34m(\u001b[0m\u001b[0;32mlambda\u001b[0m \u001b[0mi\u001b[0m\u001b[0;34m:\u001b[0m \u001b[0mscipy\u001b[0m\u001b[0;34m.\u001b[0m\u001b[0mlinalg\u001b[0m\u001b[0;34m.\u001b[0m\u001b[0mexpm\u001b[0m\u001b[0;34m(\u001b[0m\u001b[0mL\u001b[0m\u001b[0;34m*\u001b[0m\u001b[0mi\u001b[0m\u001b[0;34m)\u001b[0m\u001b[0;34m,\u001b[0m \u001b[0mtau\u001b[0m\u001b[0;34m)\u001b[0m\u001b[0;34m)\u001b[0m\u001b[0;34m\u001b[0m\u001b[0;34m\u001b[0m\u001b[0m\n\u001b[0m\u001b[1;32m    241\u001b[0m \u001b[0;34m\u001b[0m\u001b[0m\n\u001b[1;32m    242\u001b[0m     \u001b[0;31m# populate arrays with analytical solution to autocorrelation function\u001b[0m\u001b[0;34m\u001b[0m\u001b[0;34m\u001b[0m\u001b[0m\n",
      "\u001b[0;32m~/steinberg-signature/steinberg_utils_3vertex.py\u001b[0m in \u001b[0;36m<lambda>\u001b[0;34m(i)\u001b[0m\n\u001b[1;32m    238\u001b[0m \u001b[0;34m\u001b[0m\u001b[0m\n\u001b[1;32m    239\u001b[0m     \u001b[0;31m# vectorize the Laplacian matrix multiplied by each value in the vector tau\u001b[0m\u001b[0;34m\u001b[0m\u001b[0;34m\u001b[0m\u001b[0m\n\u001b[0;32m--> 240\u001b[0;31m     \u001b[0mlist_result\u001b[0m \u001b[0;34m=\u001b[0m \u001b[0mlist\u001b[0m\u001b[0;34m(\u001b[0m\u001b[0mmap\u001b[0m\u001b[0;34m(\u001b[0m\u001b[0;32mlambda\u001b[0m \u001b[0mi\u001b[0m\u001b[0;34m:\u001b[0m \u001b[0mscipy\u001b[0m\u001b[0;34m.\u001b[0m\u001b[0mlinalg\u001b[0m\u001b[0;34m.\u001b[0m\u001b[0mexpm\u001b[0m\u001b[0;34m(\u001b[0m\u001b[0mL\u001b[0m\u001b[0;34m*\u001b[0m\u001b[0mi\u001b[0m\u001b[0;34m)\u001b[0m\u001b[0;34m,\u001b[0m \u001b[0mtau\u001b[0m\u001b[0;34m)\u001b[0m\u001b[0;34m)\u001b[0m\u001b[0;34m\u001b[0m\u001b[0;34m\u001b[0m\u001b[0m\n\u001b[0m\u001b[1;32m    241\u001b[0m \u001b[0;34m\u001b[0m\u001b[0m\n\u001b[1;32m    242\u001b[0m     \u001b[0;31m# populate arrays with analytical solution to autocorrelation function\u001b[0m\u001b[0;34m\u001b[0m\u001b[0;34m\u001b[0m\u001b[0m\n",
      "\u001b[0;32m~/opt/anaconda3/lib/python3.9/site-packages/scipy/linalg/matfuncs.py\u001b[0m in \u001b[0;36mexpm\u001b[0;34m(A)\u001b[0m\n\u001b[1;32m    253\u001b[0m     \u001b[0;31m# Input checking and conversion is provided by sparse.linalg.expm().\u001b[0m\u001b[0;34m\u001b[0m\u001b[0;34m\u001b[0m\u001b[0m\n\u001b[1;32m    254\u001b[0m     \u001b[0;32mimport\u001b[0m \u001b[0mscipy\u001b[0m\u001b[0;34m.\u001b[0m\u001b[0msparse\u001b[0m\u001b[0;34m.\u001b[0m\u001b[0mlinalg\u001b[0m\u001b[0;34m\u001b[0m\u001b[0;34m\u001b[0m\u001b[0m\n\u001b[0;32m--> 255\u001b[0;31m     \u001b[0;32mreturn\u001b[0m \u001b[0mscipy\u001b[0m\u001b[0;34m.\u001b[0m\u001b[0msparse\u001b[0m\u001b[0;34m.\u001b[0m\u001b[0mlinalg\u001b[0m\u001b[0;34m.\u001b[0m\u001b[0mexpm\u001b[0m\u001b[0;34m(\u001b[0m\u001b[0mA\u001b[0m\u001b[0;34m)\u001b[0m\u001b[0;34m\u001b[0m\u001b[0;34m\u001b[0m\u001b[0m\n\u001b[0m\u001b[1;32m    256\u001b[0m \u001b[0;34m\u001b[0m\u001b[0m\n\u001b[1;32m    257\u001b[0m \u001b[0;34m\u001b[0m\u001b[0m\n",
      "\u001b[0;32m~/opt/anaconda3/lib/python3.9/site-packages/scipy/sparse/linalg/matfuncs.py\u001b[0m in \u001b[0;36mexpm\u001b[0;34m(A)\u001b[0m\n\u001b[1;32m    589\u001b[0m             [  0.        ,   0.        ,  20.08553692]])\n\u001b[1;32m    590\u001b[0m     \"\"\"\n\u001b[0;32m--> 591\u001b[0;31m     \u001b[0;32mreturn\u001b[0m \u001b[0m_expm\u001b[0m\u001b[0;34m(\u001b[0m\u001b[0mA\u001b[0m\u001b[0;34m,\u001b[0m \u001b[0muse_exact_onenorm\u001b[0m\u001b[0;34m=\u001b[0m\u001b[0;34m'auto'\u001b[0m\u001b[0;34m)\u001b[0m\u001b[0;34m\u001b[0m\u001b[0;34m\u001b[0m\u001b[0m\n\u001b[0m\u001b[1;32m    592\u001b[0m \u001b[0;34m\u001b[0m\u001b[0m\n\u001b[1;32m    593\u001b[0m \u001b[0;34m\u001b[0m\u001b[0m\n",
      "\u001b[0;32m~/opt/anaconda3/lib/python3.9/site-packages/scipy/sparse/linalg/matfuncs.py\u001b[0m in \u001b[0;36m_expm\u001b[0;34m(A, use_exact_onenorm)\u001b[0m\n\u001b[1;32m    670\u001b[0m         \u001b[0ms\u001b[0m \u001b[0;34m=\u001b[0m \u001b[0mmax\u001b[0m\u001b[0;34m(\u001b[0m\u001b[0mint\u001b[0m\u001b[0;34m(\u001b[0m\u001b[0mnp\u001b[0m\u001b[0;34m.\u001b[0m\u001b[0mceil\u001b[0m\u001b[0;34m(\u001b[0m\u001b[0mnp\u001b[0m\u001b[0;34m.\u001b[0m\u001b[0mlog2\u001b[0m\u001b[0;34m(\u001b[0m\u001b[0meta_5\u001b[0m \u001b[0;34m/\u001b[0m \u001b[0mtheta_13\u001b[0m\u001b[0;34m)\u001b[0m\u001b[0;34m)\u001b[0m\u001b[0;34m)\u001b[0m\u001b[0;34m,\u001b[0m \u001b[0;36m0\u001b[0m\u001b[0;34m)\u001b[0m\u001b[0;34m\u001b[0m\u001b[0;34m\u001b[0m\u001b[0m\n\u001b[1;32m    671\u001b[0m     \u001b[0ms\u001b[0m \u001b[0;34m=\u001b[0m \u001b[0ms\u001b[0m \u001b[0;34m+\u001b[0m \u001b[0m_ell\u001b[0m\u001b[0;34m(\u001b[0m\u001b[0;36m2\u001b[0m\u001b[0;34m**\u001b[0m\u001b[0;34m-\u001b[0m\u001b[0ms\u001b[0m \u001b[0;34m*\u001b[0m \u001b[0mh\u001b[0m\u001b[0;34m.\u001b[0m\u001b[0mA\u001b[0m\u001b[0;34m,\u001b[0m \u001b[0;36m13\u001b[0m\u001b[0;34m)\u001b[0m\u001b[0;34m\u001b[0m\u001b[0;34m\u001b[0m\u001b[0m\n\u001b[0;32m--> 672\u001b[0;31m     \u001b[0mU\u001b[0m\u001b[0;34m,\u001b[0m \u001b[0mV\u001b[0m \u001b[0;34m=\u001b[0m \u001b[0mh\u001b[0m\u001b[0;34m.\u001b[0m\u001b[0mpade13_scaled\u001b[0m\u001b[0;34m(\u001b[0m\u001b[0ms\u001b[0m\u001b[0;34m)\u001b[0m\u001b[0;34m\u001b[0m\u001b[0;34m\u001b[0m\u001b[0m\n\u001b[0m\u001b[1;32m    673\u001b[0m     \u001b[0mX\u001b[0m \u001b[0;34m=\u001b[0m \u001b[0m_solve_P_Q\u001b[0m\u001b[0;34m(\u001b[0m\u001b[0mU\u001b[0m\u001b[0;34m,\u001b[0m \u001b[0mV\u001b[0m\u001b[0;34m,\u001b[0m \u001b[0mstructure\u001b[0m\u001b[0;34m=\u001b[0m\u001b[0mstructure\u001b[0m\u001b[0;34m)\u001b[0m\u001b[0;34m\u001b[0m\u001b[0;34m\u001b[0m\u001b[0m\n\u001b[1;32m    674\u001b[0m     \u001b[0;32mif\u001b[0m \u001b[0mstructure\u001b[0m \u001b[0;34m==\u001b[0m \u001b[0mUPPER_TRIANGULAR\u001b[0m\u001b[0;34m:\u001b[0m\u001b[0;34m\u001b[0m\u001b[0;34m\u001b[0m\u001b[0m\n",
      "\u001b[0;32m~/opt/anaconda3/lib/python3.9/site-packages/scipy/sparse/linalg/matfuncs.py\u001b[0m in \u001b[0;36mpade13_scaled\u001b[0;34m(self, s)\u001b[0m\n\u001b[1;32m    535\u001b[0m         U = _smart_matrix_product(B,\n\u001b[1;32m    536\u001b[0m                 (U2 + b[7]*B6 + b[5]*B4 +\n\u001b[0;32m--> 537\u001b[0;31m                     b[3]*B2 + b[1]*self.ident),\n\u001b[0m\u001b[1;32m    538\u001b[0m                 structure=self.structure)\n\u001b[1;32m    539\u001b[0m         V2 = _smart_matrix_product(B6,\n",
      "\u001b[0;31mKeyboardInterrupt\u001b[0m: "
     ]
    }
   ],
   "source": [
    "N = 2000\n",
    "all_affinities = np.zeros((N,len(cycles)))\n",
    "all_areas = np.zeros((N,1))\n",
    "\n",
    "for i in tqdm(range(0,N)):\n",
    "    \n",
    "    # 1. update the edge label value for the chosen rate in label_dict, label_list    \n",
    "    label_list = np.array([label_dict[e] for e in edge_list], dtype=float)\n",
    "    edgesf, edgesb, labelsf, labelsb = get_cycle_labels_edges(cycles, label_dict)\n",
    "    \n",
    "    # 2. update the Laplacian\n",
    "    L = Laplacian_all(edge_list,label_list,node_list)\n",
    "    \n",
    "    # 3. calculate and store the affinity\n",
    "    prodf, prodb = calculate_cycle_products(labelsf, labelsb)\n",
    "    all_affinities[i] = calculate_affinities(prodf,prodb,cycles)\n",
    "    \n",
    "    # 4. calculate and store the Steinberg signature\n",
    "    tau, _ = define_tau_range(L, max_points=500, cap_factor=10.0)\n",
    "    pi = steady_state_spectrum(L)\n",
    "    a13, a31 = asymmetric_autocorrelation(signal,L,tau,pi,alpha=1,beta=3)\n",
    "    all_areas[i] = numerical_area(a13,a31)\n",
    "    \n",
    "    # 5. perturb chosen parameter for next iteration \n",
    "    label_dict[perturb_edge] *= 1.01"
   ]
  },
  {
   "cell_type": "code",
   "execution_count": 6,
   "id": "8fe22d55-43ec-456f-b6a8-ea21a3f64971",
   "metadata": {},
   "outputs": [
    {
     "data": {
      "image/png": "[encoded data removed]",
      "text/plain": [
       "<Figure size 432x288 with 1 Axes>"
      ]
     },
     "metadata": {
      "needs_background": "light"
     },
     "output_type": "display_data"
    }
   ],
   "source": [
    "fig = plt.figure()\n",
    "for i in range(len(cycles)):\n",
    "    plt.plot(np.abs(all_affinities[:,0]),all_areas,label=r'$\\mathcal{I}^{1,3}(G)$',linewidth=1, color= 'black')\n",
    "plt.xlabel(r\"$\\mathcal{A}(C)$\")\n",
    "plt.ylabel(r\"$\\mathcal{I}^{1,3}(G)$\")\n",
    "plt.show()\n",
    "#fig.savefig('4v2c_allones.pdf', dpi = 900, bbox_inches='tight',facecolor=fig.get_facecolor(), edgecolor='none')"
   ]
  },
  {
   "cell_type": "code",
   "execution_count": 89,
   "id": "743a8655-1818-471e-95ef-43a3ed7bc6f8",
   "metadata": {
    "tags": []
   },
   "outputs": [
    {
     "name": "stdout",
     "output_type": "stream",
     "text": [
      "[157]\n",
      "{(1, 2): 60.87, (1, 4): 3.246, (2, 1): 0.03632, (2, 3): 0.03579, (2, 4): 19.92, (3, 4): 6.962, (3, 2): 0.03118, (4, 1): 0.5278, (4, 3): 0.4529, (4, 2): 0.01038}\n",
      "Cycle 0 affinity after solve: 2.2204460492503128e-16\n",
      "Cycle 1 affinity after solve: 0.0\n",
      "[[(2, 4), (4, 1), (1, 2)], [(2, 3), (3, 4), (4, 2)]]\n",
      "(1, 2)\n"
     ]
    }
   ],
   "source": [
    "# param_set1\n",
    "\n",
    "seed = np.random.choice(np.arange(1,1000), size=1)\n",
    "print(seed)\n",
    "\n",
    "np.random.seed(seed)\n",
    "\n",
    "edge_list = get_edges(G)        # list of (u,v) tuples\n",
    "node_list = get_nodes(G)\n",
    "# label the graph\n",
    "label_dict1,label_list = get_labels(G,edge_list)\n",
    "cycles = get_cycles(G_ud)\n",
    "edgesf, edgesb, labelsf, labelsb = get_cycle_labels_edges(cycles, label_dict1)\n",
    "\n",
    "print(label_dict1)\n",
    "\n",
    "# which edges are shared between cycles?\n",
    "shared_edges, all_edges_f = shared_edges_cycles(cycles,\n",
    "                                            edgesf,\n",
    "                                            edgesb)\n",
    "\n",
    "# set each cycle to thermodynamic equilibrium, output affinities\n",
    "new_labelsf, edge_tracker, idx_tracker = equilibrium_params(cycles, edgesf, labelsf, labelsb, shared_edges)\n",
    "\n",
    "# update graph's data structures \n",
    "\n",
    "# Update label_dict & build label_list in edge_list order:\n",
    "new_label_dict, new_label_list = reformat_labels(edge_tracker,\n",
    "                                                 idx_tracker,\n",
    "                                                 new_labelsf,\n",
    "                                                 label_dict1,\n",
    "                                                 edge_list)\n",
    "\n",
    "label_dict1 = new_label_dict\n",
    "label_list = new_label_list\n",
    "\n",
    "edgesf, edgesb, labelsf, labelsb = get_cycle_labels_edges(cycles, label_dict1)\n",
    "L  = Laplacian_all(edge_list, label_list, node_list)\n",
    "pi = steady_state_spectrum(L)\n",
    "\n",
    "cycle_idx = 0\n",
    "edge_idx = 2\n",
    "\n",
    "print(edgesf)\n",
    "\n",
    "perturb_edge = edgesf[cycle_idx][edge_idx]\n",
    "\n",
    "print(perturb_edge)\n",
    "\n",
    "#----#\n",
    "\n",
    "signal = make_observable(node_list)\n",
    "alpha, beta  = 1, 3"
   ]
  },
  {
   "cell_type": "code",
   "execution_count": 90,
   "id": "f7ae0f7a-9448-4d25-ab22-a2f70a454c0a",
   "metadata": {},
   "outputs": [
    {
     "name": "stderr",
     "output_type": "stream",
     "text": [
      "  7%|██▊                                     | 138/2000 [00:11<02:35, 11.98it/s]\n"
     ]
    },
    {
     "ename": "KeyboardInterrupt",
     "evalue": "",
     "output_type": "error",
     "traceback": [
      "\u001b[0;31m---------------------------------------------------------------------------\u001b[0m",
      "\u001b[0;31mKeyboardInterrupt\u001b[0m                         Traceback (most recent call last)",
      "\u001b[0;32m/var/folders/ch/f1rl6h5x4fx2wbg2_f5bj5dw0000gn/T/ipykernel_1814/3325009159.py\u001b[0m in \u001b[0;36m<module>\u001b[0;34m\u001b[0m\n\u001b[1;32m     19\u001b[0m     \u001b[0mtau\u001b[0m\u001b[0;34m,\u001b[0m \u001b[0m_\u001b[0m \u001b[0;34m=\u001b[0m \u001b[0mdefine_tau_range\u001b[0m\u001b[0;34m(\u001b[0m\u001b[0mL\u001b[0m\u001b[0;34m,\u001b[0m \u001b[0mmax_points\u001b[0m\u001b[0;34m=\u001b[0m\u001b[0;36m500\u001b[0m\u001b[0;34m,\u001b[0m \u001b[0mcap_factor\u001b[0m\u001b[0;34m=\u001b[0m\u001b[0;36m10.0\u001b[0m\u001b[0;34m)\u001b[0m\u001b[0;34m\u001b[0m\u001b[0;34m\u001b[0m\u001b[0m\n\u001b[1;32m     20\u001b[0m     \u001b[0mpi\u001b[0m \u001b[0;34m=\u001b[0m \u001b[0msteady_state_spectrum\u001b[0m\u001b[0;34m(\u001b[0m\u001b[0mL\u001b[0m\u001b[0;34m)\u001b[0m\u001b[0;34m\u001b[0m\u001b[0;34m\u001b[0m\u001b[0m\n\u001b[0;32m---> 21\u001b[0;31m     \u001b[0ma13\u001b[0m\u001b[0;34m,\u001b[0m \u001b[0ma31\u001b[0m \u001b[0;34m=\u001b[0m \u001b[0masymmetric_autocorrelation\u001b[0m\u001b[0;34m(\u001b[0m\u001b[0msignal\u001b[0m\u001b[0;34m,\u001b[0m\u001b[0mL\u001b[0m\u001b[0;34m,\u001b[0m\u001b[0mtau\u001b[0m\u001b[0;34m,\u001b[0m\u001b[0mpi\u001b[0m\u001b[0;34m,\u001b[0m\u001b[0malpha\u001b[0m\u001b[0;34m=\u001b[0m\u001b[0;36m1\u001b[0m\u001b[0;34m,\u001b[0m\u001b[0mbeta\u001b[0m\u001b[0;34m=\u001b[0m\u001b[0;36m3\u001b[0m\u001b[0;34m)\u001b[0m\u001b[0;34m\u001b[0m\u001b[0;34m\u001b[0m\u001b[0m\n\u001b[0m\u001b[1;32m     22\u001b[0m     \u001b[0mall_areas1\u001b[0m\u001b[0;34m[\u001b[0m\u001b[0mi\u001b[0m\u001b[0;34m]\u001b[0m \u001b[0;34m=\u001b[0m \u001b[0mnumerical_area\u001b[0m\u001b[0;34m(\u001b[0m\u001b[0ma13\u001b[0m\u001b[0;34m,\u001b[0m\u001b[0ma31\u001b[0m\u001b[0;34m)\u001b[0m\u001b[0;34m\u001b[0m\u001b[0;34m\u001b[0m\u001b[0m\n\u001b[1;32m     23\u001b[0m \u001b[0;34m\u001b[0m\u001b[0m\n",
      "\u001b[0;32m~/steinberg-signature/steinberg_utils_3vertex.py\u001b[0m in \u001b[0;36masymmetric_autocorrelation\u001b[0;34m(signal, L, tau, pi, alpha, beta)\u001b[0m\n\u001b[1;32m    238\u001b[0m \u001b[0;34m\u001b[0m\u001b[0m\n\u001b[1;32m    239\u001b[0m     \u001b[0;31m# vectorize the Laplacian matrix multiplied by each value in the vector tau\u001b[0m\u001b[0;34m\u001b[0m\u001b[0;34m\u001b[0m\u001b[0m\n\u001b[0;32m--> 240\u001b[0;31m     \u001b[0mlist_result\u001b[0m \u001b[0;34m=\u001b[0m \u001b[0mlist\u001b[0m\u001b[0;34m(\u001b[0m\u001b[0mmap\u001b[0m\u001b[0;34m(\u001b[0m\u001b[0;32mlambda\u001b[0m \u001b[0mi\u001b[0m\u001b[0;34m:\u001b[0m \u001b[0mscipy\u001b[0m\u001b[0;34m.\u001b[0m\u001b[0mlinalg\u001b[0m\u001b[0;34m.\u001b[0m\u001b[0mexpm\u001b[0m\u001b[0;34m(\u001b[0m\u001b[0mL\u001b[0m\u001b[0;34m*\u001b[0m\u001b[0mi\u001b[0m\u001b[0;34m)\u001b[0m\u001b[0;34m,\u001b[0m \u001b[0mtau\u001b[0m\u001b[0;34m)\u001b[0m\u001b[0;34m)\u001b[0m\u001b[0;34m\u001b[0m\u001b[0;34m\u001b[0m\u001b[0m\n\u001b[0m\u001b[1;32m    241\u001b[0m \u001b[0;34m\u001b[0m\u001b[0m\n\u001b[1;32m    242\u001b[0m     \u001b[0;31m# populate arrays with analytical solution to autocorrelation function\u001b[0m\u001b[0;34m\u001b[0m\u001b[0;34m\u001b[0m\u001b[0m\n",
      "\u001b[0;32m~/steinberg-signature/steinberg_utils_3vertex.py\u001b[0m in \u001b[0;36m<lambda>\u001b[0;34m(i)\u001b[0m\n\u001b[1;32m    238\u001b[0m \u001b[0;34m\u001b[0m\u001b[0m\n\u001b[1;32m    239\u001b[0m     \u001b[0;31m# vectorize the Laplacian matrix multiplied by each value in the vector tau\u001b[0m\u001b[0;34m\u001b[0m\u001b[0;34m\u001b[0m\u001b[0m\n\u001b[0;32m--> 240\u001b[0;31m     \u001b[0mlist_result\u001b[0m \u001b[0;34m=\u001b[0m \u001b[0mlist\u001b[0m\u001b[0;34m(\u001b[0m\u001b[0mmap\u001b[0m\u001b[0;34m(\u001b[0m\u001b[0;32mlambda\u001b[0m \u001b[0mi\u001b[0m\u001b[0;34m:\u001b[0m \u001b[0mscipy\u001b[0m\u001b[0;34m.\u001b[0m\u001b[0mlinalg\u001b[0m\u001b[0;34m.\u001b[0m\u001b[0mexpm\u001b[0m\u001b[0;34m(\u001b[0m\u001b[0mL\u001b[0m\u001b[0;34m*\u001b[0m\u001b[0mi\u001b[0m\u001b[0;34m)\u001b[0m\u001b[0;34m,\u001b[0m \u001b[0mtau\u001b[0m\u001b[0;34m)\u001b[0m\u001b[0;34m)\u001b[0m\u001b[0;34m\u001b[0m\u001b[0;34m\u001b[0m\u001b[0m\n\u001b[0m\u001b[1;32m    241\u001b[0m \u001b[0;34m\u001b[0m\u001b[0m\n\u001b[1;32m    242\u001b[0m     \u001b[0;31m# populate arrays with analytical solution to autocorrelation function\u001b[0m\u001b[0;34m\u001b[0m\u001b[0;34m\u001b[0m\u001b[0m\n",
      "\u001b[0;32m~/opt/anaconda3/lib/python3.9/site-packages/scipy/linalg/matfuncs.py\u001b[0m in \u001b[0;36mexpm\u001b[0;34m(A)\u001b[0m\n\u001b[1;32m    253\u001b[0m     \u001b[0;31m# Input checking and conversion is provided by sparse.linalg.expm().\u001b[0m\u001b[0;34m\u001b[0m\u001b[0;34m\u001b[0m\u001b[0m\n\u001b[1;32m    254\u001b[0m     \u001b[0;32mimport\u001b[0m \u001b[0mscipy\u001b[0m\u001b[0;34m.\u001b[0m\u001b[0msparse\u001b[0m\u001b[0;34m.\u001b[0m\u001b[0mlinalg\u001b[0m\u001b[0;34m\u001b[0m\u001b[0;34m\u001b[0m\u001b[0m\n\u001b[0;32m--> 255\u001b[0;31m     \u001b[0;32mreturn\u001b[0m \u001b[0mscipy\u001b[0m\u001b[0;34m.\u001b[0m\u001b[0msparse\u001b[0m\u001b[0;34m.\u001b[0m\u001b[0mlinalg\u001b[0m\u001b[0;34m.\u001b[0m\u001b[0mexpm\u001b[0m\u001b[0;34m(\u001b[0m\u001b[0mA\u001b[0m\u001b[0;34m)\u001b[0m\u001b[0;34m\u001b[0m\u001b[0;34m\u001b[0m\u001b[0m\n\u001b[0m\u001b[1;32m    256\u001b[0m \u001b[0;34m\u001b[0m\u001b[0m\n\u001b[1;32m    257\u001b[0m \u001b[0;34m\u001b[0m\u001b[0m\n",
      "\u001b[0;32m~/opt/anaconda3/lib/python3.9/site-packages/scipy/sparse/linalg/matfuncs.py\u001b[0m in \u001b[0;36mexpm\u001b[0;34m(A)\u001b[0m\n\u001b[1;32m    589\u001b[0m             [  0.        ,   0.        ,  20.08553692]])\n\u001b[1;32m    590\u001b[0m     \"\"\"\n\u001b[0;32m--> 591\u001b[0;31m     \u001b[0;32mreturn\u001b[0m \u001b[0m_expm\u001b[0m\u001b[0;34m(\u001b[0m\u001b[0mA\u001b[0m\u001b[0;34m,\u001b[0m \u001b[0muse_exact_onenorm\u001b[0m\u001b[0;34m=\u001b[0m\u001b[0;34m'auto'\u001b[0m\u001b[0;34m)\u001b[0m\u001b[0;34m\u001b[0m\u001b[0;34m\u001b[0m\u001b[0m\n\u001b[0m\u001b[1;32m    592\u001b[0m \u001b[0;34m\u001b[0m\u001b[0m\n\u001b[1;32m    593\u001b[0m \u001b[0;34m\u001b[0m\u001b[0m\n",
      "\u001b[0;32m~/opt/anaconda3/lib/python3.9/site-packages/scipy/sparse/linalg/matfuncs.py\u001b[0m in \u001b[0;36m_expm\u001b[0;34m(A, use_exact_onenorm)\u001b[0m\n\u001b[1;32m    670\u001b[0m         \u001b[0ms\u001b[0m \u001b[0;34m=\u001b[0m \u001b[0mmax\u001b[0m\u001b[0;34m(\u001b[0m\u001b[0mint\u001b[0m\u001b[0;34m(\u001b[0m\u001b[0mnp\u001b[0m\u001b[0;34m.\u001b[0m\u001b[0mceil\u001b[0m\u001b[0;34m(\u001b[0m\u001b[0mnp\u001b[0m\u001b[0;34m.\u001b[0m\u001b[0mlog2\u001b[0m\u001b[0;34m(\u001b[0m\u001b[0meta_5\u001b[0m \u001b[0;34m/\u001b[0m \u001b[0mtheta_13\u001b[0m\u001b[0;34m)\u001b[0m\u001b[0;34m)\u001b[0m\u001b[0;34m)\u001b[0m\u001b[0;34m,\u001b[0m \u001b[0;36m0\u001b[0m\u001b[0;34m)\u001b[0m\u001b[0;34m\u001b[0m\u001b[0;34m\u001b[0m\u001b[0m\n\u001b[1;32m    671\u001b[0m     \u001b[0ms\u001b[0m \u001b[0;34m=\u001b[0m \u001b[0ms\u001b[0m \u001b[0;34m+\u001b[0m \u001b[0m_ell\u001b[0m\u001b[0;34m(\u001b[0m\u001b[0;36m2\u001b[0m\u001b[0;34m**\u001b[0m\u001b[0;34m-\u001b[0m\u001b[0ms\u001b[0m \u001b[0;34m*\u001b[0m \u001b[0mh\u001b[0m\u001b[0;34m.\u001b[0m\u001b[0mA\u001b[0m\u001b[0;34m,\u001b[0m \u001b[0;36m13\u001b[0m\u001b[0;34m)\u001b[0m\u001b[0;34m\u001b[0m\u001b[0;34m\u001b[0m\u001b[0m\n\u001b[0;32m--> 672\u001b[0;31m     \u001b[0mU\u001b[0m\u001b[0;34m,\u001b[0m \u001b[0mV\u001b[0m \u001b[0;34m=\u001b[0m \u001b[0mh\u001b[0m\u001b[0;34m.\u001b[0m\u001b[0mpade13_scaled\u001b[0m\u001b[0;34m(\u001b[0m\u001b[0ms\u001b[0m\u001b[0;34m)\u001b[0m\u001b[0;34m\u001b[0m\u001b[0;34m\u001b[0m\u001b[0m\n\u001b[0m\u001b[1;32m    673\u001b[0m     \u001b[0mX\u001b[0m \u001b[0;34m=\u001b[0m \u001b[0m_solve_P_Q\u001b[0m\u001b[0;34m(\u001b[0m\u001b[0mU\u001b[0m\u001b[0;34m,\u001b[0m \u001b[0mV\u001b[0m\u001b[0;34m,\u001b[0m \u001b[0mstructure\u001b[0m\u001b[0;34m=\u001b[0m\u001b[0mstructure\u001b[0m\u001b[0;34m)\u001b[0m\u001b[0;34m\u001b[0m\u001b[0;34m\u001b[0m\u001b[0m\n\u001b[1;32m    674\u001b[0m     \u001b[0;32mif\u001b[0m \u001b[0mstructure\u001b[0m \u001b[0;34m==\u001b[0m \u001b[0mUPPER_TRIANGULAR\u001b[0m\u001b[0;34m:\u001b[0m\u001b[0;34m\u001b[0m\u001b[0;34m\u001b[0m\u001b[0m\n",
      "\u001b[0;32m~/opt/anaconda3/lib/python3.9/site-packages/scipy/sparse/linalg/matfuncs.py\u001b[0m in \u001b[0;36mpade13_scaled\u001b[0;34m(self, s)\u001b[0m\n\u001b[1;32m    529\u001b[0m         \u001b[0mB2\u001b[0m \u001b[0;34m=\u001b[0m \u001b[0mself\u001b[0m\u001b[0;34m.\u001b[0m\u001b[0mA2\u001b[0m \u001b[0;34m*\u001b[0m \u001b[0;36m2\u001b[0m\u001b[0;34m**\u001b[0m\u001b[0;34m(\u001b[0m\u001b[0;34m-\u001b[0m\u001b[0;36m2\u001b[0m\u001b[0;34m*\u001b[0m\u001b[0ms\u001b[0m\u001b[0;34m)\u001b[0m\u001b[0;34m\u001b[0m\u001b[0;34m\u001b[0m\u001b[0m\n\u001b[1;32m    530\u001b[0m         \u001b[0mB4\u001b[0m \u001b[0;34m=\u001b[0m \u001b[0mself\u001b[0m\u001b[0;34m.\u001b[0m\u001b[0mA4\u001b[0m \u001b[0;34m*\u001b[0m \u001b[0;36m2\u001b[0m\u001b[0;34m**\u001b[0m\u001b[0;34m(\u001b[0m\u001b[0;34m-\u001b[0m\u001b[0;36m4\u001b[0m\u001b[0;34m*\u001b[0m\u001b[0ms\u001b[0m\u001b[0;34m)\u001b[0m\u001b[0;34m\u001b[0m\u001b[0;34m\u001b[0m\u001b[0m\n\u001b[0;32m--> 531\u001b[0;31m         \u001b[0mB6\u001b[0m \u001b[0;34m=\u001b[0m \u001b[0mself\u001b[0m\u001b[0;34m.\u001b[0m\u001b[0mA6\u001b[0m \u001b[0;34m*\u001b[0m \u001b[0;36m2\u001b[0m\u001b[0;34m**\u001b[0m\u001b[0;34m(\u001b[0m\u001b[0;34m-\u001b[0m\u001b[0;36m6\u001b[0m\u001b[0;34m*\u001b[0m\u001b[0ms\u001b[0m\u001b[0;34m)\u001b[0m\u001b[0;34m\u001b[0m\u001b[0;34m\u001b[0m\u001b[0m\n\u001b[0m\u001b[1;32m    532\u001b[0m         U2 = _smart_matrix_product(B6,\n\u001b[1;32m    533\u001b[0m                 \u001b[0mb\u001b[0m\u001b[0;34m[\u001b[0m\u001b[0;36m13\u001b[0m\u001b[0;34m]\u001b[0m\u001b[0;34m*\u001b[0m\u001b[0mB6\u001b[0m \u001b[0;34m+\u001b[0m \u001b[0mb\u001b[0m\u001b[0;34m[\u001b[0m\u001b[0;36m11\u001b[0m\u001b[0;34m]\u001b[0m\u001b[0;34m*\u001b[0m\u001b[0mB4\u001b[0m \u001b[0;34m+\u001b[0m \u001b[0mb\u001b[0m\u001b[0;34m[\u001b[0m\u001b[0;36m9\u001b[0m\u001b[0;34m]\u001b[0m\u001b[0;34m*\u001b[0m\u001b[0mB2\u001b[0m\u001b[0;34m,\u001b[0m\u001b[0;34m\u001b[0m\u001b[0;34m\u001b[0m\u001b[0m\n",
      "\u001b[0;31mKeyboardInterrupt\u001b[0m: "
     ]
    }
   ],
   "source": [
    "N = 2000\n",
    "all_affinities1 = np.zeros((N,len(cycles)))\n",
    "all_areas1 = np.zeros((N,1))\n",
    "\n",
    "for i in tqdm(range(0,N)):\n",
    "    \n",
    "    # 1. update the edge label value for the chosen rate in label_dict, label_list    \n",
    "    label_list = np.array([label_dict1[e] for e in edge_list], dtype=float)\n",
    "    edgesf, edgesb, labelsf, labelsb = get_cycle_labels_edges(cycles, label_dict1)\n",
    "    \n",
    "    # 2. update the Laplacian\n",
    "    L = Laplacian_all(edge_list,label_list,node_list)\n",
    "    \n",
    "    # 3. calculate and store the affinity\n",
    "    prodf, prodb = calculate_cycle_products(labelsf, labelsb)\n",
    "    all_affinities1[i] = calculate_affinities(prodf,prodb,cycles)\n",
    "    \n",
    "    # 4. calculate and store the Steinberg signature\n",
    "    tau, _ = define_tau_range(L, max_points=500, cap_factor=10.0)\n",
    "    pi = steady_state_spectrum(L)\n",
    "    a13, a31 = asymmetric_autocorrelation(signal,L,tau,pi,alpha=1,beta=3)\n",
    "    all_areas1[i] = numerical_area(a13,a31)\n",
    "    \n",
    "    # 5. perturb chosen parameter for next iteration \n",
    "    label_dict1[perturb_edge] *= 1.01"
   ]
  },
  {
   "cell_type": "code",
   "execution_count": null,
   "id": "e9c3cc48-c850-4ef4-bdb9-74d15faba2d1",
   "metadata": {},
   "outputs": [],
   "source": [
    "for i in range(len(cycles)):\n",
    "    plt.plot(np.abs(all_affinities1[:,0]),all_areas1,label=r'$\\mathcal{I}^{1,3}(G)$',linewidth=1, color= 'black')\n",
    "plt.xlabel(r\"$\\tilde{A}(C)$\")\n",
    "plt.ylabel(r\"$\\mathcal{I}^{1,3}(G)$\")\n",
    "plt.show()"
   ]
  },
  {
   "cell_type": "code",
   "execution_count": 75,
   "id": "4686b41a-ea59-4f9e-9697-e41059834c7d",
   "metadata": {},
   "outputs": [
    {
     "name": "stdout",
     "output_type": "stream",
     "text": [
      "[477]\n",
      "{(1, 2): 0.01885, (1, 4): 1.514, (2, 1): 0.3331, (2, 3): 0.5874, (2, 4): 8.934, (3, 4): 0.009026, (3, 2): 49.46, (4, 1): 1.752, (4, 3): 3.862, (4, 2): 0.4633}\n",
      "Cycle 0 affinity after solve: 2.2204460492503128e-16\n",
      "Cycle 1 affinity after solve: -1.1102230246251565e-16\n",
      "[[(2, 4), (4, 1), (1, 2)], [(2, 3), (3, 4), (4, 2)]]\n",
      "(1, 2)\n"
     ]
    }
   ],
   "source": [
    "# param_set2\n",
    "\n",
    "seed = np.random.choice(np.arange(1,1000), size=1)\n",
    "print(seed)\n",
    "\n",
    "np.random.seed(seed)\n",
    "\n",
    "edge_list = get_edges(G)        # list of (u,v) tuples\n",
    "node_list = get_nodes(G)\n",
    "# label the graph\n",
    "label_dict2,label_list = get_labels(G,edge_list)\n",
    "cycles = get_cycles(G_ud)\n",
    "edgesf, edgesb, labelsf, labelsb = get_cycle_labels_edges(cycles, label_dict2)\n",
    "\n",
    "print(label_dict2)\n",
    "\n",
    "# which edges are shared between cycles?\n",
    "shared_edges, all_edges_f = shared_edges_cycles(cycles,\n",
    "                                            edgesf,\n",
    "                                            edgesb)\n",
    "\n",
    "# set each cycle to thermodynamic equilibrium, output affinities\n",
    "new_labelsf, edge_tracker, idx_tracker = equilibrium_params(cycles, edgesf, labelsf, labelsb, shared_edges)\n",
    "\n",
    "# update graph's data structures \n",
    "\n",
    "# Update label_dict & build label_list in edge_list order:\n",
    "new_label_dict, new_label_list = reformat_labels(edge_tracker,\n",
    "                                                 idx_tracker,\n",
    "                                                 new_labelsf,\n",
    "                                                 label_dict2,\n",
    "                                                 edge_list)\n",
    "\n",
    "label_dict2 = new_label_dict\n",
    "label_list = new_label_list\n",
    "\n",
    "edgesf, edgesb, labelsf, labelsb = get_cycle_labels_edges(cycles, label_dict2)\n",
    "L  = Laplacian_all(edge_list, label_list, node_list)\n",
    "pi = steady_state_spectrum(L)\n",
    "\n",
    "cycle_idx = 0\n",
    "edge_idx = 2\n",
    "\n",
    "print(edgesf)\n",
    "\n",
    "perturb_edge = edgesf[cycle_idx][edge_idx]\n",
    "\n",
    "print(perturb_edge)\n",
    "\n",
    "#----#\n",
    "\n",
    "signal = make_observable(node_list)\n",
    "alpha, beta  = 1, 3"
   ]
  },
  {
   "cell_type": "code",
   "execution_count": 76,
   "id": "27765e47-e8a7-4f6b-99b1-bbf2587666af",
   "metadata": {},
   "outputs": [
    {
     "name": "stderr",
     "output_type": "stream",
     "text": [
      "100%|███████████████████████████████████████| 2000/2000 [02:56<00:00, 11.34it/s]\n"
     ]
    }
   ],
   "source": [
    "N = 2000\n",
    "all_affinities2 = np.zeros((N,len(cycles)))\n",
    "all_areas2 = np.zeros((N,1))\n",
    "\n",
    "for i in tqdm(range(0,N)):\n",
    "    \n",
    "    # 1. update the edge label value for the chosen rate in label_dict, label_list    \n",
    "    label_list = np.array([label_dict2[e] for e in edge_list], dtype=float)\n",
    "    edgesf, edgesb, labelsf, labelsb = get_cycle_labels_edges(cycles, label_dict2)\n",
    "    \n",
    "    # 2. update the Laplacian\n",
    "    L = Laplacian_all(edge_list,label_list,node_list)\n",
    "    \n",
    "    # 3. calculate and store the affinity\n",
    "    prodf, prodb = calculate_cycle_products(labelsf, labelsb)\n",
    "    all_affinities2[i] = calculate_affinities(prodf,prodb,cycles)\n",
    "    \n",
    "    # 4. calculate and store the Steinberg signature\n",
    "    tau, _ = define_tau_range(L, max_points=500, cap_factor=10.0)\n",
    "    pi = steady_state_spectrum(L)\n",
    "    a13, a31 = asymmetric_autocorrelation(signal,L,tau,pi,alpha=1,beta=3)\n",
    "    all_areas2[i] = numerical_area(a13,a31)\n",
    "    \n",
    "    # 5. perturb chosen parameter for next iteration \n",
    "    label_dict2[perturb_edge] *= 1.01"
   ]
  },
  {
   "cell_type": "code",
   "execution_count": 77,
   "id": "81a22596-d1c8-4900-83a4-e4f9e046ea2d",
   "metadata": {},
   "outputs": [
    {
     "data": {
      "image/png": "[encoded data removed]",
      "text/plain": [
       "<Figure size 432x288 with 1 Axes>"
      ]
     },
     "metadata": {
      "needs_background": "light"
     },
     "output_type": "display_data"
    }
   ],
   "source": [
    "for i in range(len(cycles)):\n",
    "    plt.plot(np.abs(all_affinities2[:,0]),all_areas2,label=r'$\\mathcal{I}^{1,3}(G)$',linewidth=1, color= 'black')\n",
    "plt.xlabel(r\"$\\tilde{A}(C)$\")\n",
    "plt.ylabel(r\"$\\mathcal{I}^{1,3}(G)$\")\n",
    "plt.show()"
   ]
  },
  {
   "cell_type": "code",
   "execution_count": 91,
   "id": "7d18bf71-2459-4195-927a-286a7f28b1d7",
   "metadata": {},
   "outputs": [
    {
     "name": "stdout",
     "output_type": "stream",
     "text": [
      "[110]\n",
      "{(1, 2): 0.00497, (1, 4): 8.928, (2, 1): 0.1793, (2, 3): 4.75, (2, 4): 11.94, (3, 4): 12.44, (3, 2): 537.1, (4, 1): 6.658, (4, 3): 1.196, (4, 2): 0.003289}\n",
      "Cycle 0 affinity after solve: 0.0\n",
      "Cycle 1 affinity after solve: -1.1102230246251565e-16\n",
      "[[(2, 4), (4, 1), (1, 2)], [(2, 3), (3, 4), (4, 2)]]\n",
      "(1, 2)\n"
     ]
    }
   ],
   "source": [
    "# param_set3\n",
    "\n",
    "seed = np.random.choice(np.arange(1,1000), size=1)\n",
    "print(seed)\n",
    "\n",
    "np.random.seed(seed)\n",
    "\n",
    "edge_list = get_edges(G)        # list of (u,v) tuples\n",
    "node_list = get_nodes(G)\n",
    "# label the graph\n",
    "label_dict3,label_list = get_labels(G,edge_list)\n",
    "cycles = get_cycles(G_ud)\n",
    "edgesf, edgesb, labelsf, labelsb = get_cycle_labels_edges(cycles, label_dict3)\n",
    "\n",
    "print(label_dict3)\n",
    "\n",
    "# which edges are shared between cycles?\n",
    "shared_edges, all_edges_f = shared_edges_cycles(cycles,\n",
    "                                            edgesf,\n",
    "                                            edgesb)\n",
    "\n",
    "# set each cycle to thermodynamic equilibrium, output affinities\n",
    "new_labelsf, edge_tracker, idx_tracker = equilibrium_params(cycles, edgesf, labelsf, labelsb, shared_edges)\n",
    "\n",
    "# update graph's data structures \n",
    "\n",
    "# Update label_dict & build label_list in edge_list order:\n",
    "new_label_dict, new_label_list = reformat_labels(edge_tracker,\n",
    "                                                 idx_tracker,\n",
    "                                                 new_labelsf,\n",
    "                                                 label_dict3,\n",
    "                                                 edge_list)\n",
    "\n",
    "label_dict3 = new_label_dict\n",
    "label_list = new_label_list\n",
    "\n",
    "edgesf, edgesb, labelsf, labelsb = get_cycle_labels_edges(cycles, label_dict3)\n",
    "L  = Laplacian_all(edge_list, label_list, node_list)\n",
    "pi = steady_state_spectrum(L)\n",
    "\n",
    "cycle_idx = 0\n",
    "edge_idx = 2\n",
    "\n",
    "print(edgesf)\n",
    "\n",
    "perturb_edge = edgesf[cycle_idx][edge_idx]\n",
    "\n",
    "print(perturb_edge)\n",
    "\n",
    "#----#\n",
    "\n",
    "signal = make_observable(node_list)\n",
    "alpha, beta  = 1, 3"
   ]
  },
  {
   "cell_type": "code",
   "execution_count": 92,
   "id": "34805a2a-c16b-403d-ac5d-7b16c25f005e",
   "metadata": {},
   "outputs": [
    {
     "name": "stderr",
     "output_type": "stream",
     "text": [
      "100%|███████████████████████████████████████| 2000/2000 [02:51<00:00, 11.64it/s]\n"
     ]
    }
   ],
   "source": [
    "N = 2000\n",
    "all_affinities3 = np.zeros((N,len(cycles)))\n",
    "all_areas3 = np.zeros((N,1))\n",
    "\n",
    "for i in tqdm(range(0,N)):\n",
    "    \n",
    "    # 1. update the edge label value for the chosen rate in label_dict, label_list    \n",
    "    label_list = np.array([label_dict3[e] for e in edge_list], dtype=float)\n",
    "    edgesf, edgesb, labelsf, labelsb = get_cycle_labels_edges(cycles, label_dict3)\n",
    "    \n",
    "    # 2. update the Laplacian\n",
    "    L = Laplacian_all(edge_list,label_list,node_list)\n",
    "    \n",
    "    # 3. calculate and store the affinity\n",
    "    prodf, prodb = calculate_cycle_products(labelsf, labelsb)\n",
    "    all_affinities3[i] = calculate_affinities(prodf,prodb,cycles)\n",
    "    \n",
    "    # 4. calculate and store the Steinberg signature\n",
    "    tau, _ = define_tau_range(L, max_points=500, cap_factor=10.0)\n",
    "    pi = steady_state_spectrum(L)\n",
    "    a13, a31 = asymmetric_autocorrelation(signal,L,tau,pi,alpha=1,beta=3)\n",
    "    all_areas3[i] = numerical_area(a13,a31)\n",
    "    \n",
    "    # 5. perturb chosen parameter for next iteration \n",
    "    label_dict3[perturb_edge] *= 1.01"
   ]
  },
  {
   "cell_type": "code",
   "execution_count": 93,
   "id": "ad2a64dd-ed24-4da6-b1cb-f01b7468617d",
   "metadata": {},
   "outputs": [
    {
     "data": {
      "image/png": "[encoded data removed]",
      "text/plain": [
       "<Figure size 432x288 with 1 Axes>"
      ]
     },
     "metadata": {
      "needs_background": "light"
     },
     "output_type": "display_data"
    }
   ],
   "source": [
    "for i in range(len(cycles)):\n",
    "    plt.plot(np.abs(all_affinities3[:,0]),all_areas3,label=r'$\\mathcal{I}^{1,3}(G)$',linewidth=1, color= 'black')\n",
    "plt.xlabel(r\"$\\tilde{A}(C)$\")\n",
    "plt.ylabel(r\"$\\mathcal{I}^{1,3}(G)$\")\n",
    "plt.show()"
   ]
  },
  {
   "cell_type": "code",
   "execution_count": 65,
   "id": "2c3fcccd-a25d-4fc6-84c7-a0329cb01c9e",
   "metadata": {},
   "outputs": [
    {
     "data": {
      "image/png": "[encoded data removed]",
      "text/plain": [
       "<Figure size 1008x864 with 1 Axes>"
      ]
     },
     "metadata": {
      "needs_background": "light"
     },
     "output_type": "display_data"
    }
   ],
   "source": [
    "fig, ax = plt.subplots(figsize = (14, 12))\n",
    "\n",
    "plt.plot(np.abs(all_affinities1[:,0]),all_areas1,linewidth=2, color = 'black', label = '1')\n",
    "plt.plot(np.abs(all_affinities2[:,0]),all_areas2,linewidth=2, color = 'deepskyblue', label = '2')\n",
    "plt.plot(np.abs(all_affinities3[:,0]),all_areas3,linewidth=2, color = 'orange', label = '3')\n",
    "\n",
    "plt.legend()\n",
    "plt.xlabel(r\"$\\tilde{A}(C)$\")\n",
    "plt.ylabel(r\"$\\mathcal{I}^{1,3}(G)$\")\n",
    "plt.show()\n",
    "fig.savefig('4Dnew.pdf', dpi = 900, bbox_inches='tight',facecolor=fig.get_facecolor(), edgecolor='none')"
   ]
  },
  {
   "cell_type": "code",
   "execution_count": null,
   "id": "aed9f95d-14b7-4d36-8e3a-d49d0b3275e8",
   "metadata": {},
   "outputs": [],
   "source": []
  }
 ],
 "metadata": {
  "kernelspec": {
   "display_name": "Python 3 (ipykernel)",
   "language": "python",
   "name": "python3"
  },
  "language_info": {
   "codemirror_mode": {
    "name": "ipython",
    "version": 3
   },
   "file_extension": ".py",
   "mimetype": "text/x-python",
   "name": "python",
   "nbconvert_exporter": "python",
   "pygments_lexer": "ipython3",
   "version": "3.9.19"
  }
 },
 "nbformat": 4,
 "nbformat_minor": 5
}
