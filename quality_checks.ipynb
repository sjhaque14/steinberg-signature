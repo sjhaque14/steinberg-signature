{
 "cells": [
  {
   "cell_type": "code",
   "execution_count": 1,
   "id": "54c57a7d-49d2-4187-9fb9-01ec9175da04",
   "metadata": {},
   "outputs": [],
   "source": [
    "import numpy as np\n",
    "import matplotlib.pyplot as plt\n",
    "from tqdm import tqdm\n",
    "\n",
    "from steinberg_utils_3vertex import *\n",
    "from general_graph_utils import *"
   ]
  },
  {
   "cell_type": "markdown",
   "id": "8c219b26-4f2f-4638-8d07-624fd43ab277",
   "metadata": {},
   "source": [
    "1. Are autocorrelation functions $\\mathcal{A}^{\\alpha,\\beta}(\\tau)$ always monotonic decreasing? \n",
    "2. Does one of the curves $\\mathcal{A}^{\\alpha,\\beta}(\\tau)$ or $\\mathcal{A}^{\\beta,\\alpha}(\\tau)$ always lie above the other, or do the two curves cross for positive values of $\\tau$? \n",
    "3. Does this separation of the two curves always occur regardless of parameter values? "
   ]
  },
  {
   "cell_type": "code",
   "execution_count": 4,
   "id": "3bb03b58-69d5-4853-a1e9-38da64578c2e",
   "metadata": {},
   "outputs": [
    {
     "name": "stdout",
     "output_type": "stream",
     "text": [
      "[2.72197746e-01 1.12557992e-03 1.55303193e+02 1.37589483e+00\n",
      " 1.16372413e+00 4.88603080e+01]\n"
     ]
    }
   ],
   "source": [
    "params = random_parameters()\n",
    "print(params)"
   ]
  },
  {
   "cell_type": "code",
   "execution_count": 5,
   "id": "7cb08bab-07bb-4391-898e-61528d8e45bd",
   "metadata": {},
   "outputs": [],
   "source": [
    "L = Laplacian_K(params)"
   ]
  },
  {
   "cell_type": "code",
   "execution_count": 6,
   "id": "84ee3856-f6ff-4dd8-ac2e-8ef58e09f319",
   "metadata": {},
   "outputs": [
    {
     "ename": "LinAlgError",
     "evalue": "1-dimensional array given. Array must be at least two-dimensional",
     "output_type": "error",
     "traceback": [
      "\u001b[0;31m---------------------------------------------------------------------------\u001b[0m",
      "\u001b[0;31mLinAlgError\u001b[0m                               Traceback (most recent call last)",
      "Input \u001b[0;32mIn [6]\u001b[0m, in \u001b[0;36m<cell line: 1>\u001b[0;34m()\u001b[0m\n\u001b[0;32m----> 1\u001b[0m pi \u001b[38;5;241m=\u001b[39m \u001b[43msteady_state_MTT\u001b[49m\u001b[43m(\u001b[49m\u001b[43mparams\u001b[49m\u001b[43m)\u001b[49m\n",
      "File \u001b[0;32m~/Desktop/All my shit/work/Gunawardena-lab/software/steinberg-signature/general_graph_utils.py:212\u001b[0m, in \u001b[0;36msteady_state_MTT\u001b[0;34m(L)\u001b[0m\n\u001b[1;32m    196\u001b[0m \u001b[38;5;28;01mdef\u001b[39;00m \u001b[38;5;21msteady_state_MTT\u001b[39m(L):\n\u001b[1;32m    197\u001b[0m     \u001b[38;5;124;03m\"\"\"\u001b[39;00m\n\u001b[1;32m    198\u001b[0m \u001b[38;5;124;03m    Calculates the steady-state distribution for the any linear framework graph by computing the eigenvector associated with eigenvalue 0.\u001b[39;00m\n\u001b[1;32m    199\u001b[0m \u001b[38;5;124;03m    \u001b[39;00m\n\u001b[0;32m   (...)\u001b[0m\n\u001b[1;32m    209\u001b[0m \u001b[38;5;124;03m    \u001b[39;00m\n\u001b[1;32m    210\u001b[0m \u001b[38;5;124;03m    \"\"\"\u001b[39;00m\n\u001b[0;32m--> 212\u001b[0m     eigvals, eigvecs \u001b[38;5;241m=\u001b[39m \u001b[43mnp\u001b[49m\u001b[38;5;241;43m.\u001b[39;49m\u001b[43mlinalg\u001b[49m\u001b[38;5;241;43m.\u001b[39;49m\u001b[43meig\u001b[49m\u001b[43m(\u001b[49m\u001b[43mL\u001b[49m\u001b[43m)\u001b[49m\n\u001b[1;32m    213\u001b[0m     pi \u001b[38;5;241m=\u001b[39m np\u001b[38;5;241m.\u001b[39marray([eigvecs[:,np\u001b[38;5;241m.\u001b[39margmin(np\u001b[38;5;241m.\u001b[39mabs(eigvals))]\u001b[38;5;241m.\u001b[39mreal\u001b[38;5;241m/\u001b[39m\u001b[38;5;28msum\u001b[39m(eigvecs[:,np\u001b[38;5;241m.\u001b[39margmin(np\u001b[38;5;241m.\u001b[39mabs(eigvals))]\u001b[38;5;241m.\u001b[39mreal)])\u001b[38;5;241m.\u001b[39mT\n\u001b[1;32m    215\u001b[0m     \u001b[38;5;28;01mreturn\u001b[39;00m pi\n",
      "File \u001b[0;32m<__array_function__ internals>:5\u001b[0m, in \u001b[0;36meig\u001b[0;34m(*args, **kwargs)\u001b[0m\n",
      "File \u001b[0;32m~/opt/anaconda3/lib/python3.9/site-packages/numpy/linalg/linalg.py:1315\u001b[0m, in \u001b[0;36meig\u001b[0;34m(a)\u001b[0m\n\u001b[1;32m   1189\u001b[0m \u001b[38;5;124;03m\"\"\"\u001b[39;00m\n\u001b[1;32m   1190\u001b[0m \u001b[38;5;124;03mCompute the eigenvalues and right eigenvectors of a square array.\u001b[39;00m\n\u001b[1;32m   1191\u001b[0m \n\u001b[0;32m   (...)\u001b[0m\n\u001b[1;32m   1312\u001b[0m \n\u001b[1;32m   1313\u001b[0m \u001b[38;5;124;03m\"\"\"\u001b[39;00m\n\u001b[1;32m   1314\u001b[0m a, wrap \u001b[38;5;241m=\u001b[39m _makearray(a)\n\u001b[0;32m-> 1315\u001b[0m \u001b[43m_assert_stacked_2d\u001b[49m\u001b[43m(\u001b[49m\u001b[43ma\u001b[49m\u001b[43m)\u001b[49m\n\u001b[1;32m   1316\u001b[0m _assert_stacked_square(a)\n\u001b[1;32m   1317\u001b[0m _assert_finite(a)\n",
      "File \u001b[0;32m~/opt/anaconda3/lib/python3.9/site-packages/numpy/linalg/linalg.py:196\u001b[0m, in \u001b[0;36m_assert_stacked_2d\u001b[0;34m(*arrays)\u001b[0m\n\u001b[1;32m    194\u001b[0m \u001b[38;5;28;01mfor\u001b[39;00m a \u001b[38;5;129;01min\u001b[39;00m arrays:\n\u001b[1;32m    195\u001b[0m     \u001b[38;5;28;01mif\u001b[39;00m a\u001b[38;5;241m.\u001b[39mndim \u001b[38;5;241m<\u001b[39m \u001b[38;5;241m2\u001b[39m:\n\u001b[0;32m--> 196\u001b[0m         \u001b[38;5;28;01mraise\u001b[39;00m LinAlgError(\u001b[38;5;124m'\u001b[39m\u001b[38;5;132;01m%d\u001b[39;00m\u001b[38;5;124m-dimensional array given. Array must be \u001b[39m\u001b[38;5;124m'\u001b[39m\n\u001b[1;32m    197\u001b[0m                 \u001b[38;5;124m'\u001b[39m\u001b[38;5;124mat least two-dimensional\u001b[39m\u001b[38;5;124m'\u001b[39m \u001b[38;5;241m%\u001b[39m a\u001b[38;5;241m.\u001b[39mndim)\n",
      "\u001b[0;31mLinAlgError\u001b[0m: 1-dimensional array given. Array must be at least two-dimensional"
     ]
    }
   ],
   "source": [
    "pi = steady_state_MTT(params)"
   ]
  },
  {
   "cell_type": "code",
   "execution_count": null,
   "id": "ff8caa57-bafd-4d51-a01f-e118e4e1f251",
   "metadata": {},
   "outputs": [],
   "source": []
  }
 ],
 "metadata": {
  "kernelspec": {
   "display_name": "Python 3 (ipykernel)",
   "language": "python",
   "name": "python3"
  },
  "language_info": {
   "codemirror_mode": {
    "name": "ipython",
    "version": 3
   },
   "file_extension": ".py",
   "mimetype": "text/x-python",
   "name": "python",
   "nbconvert_exporter": "python",
   "pygments_lexer": "ipython3",
   "version": "3.9.12"
  }
 },
 "nbformat": 4,
 "nbformat_minor": 5
}
